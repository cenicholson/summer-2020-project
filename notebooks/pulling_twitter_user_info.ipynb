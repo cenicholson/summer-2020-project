{
 "cells": [
  {
   "cell_type": "markdown",
   "metadata": {},
   "source": [
    "# Pulling Twitter User Info using the API"
   ]
  },
  {
   "cell_type": "code",
   "execution_count": 2,
   "metadata": {},
   "outputs": [],
   "source": [
    "import os\n",
    "import time\n",
    "import json\n",
    "import pandas as pd\n",
    "\n",
    "import tweepy"
   ]
  },
  {
   "cell_type": "code",
   "execution_count": 3,
   "metadata": {},
   "outputs": [],
   "source": [
    "api_keys_fp = '../twitter_credentials.json'"
   ]
  },
  {
   "cell_type": "code",
   "execution_count": 4,
   "metadata": {},
   "outputs": [],
   "source": [
    "def load_api(keys_file):\n",
    "    '''\n",
    "    \n",
    "    '''\n",
    "    # Load twitter credentials\n",
    "    with open(keys_file, 'r') as file:\n",
    "        creds = json.load(file)\n",
    "\n",
    "    # Use credentials to set up API access authorisation\n",
    "    auth = tweepy.OAuthHandler(creds['CONSUMER_KEY'], creds['CONSUMER_SECRET'])\n",
    "    auth.set_access_token(creds['ACCESS_TOKEN'], creds['ACCESS_SECRET'])\n",
    "    api = tweepy.API(auth, wait_on_rate_limit=True)\n",
    "    \n",
    "    return api"
   ]
  },
  {
   "cell_type": "code",
   "execution_count": 5,
   "metadata": {},
   "outputs": [],
   "source": [
    "tw_api = load_api(api_keys_fp)"
   ]
  },
  {
   "cell_type": "code",
   "execution_count": 8,
   "metadata": {},
   "outputs": [
    {
     "data": {
      "text/plain": [
       "tweepy.api.API"
      ]
     },
     "execution_count": 8,
     "metadata": {},
     "output_type": "execute_result"
    }
   ],
   "source": [
    "type(tw_api)"
   ]
  },
  {
   "cell_type": "markdown",
   "metadata": {},
   "source": [
    "## Extracting information from get_user API request"
   ]
  },
  {
   "cell_type": "code",
   "execution_count": 6,
   "metadata": {},
   "outputs": [],
   "source": [
    "user = tw_api.get_user('kimknilsson')"
   ]
  },
  {
   "cell_type": "code",
   "execution_count": 7,
   "metadata": {},
   "outputs": [
    {
     "data": {
      "text/plain": [
       "tweepy.models.User"
      ]
     },
     "execution_count": 7,
     "metadata": {},
     "output_type": "execute_result"
    }
   ],
   "source": [
    "type(user)"
   ]
  },
  {
   "cell_type": "markdown",
   "metadata": {},
   "source": [
    "After requesting a user profile from the API as with the example line of code above, we want to pull out all the attributes and store them in a suitable format.\n",
    "\n",
    "Can view the attributes using one of the two following functions, which are equivalent (`vars()` return the `__dict__` of the object).  The `list()` operator allows us to more easily interact with the object attributes."
   ]
  },
  {
   "cell_type": "code",
   "execution_count": 74,
   "metadata": {},
   "outputs": [
    {
     "data": {
      "text/plain": [
       "dict_keys(['_api', '_json', 'id', 'id_str', 'name', 'screen_name', 'location', 'profile_location', 'description', 'url', 'entities', 'protected', 'followers_count', 'friends_count', 'listed_count', 'created_at', 'favourites_count', 'utc_offset', 'time_zone', 'geo_enabled', 'verified', 'statuses_count', 'lang', 'status', 'contributors_enabled', 'is_translator', 'is_translation_enabled', 'profile_background_color', 'profile_background_image_url', 'profile_background_image_url_https', 'profile_background_tile', 'profile_image_url', 'profile_image_url_https', 'profile_banner_url', 'profile_link_color', 'profile_sidebar_border_color', 'profile_sidebar_fill_color', 'profile_text_color', 'profile_use_background_image', 'has_extended_profile', 'default_profile', 'default_profile_image', 'following', 'follow_request_sent', 'notifications', 'translator_type', 'suspended', 'needs_phone_verification'])"
      ]
     },
     "execution_count": 74,
     "metadata": {},
     "output_type": "execute_result"
    }
   ],
   "source": [
    "user.__dict__.keys()"
   ]
  },
  {
   "cell_type": "code",
   "execution_count": 16,
   "metadata": {},
   "outputs": [
    {
     "data": {
      "text/plain": [
       "['_api',\n",
       " '_json',\n",
       " 'id',\n",
       " 'id_str',\n",
       " 'name',\n",
       " 'screen_name',\n",
       " 'location',\n",
       " 'profile_location',\n",
       " 'description',\n",
       " 'url',\n",
       " 'entities',\n",
       " 'protected',\n",
       " 'followers_count',\n",
       " 'friends_count',\n",
       " 'listed_count',\n",
       " 'created_at',\n",
       " 'favourites_count',\n",
       " 'utc_offset',\n",
       " 'time_zone',\n",
       " 'geo_enabled',\n",
       " 'verified',\n",
       " 'statuses_count',\n",
       " 'lang',\n",
       " 'status',\n",
       " 'contributors_enabled',\n",
       " 'is_translator',\n",
       " 'is_translation_enabled',\n",
       " 'profile_background_color',\n",
       " 'profile_background_image_url',\n",
       " 'profile_background_image_url_https',\n",
       " 'profile_background_tile',\n",
       " 'profile_image_url',\n",
       " 'profile_image_url_https',\n",
       " 'profile_banner_url',\n",
       " 'profile_link_color',\n",
       " 'profile_sidebar_border_color',\n",
       " 'profile_sidebar_fill_color',\n",
       " 'profile_text_color',\n",
       " 'profile_use_background_image',\n",
       " 'has_extended_profile',\n",
       " 'default_profile',\n",
       " 'default_profile_image',\n",
       " 'following',\n",
       " 'follow_request_sent',\n",
       " 'notifications',\n",
       " 'translator_type']"
      ]
     },
     "execution_count": 16,
     "metadata": {},
     "output_type": "execute_result"
    }
   ],
   "source": [
    "list(vars(user).keys())"
   ]
  },
  {
   "cell_type": "markdown",
   "metadata": {},
   "source": [
    "A deeper inspection of the attributes (not shown, but can be accessed by running `vars(user)`) indicates that the first two keys `_api` and `_json` are not fields we want/need to retain.  \n",
    "An example of how we can call a specific attribute is shown below:"
   ]
  },
  {
   "cell_type": "code",
   "execution_count": 18,
   "metadata": {},
   "outputs": [
    {
     "data": {
      "text/plain": [
       "{'url': {'urls': [{'url': 'http://t.co/m8Q3QgBqn7',\n",
       "    'expanded_url': 'http://www.pivigo.com',\n",
       "    'display_url': 'pivigo.com',\n",
       "    'indices': [0, 22]}]},\n",
       " 'description': {'urls': []}}"
      ]
     },
     "execution_count": 18,
     "metadata": {},
     "output_type": "execute_result"
    }
   ],
   "source": [
    "vars(user)['entities']"
   ]
  },
  {
   "cell_type": "markdown",
   "metadata": {},
   "source": [
    "Using this method of calling attributes, we should be able to quite easily use the keys to automatically build a Pandas Dataframe from the results.  "
   ]
  },
  {
   "cell_type": "code",
   "execution_count": 85,
   "metadata": {},
   "outputs": [],
   "source": [
    "df = pd.DataFrame.from_dict({key: vars(user)[key] for key in list(vars(user).keys())[2:]}) # By using list comprehension, exclude the api and json keys from the dataframe"
   ]
  },
  {
   "cell_type": "code",
   "execution_count": 86,
   "metadata": {},
   "outputs": [
    {
     "data": {
      "text/html": [
       "<div>\n",
       "<style scoped>\n",
       "    .dataframe tbody tr th:only-of-type {\n",
       "        vertical-align: middle;\n",
       "    }\n",
       "\n",
       "    .dataframe tbody tr th {\n",
       "        vertical-align: top;\n",
       "    }\n",
       "\n",
       "    .dataframe thead th {\n",
       "        text-align: right;\n",
       "    }\n",
       "</style>\n",
       "<table border=\"1\" class=\"dataframe\">\n",
       "  <thead>\n",
       "    <tr style=\"text-align: right;\">\n",
       "      <th></th>\n",
       "      <th>id</th>\n",
       "      <th>id_str</th>\n",
       "      <th>name</th>\n",
       "      <th>screen_name</th>\n",
       "      <th>location</th>\n",
       "      <th>profile_location</th>\n",
       "      <th>description</th>\n",
       "      <th>url</th>\n",
       "      <th>entities</th>\n",
       "      <th>protected</th>\n",
       "      <th>...</th>\n",
       "      <th>profile_sidebar_fill_color</th>\n",
       "      <th>profile_text_color</th>\n",
       "      <th>profile_use_background_image</th>\n",
       "      <th>has_extended_profile</th>\n",
       "      <th>default_profile</th>\n",
       "      <th>default_profile_image</th>\n",
       "      <th>following</th>\n",
       "      <th>follow_request_sent</th>\n",
       "      <th>notifications</th>\n",
       "      <th>translator_type</th>\n",
       "    </tr>\n",
       "  </thead>\n",
       "  <tbody>\n",
       "    <tr>\n",
       "      <th>description</th>\n",
       "      <td>1553045132</td>\n",
       "      <td>1553045132</td>\n",
       "      <td>Kim Nilsson</td>\n",
       "      <td>kimknilsson</td>\n",
       "      <td>London, UK</td>\n",
       "      <td>None</td>\n",
       "      <td>Ex-astronomer turned start-up CEO of @Pivigo. ...</td>\n",
       "      <td>http://t.co/m8Q3QgBqn7</td>\n",
       "      <td>{'urls': []}</td>\n",
       "      <td>False</td>\n",
       "      <td>...</td>\n",
       "      <td>DAECF4</td>\n",
       "      <td>663B12</td>\n",
       "      <td>False</td>\n",
       "      <td>False</td>\n",
       "      <td>False</td>\n",
       "      <td>False</td>\n",
       "      <td>True</td>\n",
       "      <td>False</td>\n",
       "      <td>False</td>\n",
       "      <td>none</td>\n",
       "    </tr>\n",
       "    <tr>\n",
       "      <th>url</th>\n",
       "      <td>1553045132</td>\n",
       "      <td>1553045132</td>\n",
       "      <td>Kim Nilsson</td>\n",
       "      <td>kimknilsson</td>\n",
       "      <td>London, UK</td>\n",
       "      <td>None</td>\n",
       "      <td>Ex-astronomer turned start-up CEO of @Pivigo. ...</td>\n",
       "      <td>http://t.co/m8Q3QgBqn7</td>\n",
       "      <td>{'urls': [{'url': 'http://t.co/m8Q3QgBqn7', 'e...</td>\n",
       "      <td>False</td>\n",
       "      <td>...</td>\n",
       "      <td>DAECF4</td>\n",
       "      <td>663B12</td>\n",
       "      <td>False</td>\n",
       "      <td>False</td>\n",
       "      <td>False</td>\n",
       "      <td>False</td>\n",
       "      <td>True</td>\n",
       "      <td>False</td>\n",
       "      <td>False</td>\n",
       "      <td>none</td>\n",
       "    </tr>\n",
       "  </tbody>\n",
       "</table>\n",
       "<p>2 rows × 44 columns</p>\n",
       "</div>"
      ],
      "text/plain": [
       "                     id      id_str         name  screen_name    location  \\\n",
       "description  1553045132  1553045132  Kim Nilsson  kimknilsson  London, UK   \n",
       "url          1553045132  1553045132  Kim Nilsson  kimknilsson  London, UK   \n",
       "\n",
       "            profile_location  \\\n",
       "description             None   \n",
       "url                     None   \n",
       "\n",
       "                                                   description  \\\n",
       "description  Ex-astronomer turned start-up CEO of @Pivigo. ...   \n",
       "url          Ex-astronomer turned start-up CEO of @Pivigo. ...   \n",
       "\n",
       "                                url  \\\n",
       "description  http://t.co/m8Q3QgBqn7   \n",
       "url          http://t.co/m8Q3QgBqn7   \n",
       "\n",
       "                                                      entities  protected  \\\n",
       "description                                       {'urls': []}      False   \n",
       "url          {'urls': [{'url': 'http://t.co/m8Q3QgBqn7', 'e...      False   \n",
       "\n",
       "             ...  profile_sidebar_fill_color  profile_text_color  \\\n",
       "description  ...                      DAECF4              663B12   \n",
       "url          ...                      DAECF4              663B12   \n",
       "\n",
       "             profile_use_background_image has_extended_profile  \\\n",
       "description                         False                False   \n",
       "url                                 False                False   \n",
       "\n",
       "             default_profile default_profile_image following  \\\n",
       "description            False                 False      True   \n",
       "url                    False                 False      True   \n",
       "\n",
       "             follow_request_sent  notifications  translator_type  \n",
       "description                False          False             none  \n",
       "url                        False          False             none  \n",
       "\n",
       "[2 rows x 44 columns]"
      ]
     },
     "execution_count": 86,
     "metadata": {},
     "output_type": "execute_result"
    }
   ],
   "source": [
    "df.head()"
   ]
  },
  {
   "cell_type": "markdown",
   "metadata": {},
   "source": [
    "Having figured out how to create the dataframe, we now want to cleanly add to it.  Let's look at a different account."
   ]
  },
  {
   "cell_type": "code",
   "execution_count": 84,
   "metadata": {},
   "outputs": [],
   "source": [
    "other = tw_api.get_user('jlesliedata')"
   ]
  },
  {
   "cell_type": "code",
   "execution_count": 87,
   "metadata": {},
   "outputs": [
    {
     "data": {
      "text/html": [
       "<div>\n",
       "<style scoped>\n",
       "    .dataframe tbody tr th:only-of-type {\n",
       "        vertical-align: middle;\n",
       "    }\n",
       "\n",
       "    .dataframe tbody tr th {\n",
       "        vertical-align: top;\n",
       "    }\n",
       "\n",
       "    .dataframe thead th {\n",
       "        text-align: right;\n",
       "    }\n",
       "</style>\n",
       "<table border=\"1\" class=\"dataframe\">\n",
       "  <thead>\n",
       "    <tr style=\"text-align: right;\">\n",
       "      <th></th>\n",
       "      <th>id</th>\n",
       "      <th>id_str</th>\n",
       "      <th>name</th>\n",
       "      <th>screen_name</th>\n",
       "      <th>location</th>\n",
       "      <th>profile_location</th>\n",
       "      <th>description</th>\n",
       "      <th>url</th>\n",
       "      <th>entities</th>\n",
       "      <th>protected</th>\n",
       "      <th>...</th>\n",
       "      <th>profile_sidebar_fill_color</th>\n",
       "      <th>profile_text_color</th>\n",
       "      <th>profile_use_background_image</th>\n",
       "      <th>has_extended_profile</th>\n",
       "      <th>default_profile</th>\n",
       "      <th>default_profile_image</th>\n",
       "      <th>following</th>\n",
       "      <th>follow_request_sent</th>\n",
       "      <th>notifications</th>\n",
       "      <th>translator_type</th>\n",
       "    </tr>\n",
       "  </thead>\n",
       "  <tbody>\n",
       "    <tr>\n",
       "      <th>description</th>\n",
       "      <td>735580694508933121</td>\n",
       "      <td>735580694508933121</td>\n",
       "      <td>Jonathan Leslie</td>\n",
       "      <td>jlesliedata</td>\n",
       "      <td>London, England</td>\n",
       "      <td>None</td>\n",
       "      <td>Data scientist, #rstats enthusiast, mentor, bi...</td>\n",
       "      <td>https://t.co/pSWzkEKMS0</td>\n",
       "      <td>{'urls': []}</td>\n",
       "      <td>False</td>\n",
       "      <td>...</td>\n",
       "      <td>DDEEF6</td>\n",
       "      <td>333333</td>\n",
       "      <td>True</td>\n",
       "      <td>False</td>\n",
       "      <td>True</td>\n",
       "      <td>False</td>\n",
       "      <td>True</td>\n",
       "      <td>False</td>\n",
       "      <td>False</td>\n",
       "      <td>none</td>\n",
       "    </tr>\n",
       "    <tr>\n",
       "      <th>url</th>\n",
       "      <td>735580694508933121</td>\n",
       "      <td>735580694508933121</td>\n",
       "      <td>Jonathan Leslie</td>\n",
       "      <td>jlesliedata</td>\n",
       "      <td>London, England</td>\n",
       "      <td>None</td>\n",
       "      <td>Data scientist, #rstats enthusiast, mentor, bi...</td>\n",
       "      <td>https://t.co/pSWzkEKMS0</td>\n",
       "      <td>{'urls': [{'url': 'https://t.co/pSWzkEKMS0', '...</td>\n",
       "      <td>False</td>\n",
       "      <td>...</td>\n",
       "      <td>DDEEF6</td>\n",
       "      <td>333333</td>\n",
       "      <td>True</td>\n",
       "      <td>False</td>\n",
       "      <td>True</td>\n",
       "      <td>False</td>\n",
       "      <td>True</td>\n",
       "      <td>False</td>\n",
       "      <td>False</td>\n",
       "      <td>none</td>\n",
       "    </tr>\n",
       "  </tbody>\n",
       "</table>\n",
       "<p>2 rows × 44 columns</p>\n",
       "</div>"
      ],
      "text/plain": [
       "                             id              id_str             name  \\\n",
       "description  735580694508933121  735580694508933121  Jonathan Leslie   \n",
       "url          735580694508933121  735580694508933121  Jonathan Leslie   \n",
       "\n",
       "             screen_name         location profile_location  \\\n",
       "description  jlesliedata  London, England             None   \n",
       "url          jlesliedata  London, England             None   \n",
       "\n",
       "                                                   description  \\\n",
       "description  Data scientist, #rstats enthusiast, mentor, bi...   \n",
       "url          Data scientist, #rstats enthusiast, mentor, bi...   \n",
       "\n",
       "                                 url  \\\n",
       "description  https://t.co/pSWzkEKMS0   \n",
       "url          https://t.co/pSWzkEKMS0   \n",
       "\n",
       "                                                      entities  protected  \\\n",
       "description                                       {'urls': []}      False   \n",
       "url          {'urls': [{'url': 'https://t.co/pSWzkEKMS0', '...      False   \n",
       "\n",
       "             ...  profile_sidebar_fill_color  profile_text_color  \\\n",
       "description  ...                      DDEEF6              333333   \n",
       "url          ...                      DDEEF6              333333   \n",
       "\n",
       "             profile_use_background_image has_extended_profile  \\\n",
       "description                          True                False   \n",
       "url                                  True                False   \n",
       "\n",
       "             default_profile default_profile_image following  \\\n",
       "description             True                 False      True   \n",
       "url                     True                 False      True   \n",
       "\n",
       "             follow_request_sent  notifications  translator_type  \n",
       "description                False          False             none  \n",
       "url                        False          False             none  \n",
       "\n",
       "[2 rows x 44 columns]"
      ]
     },
     "execution_count": 87,
     "metadata": {},
     "output_type": "execute_result"
    }
   ],
   "source": [
    "other_df = pd.DataFrame.from_dict({key: vars(other)[key] for key in list(vars(other).keys())[2:]})\n",
    "other_df.head()"
   ]
  },
  {
   "cell_type": "markdown",
   "metadata": {},
   "source": [
    "Can see from the dataframe that there is a different set of fields compared to those retrieved before.  We are going to need a way to dynamically update the table.  "
   ]
  },
  {
   "cell_type": "code",
   "execution_count": 88,
   "metadata": {},
   "outputs": [],
   "source": [
    "joined = df.iloc[[0]].append(other_df.iloc[[0]])"
   ]
  },
  {
   "cell_type": "code",
   "execution_count": 89,
   "metadata": {},
   "outputs": [
    {
     "data": {
      "text/html": [
       "<div>\n",
       "<style scoped>\n",
       "    .dataframe tbody tr th:only-of-type {\n",
       "        vertical-align: middle;\n",
       "    }\n",
       "\n",
       "    .dataframe tbody tr th {\n",
       "        vertical-align: top;\n",
       "    }\n",
       "\n",
       "    .dataframe thead th {\n",
       "        text-align: right;\n",
       "    }\n",
       "</style>\n",
       "<table border=\"1\" class=\"dataframe\">\n",
       "  <thead>\n",
       "    <tr style=\"text-align: right;\">\n",
       "      <th></th>\n",
       "      <th>id</th>\n",
       "      <th>id_str</th>\n",
       "      <th>name</th>\n",
       "      <th>screen_name</th>\n",
       "      <th>location</th>\n",
       "      <th>profile_location</th>\n",
       "      <th>description</th>\n",
       "      <th>url</th>\n",
       "      <th>entities</th>\n",
       "      <th>protected</th>\n",
       "      <th>...</th>\n",
       "      <th>profile_sidebar_fill_color</th>\n",
       "      <th>profile_text_color</th>\n",
       "      <th>profile_use_background_image</th>\n",
       "      <th>has_extended_profile</th>\n",
       "      <th>default_profile</th>\n",
       "      <th>default_profile_image</th>\n",
       "      <th>following</th>\n",
       "      <th>follow_request_sent</th>\n",
       "      <th>notifications</th>\n",
       "      <th>translator_type</th>\n",
       "    </tr>\n",
       "  </thead>\n",
       "  <tbody>\n",
       "    <tr>\n",
       "      <th>description</th>\n",
       "      <td>1553045132</td>\n",
       "      <td>1553045132</td>\n",
       "      <td>Kim Nilsson</td>\n",
       "      <td>kimknilsson</td>\n",
       "      <td>London, UK</td>\n",
       "      <td>None</td>\n",
       "      <td>Ex-astronomer turned start-up CEO of @Pivigo. ...</td>\n",
       "      <td>http://t.co/m8Q3QgBqn7</td>\n",
       "      <td>{'urls': []}</td>\n",
       "      <td>False</td>\n",
       "      <td>...</td>\n",
       "      <td>DAECF4</td>\n",
       "      <td>663B12</td>\n",
       "      <td>False</td>\n",
       "      <td>False</td>\n",
       "      <td>False</td>\n",
       "      <td>False</td>\n",
       "      <td>True</td>\n",
       "      <td>False</td>\n",
       "      <td>False</td>\n",
       "      <td>none</td>\n",
       "    </tr>\n",
       "    <tr>\n",
       "      <th>description</th>\n",
       "      <td>735580694508933121</td>\n",
       "      <td>735580694508933121</td>\n",
       "      <td>Jonathan Leslie</td>\n",
       "      <td>jlesliedata</td>\n",
       "      <td>London, England</td>\n",
       "      <td>None</td>\n",
       "      <td>Data scientist, #rstats enthusiast, mentor, bi...</td>\n",
       "      <td>https://t.co/pSWzkEKMS0</td>\n",
       "      <td>{'urls': []}</td>\n",
       "      <td>False</td>\n",
       "      <td>...</td>\n",
       "      <td>DDEEF6</td>\n",
       "      <td>333333</td>\n",
       "      <td>True</td>\n",
       "      <td>False</td>\n",
       "      <td>True</td>\n",
       "      <td>False</td>\n",
       "      <td>True</td>\n",
       "      <td>False</td>\n",
       "      <td>False</td>\n",
       "      <td>none</td>\n",
       "    </tr>\n",
       "  </tbody>\n",
       "</table>\n",
       "<p>2 rows × 44 columns</p>\n",
       "</div>"
      ],
      "text/plain": [
       "                             id              id_str             name  \\\n",
       "description          1553045132          1553045132      Kim Nilsson   \n",
       "description  735580694508933121  735580694508933121  Jonathan Leslie   \n",
       "\n",
       "             screen_name         location profile_location  \\\n",
       "description  kimknilsson       London, UK             None   \n",
       "description  jlesliedata  London, England             None   \n",
       "\n",
       "                                                   description  \\\n",
       "description  Ex-astronomer turned start-up CEO of @Pivigo. ...   \n",
       "description  Data scientist, #rstats enthusiast, mentor, bi...   \n",
       "\n",
       "                                 url      entities  protected  ...  \\\n",
       "description   http://t.co/m8Q3QgBqn7  {'urls': []}      False  ...   \n",
       "description  https://t.co/pSWzkEKMS0  {'urls': []}      False  ...   \n",
       "\n",
       "             profile_sidebar_fill_color  profile_text_color  \\\n",
       "description                      DAECF4              663B12   \n",
       "description                      DDEEF6              333333   \n",
       "\n",
       "             profile_use_background_image has_extended_profile  \\\n",
       "description                         False                False   \n",
       "description                          True                False   \n",
       "\n",
       "             default_profile default_profile_image following  \\\n",
       "description            False                 False      True   \n",
       "description             True                 False      True   \n",
       "\n",
       "             follow_request_sent  notifications  translator_type  \n",
       "description                False          False             none  \n",
       "description                False          False             none  \n",
       "\n",
       "[2 rows x 44 columns]"
      ]
     },
     "execution_count": 89,
     "metadata": {},
     "output_type": "execute_result"
    }
   ],
   "source": [
    "joined"
   ]
  },
  {
   "cell_type": "code",
   "execution_count": 36,
   "metadata": {},
   "outputs": [
    {
     "data": {
      "text/plain": [
       "['_api',\n",
       " '_json',\n",
       " 'id',\n",
       " 'id_str',\n",
       " 'name',\n",
       " 'screen_name',\n",
       " 'location',\n",
       " 'profile_location',\n",
       " 'description',\n",
       " 'url',\n",
       " 'entities',\n",
       " 'protected',\n",
       " 'followers_count',\n",
       " 'friends_count',\n",
       " 'listed_count',\n",
       " 'created_at',\n",
       " 'favourites_count',\n",
       " 'utc_offset',\n",
       " 'time_zone',\n",
       " 'geo_enabled',\n",
       " 'verified',\n",
       " 'statuses_count',\n",
       " 'lang',\n",
       " 'status',\n",
       " 'contributors_enabled',\n",
       " 'is_translator',\n",
       " 'is_translation_enabled',\n",
       " 'profile_background_color',\n",
       " 'profile_background_image_url',\n",
       " 'profile_background_image_url_https',\n",
       " 'profile_background_tile',\n",
       " 'profile_image_url',\n",
       " 'profile_image_url_https',\n",
       " 'profile_banner_url',\n",
       " 'profile_link_color',\n",
       " 'profile_sidebar_border_color',\n",
       " 'profile_sidebar_fill_color',\n",
       " 'profile_text_color',\n",
       " 'profile_use_background_image',\n",
       " 'has_extended_profile',\n",
       " 'default_profile',\n",
       " 'default_profile_image',\n",
       " 'following',\n",
       " 'follow_request_sent',\n",
       " 'notifications',\n",
       " 'translator_type']"
      ]
     },
     "execution_count": 36,
     "metadata": {},
     "output_type": "execute_result"
    }
   ],
   "source": [
    "list(vars(other).keys())"
   ]
  },
  {
   "cell_type": "code",
   "execution_count": 65,
   "metadata": {},
   "outputs": [
    {
     "data": {
      "text/html": [
       "<div>\n",
       "<style scoped>\n",
       "    .dataframe tbody tr th:only-of-type {\n",
       "        vertical-align: middle;\n",
       "    }\n",
       "\n",
       "    .dataframe tbody tr th {\n",
       "        vertical-align: top;\n",
       "    }\n",
       "\n",
       "    .dataframe thead th {\n",
       "        text-align: right;\n",
       "    }\n",
       "</style>\n",
       "<table border=\"1\" class=\"dataframe\">\n",
       "  <thead>\n",
       "    <tr style=\"text-align: right;\">\n",
       "      <th></th>\n",
       "      <th>id</th>\n",
       "      <th>id_str</th>\n",
       "      <th>name</th>\n",
       "      <th>screen_name</th>\n",
       "      <th>location</th>\n",
       "      <th>profile_location</th>\n",
       "      <th>description</th>\n",
       "      <th>url</th>\n",
       "      <th>entities</th>\n",
       "      <th>protected</th>\n",
       "      <th>...</th>\n",
       "      <th>profile_sidebar_fill_color</th>\n",
       "      <th>profile_text_color</th>\n",
       "      <th>profile_use_background_image</th>\n",
       "      <th>has_extended_profile</th>\n",
       "      <th>default_profile</th>\n",
       "      <th>default_profile_image</th>\n",
       "      <th>following</th>\n",
       "      <th>follow_request_sent</th>\n",
       "      <th>notifications</th>\n",
       "      <th>translator_type</th>\n",
       "    </tr>\n",
       "  </thead>\n",
       "  <tbody>\n",
       "    <tr>\n",
       "      <th>description</th>\n",
       "      <td>16736682</td>\n",
       "      <td>16736682</td>\n",
       "      <td>FindingAda</td>\n",
       "      <td>FindingAda</td>\n",
       "      <td>London, England</td>\n",
       "      <td>None</td>\n",
       "      <td>Join us on 13 Oct 2020 for Ada Lovelace Day, c...</td>\n",
       "      <td>https://t.co/gQJ4523M9w</td>\n",
       "      <td>{'urls': []}</td>\n",
       "      <td>False</td>\n",
       "      <td>...</td>\n",
       "      <td>DDEEF6</td>\n",
       "      <td>333333</td>\n",
       "      <td>True</td>\n",
       "      <td>True</td>\n",
       "      <td>True</td>\n",
       "      <td>False</td>\n",
       "      <td>True</td>\n",
       "      <td>False</td>\n",
       "      <td>False</td>\n",
       "      <td>none</td>\n",
       "    </tr>\n",
       "  </tbody>\n",
       "</table>\n",
       "<p>1 rows × 44 columns</p>\n",
       "</div>"
      ],
      "text/plain": [
       "                   id    id_str        name screen_name         location  \\\n",
       "description  16736682  16736682  FindingAda  FindingAda  London, England   \n",
       "\n",
       "            profile_location  \\\n",
       "description             None   \n",
       "\n",
       "                                                   description  \\\n",
       "description  Join us on 13 Oct 2020 for Ada Lovelace Day, c...   \n",
       "\n",
       "                                 url      entities  protected  ...  \\\n",
       "description  https://t.co/gQJ4523M9w  {'urls': []}      False  ...   \n",
       "\n",
       "             profile_sidebar_fill_color  profile_text_color  \\\n",
       "description                      DDEEF6              333333   \n",
       "\n",
       "             profile_use_background_image has_extended_profile  \\\n",
       "description                          True                 True   \n",
       "\n",
       "             default_profile default_profile_image following  \\\n",
       "description             True                 False      True   \n",
       "\n",
       "             follow_request_sent  notifications  translator_type  \n",
       "description                False          False             none  \n",
       "\n",
       "[1 rows x 44 columns]"
      ]
     },
     "execution_count": 65,
     "metadata": {},
     "output_type": "execute_result"
    }
   ],
   "source": [
    "other_df.iloc[[0]]"
   ]
  },
  {
   "cell_type": "code",
   "execution_count": 14,
   "metadata": {},
   "outputs": [],
   "source": [
    "test_dict = {'user_id': 1553045132}\n",
    "test_user = tw_api.get_user(**test_dict)"
   ]
  },
  {
   "cell_type": "code",
   "execution_count": 15,
   "metadata": {},
   "outputs": [
    {
     "data": {
      "text/plain": [
       "User(_api=<tweepy.api.API object at 0x000001AF214D7208>, _json={'id': 1553045132, 'id_str': '1553045132', 'name': 'Kim Nilsson', 'screen_name': 'kimknilsson', 'location': 'London, UK', 'profile_location': None, 'description': 'Ex-astronomer turned start-up CEO of @Pivigo. Lead organiser of @S2DS. Passionate about all things data.', 'url': 'http://t.co/m8Q3QgBqn7', 'entities': {'url': {'urls': [{'url': 'http://t.co/m8Q3QgBqn7', 'expanded_url': 'http://www.pivigo.com', 'display_url': 'pivigo.com', 'indices': [0, 22]}]}, 'description': {'urls': []}}, 'protected': False, 'followers_count': 1170, 'friends_count': 606, 'listed_count': 131, 'created_at': 'Fri Jun 28 12:59:32 +0000 2013', 'favourites_count': 936, 'utc_offset': None, 'time_zone': None, 'geo_enabled': False, 'verified': False, 'statuses_count': 3021, 'lang': None, 'status': {'created_at': 'Tue Jul 28 14:13:11 +0000 2020', 'id': 1288115288035098627, 'id_str': '1288115288035098627', 'text': 'Great initiative for female tech founders! https://t.co/kjj1usXrUt', 'truncated': False, 'entities': {'hashtags': [], 'symbols': [], 'user_mentions': [], 'urls': [{'url': 'https://t.co/kjj1usXrUt', 'expanded_url': 'https://twitter.com/SVC2UK/status/1287727618394128385', 'display_url': 'twitter.com/SVC2UK/status/…', 'indices': [43, 66]}]}, 'source': '<a href=\"http://twitter.com/download/android\" rel=\"nofollow\">Twitter for Android</a>', 'in_reply_to_status_id': None, 'in_reply_to_status_id_str': None, 'in_reply_to_user_id': None, 'in_reply_to_user_id_str': None, 'in_reply_to_screen_name': None, 'geo': None, 'coordinates': None, 'place': None, 'contributors': None, 'is_quote_status': True, 'quoted_status_id': 1287727618394128385, 'quoted_status_id_str': '1287727618394128385', 'retweet_count': 1, 'favorite_count': 3, 'favorited': False, 'retweeted': False, 'possibly_sensitive': False, 'lang': 'en'}, 'contributors_enabled': False, 'is_translator': False, 'is_translation_enabled': False, 'profile_background_color': 'EEEEEE', 'profile_background_image_url': 'http://abs.twimg.com/images/themes/theme2/bg.gif', 'profile_background_image_url_https': 'https://abs.twimg.com/images/themes/theme2/bg.gif', 'profile_background_tile': False, 'profile_image_url': 'http://pbs.twimg.com/profile_images/479926285464920064/giGFXxaP_normal.jpeg', 'profile_image_url_https': 'https://pbs.twimg.com/profile_images/479926285464920064/giGFXxaP_normal.jpeg', 'profile_banner_url': 'https://pbs.twimg.com/profile_banners/1553045132/1503248811', 'profile_link_color': 'FF691F', 'profile_sidebar_border_color': 'FFFFFF', 'profile_sidebar_fill_color': 'DAECF4', 'profile_text_color': '663B12', 'profile_use_background_image': False, 'has_extended_profile': False, 'default_profile': False, 'default_profile_image': False, 'following': True, 'follow_request_sent': False, 'notifications': False, 'translator_type': 'none'}, id=1553045132, id_str='1553045132', name='Kim Nilsson', screen_name='kimknilsson', location='London, UK', profile_location=None, description='Ex-astronomer turned start-up CEO of @Pivigo. Lead organiser of @S2DS. Passionate about all things data.', url='http://t.co/m8Q3QgBqn7', entities={'url': {'urls': [{'url': 'http://t.co/m8Q3QgBqn7', 'expanded_url': 'http://www.pivigo.com', 'display_url': 'pivigo.com', 'indices': [0, 22]}]}, 'description': {'urls': []}}, protected=False, followers_count=1170, friends_count=606, listed_count=131, created_at=datetime.datetime(2013, 6, 28, 12, 59, 32), favourites_count=936, utc_offset=None, time_zone=None, geo_enabled=False, verified=False, statuses_count=3021, lang=None, status=Status(_api=<tweepy.api.API object at 0x000001AF214D7208>, _json={'created_at': 'Tue Jul 28 14:13:11 +0000 2020', 'id': 1288115288035098627, 'id_str': '1288115288035098627', 'text': 'Great initiative for female tech founders! https://t.co/kjj1usXrUt', 'truncated': False, 'entities': {'hashtags': [], 'symbols': [], 'user_mentions': [], 'urls': [{'url': 'https://t.co/kjj1usXrUt', 'expanded_url': 'https://twitter.com/SVC2UK/status/1287727618394128385', 'display_url': 'twitter.com/SVC2UK/status/…', 'indices': [43, 66]}]}, 'source': '<a href=\"http://twitter.com/download/android\" rel=\"nofollow\">Twitter for Android</a>', 'in_reply_to_status_id': None, 'in_reply_to_status_id_str': None, 'in_reply_to_user_id': None, 'in_reply_to_user_id_str': None, 'in_reply_to_screen_name': None, 'geo': None, 'coordinates': None, 'place': None, 'contributors': None, 'is_quote_status': True, 'quoted_status_id': 1287727618394128385, 'quoted_status_id_str': '1287727618394128385', 'retweet_count': 1, 'favorite_count': 3, 'favorited': False, 'retweeted': False, 'possibly_sensitive': False, 'lang': 'en'}, created_at=datetime.datetime(2020, 7, 28, 14, 13, 11), id=1288115288035098627, id_str='1288115288035098627', text='Great initiative for female tech founders! https://t.co/kjj1usXrUt', truncated=False, entities={'hashtags': [], 'symbols': [], 'user_mentions': [], 'urls': [{'url': 'https://t.co/kjj1usXrUt', 'expanded_url': 'https://twitter.com/SVC2UK/status/1287727618394128385', 'display_url': 'twitter.com/SVC2UK/status/…', 'indices': [43, 66]}]}, source='Twitter for Android', source_url='http://twitter.com/download/android', in_reply_to_status_id=None, in_reply_to_status_id_str=None, in_reply_to_user_id=None, in_reply_to_user_id_str=None, in_reply_to_screen_name=None, geo=None, coordinates=None, place=None, contributors=None, is_quote_status=True, quoted_status_id=1287727618394128385, quoted_status_id_str='1287727618394128385', retweet_count=1, favorite_count=3, favorited=False, retweeted=False, possibly_sensitive=False, lang='en'), contributors_enabled=False, is_translator=False, is_translation_enabled=False, profile_background_color='EEEEEE', profile_background_image_url='http://abs.twimg.com/images/themes/theme2/bg.gif', profile_background_image_url_https='https://abs.twimg.com/images/themes/theme2/bg.gif', profile_background_tile=False, profile_image_url='http://pbs.twimg.com/profile_images/479926285464920064/giGFXxaP_normal.jpeg', profile_image_url_https='https://pbs.twimg.com/profile_images/479926285464920064/giGFXxaP_normal.jpeg', profile_banner_url='https://pbs.twimg.com/profile_banners/1553045132/1503248811', profile_link_color='FF691F', profile_sidebar_border_color='FFFFFF', profile_sidebar_fill_color='DAECF4', profile_text_color='663B12', profile_use_background_image=False, has_extended_profile=False, default_profile=False, default_profile_image=False, following=True, follow_request_sent=False, notifications=False, translator_type='none')"
      ]
     },
     "execution_count": 15,
     "metadata": {},
     "output_type": "execute_result"
    }
   ],
   "source": [
    "test_user"
   ]
  },
  {
   "cell_type": "code",
   "execution_count": 50,
   "metadata": {},
   "outputs": [],
   "source": [
    "test_dict = {key: vars(user)[key] for key in list(vars(user).keys())}"
   ]
  },
  {
   "cell_type": "code",
   "execution_count": 51,
   "metadata": {},
   "outputs": [],
   "source": [
    "for key in ['_api', '_json']:\n",
    "    test_dict.pop(key)"
   ]
  },
  {
   "cell_type": "code",
   "execution_count": 52,
   "metadata": {},
   "outputs": [
    {
     "data": {
      "text/plain": [
       "{'id': 1553045132,\n",
       " 'id_str': '1553045132',\n",
       " 'name': 'Kim Nilsson',\n",
       " 'screen_name': 'kimknilsson',\n",
       " 'location': 'London, UK',\n",
       " 'profile_location': None,\n",
       " 'description': 'Ex-astronomer turned start-up CEO of @Pivigo. Lead organiser of @S2DS. Passionate about all things data.',\n",
       " 'url': 'http://t.co/m8Q3QgBqn7',\n",
       " 'entities': {'url': {'urls': [{'url': 'http://t.co/m8Q3QgBqn7',\n",
       "     'expanded_url': 'http://www.pivigo.com',\n",
       "     'display_url': 'pivigo.com',\n",
       "     'indices': [0, 22]}]},\n",
       "  'description': {'urls': []}},\n",
       " 'protected': False,\n",
       " 'followers_count': 1170,\n",
       " 'friends_count': 606,\n",
       " 'listed_count': 131,\n",
       " 'created_at': datetime.datetime(2013, 6, 28, 12, 59, 32),\n",
       " 'favourites_count': 936,\n",
       " 'utc_offset': None,\n",
       " 'time_zone': None,\n",
       " 'geo_enabled': False,\n",
       " 'verified': False,\n",
       " 'statuses_count': 3021,\n",
       " 'lang': None,\n",
       " 'status': Status(_api=<tweepy.api.API object at 0x000001AF214D7208>, _json={'created_at': 'Tue Jul 28 14:13:11 +0000 2020', 'id': 1288115288035098627, 'id_str': '1288115288035098627', 'text': 'Great initiative for female tech founders! https://t.co/kjj1usXrUt', 'truncated': False, 'entities': {'hashtags': [], 'symbols': [], 'user_mentions': [], 'urls': [{'url': 'https://t.co/kjj1usXrUt', 'expanded_url': 'https://twitter.com/SVC2UK/status/1287727618394128385', 'display_url': 'twitter.com/SVC2UK/status/…', 'indices': [43, 66]}]}, 'source': '<a href=\"http://twitter.com/download/android\" rel=\"nofollow\">Twitter for Android</a>', 'in_reply_to_status_id': None, 'in_reply_to_status_id_str': None, 'in_reply_to_user_id': None, 'in_reply_to_user_id_str': None, 'in_reply_to_screen_name': None, 'geo': None, 'coordinates': None, 'place': None, 'contributors': None, 'is_quote_status': True, 'quoted_status_id': 1287727618394128385, 'quoted_status_id_str': '1287727618394128385', 'retweet_count': 1, 'favorite_count': 3, 'favorited': False, 'retweeted': False, 'possibly_sensitive': False, 'lang': 'en'}, created_at=datetime.datetime(2020, 7, 28, 14, 13, 11), id=1288115288035098627, id_str='1288115288035098627', text='Great initiative for female tech founders! https://t.co/kjj1usXrUt', truncated=False, entities={'hashtags': [], 'symbols': [], 'user_mentions': [], 'urls': [{'url': 'https://t.co/kjj1usXrUt', 'expanded_url': 'https://twitter.com/SVC2UK/status/1287727618394128385', 'display_url': 'twitter.com/SVC2UK/status/…', 'indices': [43, 66]}]}, source='Twitter for Android', source_url='http://twitter.com/download/android', in_reply_to_status_id=None, in_reply_to_status_id_str=None, in_reply_to_user_id=None, in_reply_to_user_id_str=None, in_reply_to_screen_name=None, geo=None, coordinates=None, place=None, contributors=None, is_quote_status=True, quoted_status_id=1287727618394128385, quoted_status_id_str='1287727618394128385', retweet_count=1, favorite_count=3, favorited=False, retweeted=False, possibly_sensitive=False, lang='en'),\n",
       " 'contributors_enabled': False,\n",
       " 'is_translator': False,\n",
       " 'is_translation_enabled': False,\n",
       " 'profile_background_color': 'EEEEEE',\n",
       " 'profile_background_image_url': 'http://abs.twimg.com/images/themes/theme2/bg.gif',\n",
       " 'profile_background_image_url_https': 'https://abs.twimg.com/images/themes/theme2/bg.gif',\n",
       " 'profile_background_tile': False,\n",
       " 'profile_image_url': 'http://pbs.twimg.com/profile_images/479926285464920064/giGFXxaP_normal.jpeg',\n",
       " 'profile_image_url_https': 'https://pbs.twimg.com/profile_images/479926285464920064/giGFXxaP_normal.jpeg',\n",
       " 'profile_banner_url': 'https://pbs.twimg.com/profile_banners/1553045132/1503248811',\n",
       " 'profile_link_color': 'FF691F',\n",
       " 'profile_sidebar_border_color': 'FFFFFF',\n",
       " 'profile_sidebar_fill_color': 'DAECF4',\n",
       " 'profile_text_color': '663B12',\n",
       " 'profile_use_background_image': False,\n",
       " 'has_extended_profile': False,\n",
       " 'default_profile': False,\n",
       " 'default_profile_image': False,\n",
       " 'following': True,\n",
       " 'follow_request_sent': False,\n",
       " 'notifications': False,\n",
       " 'translator_type': 'none'}"
      ]
     },
     "execution_count": 52,
     "metadata": {},
     "output_type": "execute_result"
    }
   ],
   "source": [
    "test_dict"
   ]
  },
  {
   "cell_type": "code",
   "execution_count": 57,
   "metadata": {},
   "outputs": [],
   "source": [
    "test_df = pd.DataFrame(test_dict, index=[0])"
   ]
  },
  {
   "cell_type": "code",
   "execution_count": 58,
   "metadata": {},
   "outputs": [
    {
     "data": {
      "text/html": [
       "<div>\n",
       "<style scoped>\n",
       "    .dataframe tbody tr th:only-of-type {\n",
       "        vertical-align: middle;\n",
       "    }\n",
       "\n",
       "    .dataframe tbody tr th {\n",
       "        vertical-align: top;\n",
       "    }\n",
       "\n",
       "    .dataframe thead th {\n",
       "        text-align: right;\n",
       "    }\n",
       "</style>\n",
       "<table border=\"1\" class=\"dataframe\">\n",
       "  <thead>\n",
       "    <tr style=\"text-align: right;\">\n",
       "      <th></th>\n",
       "      <th>id</th>\n",
       "      <th>id_str</th>\n",
       "      <th>name</th>\n",
       "      <th>screen_name</th>\n",
       "      <th>location</th>\n",
       "      <th>profile_location</th>\n",
       "      <th>description</th>\n",
       "      <th>url</th>\n",
       "      <th>entities</th>\n",
       "      <th>protected</th>\n",
       "      <th>...</th>\n",
       "      <th>profile_sidebar_fill_color</th>\n",
       "      <th>profile_text_color</th>\n",
       "      <th>profile_use_background_image</th>\n",
       "      <th>has_extended_profile</th>\n",
       "      <th>default_profile</th>\n",
       "      <th>default_profile_image</th>\n",
       "      <th>following</th>\n",
       "      <th>follow_request_sent</th>\n",
       "      <th>notifications</th>\n",
       "      <th>translator_type</th>\n",
       "    </tr>\n",
       "  </thead>\n",
       "  <tbody>\n",
       "    <tr>\n",
       "      <th>1</th>\n",
       "      <td>1553045132</td>\n",
       "      <td>1553045132</td>\n",
       "      <td>Kim Nilsson</td>\n",
       "      <td>kimknilsson</td>\n",
       "      <td>London, UK</td>\n",
       "      <td>None</td>\n",
       "      <td>Ex-astronomer turned start-up CEO of @Pivigo. ...</td>\n",
       "      <td>http://t.co/m8Q3QgBqn7</td>\n",
       "      <td>NaN</td>\n",
       "      <td>False</td>\n",
       "      <td>...</td>\n",
       "      <td>DAECF4</td>\n",
       "      <td>663B12</td>\n",
       "      <td>False</td>\n",
       "      <td>False</td>\n",
       "      <td>False</td>\n",
       "      <td>False</td>\n",
       "      <td>True</td>\n",
       "      <td>False</td>\n",
       "      <td>False</td>\n",
       "      <td>none</td>\n",
       "    </tr>\n",
       "  </tbody>\n",
       "</table>\n",
       "<p>1 rows × 44 columns</p>\n",
       "</div>"
      ],
      "text/plain": [
       "           id      id_str         name  screen_name    location  \\\n",
       "1  1553045132  1553045132  Kim Nilsson  kimknilsson  London, UK   \n",
       "\n",
       "  profile_location                                        description  \\\n",
       "1             None  Ex-astronomer turned start-up CEO of @Pivigo. ...   \n",
       "\n",
       "                      url  entities  protected  ...  \\\n",
       "1  http://t.co/m8Q3QgBqn7       NaN      False  ...   \n",
       "\n",
       "   profile_sidebar_fill_color  profile_text_color  \\\n",
       "1                      DAECF4              663B12   \n",
       "\n",
       "   profile_use_background_image has_extended_profile  default_profile  \\\n",
       "1                         False                False            False   \n",
       "\n",
       "  default_profile_image following  follow_request_sent  notifications  \\\n",
       "1                 False      True                False          False   \n",
       "\n",
       "   translator_type  \n",
       "1             none  \n",
       "\n",
       "[1 rows x 44 columns]"
      ]
     },
     "execution_count": 58,
     "metadata": {},
     "output_type": "execute_result"
    }
   ],
   "source": [
    "test_df.head()"
   ]
  },
  {
   "cell_type": "code",
   "execution_count": null,
   "metadata": {},
   "outputs": [],
   "source": []
  }
 ],
 "metadata": {
  "kernelspec": {
   "display_name": "Python 3",
   "language": "python",
   "name": "python3"
  },
  "language_info": {
   "codemirror_mode": {
    "name": "ipython",
    "version": 3
   },
   "file_extension": ".py",
   "mimetype": "text/x-python",
   "name": "python",
   "nbconvert_exporter": "python",
   "pygments_lexer": "ipython3",
   "version": "3.7.1"
  }
 },
 "nbformat": 4,
 "nbformat_minor": 4
}
