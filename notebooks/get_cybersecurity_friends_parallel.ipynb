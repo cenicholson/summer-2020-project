{
 "cells": [
  {
   "cell_type": "markdown",
   "metadata": {},
   "source": [
    "# Scraping journalists then using twint to get who they follow"
   ]
  },
  {
   "cell_type": "code",
   "execution_count": 2,
   "metadata": {},
   "outputs": [],
   "source": [
    "import sys\n",
    "import os\n",
    "import time\n",
    "import json\n",
    "import csv\n",
    "import threading\n",
    "import queue\n",
    "import asyncio\n",
    "import nest_asyncio\n",
    "nest_asyncio.apply()\n",
    "import twint\n",
    "\n",
    "sys.path.insert(1, '../')\n",
    "from src.data import journalists as journos"
   ]
  },
  {
   "cell_type": "markdown",
   "metadata": {},
   "source": [
    "### 1. Getting journalist twitter handles according to topic"
   ]
  },
  {
   "cell_type": "code",
   "execution_count": 11,
   "metadata": {},
   "outputs": [
    {
     "name": "stdout",
     "output_type": "stream",
     "text": [
      "3\n"
     ]
    }
   ],
   "source": [
    "keyword = 'cybersec'\n",
    "journo_handles = journos.get_handles_by_keyword(keyword)\n",
    "print(len(journo_handles))"
   ]
  },
  {
   "cell_type": "code",
   "execution_count": 4,
   "metadata": {},
   "outputs": [
    {
     "name": "stdout",
     "output_type": "stream",
     "text": [
      "['_lucyingham', 'JesscaHaworth', 'Ad_Nauseum74']\n"
     ]
    }
   ],
   "source": [
    "print(journo_handles)"
   ]
  },
  {
   "cell_type": "markdown",
   "metadata": {},
   "source": [
    "## 2. Loop over journalists and get who they follow"
   ]
  },
  {
   "cell_type": "markdown",
   "metadata": {},
   "source": [
    "### 2.2 Storing each threads results as csv files (USE THIS)\n",
    "\n",
    "This seems to work quite nicely, and may even be more reliable than storing in memory.  \n",
    "\n",
    "Note that any recursive use to get data that was missed has to be done manually by alternately using the last two cells before section 3 to recheck the failed list and run it."
   ]
  },
  {
   "cell_type": "code",
   "execution_count": 5,
   "metadata": {},
   "outputs": [],
   "source": [
    "num_threads = 6 # num_threads can be any amount, but only so many can be run in parallel, according to number of cores you have.\n",
    "# import multiprocessing; multiprocessing.cpu_count() can tell you how many cores python can see."
   ]
  },
  {
   "cell_type": "code",
   "execution_count": 6,
   "metadata": {},
   "outputs": [],
   "source": [
    "def get_friends(q, fp, persist):\n",
    "    '''\n",
    "    Params\n",
    "    ------\n",
    "    q : a Queue instance\n",
    "    \n",
    "    fp : string\n",
    "        Provides the path where the file should be saved.\n",
    "    persist : bool\n",
    "        If True, make a repeat attempt if attempt fails.\n",
    "    '''\n",
    "    while True: \n",
    "        username = q.get()\n",
    "        success = False\n",
    "        filepath = fp+'friends_'+username+'.csv'\n",
    "        while not success:\n",
    "            print('Attempting to get friends of @'+username)\n",
    "            c = twint.Config()\n",
    "            c.Username = username\n",
    "            c.User_full = False\n",
    "            c.Hide_output = True\n",
    "            c.Output = filepath\n",
    "\n",
    "            twint.run.Following(c)\n",
    "            \n",
    "            if persist:\n",
    "                if os.path.exists(filepath):\n",
    "                    success = True\n",
    "                    print('Friends of @'+username+' saved.')\n",
    "            else:\n",
    "                success = True\n",
    "        q.task_done()"
   ]
  },
  {
   "cell_type": "code",
   "execution_count": 7,
   "metadata": {},
   "outputs": [
    {
     "name": "stdout",
     "output_type": "stream",
     "text": [
      "Attempting to get friends of @_lucyingham\n",
      "Attempting to get friends of @JesscaHaworth\n",
      "Attempting to get friends of @Ad_Nauseum74\n"
     ]
    },
    {
     "name": "stderr",
     "output_type": "stream",
     "text": [
      "CRITICAL:root:twint.get:User:'NoneType' object is not subscriptable\n",
      "CRITICAL:root:twint.feed:Follow:IndexError\n"
     ]
    },
    {
     "name": "stdout",
     "output_type": "stream",
     "text": [
      "Friends of @_lucyingham saved.\n"
     ]
    },
    {
     "name": "stderr",
     "output_type": "stream",
     "text": [
      "CRITICAL:root:twint.get:User:'NoneType' object is not subscriptable\n",
      "CRITICAL:root:twint.get:User:'NoneType' object is not subscriptable\n",
      "CRITICAL:root:twint.feed:Follow:IndexError\n"
     ]
    },
    {
     "name": "stdout",
     "output_type": "stream",
     "text": [
      "Attempting to get friends of @Ad_Nauseum74\n"
     ]
    },
    {
     "name": "stderr",
     "output_type": "stream",
     "text": [
      "CRITICAL:root:twint.get:User:'NoneType' object is not subscriptable\n",
      "CRITICAL:root:twint.feed:Follow:IndexError\n",
      "CRITICAL:root:twint.feed:Follow:IndexError\n"
     ]
    },
    {
     "name": "stdout",
     "output_type": "stream",
     "text": [
      "Friends of @Ad_Nauseum74 saved.\n"
     ]
    },
    {
     "name": "stderr",
     "output_type": "stream",
     "text": [
      "CRITICAL:root:twint.feed:Follow:IndexError\n",
      "CRITICAL:root:twint.feed:Follow:IndexError\n"
     ]
    },
    {
     "name": "stdout",
     "output_type": "stream",
     "text": [
      "Friends of @JesscaHaworth saved.\n"
     ]
    }
   ],
   "source": [
    "q = queue.Queue(maxsize=0)\n",
    "\n",
    "for i in range(num_threads): # Loop to create threads\n",
    "    worker = threading.Thread(target=get_friends, args=(q, '../data/raw/'+keyword+'_', True)) # Change persist to True to tell the code to keep trying until results are written to file.\n",
    "    worker.setDaemon(True)\n",
    "    worker.start()\n",
    "\n",
    "for username in journo_handles: # Loop to add journalists usernames to the queue\n",
    "    q.put(username)\n",
    "\n",
    "q.join()"
   ]
  },
  {
   "cell_type": "code",
   "execution_count": 14,
   "metadata": {},
   "outputs": [
    {
     "name": "stdout",
     "output_type": "stream",
     "text": [
      "@_lucyingham follows 507 users.\n",
      "@JesscaHaworth follows 1936 users.\n",
      "@Ad_Nauseum74 follows 365 users.\n",
      "\n",
      "Total number of handles pulled: 2808\n",
      "Number of unique twitter handles: 1702\n",
      "\n",
      "Zero following in list for users: []\n"
     ]
    }
   ],
   "source": [
    "all_handles = []\n",
    "all_users = []\n",
    "failed = []\n",
    "for name in journo_handles:\n",
    "    filepath = '../data/raw/'+keyword+'_friends_'+name+'.csv'\n",
    "    if not os.path.exists(filepath):\n",
    "        failed.append(name)\n",
    "    else:\n",
    "        with open(filepath, newline='') as f:\n",
    "            reader = csv.reader(f)\n",
    "            handles = list(reader)\n",
    "            all_handles.extend([handle[0] for handle in handles])\n",
    "            all_users.extend([name for handle in handles])\n",
    "            print('@'+name+' follows '+str(len(handles))+' users.')\n",
    "            \n",
    "print('\\nTotal number of handles pulled: '+str(len(all_handles)))\n",
    "\n",
    "unique = len(set(all_handles))\n",
    "print('Number of unique twitter handles: '+str(unique))\n",
    "\n",
    "print('\\nZero following in list for users: '+str(failed))"
   ]
  },
  {
   "cell_type": "markdown",
   "metadata": {},
   "source": [
    "If some of the requests seem to have failed, can try them again:"
   ]
  },
  {
   "cell_type": "code",
   "execution_count": 17,
   "metadata": {},
   "outputs": [
    {
     "name": "stderr",
     "output_type": "stream",
     "text": [
      "CRITICAL:root:twint.get:User:'NoneType' object is not subscriptable\n",
      "CRITICAL:root:twint.feed:Follow:IndexError\n",
      "CRITICAL:root:twint.feed:Follow:IndexError\n"
     ]
    }
   ],
   "source": [
    "q = queue.Queue(maxsize=0)\n",
    "\n",
    "for i in range(num_threads): # Loop to create threads\n",
    "    worker = threading.Thread(target=get_friends, args=(q, '../data/raw/'+keyword+'_', False))\n",
    "    worker.setDaemon(True)\n",
    "    worker.start()\n",
    "\n",
    "for username in failed: # Loop to add journalists usernames to the queue\n",
    "    q.put(username)\n",
    "\n",
    "q.join()"
   ]
  },
  {
   "cell_type": "markdown",
   "metadata": {},
   "source": [
    "Interestingly, most of the handles must appear only once, suggesting there are only a few users that are followed by more than one of the journalists in this list."
   ]
  },
  {
   "cell_type": "markdown",
   "metadata": {},
   "source": [
    "## 3. Store the data in one csv file using pandas"
   ]
  },
  {
   "cell_type": "code",
   "execution_count": 15,
   "metadata": {},
   "outputs": [],
   "source": [
    "import pandas as pd"
   ]
  },
  {
   "cell_type": "code",
   "execution_count": 16,
   "metadata": {},
   "outputs": [],
   "source": [
    "df = pd.DataFrame(list(zip(all_users, all_handles)), \n",
    "               columns =['screen_name', 'friend'])"
   ]
  },
  {
   "cell_type": "code",
   "execution_count": 17,
   "metadata": {},
   "outputs": [
    {
     "data": {
      "text/html": [
       "<div>\n",
       "<style scoped>\n",
       "    .dataframe tbody tr th:only-of-type {\n",
       "        vertical-align: middle;\n",
       "    }\n",
       "\n",
       "    .dataframe tbody tr th {\n",
       "        vertical-align: top;\n",
       "    }\n",
       "\n",
       "    .dataframe thead th {\n",
       "        text-align: right;\n",
       "    }\n",
       "</style>\n",
       "<table border=\"1\" class=\"dataframe\">\n",
       "  <thead>\n",
       "    <tr style=\"text-align: right;\">\n",
       "      <th></th>\n",
       "      <th>screen_name</th>\n",
       "      <th>friend</th>\n",
       "    </tr>\n",
       "  </thead>\n",
       "  <tbody>\n",
       "    <tr>\n",
       "      <th>0</th>\n",
       "      <td>_lucyingham</td>\n",
       "      <td>SarahCAndersen</td>\n",
       "    </tr>\n",
       "    <tr>\n",
       "      <th>1</th>\n",
       "      <td>_lucyingham</td>\n",
       "      <td>JoeBelBruno</td>\n",
       "    </tr>\n",
       "    <tr>\n",
       "      <th>2</th>\n",
       "      <td>_lucyingham</td>\n",
       "      <td>Danny_D_Pearson</td>\n",
       "    </tr>\n",
       "    <tr>\n",
       "      <th>3</th>\n",
       "      <td>_lucyingham</td>\n",
       "      <td>jeremyscahill</td>\n",
       "    </tr>\n",
       "    <tr>\n",
       "      <th>4</th>\n",
       "      <td>_lucyingham</td>\n",
       "      <td>davidgraeber</td>\n",
       "    </tr>\n",
       "  </tbody>\n",
       "</table>\n",
       "</div>"
      ],
      "text/plain": [
       "   screen_name           friend\n",
       "0  _lucyingham   SarahCAndersen\n",
       "1  _lucyingham      JoeBelBruno\n",
       "2  _lucyingham  Danny_D_Pearson\n",
       "3  _lucyingham    jeremyscahill\n",
       "4  _lucyingham     davidgraeber"
      ]
     },
     "execution_count": 17,
     "metadata": {},
     "output_type": "execute_result"
    }
   ],
   "source": [
    "df.head()"
   ]
  },
  {
   "cell_type": "code",
   "execution_count": 18,
   "metadata": {},
   "outputs": [],
   "source": [
    "df.to_csv('../data/raw/'+keyword+'_journalist_friends.csv', index=False)"
   ]
  },
  {
   "cell_type": "markdown",
   "metadata": {},
   "source": [
    "## 4. Quick inspection of data"
   ]
  },
  {
   "cell_type": "code",
   "execution_count": 19,
   "metadata": {},
   "outputs": [],
   "source": [
    "from collections import Counter"
   ]
  },
  {
   "cell_type": "code",
   "execution_count": 20,
   "metadata": {},
   "outputs": [],
   "source": [
    "counted = Counter(all_handles)"
   ]
  },
  {
   "cell_type": "code",
   "execution_count": null,
   "metadata": {},
   "outputs": [],
   "source": [
    "counted.most_common(50)"
   ]
  },
  {
   "cell_type": "code",
   "execution_count": 35,
   "metadata": {},
   "outputs": [],
   "source": []
  }
 ],
 "metadata": {
  "kernelspec": {
   "display_name": "Python 3",
   "language": "python",
   "name": "python3"
  },
  "language_info": {
   "codemirror_mode": {
    "name": "ipython",
    "version": 3
   },
   "file_extension": ".py",
   "mimetype": "text/x-python",
   "name": "python",
   "nbconvert_exporter": "python",
   "pygments_lexer": "ipython3",
   "version": "3.7.1"
  }
 },
 "nbformat": 4,
 "nbformat_minor": 4
}
