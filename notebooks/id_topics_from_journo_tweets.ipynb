{
 "cells": [
  {
   "cell_type": "markdown",
   "metadata": {},
   "source": [
    "# Get Journalist Tweets"
   ]
  },
  {
   "cell_type": "code",
   "execution_count": 1,
   "metadata": {},
   "outputs": [],
   "source": [
    "import sys\n",
    "import os\n",
    "from tqdm import tqdm\n",
    "import numpy as np\n",
    "import pandas as pd\n",
    "\n",
    "import matplotlib.pyplot as plt\n",
    "%matplotlib inline\n",
    "\n",
    "from sklearn import decomposition as skd\n",
    "from sklearn import feature_extraction as skfe"
   ]
  },
  {
   "cell_type": "code",
   "execution_count": 2,
   "metadata": {},
   "outputs": [],
   "source": [
    "sys.path.insert(1, '../')"
   ]
  },
  {
   "cell_type": "code",
   "execution_count": 3,
   "metadata": {},
   "outputs": [],
   "source": [
    "from src.data import journalists as journos\n",
    "from src.data.api_tweepy import connect_API\n",
    "from src.data import api_tweet_tools as att\n",
    "from src.data import data_cleanup as dc\n",
    "from src.topics import hashtag_analysis as ha"
   ]
  },
  {
   "cell_type": "code",
   "execution_count": 4,
   "metadata": {},
   "outputs": [
    {
     "name": "stdout",
     "output_type": "stream",
     "text": [
      "12\n"
     ]
    }
   ],
   "source": [
    "keyword = 'cyber'\n",
    "journo_handles = journos.get_handles_by_keyword(keyword)\n",
    "print(len(journo_handles))"
   ]
  },
  {
   "cell_type": "code",
   "execution_count": 5,
   "metadata": {},
   "outputs": [
    {
     "name": "stdout",
     "output_type": "stream",
     "text": [
      "['jennystrasburg', 'dannsimmons', 'LeoKelion', 'gordoncorera', 'joetidy', '_lucyingham', 'dannyjpalmer', 'SophiaFurber', 'SCFGallagher', 'MsHannahMurphy', 'JesscaHaworth', 'Ad_Nauseum74']\n"
     ]
    }
   ],
   "source": [
    "print(journo_handles)"
   ]
  },
  {
   "cell_type": "code",
   "execution_count": 6,
   "metadata": {},
   "outputs": [],
   "source": [
    "api_keys_fp = '../data/twitter_credentials.json'\n",
    "tw_api = connect_API(api_keys_fp)"
   ]
  },
  {
   "cell_type": "code",
   "execution_count": null,
   "metadata": {},
   "outputs": [],
   "source": [
    "att.batch_request_user_timeline(tw_api, journo_handles, '../data/raw/cyber_tweets/', api_delay=0.2, n_tweets=3200)"
   ]
  },
  {
   "cell_type": "markdown",
   "metadata": {},
   "source": [
    "# Clean Journalist Tweets"
   ]
  },
  {
   "cell_type": "code",
   "execution_count": null,
   "metadata": {},
   "outputs": [],
   "source": [
    "src_dir = '../data/raw/cyber_tweets/'\n",
    "dest_dir = '../data/cleaned/cyber_tweets/'\n",
    "\n",
    "if not os.path.exists(dest_dir):\n",
    "    os.makedirs(dest_dir)\n",
    "\n",
    "files = [file for file in os.listdir(src_dir) if os.path.isfile(os.path.join(src_dir, file))]\n",
    "\n",
    "with tqdm(total=len(files), desc='Files') as pbar:\n",
    "    for file in files:\n",
    "        raw_df = pd.read_csv(os.path.join(src_dir, file), low_memory=False)\n",
    "        cleaned_df = dc.clean_API_dataframe(raw_df)\n",
    "        cleaned_df.to_csv(os.path.join(dest_dir, file), index=False)\n",
    "        pbar.update(1)"
   ]
  },
  {
   "cell_type": "markdown",
   "metadata": {},
   "source": [
    "# Use hashtags to identify topics"
   ]
  },
  {
   "cell_type": "code",
   "execution_count": 5,
   "metadata": {},
   "outputs": [
    {
     "name": "stdout",
     "output_type": "stream",
     "text": [
      "Files: 100%|█████████████████████████████████████████████████████████████████████████████| 1/1 [00:00<00:00,  3.03it/s]\n"
     ]
    }
   ],
   "source": [
    "src_dir = 'D:/S2DS/Ditchley/Aug20_Ditchley/data/cleaned/cyber_tweets/'\n",
    "\n",
    "files = [file for file in os.listdir(src_dir) if os.path.isfile(os.path.join(src_dir, file))] # build list of files to iterate through\n",
    "\n",
    "data = pd.DataFrame()\n",
    "\n",
    "with tqdm(total=len(files), desc='Files', file=sys.stdout) as pbar:\n",
    "    for file in files:\n",
    "        df = pd.read_csv(os.path.join(src_dir, file), low_memory=False)\n",
    "        data = pd.concat([data, df[['screen_name', 'tweet_id', 'text', 'hashtags']]], axis=0, ignore_index=True)\n",
    "        pbar.update(1)"
   ]
  },
  {
   "cell_type": "code",
   "execution_count": 6,
   "metadata": {},
   "outputs": [
    {
     "data": {
      "text/html": [
       "<div>\n",
       "<style scoped>\n",
       "    .dataframe tbody tr th:only-of-type {\n",
       "        vertical-align: middle;\n",
       "    }\n",
       "\n",
       "    .dataframe tbody tr th {\n",
       "        vertical-align: top;\n",
       "    }\n",
       "\n",
       "    .dataframe thead th {\n",
       "        text-align: right;\n",
       "    }\n",
       "</style>\n",
       "<table border=\"1\" class=\"dataframe\">\n",
       "  <thead>\n",
       "    <tr style=\"text-align: right;\">\n",
       "      <th></th>\n",
       "      <th>screen_name</th>\n",
       "      <th>tweet_id</th>\n",
       "      <th>text</th>\n",
       "      <th>hashtags</th>\n",
       "    </tr>\n",
       "  </thead>\n",
       "  <tbody>\n",
       "    <tr>\n",
       "      <th>1</th>\n",
       "      <td>jennystrasburg</td>\n",
       "      <td>1298655692623142914</td>\n",
       "      <td>it s nationaljealousidonthaveadogday</td>\n",
       "      <td>['nationaljealousidonthaveadogday']</td>\n",
       "    </tr>\n",
       "    <tr>\n",
       "      <th>21</th>\n",
       "      <td>jennystrasburg</td>\n",
       "      <td>1295296427204186113</td>\n",
       "      <td>rt very excited to see today that blood and oi...</td>\n",
       "      <td>['bloodandoil']</td>\n",
       "    </tr>\n",
       "    <tr>\n",
       "      <th>75</th>\n",
       "      <td>jennystrasburg</td>\n",
       "      <td>1288463678367510533</td>\n",
       "      <td>rt approximately one fifth of covid patients a...</td>\n",
       "      <td>['covid']</td>\n",
       "    </tr>\n",
       "    <tr>\n",
       "      <th>77</th>\n",
       "      <td>jennystrasburg</td>\n",
       "      <td>1288228886774460417</td>\n",
       "      <td>rt today on thejournal the situation in rural ...</td>\n",
       "      <td>['thejournal']</td>\n",
       "    </tr>\n",
       "    <tr>\n",
       "      <th>93</th>\n",
       "      <td>jennystrasburg</td>\n",
       "      <td>1286391864195796994</td>\n",
       "      <td>new mexico public defenders prosecutors and ad...</td>\n",
       "      <td>['albuquerque']</td>\n",
       "    </tr>\n",
       "    <tr>\n",
       "      <th>...</th>\n",
       "      <td>...</td>\n",
       "      <td>...</td>\n",
       "      <td>...</td>\n",
       "      <td>...</td>\n",
       "    </tr>\n",
       "    <tr>\n",
       "      <th>28661</th>\n",
       "      <td>ad_nauseum74</td>\n",
       "      <td>1189939842064539648</td>\n",
       "      <td>rt bugbountyradar this month s top bug bounty ...</td>\n",
       "      <td>['bugbountyradar']</td>\n",
       "    </tr>\n",
       "    <tr>\n",
       "      <th>28676</th>\n",
       "      <td>ad_nauseum74</td>\n",
       "      <td>1187760868165144576</td>\n",
       "      <td>rt a ddos gang is impersonating known russian ...</td>\n",
       "      <td>['ddos', 'fancybear']</td>\n",
       "    </tr>\n",
       "    <tr>\n",
       "      <th>28679</th>\n",
       "      <td>ad_nauseum74</td>\n",
       "      <td>1187727565462618116</td>\n",
       "      <td>rt in this week s socialsec roundup breaches a...</td>\n",
       "      <td>['socialsec']</td>\n",
       "    </tr>\n",
       "    <tr>\n",
       "      <th>28681</th>\n",
       "      <td>ad_nauseum74</td>\n",
       "      <td>1187645968499597313</td>\n",
       "      <td>rt hackers are pretty much the same as sharks ...</td>\n",
       "      <td>['hacktivity2019']</td>\n",
       "    </tr>\n",
       "    <tr>\n",
       "      <th>28693</th>\n",
       "      <td>ad_nauseum74</td>\n",
       "      <td>1186674249412599808</td>\n",
       "      <td>rt biometric authentication is not solving the...</td>\n",
       "      <td>['dataprivacy', 'datasecurity']</td>\n",
       "    </tr>\n",
       "  </tbody>\n",
       "</table>\n",
       "<p>3364 rows × 4 columns</p>\n",
       "</div>"
      ],
      "text/plain": [
       "          screen_name             tweet_id  \\\n",
       "1      jennystrasburg  1298655692623142914   \n",
       "21     jennystrasburg  1295296427204186113   \n",
       "75     jennystrasburg  1288463678367510533   \n",
       "77     jennystrasburg  1288228886774460417   \n",
       "93     jennystrasburg  1286391864195796994   \n",
       "...               ...                  ...   \n",
       "28661    ad_nauseum74  1189939842064539648   \n",
       "28676    ad_nauseum74  1187760868165144576   \n",
       "28679    ad_nauseum74  1187727565462618116   \n",
       "28681    ad_nauseum74  1187645968499597313   \n",
       "28693    ad_nauseum74  1186674249412599808   \n",
       "\n",
       "                                                    text  \\\n",
       "1                   it s nationaljealousidonthaveadogday   \n",
       "21     rt very excited to see today that blood and oi...   \n",
       "75     rt approximately one fifth of covid patients a...   \n",
       "77     rt today on thejournal the situation in rural ...   \n",
       "93     new mexico public defenders prosecutors and ad...   \n",
       "...                                                  ...   \n",
       "28661  rt bugbountyradar this month s top bug bounty ...   \n",
       "28676  rt a ddos gang is impersonating known russian ...   \n",
       "28679  rt in this week s socialsec roundup breaches a...   \n",
       "28681  rt hackers are pretty much the same as sharks ...   \n",
       "28693  rt biometric authentication is not solving the...   \n",
       "\n",
       "                                  hashtags  \n",
       "1      ['nationaljealousidonthaveadogday']  \n",
       "21                         ['bloodandoil']  \n",
       "75                               ['covid']  \n",
       "77                          ['thejournal']  \n",
       "93                         ['albuquerque']  \n",
       "...                                    ...  \n",
       "28661                   ['bugbountyradar']  \n",
       "28676                ['ddos', 'fancybear']  \n",
       "28679                        ['socialsec']  \n",
       "28681                   ['hacktivity2019']  \n",
       "28693      ['dataprivacy', 'datasecurity']  \n",
       "\n",
       "[3364 rows x 4 columns]"
      ]
     },
     "execution_count": 6,
     "metadata": {},
     "output_type": "execute_result"
    }
   ],
   "source": [
    "data = data[data['hashtags'].astype(str) != '[]'] # remove empties\n",
    "data['text'] = data['text'].apply(lambda x: x.lower() if isinstance(x, str) else '')\n",
    "data"
   ]
  },
  {
   "cell_type": "code",
   "execution_count": 7,
   "metadata": {},
   "outputs": [
    {
     "name": "stdout",
     "output_type": "stream",
     "text": [
      "<class 'pandas.core.frame.DataFrame'>\n",
      "Int64Index: 3364 entries, 1 to 28693\n",
      "Columns: 2014 entries, 11amfact to リテールテック\n",
      "dtypes: Sparse[int64, 0](2014)\n",
      "memory usage: 80.2 KB\n"
     ]
    },
    {
     "data": {
      "text/plain": [
       "0.0006795475665584663"
      ]
     },
     "execution_count": 7,
     "metadata": {},
     "output_type": "execute_result"
    }
   ],
   "source": [
    "hashtag_observations = ha.vectorize_wordlists(data['hashtags'])\n",
    "hashtag_observations.info()\n",
    "hashtag_observations.sparse.density"
   ]
  },
  {
   "cell_type": "code",
   "execution_count": 8,
   "metadata": {},
   "outputs": [
    {
     "name": "stdout",
     "output_type": "stream",
     "text": [
      "Sum of the explained variance = 0.400.\n"
     ]
    },
    {
     "data": {
      "image/png": "[encoded data removed]",
      "text/plain": [
       "<Figure size 720x360 with 1 Axes>"
      ]
     },
     "metadata": {
      "needs_background": "light"
     },
     "output_type": "display_data"
    }
   ],
   "source": [
    "hashtag_dimred, svd_comps = ha.SVD_on_vectors(hashtag_observations, n_components=100)"
   ]
  },
  {
   "cell_type": "code",
   "execution_count": 9,
   "metadata": {},
   "outputs": [
    {
     "data": {
      "text/html": [
       "<div>\n",
       "<style scoped>\n",
       "    .dataframe tbody tr th:only-of-type {\n",
       "        vertical-align: middle;\n",
       "    }\n",
       "\n",
       "    .dataframe tbody tr th {\n",
       "        vertical-align: top;\n",
       "    }\n",
       "\n",
       "    .dataframe thead th {\n",
       "        text-align: right;\n",
       "    }\n",
       "</style>\n",
       "<table border=\"1\" class=\"dataframe\">\n",
       "  <thead>\n",
       "    <tr style=\"text-align: right;\">\n",
       "      <th></th>\n",
       "      <th>keywords</th>\n",
       "    </tr>\n",
       "    <tr>\n",
       "      <th>topic</th>\n",
       "      <th></th>\n",
       "    </tr>\n",
       "  </thead>\n",
       "  <tbody>\n",
       "    <tr>\n",
       "      <th>0</th>\n",
       "      <td>[ces, samsung]</td>\n",
       "    </tr>\n",
       "    <tr>\n",
       "      <th>1</th>\n",
       "      <td>[baselworld2015]</td>\n",
       "    </tr>\n",
       "    <tr>\n",
       "      <th>2</th>\n",
       "      <td>[coronavirus, cybersecurity]</td>\n",
       "    </tr>\n",
       "    <tr>\n",
       "      <th>3</th>\n",
       "      <td>[cybersecurity]</td>\n",
       "    </tr>\n",
       "    <tr>\n",
       "      <th>4</th>\n",
       "      <td>[brexit, fintech]</td>\n",
       "    </tr>\n",
       "    <tr>\n",
       "      <th>...</th>\n",
       "      <td>...</td>\n",
       "    </tr>\n",
       "    <tr>\n",
       "      <th>95</th>\n",
       "      <td>[assange, chooselies, covid_19, covidiots, cov...</td>\n",
       "    </tr>\n",
       "    <tr>\n",
       "      <th>96</th>\n",
       "      <td>[bugbountyradar, chooselies, covid_19, covidio...</td>\n",
       "    </tr>\n",
       "    <tr>\n",
       "      <th>97</th>\n",
       "      <td>[bhasia, chooselies, covid_19, covidiots, covi...</td>\n",
       "    </tr>\n",
       "    <tr>\n",
       "      <th>98</th>\n",
       "      <td>[assange, bhasia, bugbountyradar, metoo, qualc...</td>\n",
       "    </tr>\n",
       "    <tr>\n",
       "      <th>99</th>\n",
       "      <td>[drones, mwc]</td>\n",
       "    </tr>\n",
       "  </tbody>\n",
       "</table>\n",
       "<p>100 rows × 1 columns</p>\n",
       "</div>"
      ],
      "text/plain": [
       "                                                keywords\n",
       "topic                                                   \n",
       "0                                         [ces, samsung]\n",
       "1                                       [baselworld2015]\n",
       "2                           [coronavirus, cybersecurity]\n",
       "3                                        [cybersecurity]\n",
       "4                                      [brexit, fintech]\n",
       "...                                                  ...\n",
       "95     [assange, chooselies, covid_19, covidiots, cov...\n",
       "96     [bugbountyradar, chooselies, covid_19, covidio...\n",
       "97     [bhasia, chooselies, covid_19, covidiots, covi...\n",
       "98     [assange, bhasia, bugbountyradar, metoo, qualc...\n",
       "99                                         [drones, mwc]\n",
       "\n",
       "[100 rows x 1 columns]"
      ]
     },
     "execution_count": 9,
     "metadata": {},
     "output_type": "execute_result"
    }
   ],
   "source": [
    "topics = ha.make_topic_keywords_from_svd(svd_comps, threshold=0.2)\n",
    "topics"
   ]
  },
  {
   "cell_type": "code",
   "execution_count": 14,
   "metadata": {},
   "outputs": [
    {
     "data": {
      "text/html": [
       "<div>\n",
       "<style scoped>\n",
       "    .dataframe tbody tr th:only-of-type {\n",
       "        vertical-align: middle;\n",
       "    }\n",
       "\n",
       "    .dataframe tbody tr th {\n",
       "        vertical-align: top;\n",
       "    }\n",
       "\n",
       "    .dataframe thead th {\n",
       "        text-align: right;\n",
       "    }\n",
       "</style>\n",
       "<table border=\"1\" class=\"dataframe\">\n",
       "  <thead>\n",
       "    <tr style=\"text-align: right;\">\n",
       "      <th></th>\n",
       "      <th>screen_name</th>\n",
       "      <th>tweet_id</th>\n",
       "      <th>text</th>\n",
       "      <th>hashtags</th>\n",
       "      <th>labels</th>\n",
       "    </tr>\n",
       "  </thead>\n",
       "  <tbody>\n",
       "    <tr>\n",
       "      <th>1</th>\n",
       "      <td>jennystrasburg</td>\n",
       "      <td>1298655692623142914</td>\n",
       "      <td>it s nationaljealousidonthaveadogday</td>\n",
       "      <td>['nationaljealousidonthaveadogday']</td>\n",
       "      <td>NaN</td>\n",
       "    </tr>\n",
       "    <tr>\n",
       "      <th>21</th>\n",
       "      <td>jennystrasburg</td>\n",
       "      <td>1295296427204186113</td>\n",
       "      <td>rt very excited to see today that blood and oi...</td>\n",
       "      <td>['bloodandoil']</td>\n",
       "      <td>NaN</td>\n",
       "    </tr>\n",
       "    <tr>\n",
       "      <th>75</th>\n",
       "      <td>jennystrasburg</td>\n",
       "      <td>1288463678367510533</td>\n",
       "      <td>rt approximately one fifth of covid patients a...</td>\n",
       "      <td>['covid']</td>\n",
       "      <td>68.0</td>\n",
       "    </tr>\n",
       "    <tr>\n",
       "      <th>77</th>\n",
       "      <td>jennystrasburg</td>\n",
       "      <td>1288228886774460417</td>\n",
       "      <td>rt today on thejournal the situation in rural ...</td>\n",
       "      <td>['thejournal']</td>\n",
       "      <td>NaN</td>\n",
       "    </tr>\n",
       "    <tr>\n",
       "      <th>93</th>\n",
       "      <td>jennystrasburg</td>\n",
       "      <td>1286391864195796994</td>\n",
       "      <td>new mexico public defenders prosecutors and ad...</td>\n",
       "      <td>['albuquerque']</td>\n",
       "      <td>NaN</td>\n",
       "    </tr>\n",
       "    <tr>\n",
       "      <th>...</th>\n",
       "      <td>...</td>\n",
       "      <td>...</td>\n",
       "      <td>...</td>\n",
       "      <td>...</td>\n",
       "      <td>...</td>\n",
       "    </tr>\n",
       "    <tr>\n",
       "      <th>28661</th>\n",
       "      <td>ad_nauseum74</td>\n",
       "      <td>1189939842064539648</td>\n",
       "      <td>rt bugbountyradar this month s top bug bounty ...</td>\n",
       "      <td>['bugbountyradar']</td>\n",
       "      <td>93.0</td>\n",
       "    </tr>\n",
       "    <tr>\n",
       "      <th>28676</th>\n",
       "      <td>ad_nauseum74</td>\n",
       "      <td>1187760868165144576</td>\n",
       "      <td>rt a ddos gang is impersonating known russian ...</td>\n",
       "      <td>['ddos', 'fancybear']</td>\n",
       "      <td>NaN</td>\n",
       "    </tr>\n",
       "    <tr>\n",
       "      <th>28679</th>\n",
       "      <td>ad_nauseum74</td>\n",
       "      <td>1187727565462618116</td>\n",
       "      <td>rt in this week s socialsec roundup breaches a...</td>\n",
       "      <td>['socialsec']</td>\n",
       "      <td>NaN</td>\n",
       "    </tr>\n",
       "    <tr>\n",
       "      <th>28681</th>\n",
       "      <td>ad_nauseum74</td>\n",
       "      <td>1187645968499597313</td>\n",
       "      <td>rt hackers are pretty much the same as sharks ...</td>\n",
       "      <td>['hacktivity2019']</td>\n",
       "      <td>NaN</td>\n",
       "    </tr>\n",
       "    <tr>\n",
       "      <th>28693</th>\n",
       "      <td>ad_nauseum74</td>\n",
       "      <td>1186674249412599808</td>\n",
       "      <td>rt biometric authentication is not solving the...</td>\n",
       "      <td>['dataprivacy', 'datasecurity']</td>\n",
       "      <td>NaN</td>\n",
       "    </tr>\n",
       "  </tbody>\n",
       "</table>\n",
       "<p>3364 rows × 5 columns</p>\n",
       "</div>"
      ],
      "text/plain": [
       "          screen_name             tweet_id  \\\n",
       "1      jennystrasburg  1298655692623142914   \n",
       "21     jennystrasburg  1295296427204186113   \n",
       "75     jennystrasburg  1288463678367510533   \n",
       "77     jennystrasburg  1288228886774460417   \n",
       "93     jennystrasburg  1286391864195796994   \n",
       "...               ...                  ...   \n",
       "28661    ad_nauseum74  1189939842064539648   \n",
       "28676    ad_nauseum74  1187760868165144576   \n",
       "28679    ad_nauseum74  1187727565462618116   \n",
       "28681    ad_nauseum74  1187645968499597313   \n",
       "28693    ad_nauseum74  1186674249412599808   \n",
       "\n",
       "                                                    text  \\\n",
       "1                   it s nationaljealousidonthaveadogday   \n",
       "21     rt very excited to see today that blood and oi...   \n",
       "75     rt approximately one fifth of covid patients a...   \n",
       "77     rt today on thejournal the situation in rural ...   \n",
       "93     new mexico public defenders prosecutors and ad...   \n",
       "...                                                  ...   \n",
       "28661  rt bugbountyradar this month s top bug bounty ...   \n",
       "28676  rt a ddos gang is impersonating known russian ...   \n",
       "28679  rt in this week s socialsec roundup breaches a...   \n",
       "28681  rt hackers are pretty much the same as sharks ...   \n",
       "28693  rt biometric authentication is not solving the...   \n",
       "\n",
       "                                  hashtags  labels  \n",
       "1      ['nationaljealousidonthaveadogday']     NaN  \n",
       "21                         ['bloodandoil']     NaN  \n",
       "75                               ['covid']    68.0  \n",
       "77                          ['thejournal']     NaN  \n",
       "93                         ['albuquerque']     NaN  \n",
       "...                                    ...     ...  \n",
       "28661                   ['bugbountyradar']    93.0  \n",
       "28676                ['ddos', 'fancybear']     NaN  \n",
       "28679                        ['socialsec']     NaN  \n",
       "28681                   ['hacktivity2019']     NaN  \n",
       "28693      ['dataprivacy', 'datasecurity']     NaN  \n",
       "\n",
       "[3364 rows x 5 columns]"
      ]
     },
     "execution_count": 14,
     "metadata": {},
     "output_type": "execute_result"
    }
   ],
   "source": [
    "data['labels'] = ha.label_data_by_topic(hashtag_dimred, 0.2)\n",
    "labelled_data = data\n",
    "labelled_data"
   ]
  },
  {
   "cell_type": "markdown",
   "metadata": {},
   "source": [
    "## Attempt to visualise the topic space"
   ]
  },
  {
   "cell_type": "code",
   "execution_count": 17,
   "metadata": {},
   "outputs": [],
   "source": [
    "import plotly.express as px"
   ]
  },
  {
   "cell_type": "code",
   "execution_count": 13,
   "metadata": {},
   "outputs": [],
   "source": [
    "from sklearn import manifold as skm"
   ]
  },
  {
   "cell_type": "code",
   "execution_count": 63,
   "metadata": {},
   "outputs": [],
   "source": [
    "tsne = skm.TSNE(n_components=2, init='random',\n",
    "                         random_state=0, n_jobs=6, perplexity=50, n_iter=5000, learning_rate=400)\n",
    "tsneout = tsne.fit_transform(hashtag_dimred)"
   ]
  },
  {
   "cell_type": "code",
   "execution_count": 64,
   "metadata": {},
   "outputs": [
    {
     "data": {
      "text/html": [
       "<div>\n",
       "<style scoped>\n",
       "    .dataframe tbody tr th:only-of-type {\n",
       "        vertical-align: middle;\n",
       "    }\n",
       "\n",
       "    .dataframe tbody tr th {\n",
       "        vertical-align: top;\n",
       "    }\n",
       "\n",
       "    .dataframe thead th {\n",
       "        text-align: right;\n",
       "    }\n",
       "</style>\n",
       "<table border=\"1\" class=\"dataframe\">\n",
       "  <thead>\n",
       "    <tr style=\"text-align: right;\">\n",
       "      <th></th>\n",
       "      <th>screen_name</th>\n",
       "      <th>tweet_id</th>\n",
       "      <th>text</th>\n",
       "      <th>hashtags</th>\n",
       "      <th>labels</th>\n",
       "      <th>tsne_x</th>\n",
       "      <th>tsne_y</th>\n",
       "    </tr>\n",
       "  </thead>\n",
       "  <tbody>\n",
       "    <tr>\n",
       "      <th>1</th>\n",
       "      <td>jennystrasburg</td>\n",
       "      <td>1298655692623142914</td>\n",
       "      <td>it s nationaljealousidonthaveadogday</td>\n",
       "      <td>['nationaljealousidonthaveadogday']</td>\n",
       "      <td>NaN</td>\n",
       "      <td>-15.599464</td>\n",
       "      <td>15.574455</td>\n",
       "    </tr>\n",
       "    <tr>\n",
       "      <th>21</th>\n",
       "      <td>jennystrasburg</td>\n",
       "      <td>1295296427204186113</td>\n",
       "      <td>rt very excited to see today that blood and oi...</td>\n",
       "      <td>['bloodandoil']</td>\n",
       "      <td>NaN</td>\n",
       "      <td>-7.793085</td>\n",
       "      <td>7.760643</td>\n",
       "    </tr>\n",
       "    <tr>\n",
       "      <th>75</th>\n",
       "      <td>jennystrasburg</td>\n",
       "      <td>1288463678367510533</td>\n",
       "      <td>rt approximately one fifth of covid patients a...</td>\n",
       "      <td>['covid']</td>\n",
       "      <td>68.0</td>\n",
       "      <td>-17.636230</td>\n",
       "      <td>-63.527199</td>\n",
       "    </tr>\n",
       "    <tr>\n",
       "      <th>77</th>\n",
       "      <td>jennystrasburg</td>\n",
       "      <td>1288228886774460417</td>\n",
       "      <td>rt today on thejournal the situation in rural ...</td>\n",
       "      <td>['thejournal']</td>\n",
       "      <td>NaN</td>\n",
       "      <td>2.622098</td>\n",
       "      <td>-55.026699</td>\n",
       "    </tr>\n",
       "    <tr>\n",
       "      <th>93</th>\n",
       "      <td>jennystrasburg</td>\n",
       "      <td>1286391864195796994</td>\n",
       "      <td>new mexico public defenders prosecutors and ad...</td>\n",
       "      <td>['albuquerque']</td>\n",
       "      <td>NaN</td>\n",
       "      <td>-8.479904</td>\n",
       "      <td>17.301741</td>\n",
       "    </tr>\n",
       "    <tr>\n",
       "      <th>...</th>\n",
       "      <td>...</td>\n",
       "      <td>...</td>\n",
       "      <td>...</td>\n",
       "      <td>...</td>\n",
       "      <td>...</td>\n",
       "      <td>...</td>\n",
       "      <td>...</td>\n",
       "    </tr>\n",
       "    <tr>\n",
       "      <th>28661</th>\n",
       "      <td>ad_nauseum74</td>\n",
       "      <td>1189939842064539648</td>\n",
       "      <td>rt bugbountyradar this month s top bug bounty ...</td>\n",
       "      <td>['bugbountyradar']</td>\n",
       "      <td>93.0</td>\n",
       "      <td>42.344456</td>\n",
       "      <td>-45.504154</td>\n",
       "    </tr>\n",
       "    <tr>\n",
       "      <th>28676</th>\n",
       "      <td>ad_nauseum74</td>\n",
       "      <td>1187760868165144576</td>\n",
       "      <td>rt a ddos gang is impersonating known russian ...</td>\n",
       "      <td>['ddos', 'fancybear']</td>\n",
       "      <td>NaN</td>\n",
       "      <td>-5.950953</td>\n",
       "      <td>-34.944035</td>\n",
       "    </tr>\n",
       "    <tr>\n",
       "      <th>28679</th>\n",
       "      <td>ad_nauseum74</td>\n",
       "      <td>1187727565462618116</td>\n",
       "      <td>rt in this week s socialsec roundup breaches a...</td>\n",
       "      <td>['socialsec']</td>\n",
       "      <td>NaN</td>\n",
       "      <td>2.485680</td>\n",
       "      <td>-49.293613</td>\n",
       "    </tr>\n",
       "    <tr>\n",
       "      <th>28681</th>\n",
       "      <td>ad_nauseum74</td>\n",
       "      <td>1187645968499597313</td>\n",
       "      <td>rt hackers are pretty much the same as sharks ...</td>\n",
       "      <td>['hacktivity2019']</td>\n",
       "      <td>NaN</td>\n",
       "      <td>-52.456223</td>\n",
       "      <td>29.352140</td>\n",
       "    </tr>\n",
       "    <tr>\n",
       "      <th>28693</th>\n",
       "      <td>ad_nauseum74</td>\n",
       "      <td>1186674249412599808</td>\n",
       "      <td>rt biometric authentication is not solving the...</td>\n",
       "      <td>['dataprivacy', 'datasecurity']</td>\n",
       "      <td>NaN</td>\n",
       "      <td>-12.775780</td>\n",
       "      <td>-34.977615</td>\n",
       "    </tr>\n",
       "  </tbody>\n",
       "</table>\n",
       "<p>3364 rows × 7 columns</p>\n",
       "</div>"
      ],
      "text/plain": [
       "          screen_name             tweet_id  \\\n",
       "1      jennystrasburg  1298655692623142914   \n",
       "21     jennystrasburg  1295296427204186113   \n",
       "75     jennystrasburg  1288463678367510533   \n",
       "77     jennystrasburg  1288228886774460417   \n",
       "93     jennystrasburg  1286391864195796994   \n",
       "...               ...                  ...   \n",
       "28661    ad_nauseum74  1189939842064539648   \n",
       "28676    ad_nauseum74  1187760868165144576   \n",
       "28679    ad_nauseum74  1187727565462618116   \n",
       "28681    ad_nauseum74  1187645968499597313   \n",
       "28693    ad_nauseum74  1186674249412599808   \n",
       "\n",
       "                                                    text  \\\n",
       "1                   it s nationaljealousidonthaveadogday   \n",
       "21     rt very excited to see today that blood and oi...   \n",
       "75     rt approximately one fifth of covid patients a...   \n",
       "77     rt today on thejournal the situation in rural ...   \n",
       "93     new mexico public defenders prosecutors and ad...   \n",
       "...                                                  ...   \n",
       "28661  rt bugbountyradar this month s top bug bounty ...   \n",
       "28676  rt a ddos gang is impersonating known russian ...   \n",
       "28679  rt in this week s socialsec roundup breaches a...   \n",
       "28681  rt hackers are pretty much the same as sharks ...   \n",
       "28693  rt biometric authentication is not solving the...   \n",
       "\n",
       "                                  hashtags  labels     tsne_x     tsne_y  \n",
       "1      ['nationaljealousidonthaveadogday']     NaN -15.599464  15.574455  \n",
       "21                         ['bloodandoil']     NaN  -7.793085   7.760643  \n",
       "75                               ['covid']    68.0 -17.636230 -63.527199  \n",
       "77                          ['thejournal']     NaN   2.622098 -55.026699  \n",
       "93                         ['albuquerque']     NaN  -8.479904  17.301741  \n",
       "...                                    ...     ...        ...        ...  \n",
       "28661                   ['bugbountyradar']    93.0  42.344456 -45.504154  \n",
       "28676                ['ddos', 'fancybear']     NaN  -5.950953 -34.944035  \n",
       "28679                        ['socialsec']     NaN   2.485680 -49.293613  \n",
       "28681                   ['hacktivity2019']     NaN -52.456223  29.352140  \n",
       "28693      ['dataprivacy', 'datasecurity']     NaN -12.775780 -34.977615  \n",
       "\n",
       "[3364 rows x 7 columns]"
      ]
     },
     "execution_count": 64,
     "metadata": {},
     "output_type": "execute_result"
    }
   ],
   "source": [
    "labelled_data['tsne_x'] = tsneout[:,0]\n",
    "labelled_data['tsne_y'] = tsneout[:,1]\n",
    "labelled_data"
   ]
  },
  {
   "cell_type": "code",
   "execution_count": 92,
   "metadata": {},
   "outputs": [
    {
     "name": "stderr",
     "output_type": "stream",
     "text": [
      "C:\\Users\\rwhwe\\.conda\\envs\\S2DS\\lib\\site-packages\\ipykernel_launcher.py:2: SettingWithCopyWarning:\n",
      "\n",
      "\n",
      "A value is trying to be set on a copy of a slice from a DataFrame.\n",
      "Try using .loc[row_indexer,col_indexer] = value instead\n",
      "\n",
      "See the caveats in the documentation: https://pandas.pydata.org/pandas-docs/stable/user_guide/indexing.html#returning-a-view-versus-a-copy\n",
      "\n"
     ]
    },
    {
     "data": {
      "text/html": [
       "<div>\n",
       "<style scoped>\n",
       "    .dataframe tbody tr th:only-of-type {\n",
       "        vertical-align: middle;\n",
       "    }\n",
       "\n",
       "    .dataframe tbody tr th {\n",
       "        vertical-align: top;\n",
       "    }\n",
       "\n",
       "    .dataframe thead th {\n",
       "        text-align: right;\n",
       "    }\n",
       "</style>\n",
       "<table border=\"1\" class=\"dataframe\">\n",
       "  <thead>\n",
       "    <tr style=\"text-align: right;\">\n",
       "      <th></th>\n",
       "      <th>screen_name</th>\n",
       "      <th>tweet_id</th>\n",
       "      <th>text</th>\n",
       "      <th>hashtags</th>\n",
       "      <th>labels</th>\n",
       "      <th>tsne_x</th>\n",
       "      <th>tsne_y</th>\n",
       "    </tr>\n",
       "  </thead>\n",
       "  <tbody>\n",
       "    <tr>\n",
       "      <th>75</th>\n",
       "      <td>jennystrasburg</td>\n",
       "      <td>1288463678367510533</td>\n",
       "      <td>rt approximately one fifth of covid patients a...</td>\n",
       "      <td>['covid']</td>\n",
       "      <td>68</td>\n",
       "      <td>-17.636230</td>\n",
       "      <td>-63.527199</td>\n",
       "    </tr>\n",
       "    <tr>\n",
       "      <th>117</th>\n",
       "      <td>jennystrasburg</td>\n",
       "      <td>1283782639015559175</td>\n",
       "      <td>rt lost decade how bafin for years played down...</td>\n",
       "      <td>['bafin', 'wirecard']</td>\n",
       "      <td>71</td>\n",
       "      <td>52.866638</td>\n",
       "      <td>-20.819571</td>\n",
       "    </tr>\n",
       "    <tr>\n",
       "      <th>176</th>\n",
       "      <td>jennystrasburg</td>\n",
       "      <td>1278645139011973120</td>\n",
       "      <td>rt germany said it would disband part of its e...</td>\n",
       "      <td>['germany']</td>\n",
       "      <td>86</td>\n",
       "      <td>-12.650033</td>\n",
       "      <td>-55.963203</td>\n",
       "    </tr>\n",
       "    <tr>\n",
       "      <th>187</th>\n",
       "      <td>jennystrasburg</td>\n",
       "      <td>1278217674724605952</td>\n",
       "      <td>rt breaking a man was arrested for holding a h...</td>\n",
       "      <td>['breaking', 'hkindependence', 'causewaybay']</td>\n",
       "      <td>26</td>\n",
       "      <td>-46.970436</td>\n",
       "      <td>-27.841280</td>\n",
       "    </tr>\n",
       "    <tr>\n",
       "      <th>275</th>\n",
       "      <td>jennystrasburg</td>\n",
       "      <td>1288463678367510533</td>\n",
       "      <td>rt approximately one fifth of covid patients a...</td>\n",
       "      <td>['covid']</td>\n",
       "      <td>68</td>\n",
       "      <td>-17.636230</td>\n",
       "      <td>-63.527199</td>\n",
       "    </tr>\n",
       "    <tr>\n",
       "      <th>...</th>\n",
       "      <td>...</td>\n",
       "      <td>...</td>\n",
       "      <td>...</td>\n",
       "      <td>...</td>\n",
       "      <td>...</td>\n",
       "      <td>...</td>\n",
       "      <td>...</td>\n",
       "    </tr>\n",
       "    <tr>\n",
       "      <th>28634</th>\n",
       "      <td>ad_nauseum74</td>\n",
       "      <td>1202164001918070785</td>\n",
       "      <td>rt facebook s amanda rousseau opens bheu by re...</td>\n",
       "      <td>['bheu']</td>\n",
       "      <td>32</td>\n",
       "      <td>-62.547924</td>\n",
       "      <td>-19.411665</td>\n",
       "    </tr>\n",
       "    <tr>\n",
       "      <th>28635</th>\n",
       "      <td>ad_nauseum74</td>\n",
       "      <td>1202163931134996480</td>\n",
       "      <td>rt are you ready for bheu earlier this year we...</td>\n",
       "      <td>['bheu']</td>\n",
       "      <td>32</td>\n",
       "      <td>-64.600159</td>\n",
       "      <td>-18.392719</td>\n",
       "    </tr>\n",
       "    <tr>\n",
       "      <th>28637</th>\n",
       "      <td>ad_nauseum74</td>\n",
       "      <td>1202150273516478465</td>\n",
       "      <td>my second ever bheu starting shortly and first...</td>\n",
       "      <td>['bheu']</td>\n",
       "      <td>32</td>\n",
       "      <td>-62.547924</td>\n",
       "      <td>-19.411665</td>\n",
       "    </tr>\n",
       "    <tr>\n",
       "      <th>28659</th>\n",
       "      <td>ad_nauseum74</td>\n",
       "      <td>1191653702928601088</td>\n",
       "      <td>rt chinese hackers claim to be able to beat an...</td>\n",
       "      <td>['infosec']</td>\n",
       "      <td>82</td>\n",
       "      <td>43.562637</td>\n",
       "      <td>-65.937981</td>\n",
       "    </tr>\n",
       "    <tr>\n",
       "      <th>28661</th>\n",
       "      <td>ad_nauseum74</td>\n",
       "      <td>1189939842064539648</td>\n",
       "      <td>rt bugbountyradar this month s top bug bounty ...</td>\n",
       "      <td>['bugbountyradar']</td>\n",
       "      <td>93</td>\n",
       "      <td>42.344456</td>\n",
       "      <td>-45.504154</td>\n",
       "    </tr>\n",
       "  </tbody>\n",
       "</table>\n",
       "<p>1638 rows × 7 columns</p>\n",
       "</div>"
      ],
      "text/plain": [
       "          screen_name             tweet_id  \\\n",
       "75     jennystrasburg  1288463678367510533   \n",
       "117    jennystrasburg  1283782639015559175   \n",
       "176    jennystrasburg  1278645139011973120   \n",
       "187    jennystrasburg  1278217674724605952   \n",
       "275    jennystrasburg  1288463678367510533   \n",
       "...               ...                  ...   \n",
       "28634    ad_nauseum74  1202164001918070785   \n",
       "28635    ad_nauseum74  1202163931134996480   \n",
       "28637    ad_nauseum74  1202150273516478465   \n",
       "28659    ad_nauseum74  1191653702928601088   \n",
       "28661    ad_nauseum74  1189939842064539648   \n",
       "\n",
       "                                                    text  \\\n",
       "75     rt approximately one fifth of covid patients a...   \n",
       "117    rt lost decade how bafin for years played down...   \n",
       "176    rt germany said it would disband part of its e...   \n",
       "187    rt breaking a man was arrested for holding a h...   \n",
       "275    rt approximately one fifth of covid patients a...   \n",
       "...                                                  ...   \n",
       "28634  rt facebook s amanda rousseau opens bheu by re...   \n",
       "28635  rt are you ready for bheu earlier this year we...   \n",
       "28637  my second ever bheu starting shortly and first...   \n",
       "28659  rt chinese hackers claim to be able to beat an...   \n",
       "28661  rt bugbountyradar this month s top bug bounty ...   \n",
       "\n",
       "                                            hashtags labels     tsne_x  \\\n",
       "75                                         ['covid']     68 -17.636230   \n",
       "117                            ['bafin', 'wirecard']     71  52.866638   \n",
       "176                                      ['germany']     86 -12.650033   \n",
       "187    ['breaking', 'hkindependence', 'causewaybay']     26 -46.970436   \n",
       "275                                        ['covid']     68 -17.636230   \n",
       "...                                              ...    ...        ...   \n",
       "28634                                       ['bheu']     32 -62.547924   \n",
       "28635                                       ['bheu']     32 -64.600159   \n",
       "28637                                       ['bheu']     32 -62.547924   \n",
       "28659                                    ['infosec']     82  43.562637   \n",
       "28661                             ['bugbountyradar']     93  42.344456   \n",
       "\n",
       "          tsne_y  \n",
       "75    -63.527199  \n",
       "117   -20.819571  \n",
       "176   -55.963203  \n",
       "187   -27.841280  \n",
       "275   -63.527199  \n",
       "...          ...  \n",
       "28634 -19.411665  \n",
       "28635 -18.392719  \n",
       "28637 -19.411665  \n",
       "28659 -65.937981  \n",
       "28661 -45.504154  \n",
       "\n",
       "[1638 rows x 7 columns]"
      ]
     },
     "execution_count": 92,
     "metadata": {},
     "output_type": "execute_result"
    }
   ],
   "source": [
    "viz = labelled_data.dropna()\n",
    "viz['labels'] = viz['labels'].astype(int).astype(str)\n",
    "viz"
   ]
  },
  {
   "cell_type": "code",
   "execution_count": 93,
   "metadata": {},
   "outputs": [
    {
     "data": {
      "application/vnd.plotly.v1+json": {
       "config": {
        "plotlyServerURL": "https://plot.ly"
       },
       "data": [
        {
         "customdata": [
          [
           "['covid']"
          ],
          [
           "['covid']"
          ],
          [
           "['covid', 'germany']"
          ],
          [
           "['covid']"
          ],
          [
           "['banks', 'branches', 'covid']"
          ],
          [
           "['banks', 'branches', 'covid']"
          ],
          [
           "['banks']"
          ],
          [
           "['banks', 'fintechs']"
          ],
          [
           "['banks', 'markcarney']"
          ]
         ],
         "hovertemplate": "<b>%{hovertext}</b><br><br>labels=68<br>tsne_x=%{x}<br>tsne_y=%{y}<br>hashtags=%{customdata[0]}<extra></extra>",
         "hovertext": [
          "jennystrasburg",
          "jennystrasburg",
          "jennystrasburg",
          "dannyjpalmer",
          "sophiafurber",
          "sophiafurber",
          "sophiafurber",
          "sophiafurber",
          "sophiafurber"
         ],
         "legendgroup": "68",
         "marker": {
          "color": "rgb(127, 60, 141)",
          "symbol": "circle"
         },
         "mode": "markers",
         "name": "68",
         "showlegend": true,
         "type": "scattergl",
         "x": [
          -17.63623046875,
          -17.63623046875,
          -13.310401916503906,
          -17.093669891357422,
          -14.96163558959961,
          -14.96163558959961,
          -17.677583694458008,
          -16.838380813598633,
          -17.231130599975586
         ],
         "xaxis": "x",
         "y": [
          -63.527198791503906,
          -63.527198791503906,
          -57.565879821777344,
          -63.45132827758789,
          -64.89330291748047,
          -64.89330291748047,
          -64.46549224853516,
          -64.5048828125,
          -64.74776458740234
         ],
         "yaxis": "y"
        },
        {
         "customdata": [
          [
           "['bafin', 'wirecard']"
          ],
          [
           "['bafin', 'wirecard']"
          ],
          [
           "['wirecard']"
          ],
          [
           "['wirecard']"
          ],
          [
           "['wirecard']"
          ],
          [
           "['wirecard']"
          ],
          [
           "['wirecard']"
          ],
          [
           "['wirecard']"
          ],
          [
           "['wirecard']"
          ]
         ],
         "hovertemplate": "<b>%{hovertext}</b><br><br>labels=71<br>tsne_x=%{x}<br>tsne_y=%{y}<br>hashtags=%{customdata[0]}<extra></extra>",
         "hovertext": [
          "jennystrasburg",
          "jennystrasburg",
          "sophiafurber",
          "sophiafurber",
          "sophiafurber",
          "sophiafurber",
          "sophiafurber",
          "sophiafurber",
          "sophiafurber"
         ],
         "legendgroup": "71",
         "marker": {
          "color": "rgb(17, 165, 121)",
          "symbol": "circle"
         },
         "mode": "markers",
         "name": "71",
         "showlegend": true,
         "type": "scattergl",
         "x": [
          52.86663818359375,
          52.86663818359375,
          51.91753387451172,
          51.91753387451172,
          52.50697326660156,
          51.89950942993164,
          53.32696533203125,
          52.82184982299805,
          53.32696533203125
         ],
         "xaxis": "x",
         "y": [
          -20.819570541381836,
          -20.819570541381836,
          -20.139720916748047,
          -20.139720916748047,
          -19.52845001220703,
          -19.144922256469727,
          -19.74637794494629,
          -18.885957717895508,
          -19.74637794494629
         ],
         "yaxis": "y"
        },
        {
         "customdata": [
          [
           "['germany']"
          ],
          [
           "['germany']"
          ],
          [
           "['germany']"
          ],
          [
           "['germany', 'merkel']"
          ],
          [
           "['germany']"
          ],
          [
           "['germany', 'trump']"
          ],
          [
           "['trump']"
          ],
          [
           "['trump']"
          ],
          [
           "['trump']"
          ],
          [
           "['migrantcrisis', 'germany', 'cdu']"
          ],
          [
           "['trump']"
          ],
          [
           "['trump']"
          ]
         ],
         "hovertemplate": "<b>%{hovertext}</b><br><br>labels=86<br>tsne_x=%{x}<br>tsne_y=%{y}<br>hashtags=%{customdata[0]}<extra></extra>",
         "hovertext": [
          "jennystrasburg",
          "jennystrasburg",
          "jennystrasburg",
          "jennystrasburg",
          "jennystrasburg",
          "jennystrasburg",
          "dannsimmons",
          "dannsimmons",
          "joetidy",
          "sophiafurber",
          "mshannahmurphy",
          "mshannahmurphy"
         ],
         "legendgroup": "86",
         "marker": {
          "color": "rgb(57, 105, 172)",
          "symbol": "circle"
         },
         "mode": "markers",
         "name": "86",
         "showlegend": true,
         "type": "scattergl",
         "x": [
          -12.650032997131348,
          -12.650032997131348,
          -12.650032997131348,
          -12.159395217895508,
          -12.650032997131348,
          -11.383391380310059,
          -13.627238273620605,
          -13.627238273620605,
          -13.627238273620605,
          -11.524428367614746,
          -12.669766426086426,
          -12.952709197998047
         ],
         "xaxis": "x",
         "y": [
          -55.96320343017578,
          -55.96320343017578,
          -55.96320343017578,
          -56.93589401245117,
          -55.96320343017578,
          -55.97933578491211,
          -52.298282623291016,
          -52.298282623291016,
          -52.298282623291016,
          -56.699920654296875,
          -52.18940734863281,
          -51.51567077636719
         ],
         "yaxis": "y"
        },
        {
         "customdata": [
          [
           "['breaking', 'hkindependence', 'causewaybay']"
          ],
          [
           "['breaking', 'hkindependence', 'causewaybay']"
          ],
          [
           "['breaking']"
          ],
          [
           "['breaking', 'fbi', 'cyber']"
          ],
          [
           "['breaking']"
          ],
          [
           "['breaking']"
          ],
          [
           "['breaking']"
          ],
          [
           "['breaking']"
          ],
          [
           "['breaking']"
          ],
          [
           "['breaking']"
          ],
          [
           "['breaking']"
          ],
          [
           "['breaking', 'jakarta']"
          ],
          [
           "['breaking']"
          ],
          [
           "['breaking']"
          ],
          [
           "['breaking', 'athens']"
          ]
         ],
         "hovertemplate": "<b>%{hovertext}</b><br><br>labels=26<br>tsne_x=%{x}<br>tsne_y=%{y}<br>hashtags=%{customdata[0]}<extra></extra>",
         "hovertext": [
          "jennystrasburg",
          "jennystrasburg",
          "gordoncorera",
          "gordoncorera",
          "mshannahmurphy",
          "mshannahmurphy",
          "mshannahmurphy",
          "mshannahmurphy",
          "mshannahmurphy",
          "mshannahmurphy",
          "mshannahmurphy",
          "mshannahmurphy",
          "mshannahmurphy",
          "mshannahmurphy",
          "mshannahmurphy"
         ],
         "legendgroup": "26",
         "marker": {
          "color": "rgb(242, 183, 1)",
          "symbol": "circle"
         },
         "mode": "markers",
         "name": "26",
         "showlegend": true,
         "type": "scattergl",
         "x": [
          -46.970436096191406,
          -46.970436096191406,
          -48.291629791259766,
          -46.7830810546875,
          -49.54307556152344,
          -48.201725006103516,
          -49.497154235839844,
          -49.54307556152344,
          -48.201725006103516,
          -48.201725006103516,
          -48.201725006103516,
          -48.43597412109375,
          -48.201725006103516,
          -48.201725006103516,
          -48.43597412109375
         ],
         "xaxis": "x",
         "y": [
          -27.841279983520508,
          -27.841279983520508,
          -25.306617736816406,
          -26.378400802612305,
          -27.323896408081055,
          -26.645530700683594,
          -26.00309181213379,
          -27.323896408081055,
          -26.645530700683594,
          -26.645530700683594,
          -26.645530700683594,
          -28.16946792602539,
          -26.645530700683594,
          -26.645530700683594,
          -28.16946792602539
         ],
         "yaxis": "y"
        },
        {
         "customdata": [
          [
           "['covid19']"
          ],
          [
           "['covid19', 'sweden']"
          ],
          [
           "['cybercrime', 'covid19', 'coronavirus', 'organizedcrime', 'podcast']"
          ],
          [
           "['covid19']"
          ],
          [
           "['covid19']"
          ],
          [
           "['covid19']"
          ],
          [
           "['covid19']"
          ],
          [
           "['covid19']"
          ],
          [
           "['stayathomechallenge', 'covid19']"
          ],
          [
           "['covid19']"
          ],
          [
           "['covid19']"
          ]
         ],
         "hovertemplate": "<b>%{hovertext}</b><br><br>labels=31<br>tsne_x=%{x}<br>tsne_y=%{y}<br>hashtags=%{customdata[0]}<extra></extra>",
         "hovertext": [
          "jennystrasburg",
          "jennystrasburg",
          "joetidy",
          "joetidy",
          "joetidy",
          "dannyjpalmer",
          "dannyjpalmer",
          "dannyjpalmer",
          "sophiafurber",
          "mshannahmurphy",
          "mshannahmurphy"
         ],
         "legendgroup": "31",
         "marker": {
          "color": "rgb(231, 63, 116)",
          "symbol": "circle"
         },
         "mode": "markers",
         "name": "31",
         "showlegend": true,
         "type": "scattergl",
         "x": [
          -33.296600341796875,
          -33.49636459350586,
          32.150333404541016,
          -34.82901382446289,
          -34.0961799621582,
          -34.55950927734375,
          -34.82901382446289,
          -34.82901382446289,
          -33.72875213623047,
          -34.82901382446289,
          -34.0961799621582
         ],
         "xaxis": "x",
         "y": [
          -51.93230438232422,
          -52.55730438232422,
          -115.89460754394531,
          -52.285640716552734,
          -51.33078384399414,
          -53.39215850830078,
          -52.285640716552734,
          -52.285640716552734,
          -53.16065979003906,
          -52.285640716552734,
          -51.33078384399414
         ],
         "yaxis": "y"
        },
        {
         "customdata": [
          [
           "['opec', 'oott', 'russia', 'saudi', 'us']"
          ],
          [
           "['saudi', 'sabic']"
          ],
          [
           "['russia']"
          ],
          [
           "['us', 'economist', 'fed']"
          ],
          [
           "['mh17', 'russia']"
          ],
          [
           "['pope', 'francis', 'putin', 'russia', 'kirill']"
          ]
         ],
         "hovertemplate": "<b>%{hovertext}</b><br><br>labels=84<br>tsne_x=%{x}<br>tsne_y=%{y}<br>hashtags=%{customdata[0]}<extra></extra>",
         "hovertext": [
          "jennystrasburg",
          "jennystrasburg",
          "gordoncorera",
          "sophiafurber",
          "mshannahmurphy",
          "mshannahmurphy"
         ],
         "legendgroup": "84",
         "marker": {
          "color": "rgb(128, 186, 90)",
          "symbol": "circle"
         },
         "mode": "markers",
         "name": "84",
         "showlegend": true,
         "type": "scattergl",
         "x": [
          26.67784881591797,
          23.41718864440918,
          25.15022850036621,
          22.904186248779297,
          25.24664878845215,
          26.5422420501709
         ],
         "xaxis": "x",
         "y": [
          -43.664794921875,
          -41.9175910949707,
          -43.97927474975586,
          -42.764591217041016,
          -43.973880767822266,
          -43.6981201171875
         ],
         "yaxis": "y"
        },
        {
         "customdata": [
          [
           "['college', 'coronavirus']"
          ],
          [
           "['coronavirus']"
          ],
          [
           "['coronavirus', 'covid19']"
          ],
          [
           "['coronavirus']"
          ],
          [
           "['coronavirus']"
          ],
          [
           "['coronavirus']"
          ],
          [
           "['coronavirus']"
          ],
          [
           "['coronavirus']"
          ],
          [
           "['coronavirus']"
          ],
          [
           "['coronavirus']"
          ],
          [
           "['cloud', 'businessintelligence', 'data', 'coronavirus']"
          ],
          [
           "['hospitality', 'coronavirus']"
          ],
          [
           "['coronavirus', 'education', 'coding']"
          ],
          [
           "['nhs', 'cyberattacks', 'coronavirus', 'cybersecurity']"
          ],
          [
           "['healthcare', 'coronavirus', 'cloudcomputing']"
          ],
          [
           "['foodwaste', 'coronavirus', 'supplychain']"
          ],
          [
           "['coronavirus', 'delivery', 'insurtech']"
          ],
          [
           "['coronavirus']"
          ],
          [
           "['coronavirus', 'festival']"
          ],
          [
           "['business', 'coronavirus', 'corona', 'pandemic']"
          ],
          [
           "['amazon', 'coronavirus']"
          ],
          [
           "['cloud', 'businessintelligence', 'data', 'coronavirus']"
          ],
          [
           "['hospitality', 'coronavirus']"
          ],
          [
           "['coronavirus', 'education', 'coding']"
          ],
          [
           "['nhs', 'cyberattacks', 'coronavirus', 'cybersecurity']"
          ],
          [
           "['healthcare', 'coronavirus', 'cloudcomputing']"
          ],
          [
           "['foodwaste', 'coronavirus', 'supplychain']"
          ],
          [
           "['coronavirus', 'delivery', 'insurtech']"
          ],
          [
           "['coronavirus']"
          ],
          [
           "['coronavirus', 'festival']"
          ],
          [
           "['business', 'coronavirus', 'corona', 'pandemic']"
          ],
          [
           "['amazon', 'coronavirus']"
          ],
          [
           "['coronavirus']"
          ],
          [
           "['selfisolating', 'coronavirus']"
          ],
          [
           "['coronavirus']"
          ],
          [
           "['mwc2020', 'coronavirus']"
          ],
          [
           "['mwc20', 'coronavirus', 'mwc']"
          ],
          [
           "['coronavirus']"
          ],
          [
           "['coronavirus']"
          ],
          [
           "['coronavirus']"
          ],
          [
           "['coronavirus']"
          ],
          [
           "['coronavirus']"
          ],
          [
           "['coronavirus']"
          ],
          [
           "['coronavirus']"
          ],
          [
           "['coronavirus', 'covid19']"
          ],
          [
           "['coronavirus']"
          ],
          [
           "['coronavirus', 'covid19']"
          ],
          [
           "['coronavirus']"
          ],
          [
           "['coronavirus']"
          ],
          [
           "['coronavirus', 'covid19']"
          ],
          [
           "['coronavirus']"
          ],
          [
           "['coronavirus']"
          ],
          [
           "['coronavirus']"
          ],
          [
           "['coronavirus', 'tokenization']"
          ],
          [
           "['coronavirus']"
          ],
          [
           "['coronavirus']"
          ],
          [
           "['coronavirus']"
          ],
          [
           "['coronavirus']"
          ],
          [
           "['coronavirus']"
          ],
          [
           "['italy', 'coronavirus']"
          ],
          [
           "['coronavirus']"
          ]
         ],
         "hovertemplate": "<b>%{hovertext}</b><br><br>labels=2<br>tsne_x=%{x}<br>tsne_y=%{y}<br>hashtags=%{customdata[0]}<extra></extra>",
         "hovertext": [
          "jennystrasburg",
          "jennystrasburg",
          "jennystrasburg",
          "leokelion",
          "leokelion",
          "leokelion",
          "leokelion",
          "joetidy",
          "joetidy",
          "joetidy",
          "_lucyingham",
          "_lucyingham",
          "_lucyingham",
          "_lucyingham",
          "_lucyingham",
          "_lucyingham",
          "_lucyingham",
          "_lucyingham",
          "_lucyingham",
          "_lucyingham",
          "_lucyingham",
          "_lucyingham",
          "_lucyingham",
          "_lucyingham",
          "_lucyingham",
          "_lucyingham",
          "_lucyingham",
          "_lucyingham",
          "_lucyingham",
          "_lucyingham",
          "_lucyingham",
          "_lucyingham",
          "_lucyingham",
          "_lucyingham",
          "_lucyingham",
          "_lucyingham",
          "_lucyingham",
          "dannyjpalmer",
          "dannyjpalmer",
          "dannyjpalmer",
          "dannyjpalmer",
          "dannyjpalmer",
          "sophiafurber",
          "sophiafurber",
          "sophiafurber",
          "sophiafurber",
          "sophiafurber",
          "sophiafurber",
          "sophiafurber",
          "sophiafurber",
          "sophiafurber",
          "sophiafurber",
          "sophiafurber",
          "sophiafurber",
          "sophiafurber",
          "sophiafurber",
          "scfgallagher",
          "scfgallagher",
          "scfgallagher",
          "mshannahmurphy",
          "mshannahmurphy"
         ],
         "legendgroup": "2",
         "marker": {
          "color": "rgb(230, 131, 16)",
          "symbol": "circle"
         },
         "mode": "markers",
         "name": "2",
         "showlegend": true,
         "type": "scattergl",
         "x": [
          44.05094528198242,
          37.13511276245117,
          33.47997283935547,
          39.3934440612793,
          40.629905700683594,
          40.6043586730957,
          41.881561279296875,
          41.299278259277344,
          39.57198715209961,
          37.70083236694336,
          45.72933578491211,
          41.85822677612305,
          41.69590377807617,
          87.42383575439453,
          39.686893463134766,
          41.3814811706543,
          43.10213851928711,
          41.10211944580078,
          38.831634521484375,
          46.18565368652344,
          38.5010871887207,
          45.72933578491211,
          41.85822677612305,
          41.69590377807617,
          87.42383575439453,
          40.59370040893555,
          42.81936264038086,
          43.10213851928711,
          37.228538513183594,
          39.71091079711914,
          46.18565368652344,
          37.534568786621094,
          38.40398406982422,
          44.03373336791992,
          39.13528823852539,
          42.90052032470703,
          42.2493782043457,
          38.14622116088867,
          40.6043586730957,
          38.49397277832031,
          40.629905700683594,
          38.277889251708984,
          39.161617279052734,
          40.629905700683594,
          33.0767707824707,
          43.1823616027832,
          33.885311126708984,
          39.65985107421875,
          40.629905700683594,
          33.533111572265625,
          40.629905700683594,
          42.21449661254883,
          40.22671890258789,
          42.20254135131836,
          39.05518341064453,
          42.85131072998047,
          43.628807067871094,
          40.903892517089844,
          40.1202507019043,
          46.006980895996094,
          42.195133209228516
         ],
         "xaxis": "x",
         "y": [
          -112.73854064941406,
          -112.91598510742188,
          -115.50316619873047,
          -114.64877319335938,
          -113.67569732666016,
          -112.05033111572266,
          -114.49510955810547,
          -115.94039916992188,
          -112.3922119140625,
          -115.4308853149414,
          -117.5101318359375,
          -112.54862213134766,
          -111.1121597290039,
          -61.81800842285156,
          -110.06205749511719,
          -109.3009262084961,
          -111.67868041992188,
          -115.08792877197266,
          -111.69910430908203,
          -109.80818176269531,
          -110.59616088867188,
          -117.5101318359375,
          -112.54862213134766,
          -111.1121597290039,
          -61.81801223754883,
          -110.62409210205078,
          -109.85592651367188,
          -111.67868041992188,
          -114.25147247314453,
          -111.2646713256836,
          -109.80818176269531,
          -111.5581283569336,
          -114.55377960205078,
          -114.88511657714844,
          -113.8453369140625,
          -113.07681274414062,
          -118.6856918334961,
          -113.53709411621094,
          -112.05033111572266,
          -116.39729309082031,
          -113.67569732666016,
          -112.52659606933594,
          -113.04046630859375,
          -113.67569732666016,
          -114.90856170654297,
          -115.84378051757812,
          -115.12406921386719,
          -116.79200744628906,
          -113.67569732666016,
          -114.58419799804688,
          -113.67569732666016,
          -115.37090301513672,
          -115.94623565673828,
          -113.67950439453125,
          -115.5272216796875,
          -114.50306701660156,
          -113.80066680908203,
          -116.98316192626953,
          -115.12381744384766,
          -113.7376708984375,
          -116.61055755615234
         ],
         "yaxis": "y"
        },
        {
         "customdata": [
          [
           "['covidー19']"
          ],
          [
           "['gdpr']"
          ],
          [
           "['gdpr']"
          ],
          [
           "['gdpr']"
          ],
          [
           "['nhs', 'staffing', 'covidー19', 'artificialintelligence']"
          ],
          [
           "['nhs', 'staffing', 'covidー19', 'artificialintelligence']"
          ],
          [
           "['artificialintelligence']"
          ],
          [
           "['gdpr']"
          ],
          [
           "['startups', 'artificialintelligence']"
          ],
          [
           "['artificialintelligence']"
          ],
          [
           "['artificialintelligence']"
          ],
          [
           "['artificialintelligence', 'augmentedintelligence']"
          ],
          [
           "['privacy', 'gdpr']"
          ],
          [
           "['gdpr']"
          ],
          [
           "['gdpr']"
          ]
         ],
         "hovertemplate": "<b>%{hovertext}</b><br><br>labels=39<br>tsne_x=%{x}<br>tsne_y=%{y}<br>hashtags=%{customdata[0]}<extra></extra>",
         "hovertext": [
          "jennystrasburg",
          "dannsimmons",
          "dannsimmons",
          "leokelion",
          "_lucyingham",
          "_lucyingham",
          "_lucyingham",
          "_lucyingham",
          "_lucyingham",
          "_lucyingham",
          "_lucyingham",
          "_lucyingham",
          "sophiafurber",
          "jesscahaworth",
          "jesscahaworth"
         ],
         "legendgroup": "39",
         "marker": {
          "color": "rgb(0, 134, 149)",
          "symbol": "circle"
         },
         "mode": "markers",
         "name": "39",
         "showlegend": true,
         "type": "scattergl",
         "x": [
          14.014254570007324,
          58.357139587402344,
          59.27133560180664,
          58.200927734375,
          24.6238956451416,
          24.6238956451416,
          22.313058853149414,
          58.88549041748047,
          22.708232879638672,
          22.313058853149414,
          22.313058853149414,
          22.972204208374023,
          59.42978286743164,
          58.27723693847656,
          58.860076904296875
         ],
         "xaxis": "x",
         "y": [
          -12.517502784729004,
          -12.59206485748291,
          -11.874216079711914,
          -12.000983238220215,
          -4.482508659362793,
          -4.482508182525635,
          -5.1749043464660645,
          -11.396472930908203,
          -4.396385669708252,
          -5.1749043464660645,
          -5.1749043464660645,
          -5.2684712409973145,
          -13.107640266418457,
          -11.444270133972168,
          -12.258981704711914
         ],
         "yaxis": "y"
        },
        {
         "customdata": [
          [
           "['deutschebank']"
          ],
          [
           "['deutschebank']"
          ],
          [
           "['deutschebank', 'commerzbank']"
          ],
          [
           "['deutschebank']"
          ],
          [
           "['deutschebank']"
          ],
          [
           "['deutschebank']"
          ],
          [
           "['deutschebank', 'barclays', 'creditsuisse']"
          ],
          [
           "['deutschebank']"
          ],
          [
           "['deutschebank']"
          ],
          [
           "['deutschebank']"
          ],
          [
           "['deutschebank']"
          ],
          [
           "['deutschebank']"
          ],
          [
           "['deutschebank']"
          ],
          [
           "['deutschebank']"
          ],
          [
           "['deutschebank']"
          ],
          [
           "['deutschebank']"
          ],
          [
           "['deutschebank']"
          ],
          [
           "['deutschebank']"
          ],
          [
           "['deutschebank']"
          ],
          [
           "['deutschebank', 'commerzbank']"
          ],
          [
           "['commerzbank', 'deutschebank']"
          ],
          [
           "['deutschebank', 'commerzbank']"
          ],
          [
           "['deutschebank', 'commerzbank']"
          ],
          [
           "['deutschebank']"
          ],
          [
           "['deutschebank']"
          ],
          [
           "['deutschebank', 'commerzbank']"
          ],
          [
           "['deutschebank']"
          ],
          [
           "['deutschebank']"
          ],
          [
           "['deutschebank']"
          ],
          [
           "['deutschebank']"
          ],
          [
           "['deutschebank']"
          ],
          [
           "['deutschebank']"
          ],
          [
           "['deutschebank']"
          ],
          [
           "['deutschebank']"
          ],
          [
           "['deutschebank']"
          ],
          [
           "['deutschebank']"
          ],
          [
           "['deutschebank']"
          ],
          [
           "['barclays', 'deutschebank']"
          ]
         ],
         "hovertemplate": "<b>%{hovertext}</b><br><br>labels=8<br>tsne_x=%{x}<br>tsne_y=%{y}<br>hashtags=%{customdata[0]}<extra></extra>",
         "hovertext": [
          "jennystrasburg",
          "jennystrasburg",
          "jennystrasburg",
          "jennystrasburg",
          "jennystrasburg",
          "jennystrasburg",
          "jennystrasburg",
          "jennystrasburg",
          "jennystrasburg",
          "jennystrasburg",
          "jennystrasburg",
          "jennystrasburg",
          "jennystrasburg",
          "jennystrasburg",
          "jennystrasburg",
          "jennystrasburg",
          "jennystrasburg",
          "jennystrasburg",
          "jennystrasburg",
          "jennystrasburg",
          "jennystrasburg",
          "jennystrasburg",
          "jennystrasburg",
          "jennystrasburg",
          "jennystrasburg",
          "jennystrasburg",
          "jennystrasburg",
          "jennystrasburg",
          "jennystrasburg",
          "jennystrasburg",
          "jennystrasburg",
          "jennystrasburg",
          "jennystrasburg",
          "jennystrasburg",
          "jennystrasburg",
          "jennystrasburg",
          "jennystrasburg",
          "jennystrasburg"
         ],
         "legendgroup": "8",
         "marker": {
          "color": "rgb(207, 28, 144)",
          "symbol": "circle"
         },
         "mode": "markers",
         "name": "8",
         "showlegend": true,
         "type": "scattergl",
         "x": [
          3.2592902183532715,
          6.863063812255859,
          6.295947551727295,
          3.925743579864502,
          5.867645740509033,
          3.100346803665161,
          7.635915279388428,
          6.280143737792969,
          7.652085304260254,
          4.525308132171631,
          4.611104965209961,
          2.6900227069854736,
          2.897213935852051,
          4.525308132171631,
          5.867645740509033,
          4.785055160522461,
          1.8595081567764282,
          4.611104965209961,
          3.1227710247039795,
          6.295947551727295,
          4.026549339294434,
          4.026549339294434,
          6.295947551727295,
          5.853098392486572,
          7.921801567077637,
          5.286174297332764,
          1.990958333015442,
          6.986544132232666,
          5.596497058868408,
          2.1168370246887207,
          5.905253887176514,
          4.525308132171631,
          3.7418761253356934,
          3.2592902183532715,
          4.525308132171631,
          6.818625450134277,
          4.785055160522461,
          4.947263717651367
         ],
         "xaxis": "x",
         "y": [
          113.42672729492188,
          113.34317779541016,
          117.69042205810547,
          116.93340301513672,
          115.34320831298828,
          116.59994506835938,
          116.88909149169922,
          114.27406311035156,
          114.23968505859375,
          114.6739273071289,
          112.93604278564453,
          117.63568115234375,
          115.58197021484375,
          114.6739273071289,
          115.34320831298828,
          116.21659088134766,
          115.3262939453125,
          112.93604278564453,
          114.73043823242188,
          117.69042205810547,
          118.22545623779297,
          118.22545623779297,
          117.69042205810547,
          116.41505432128906,
          115.61905670166016,
          118.80363464355469,
          116.54570007324219,
          115.05895233154297,
          113.77059936523438,
          114.16409301757812,
          112.67982482910156,
          114.6739273071289,
          115.83649444580078,
          113.42672729492188,
          114.6739273071289,
          116.14371490478516,
          116.21659088134766,
          117.32050323486328
         ],
         "yaxis": "y"
        },
        {
         "customdata": [
          [
           "['kommentar', 'ankündigungen', 'deutsche', 'bank']"
          ],
          [
           "['openbanking']"
          ],
          [
           "['openbanking']"
          ],
          [
           "['openbanking']"
          ],
          [
           "['openbanking', 'coronavirus']"
          ],
          [
           "['bank', 'openbanking']"
          ],
          [
           "['openbanking']"
          ],
          [
           "['psd2', 'openbanking']"
          ]
         ],
         "hovertemplate": "<b>%{hovertext}</b><br><br>labels=73<br>tsne_x=%{x}<br>tsne_y=%{y}<br>hashtags=%{customdata[0]}<extra></extra>",
         "hovertext": [
          "jennystrasburg",
          "sophiafurber",
          "sophiafurber",
          "sophiafurber",
          "sophiafurber",
          "sophiafurber",
          "sophiafurber",
          "sophiafurber"
         ],
         "legendgroup": "73",
         "marker": {
          "color": "rgb(249, 123, 114)",
          "symbol": "circle"
         },
         "mode": "markers",
         "name": "73",
         "showlegend": true,
         "type": "scattergl",
         "x": [
          5.504120826721191,
          1.4627552032470703,
          2.0785679817199707,
          1.7482768297195435,
          39.42817687988281,
          2.3612442016601562,
          2.0785679817199707,
          3.186927556991577
         ],
         "xaxis": "x",
         "y": [
          -77.4713134765625,
          -73.34779357910156,
          -73.03311920166016,
          -73.8502426147461,
          -118.83518981933594,
          -73.85770416259766,
          -73.03311920166016,
          -73.51593017578125
         ],
         "yaxis": "y"
        },
        {
         "customdata": [
          [
           "['brexit']"
          ],
          [
           "['brexit']"
          ],
          [
           "['brexit']"
          ],
          [
           "['brexit']"
          ],
          [
           "['brexit']"
          ],
          [
           "['brexit']"
          ],
          [
           "['brexit']"
          ],
          [
           "['banks', 'restructuring', 'brexit']"
          ],
          [
           "['brexit', 'chcity']"
          ],
          [
           "['brexit', 'chcity']"
          ],
          [
           "['chcity', 'brexit']"
          ],
          [
           "['chcity', 'brexit', 'london']"
          ],
          [
           "['brexit']"
          ],
          [
           "['brexit']"
          ],
          [
           "['brexit', 'aldeskodining']"
          ],
          [
           "['brexit']"
          ],
          [
           "['brexit']"
          ],
          [
           "['brexit']"
          ],
          [
           "['brexit']"
          ],
          [
           "['brexit']"
          ],
          [
           "['brexit']"
          ],
          [
           "['brexit']"
          ],
          [
           "['brexit', 'radiohead']"
          ],
          [
           "['brexit']"
          ],
          [
           "['brexit', '2017ledebat']"
          ],
          [
           "['brexit']"
          ],
          [
           "['grim', 'brexit']"
          ],
          [
           "['brexit']"
          ],
          [
           "['brexit']"
          ],
          [
           "['brexit']"
          ],
          [
           "['brexit']"
          ],
          [
           "['brexit']"
          ],
          [
           "['eu', 'brexit']"
          ],
          [
           "['brexit']"
          ],
          [
           "['brexit']"
          ],
          [
           "['farage', 'brexit']"
          ],
          [
           "['brexit']"
          ],
          [
           "['grexit', 'brexit', 'manspreading', 'bants']"
          ]
         ],
         "hovertemplate": "<b>%{hovertext}</b><br><br>labels=6<br>tsne_x=%{x}<br>tsne_y=%{y}<br>hashtags=%{customdata[0]}<extra></extra>",
         "hovertext": [
          "jennystrasburg",
          "jennystrasburg",
          "dannsimmons",
          "sophiafurber",
          "sophiafurber",
          "sophiafurber",
          "sophiafurber",
          "sophiafurber",
          "sophiafurber",
          "sophiafurber",
          "sophiafurber",
          "sophiafurber",
          "sophiafurber",
          "sophiafurber",
          "sophiafurber",
          "sophiafurber",
          "sophiafurber",
          "sophiafurber",
          "sophiafurber",
          "sophiafurber",
          "sophiafurber",
          "sophiafurber",
          "mshannahmurphy",
          "mshannahmurphy",
          "mshannahmurphy",
          "mshannahmurphy",
          "mshannahmurphy",
          "mshannahmurphy",
          "mshannahmurphy",
          "mshannahmurphy",
          "mshannahmurphy",
          "mshannahmurphy",
          "mshannahmurphy",
          "mshannahmurphy",
          "mshannahmurphy",
          "mshannahmurphy",
          "mshannahmurphy",
          "mshannahmurphy"
         ],
         "legendgroup": "6",
         "marker": {
          "color": "rgb(165, 170, 153)",
          "symbol": "circle"
         },
         "mode": "markers",
         "name": "6",
         "showlegend": true,
         "type": "scattergl",
         "x": [
          -51.031341552734375,
          -49.311614990234375,
          -51.031341552734375,
          -50.86661911010742,
          -53.00715637207031,
          -51.031341552734375,
          -53.528839111328125,
          -52.862186431884766,
          -47.723758697509766,
          -47.723758697509766,
          -47.723758697509766,
          -46.465782165527344,
          -50.86661911010742,
          -51.031341552734375,
          -51.13490676879883,
          -52.32073211669922,
          -49.311614990234375,
          -49.311614990234375,
          -51.031341552734375,
          -53.00715637207031,
          -51.031341552734375,
          -51.031341552734375,
          -51.13490676879883,
          -48.6771125793457,
          -52.29261016845703,
          -51.031341552734375,
          -49.84368896484375,
          -50.86661911010742,
          -50.86661911010742,
          -51.031341552734375,
          -49.311614990234375,
          -49.32194519042969,
          -52.393226623535156,
          -48.26546096801758,
          -52.32073211669922,
          -49.84368896484375,
          -53.00715637207031,
          -53.41640853881836
         ],
         "xaxis": "x",
         "y": [
          -84.56670379638672,
          -85.74433135986328,
          -84.56670379638672,
          -86.72156524658203,
          -84.66573333740234,
          -84.56670379638672,
          -86.01326751708984,
          -88.2835464477539,
          -79.13362121582031,
          -79.13362121582031,
          -79.13362121582031,
          -78.65801239013672,
          -86.72156524658203,
          -84.56670379638672,
          -82.53052520751953,
          -86.17253112792969,
          -85.74433135986328,
          -85.74433135986328,
          -84.56670379638672,
          -84.66573333740234,
          -84.56670379638672,
          -84.56670379638672,
          -82.53052520751953,
          -83.4297103881836,
          -83.35343170166016,
          -84.56670379638672,
          -82.92400360107422,
          -86.72156524658203,
          -86.72156524658203,
          -84.56670379638672,
          -85.74433135986328,
          -84.17171478271484,
          -82.37773895263672,
          -84.6099624633789,
          -86.17253112792969,
          -82.92400360107422,
          -84.66573333740234,
          -83.27360534667969
         ],
         "yaxis": "y"
        },
        {
         "customdata": [
          [
           "['rbs']"
          ],
          [
           "['rbs']"
          ],
          [
           "['rbs', 'ppi']"
          ],
          [
           "['rbs']"
          ],
          [
           "['fca', 'rbs']"
          ],
          [
           "['rbs']"
          ],
          [
           "['rbs']"
          ],
          [
           "['rbs']"
          ],
          [
           "['rbs']"
          ]
         ],
         "hovertemplate": "<b>%{hovertext}</b><br><br>labels=74<br>tsne_x=%{x}<br>tsne_y=%{y}<br>hashtags=%{customdata[0]}<extra></extra>",
         "hovertext": [
          "jennystrasburg",
          "sophiafurber",
          "sophiafurber",
          "sophiafurber",
          "sophiafurber",
          "sophiafurber",
          "sophiafurber",
          "sophiafurber",
          "sophiafurber"
         ],
         "legendgroup": "74",
         "marker": {
          "color": "rgb(127, 60, 141)",
          "symbol": "circle"
         },
         "mode": "markers",
         "name": "74",
         "showlegend": true,
         "type": "scattergl",
         "x": [
          51.46065902709961,
          51.104732513427734,
          51.20027160644531,
          52.13572311401367,
          51.20027160644531,
          52.13572311401367,
          52.05781555175781,
          50.59554672241211,
          50.59554672241211
         ],
         "xaxis": "x",
         "y": [
          -76.41819763183594,
          -77.05750274658203,
          -75.24754333496094,
          -75.8198013305664,
          -75.24754333496094,
          -75.8198013305664,
          -76.84490203857422,
          -76.16188049316406,
          -76.16188049316406
         ],
         "yaxis": "y"
        },
        {
         "customdata": [
          [
           "['hsbc', 'huawei']"
          ],
          [
           "['5g', 'huawei']"
          ],
          [
           "['5g', 'huawei']"
          ],
          [
           "['huawei', 'bbcnewscast']"
          ],
          [
           "['huawei']"
          ],
          [
           "['huawei', 'bbcnewscast']"
          ],
          [
           "['huawei']"
          ],
          [
           "['huawei']"
          ],
          [
           "['5g', 'o2']"
          ],
          [
           "['huawei']"
          ],
          [
           "['5g']"
          ]
         ],
         "hovertemplate": "<b>%{hovertext}</b><br><br>labels=54<br>tsne_x=%{x}<br>tsne_y=%{y}<br>hashtags=%{customdata[0]}<extra></extra>",
         "hovertext": [
          "jennystrasburg",
          "dannsimmons",
          "dannsimmons",
          "gordoncorera",
          "gordoncorera",
          "gordoncorera",
          "gordoncorera",
          "gordoncorera",
          "joetidy",
          "joetidy",
          "_lucyingham"
         ],
         "legendgroup": "54",
         "marker": {
          "color": "rgb(17, 165, 121)",
          "symbol": "circle"
         },
         "mode": "markers",
         "name": "54",
         "showlegend": true,
         "type": "scattergl",
         "x": [
          46.26547622680664,
          45.24805450439453,
          45.24805450439453,
          45.9733772277832,
          44.80315017700195,
          45.9733772277832,
          44.80315017700195,
          45.45352554321289,
          41.433284759521484,
          45.45352554321289,
          41.42028045654297
         ],
         "xaxis": "x",
         "y": [
          -23.8356876373291,
          -25.45904541015625,
          -25.45904541015625,
          -24.616743087768555,
          -24.044469833374023,
          -24.616743087768555,
          -24.044469833374023,
          -23.380212783813477,
          -24.98927116394043,
          -23.380212783813477,
          -24.989219665527344
         ],
         "yaxis": "y"
        },
        {
         "customdata": [
          [
           "['metoo']"
          ],
          [
           "['metoo']"
          ],
          [
           "['metoo']"
          ],
          [
           "['metoo']"
          ],
          [
           "['metoo']"
          ],
          [
           "['metoo']"
          ],
          [
           "['metoo']"
          ],
          [
           "['twentiestakeover', 'metoo']"
          ]
         ],
         "hovertemplate": "<b>%{hovertext}</b><br><br>labels=91<br>tsne_x=%{x}<br>tsne_y=%{y}<br>hashtags=%{customdata[0]}<extra></extra>",
         "hovertext": [
          "jennystrasburg",
          "joetidy",
          "scfgallagher",
          "scfgallagher",
          "scfgallagher",
          "scfgallagher",
          "scfgallagher",
          "scfgallagher"
         ],
         "legendgroup": "91",
         "marker": {
          "color": "rgb(57, 105, 172)",
          "symbol": "circle"
         },
         "mode": "markers",
         "name": "91",
         "showlegend": true,
         "type": "scattergl",
         "x": [
          48.0323371887207,
          48.57661437988281,
          49.2945671081543,
          49.66546630859375,
          48.42381286621094,
          48.980323791503906,
          48.42381286621094,
          49.44670486450195
         ],
         "xaxis": "x",
         "y": [
          -40.80751419067383,
          -41.31035614013672,
          -39.79225158691406,
          -40.43825149536133,
          -40.00200271606445,
          -40.696319580078125,
          -40.00200271606445,
          -41.286014556884766
         ],
         "yaxis": "y"
        },
        {
         "customdata": [
          [
           "['bbcclick']"
          ],
          [
           "['bbcclick']"
          ],
          [
           "['bbcclick']"
          ],
          [
           "['bbcclick']"
          ],
          [
           "['bbcclick']"
          ],
          [
           "['bbcclick']"
          ],
          [
           "['bbcclick']"
          ],
          [
           "['bbcclick']"
          ],
          [
           "['bbcclick']"
          ],
          [
           "['bbcclick']"
          ],
          [
           "['bbcclick', 'bbcnews']"
          ],
          [
           "['bbcclick']"
          ],
          [
           "['bbcclick']"
          ],
          [
           "['bbcclick', 'rioplussocial']"
          ],
          [
           "['bbcclick']"
          ],
          [
           "['bbcclick']"
          ],
          [
           "['bbcclick', 'mojo']"
          ]
         ],
         "hovertemplate": "<b>%{hovertext}</b><br><br>labels=24<br>tsne_x=%{x}<br>tsne_y=%{y}<br>hashtags=%{customdata[0]}<extra></extra>",
         "hovertext": [
          "dannsimmons",
          "dannsimmons",
          "dannsimmons",
          "dannsimmons",
          "dannsimmons",
          "dannsimmons",
          "dannsimmons",
          "dannsimmons",
          "dannsimmons",
          "dannsimmons",
          "dannsimmons",
          "dannsimmons",
          "dannsimmons",
          "dannsimmons",
          "dannsimmons",
          "leokelion",
          "leokelion"
         ],
         "legendgroup": "24",
         "marker": {
          "color": "rgb(242, 183, 1)",
          "symbol": "circle"
         },
         "mode": "markers",
         "name": "24",
         "showlegend": true,
         "type": "scattergl",
         "x": [
          18.90779685974121,
          18.90779685974121,
          18.90779685974121,
          18.90779685974121,
          18.90779685974121,
          18.90779685974121,
          18.90779685974121,
          18.90779685974121,
          17.518033981323242,
          18.90779685974121,
          20.050901412963867,
          19.57869529724121,
          18.117839813232422,
          18.68883514404297,
          17.27737045288086,
          18.90779685974121,
          20.766328811645508
         ],
         "xaxis": "x",
         "y": [
          52.157100677490234,
          52.157100677490234,
          52.157100677490234,
          52.157100677490234,
          52.157100677490234,
          52.157100677490234,
          52.157100677490234,
          52.157100677490234,
          53.08984375,
          52.157100677490234,
          53.346473693847656,
          50.660606384277344,
          50.69401550292969,
          53.81846618652344,
          51.775760650634766,
          52.157100677490234,
          51.86252212524414
         ],
         "yaxis": "y"
        },
        {
         "customdata": [
          [
           "['cablecongress']"
          ],
          [
           "['cablecongress']"
          ],
          [
           "['cablecongress']"
          ],
          [
           "['cablecongress']"
          ],
          [
           "['cablecongress']"
          ],
          [
           "['cablecongress']"
          ],
          [
           "['cablecongress']"
          ],
          [
           "['cablecongress']"
          ],
          [
           "['cablecongress']"
          ],
          [
           "['cablecongress']"
          ],
          [
           "['cablecongress', 'fullduplexobvs']"
          ]
         ],
         "hovertemplate": "<b>%{hovertext}</b><br><br>labels=50<br>tsne_x=%{x}<br>tsne_y=%{y}<br>hashtags=%{customdata[0]}<extra></extra>",
         "hovertext": [
          "dannsimmons",
          "dannsimmons",
          "dannsimmons",
          "dannsimmons",
          "dannsimmons",
          "dannsimmons",
          "dannsimmons",
          "dannsimmons",
          "dannsimmons",
          "dannsimmons",
          "dannsimmons"
         ],
         "legendgroup": "50",
         "marker": {
          "color": "rgb(231, 63, 116)",
          "symbol": "circle"
         },
         "mode": "markers",
         "name": "50",
         "showlegend": true,
         "type": "scattergl",
         "x": [
          11.22510051727295,
          10.08134937286377,
          11.22510051727295,
          11.22510051727295,
          11.11109447479248,
          10.08134937286377,
          11.22510051727295,
          11.11109447479248,
          10.08134937286377,
          11.22510051727295,
          12.079975128173828
         ],
         "xaxis": "x",
         "y": [
          -21.874698638916016,
          -22.591962814331055,
          -21.874698638916016,
          -21.874698638916016,
          -23.342069625854492,
          -22.591962814331055,
          -21.874698638916016,
          -23.342069625854492,
          -22.591962814331055,
          -21.874698638916016,
          -22.835281372070312
         ],
         "yaxis": "y"
        },
        {
         "customdata": [
          [
           "['frankfurtmotorshow']"
          ],
          [
           "['frankfurtmotorshow']"
          ],
          [
           "['frankfurtmotorshow']"
          ],
          [
           "['frankfurtmotorshow']"
          ],
          [
           "['frankfurtmotorshow']"
          ],
          [
           "['frankfurtmotorshow']"
          ],
          [
           "['frankfurtmotorshow']"
          ],
          [
           "['frankfurtmotorshow']"
          ],
          [
           "['frankfurtmotorshow']"
          ],
          [
           "['frankfurtmotorshow']"
          ]
         ],
         "hovertemplate": "<b>%{hovertext}</b><br><br>labels=64<br>tsne_x=%{x}<br>tsne_y=%{y}<br>hashtags=%{customdata[0]}<extra></extra>",
         "hovertext": [
          "dannsimmons",
          "dannsimmons",
          "dannsimmons",
          "dannsimmons",
          "dannsimmons",
          "dannsimmons",
          "dannsimmons",
          "dannsimmons",
          "dannsimmons",
          "dannsimmons"
         ],
         "legendgroup": "64",
         "marker": {
          "color": "rgb(128, 186, 90)",
          "symbol": "circle"
         },
         "mode": "markers",
         "name": "64",
         "showlegend": true,
         "type": "scattergl",
         "x": [
          60.221736907958984,
          59.58894729614258,
          59.58894729614258,
          59.58894729614258,
          60.930259704589844,
          60.930259704589844,
          60.930259704589844,
          60.930259704589844,
          60.930259704589844,
          59.58894729614258
         ],
         "xaxis": "x",
         "y": [
          -52.034629821777344,
          -53.22047424316406,
          -53.22047424316406,
          -53.22047424316406,
          -53.174564361572266,
          -53.174564361572266,
          -53.174564361572266,
          -53.174564361572266,
          -53.174564361572266,
          -53.22047424316406
         ],
         "yaxis": "y"
        },
        {
         "customdata": [
          [
           "['ces2019']"
          ],
          [
           "['ces2019']"
          ],
          [
           "['ces2019', 'tothinkioncepackedoutpacha']"
          ],
          [
           "['ces2019', 'youreholdingitwrong']"
          ],
          [
           "['ces2019', 'mybrainfeelsabitwarm']"
          ],
          [
           "['ces2019']"
          ],
          [
           "['ces2019', 'ilooktotallynormal', 'allmythoughtsbelongtozuckerberg']"
          ],
          [
           "['ces2019', 'bigdrone', 'imnotgettingonthat']"
          ],
          [
           "['ces2019', 'macinestalkingtomachines']"
          ],
          [
           "['ces2019']"
          ],
          [
           "['ces2019', 'cloinotinvited']"
          ],
          [
           "['ces2019']"
          ],
          [
           "['ces2019']"
          ],
          [
           "['ces2019']"
          ],
          [
           "['ces2019']"
          ]
         ],
         "hovertemplate": "<b>%{hovertext}</b><br><br>labels=29<br>tsne_x=%{x}<br>tsne_y=%{y}<br>hashtags=%{customdata[0]}<extra></extra>",
         "hovertext": [
          "dannsimmons",
          "leokelion",
          "leokelion",
          "leokelion",
          "leokelion",
          "leokelion",
          "leokelion",
          "leokelion",
          "leokelion",
          "leokelion",
          "leokelion",
          "leokelion",
          "leokelion",
          "leokelion",
          "leokelion"
         ],
         "legendgroup": "29",
         "marker": {
          "color": "rgb(230, 131, 16)",
          "symbol": "circle"
         },
         "mode": "markers",
         "name": "29",
         "showlegend": true,
         "type": "scattergl",
         "x": [
          -60.894004821777344,
          -60.894004821777344,
          -61.58832550048828,
          -61.58832550048828,
          -61.58832550048828,
          -62.39189910888672,
          -60.28560256958008,
          -60.28560256958008,
          -62.796878814697266,
          -60.894004821777344,
          -62.796878814697266,
          -62.39189910888672,
          -61.622047424316406,
          -62.39189910888672,
          -60.894004821777344
         ],
         "xaxis": "x",
         "y": [
          -35.00925827026367,
          -35.00925827026367,
          -36.48988342285156,
          -36.48988342285156,
          -36.48988342285156,
          -34.9250602722168,
          -36.30131530761719,
          -36.30131530761719,
          -36.15712356567383,
          -35.00925827026367,
          -36.15712356567383,
          -34.9250602722168,
          -33.89975357055664,
          -34.9250602722168,
          -35.00925827026367
         ],
         "yaxis": "y"
        },
        {
         "customdata": [
          [
           "['photokina2018']"
          ],
          [
           "['nikonz7', 'photokina2018']"
          ],
          [
           "['panasonic', 'leica', 'sigma', 'photokina2018']"
          ],
          [
           "['photokina2018', 'nikonz7']"
          ]
         ],
         "hovertemplate": "<b>%{hovertext}</b><br><br>labels=63<br>tsne_x=%{x}<br>tsne_y=%{y}<br>hashtags=%{customdata[0]}<extra></extra>",
         "hovertext": [
          "dannsimmons",
          "dannsimmons",
          "dannsimmons",
          "dannsimmons"
         ],
         "legendgroup": "63",
         "marker": {
          "color": "rgb(0, 134, 149)",
          "symbol": "circle"
         },
         "mode": "markers",
         "name": "63",
         "showlegend": true,
         "type": "scattergl",
         "x": [
          16.642074584960938,
          17.22461700439453,
          112.82865142822266,
          17.22461700439453
         ],
         "xaxis": "x",
         "y": [
          -6.05570650100708,
          -6.1582231521606445,
          41.867393493652344,
          -6.1582231521606445
         ],
         "yaxis": "y"
        },
        {
         "customdata": [
          [
           "['uber']"
          ],
          [
           "['uber']"
          ],
          [
           "['uber', 'amimissingsomething']"
          ],
          [
           "['uber']"
          ],
          [
           "['ba', 'github', 'slack', 'uber']"
          ],
          [
           "['uber']"
          ],
          [
           "['uber']"
          ],
          [
           "['precariat', 'freelance', 'uber', 'rights']"
          ],
          [
           "['snapchat', 'google', 'uber', 'siliconvalley']"
          ]
         ],
         "hovertemplate": "<b>%{hovertext}</b><br><br>labels=46<br>tsne_x=%{x}<br>tsne_y=%{y}<br>hashtags=%{customdata[0]}<extra></extra>",
         "hovertext": [
          "dannsimmons",
          "dannsimmons",
          "dannsimmons",
          "leokelion",
          "leokelion",
          "mshannahmurphy",
          "mshannahmurphy",
          "mshannahmurphy",
          "mshannahmurphy"
         ],
         "legendgroup": "46",
         "marker": {
          "color": "rgb(207, 28, 144)",
          "symbol": "circle"
         },
         "mode": "markers",
         "name": "46",
         "showlegend": true,
         "type": "scattergl",
         "x": [
          40.75102615356445,
          40.75102615356445,
          41.71052932739258,
          40.75102615356445,
          41.72172546386719,
          41.52738952636719,
          41.52738952636719,
          40.959922790527344,
          38.64488983154297
         ],
         "xaxis": "x",
         "y": [
          4.068403720855713,
          4.068403720855713,
          4.459236145019531,
          4.068403720855713,
          5.424895763397217,
          3.52135968208313,
          3.52135968208313,
          5.242279052734375,
          3.7451791763305664
         ],
         "yaxis": "y"
        },
        {
         "customdata": [
          [
           "['ces']"
          ],
          [
           "['ces']"
          ],
          [
           "['ces']"
          ],
          [
           "['ces']"
          ],
          [
           "['ces']"
          ],
          [
           "['ces']"
          ],
          [
           "['ces', 'seeyalateralligators']"
          ],
          [
           "['ces']"
          ],
          [
           "['ces']"
          ],
          [
           "['bbctech', 'ces']"
          ],
          [
           "['ces']"
          ],
          [
           "['ces']"
          ],
          [
           "['ces']"
          ],
          [
           "['ces']"
          ],
          [
           "['ces']"
          ],
          [
           "['ces']"
          ],
          [
           "['wearabletech', 'ces']"
          ],
          [
           "['ces', 'byebyegadgets']"
          ],
          [
           "['ces', 'stopsayingiot']"
          ],
          [
           "['ces']"
          ],
          [
           "['ces']"
          ],
          [
           "['ces']"
          ],
          [
           "['ces', 'drones']"
          ],
          [
           "['ces', 'arethereventhatmanyhandsets']"
          ],
          [
           "['ces', 'wouldyouliketobuysomewire']"
          ],
          [
           "['ces', 'giantdrone']"
          ],
          [
           "['ces']"
          ],
          [
           "['ces', 'drones']"
          ],
          [
           "['oculus', 'ces']"
          ],
          [
           "['ces', 'toomuchtechforonebrain']"
          ],
          [
           "['ces']"
          ],
          [
           "['ces', 'nearlyovernow', 'ninjaman']"
          ],
          [
           "['ces']"
          ],
          [
           "['ces', 'makeitstop']"
          ],
          [
           "['cartech', 'ces']"
          ],
          [
           "['ces', 'pantone']"
          ],
          [
           "['ces']"
          ],
          [
           "['ces']"
          ],
          [
           "['ces']"
          ],
          [
           "['ces']"
          ],
          [
           "['mophie', 'ces']"
          ],
          [
           "['ces', 'joke']"
          ],
          [
           "['mercedes', 'ces']"
          ],
          [
           "['ces']"
          ],
          [
           "['samsung', 'ces']"
          ],
          [
           "['sharp', 'ces']"
          ],
          [
           "['ces']"
          ],
          [
           "['arghhhh', 'ces']"
          ],
          [
           "['ces', 'samsung']"
          ],
          [
           "['ces']"
          ],
          [
           "['ces']"
          ],
          [
           "['ces']"
          ],
          [
           "['bbctechtent', 'ces']"
          ],
          [
           "['vegas', 'ces']"
          ],
          [
           "['ces']"
          ],
          [
           "['ces']"
          ],
          [
           "['ces']"
          ],
          [
           "['stuff', 'ces']"
          ],
          [
           "['ces']"
          ],
          [
           "['ces']"
          ],
          [
           "['ces', 'justbecauseyoucandoesn']"
          ],
          [
           "['ces']"
          ],
          [
           "['ces']"
          ],
          [
           "['ces']"
          ],
          [
           "['ces']"
          ],
          [
           "['bosch', 'ces']"
          ],
          [
           "['ces', 'greedyhacks']"
          ],
          [
           "['ces']"
          ],
          [
           "['ces']"
          ],
          [
           "['ces']"
          ],
          [
           "['ces']"
          ],
          [
           "['ces', 'killtheacronym']"
          ],
          [
           "['ces']"
          ],
          [
           "['ces']"
          ],
          [
           "['ces']"
          ],
          [
           "['ces']"
          ],
          [
           "['ces']"
          ],
          [
           "['ces']"
          ],
          [
           "['ces']"
          ],
          [
           "['ces']"
          ],
          [
           "['ces']"
          ],
          [
           "['ces']"
          ],
          [
           "['ces']"
          ],
          [
           "['ces']"
          ],
          [
           "['ces']"
          ],
          [
           "['mcor', 'ces']"
          ],
          [
           "['autodesk', 'ces']"
          ],
          [
           "['ces']"
          ],
          [
           "['ces']"
          ],
          [
           "['ces']"
          ],
          [
           "['ces']"
          ],
          [
           "['misfit', 'ces']"
          ],
          [
           "['ces', 'maycontainnuts']"
          ],
          [
           "['ces']"
          ],
          [
           "['ces']"
          ],
          [
           "['ces']"
          ],
          [
           "['fitbark', 'ces']"
          ],
          [
           "['motorola', 'ces', 'woofcam']"
          ],
          [
           "['ces', 'bluetooth']"
          ],
          [
           "['ces']"
          ],
          [
           "['meccanoid', 'ces']"
          ],
          [
           "['ces']"
          ],
          [
           "['ces']"
          ],
          [
           "['ces']"
          ],
          [
           "['ces']"
          ],
          [
           "['ces']"
          ],
          [
           "['ces']"
          ],
          [
           "['ces']"
          ],
          [
           "['ces']"
          ],
          [
           "['ces']"
          ],
          [
           "['ces']"
          ],
          [
           "['ces']"
          ],
          [
           "['samsung', 'ces']"
          ],
          [
           "['bmw', 'samsung', 'ces']"
          ],
          [
           "['bmw', 'samsung', 'ces']"
          ],
          [
           "['samsung', 'ces']"
          ],
          [
           "['jawbone', 'samsung', 'ces']"
          ],
          [
           "['jawbone', 'samsung', 'ces']"
          ],
          [
           "['samsung', 'ces']"
          ],
          [
           "['samsung', 'ces']"
          ],
          [
           "['samsung', 'ces']"
          ],
          [
           "['samsung', 'ces']"
          ],
          [
           "['ces', 'samsung']"
          ],
          [
           "['samsung', 'ces', 'notgoingtogetpromoted']"
          ],
          [
           "['galaxys6', 'samsung', 'ces']"
          ],
          [
           "['samsung', 'ces']"
          ],
          [
           "['samsung', 'ces']"
          ],
          [
           "['ces']"
          ],
          [
           "['ces']"
          ],
          [
           "['samsung', 'lg', 'ces']"
          ],
          [
           "['samsung', 'ces']"
          ],
          [
           "['samsung', 'ces']"
          ],
          [
           "['samsung', 'ces']"
          ],
          [
           "['samsung', 'ces']"
          ],
          [
           "['samsung', 'ces']"
          ],
          [
           "['samsung', 'ces']"
          ],
          [
           "['samsung', 'ces']"
          ],
          [
           "['samsung', 'ces']"
          ],
          [
           "['samsung', 'ces']"
          ],
          [
           "['samsung', 'ces']"
          ],
          [
           "['samsung', 'ces']"
          ],
          [
           "['samsung', 'ces']"
          ],
          [
           "['samsung', 'ces']"
          ],
          [
           "['samsung', 'ces']"
          ],
          [
           "['samsung', 'ces']"
          ],
          [
           "['qualcomm', 'ces']"
          ],
          [
           "['qualcomm', 'ces']"
          ],
          [
           "['qualcomm', 'ces']"
          ],
          [
           "['qualcomm', 'ces']"
          ],
          [
           "['qualcomm', 'ces']"
          ],
          [
           "['qualcomm', 'ces']"
          ],
          [
           "['ces']"
          ],
          [
           "['panasonic', 'ces']"
          ],
          [
           "['ces']"
          ],
          [
           "['panasonic', 'ces']"
          ],
          [
           "['panasonic', 'ces']"
          ],
          [
           "['panasonic', 'ces']"
          ],
          [
           "['blu', 'ces']"
          ],
          [
           "['panasonic', 'ces']"
          ],
          [
           "['panasonic', 'ces']"
          ],
          [
           "['panasonic', 'ces']"
          ],
          [
           "['panasonic', 'ces']"
          ],
          [
           "['panasonic', 'ces']"
          ],
          [
           "['ces']"
          ],
          [
           "['ces']"
          ],
          [
           "['sharp', 'ces']"
          ],
          [
           "['sharp', 'ces']"
          ],
          [
           "['sharp', 'ces']"
          ],
          [
           "['sharp', 'ces']"
          ],
          [
           "['sharp', 'ces']"
          ],
          [
           "['sharp', 'ces']"
          ],
          [
           "['lg', 'ces']"
          ],
          [
           "['lg', 'ces']"
          ],
          [
           "['lg', 'ces']"
          ],
          [
           "['lg', 'ces']"
          ],
          [
           "['lg', 'samsung', 'ces']"
          ],
          [
           "['lg', 'ces']"
          ],
          [
           "['lg', 'ces']"
          ],
          [
           "['lg', 'ces']"
          ],
          [
           "['ces']"
          ],
          [
           "['gobe', 'ces']"
          ],
          [
           "['lg', 'ces']"
          ],
          [
           "['nvidia', 'ces']"
          ],
          [
           "['nvidia', 'ces']"
          ],
          [
           "['nvidia', 'ces']"
          ],
          [
           "['ces']"
          ],
          [
           "['nvidia', 'ces']"
          ]
         ],
         "hovertemplate": "<b>%{hovertext}</b><br><br>labels=0<br>tsne_x=%{x}<br>tsne_y=%{y}<br>hashtags=%{customdata[0]}<extra></extra>",
         "hovertext": [
          "dannsimmons",
          "dannsimmons",
          "leokelion",
          "leokelion",
          "leokelion",
          "leokelion",
          "leokelion",
          "leokelion",
          "leokelion",
          "leokelion",
          "leokelion",
          "leokelion",
          "leokelion",
          "leokelion",
          "leokelion",
          "leokelion",
          "leokelion",
          "leokelion",
          "leokelion",
          "leokelion",
          "leokelion",
          "leokelion",
          "leokelion",
          "leokelion",
          "leokelion",
          "leokelion",
          "leokelion",
          "leokelion",
          "leokelion",
          "leokelion",
          "leokelion",
          "leokelion",
          "leokelion",
          "leokelion",
          "leokelion",
          "leokelion",
          "leokelion",
          "leokelion",
          "leokelion",
          "leokelion",
          "leokelion",
          "leokelion",
          "leokelion",
          "leokelion",
          "leokelion",
          "leokelion",
          "leokelion",
          "leokelion",
          "leokelion",
          "leokelion",
          "leokelion",
          "leokelion",
          "leokelion",
          "leokelion",
          "leokelion",
          "leokelion",
          "leokelion",
          "leokelion",
          "leokelion",
          "leokelion",
          "leokelion",
          "leokelion",
          "leokelion",
          "leokelion",
          "leokelion",
          "leokelion",
          "leokelion",
          "leokelion",
          "leokelion",
          "leokelion",
          "leokelion",
          "leokelion",
          "leokelion",
          "leokelion",
          "leokelion",
          "leokelion",
          "leokelion",
          "leokelion",
          "leokelion",
          "leokelion",
          "leokelion",
          "leokelion",
          "leokelion",
          "leokelion",
          "leokelion",
          "leokelion",
          "leokelion",
          "leokelion",
          "leokelion",
          "leokelion",
          "leokelion",
          "leokelion",
          "leokelion",
          "leokelion",
          "leokelion",
          "leokelion",
          "leokelion",
          "leokelion",
          "leokelion",
          "leokelion",
          "leokelion",
          "leokelion",
          "leokelion",
          "leokelion",
          "leokelion",
          "leokelion",
          "leokelion",
          "leokelion",
          "leokelion",
          "leokelion",
          "leokelion",
          "leokelion",
          "leokelion",
          "leokelion",
          "leokelion",
          "leokelion",
          "leokelion",
          "leokelion",
          "leokelion",
          "leokelion",
          "leokelion",
          "leokelion",
          "leokelion",
          "leokelion",
          "leokelion",
          "leokelion",
          "leokelion",
          "leokelion",
          "leokelion",
          "leokelion",
          "leokelion",
          "leokelion",
          "leokelion",
          "leokelion",
          "leokelion",
          "leokelion",
          "leokelion",
          "leokelion",
          "leokelion",
          "leokelion",
          "leokelion",
          "leokelion",
          "leokelion",
          "leokelion",
          "leokelion",
          "leokelion",
          "leokelion",
          "leokelion",
          "leokelion",
          "leokelion",
          "leokelion",
          "leokelion",
          "leokelion",
          "leokelion",
          "leokelion",
          "leokelion",
          "leokelion",
          "leokelion",
          "leokelion",
          "leokelion",
          "leokelion",
          "leokelion",
          "leokelion",
          "leokelion",
          "leokelion",
          "leokelion",
          "leokelion",
          "leokelion",
          "leokelion",
          "leokelion",
          "leokelion",
          "leokelion",
          "leokelion",
          "leokelion",
          "leokelion",
          "leokelion",
          "leokelion",
          "leokelion",
          "leokelion",
          "leokelion",
          "leokelion",
          "leokelion",
          "leokelion",
          "leokelion",
          "leokelion",
          "leokelion",
          "leokelion"
         ],
         "legendgroup": "0",
         "marker": {
          "color": "rgb(249, 123, 114)",
          "symbol": "circle"
         },
         "mode": "markers",
         "name": "0",
         "showlegend": true,
         "type": "scattergl",
         "x": [
          104.27442169189453,
          105.62279510498047,
          102.39327239990234,
          105.05997467041016,
          102.09967803955078,
          106.49595642089844,
          116.85787200927734,
          103.19681549072266,
          99.27095794677734,
          117.07959747314453,
          100.06531524658203,
          102.98487091064453,
          104.27723693847656,
          104.7494125366211,
          98.56896209716797,
          104.56629943847656,
          119.2576675415039,
          118.72772216796875,
          119.72638702392578,
          100.75342559814453,
          100.88211059570312,
          105.47115325927734,
          110.54903411865234,
          115.73700714111328,
          116.85310363769531,
          119.4739761352539,
          106.84557342529297,
          110.54918670654297,
          115.80783081054688,
          119.81037139892578,
          101.31498718261719,
          117.87953186035156,
          98.15918731689453,
          119.46212768554688,
          116.6640853881836,
          117.78564453125,
          96.69334411621094,
          98.98468780517578,
          97.81055450439453,
          97.63311004638672,
          115.99591827392578,
          116.64002990722656,
          115.62435913085938,
          100.49093627929688,
          84.87438201904297,
          110.78711700439453,
          100.16350555419922,
          118.79049682617188,
          88.5550537109375,
          105.59001159667969,
          97.1182632446289,
          102.33735656738281,
          116.85310363769531,
          116.85310363769531,
          101.77283477783203,
          96.22604370117188,
          103.92987060546875,
          118.41730499267578,
          105.36725616455078,
          101.0251235961914,
          118.43608856201172,
          97.28927612304688,
          104.2303466796875,
          101.85763549804688,
          106.78279113769531,
          118.43608856201172,
          120.32917785644531,
          97.17626953125,
          106.26109313964844,
          99.04806518554688,
          102.93070983886719,
          115.21307373046875,
          103.23351287841797,
          98.59841918945312,
          102.11949920654297,
          103.5076904296875,
          101.2626953125,
          98.3965072631836,
          95.98467254638672,
          100.75342559814453,
          100.75342559814453,
          99.39897918701172,
          104.07674407958984,
          105.72447967529297,
          98.18629455566406,
          117.79118347167969,
          119.31621551513672,
          100.90283966064453,
          98.98828887939453,
          104.43189239501953,
          99.90848541259766,
          118.43608856201172,
          117.76873016357422,
          101.69600677490234,
          95.82469940185547,
          102.12694549560547,
          118.4756851196289,
          119.00360107421875,
          120.48955535888672,
          100.96207427978516,
          117.5420150756836,
          103.19774627685547,
          99.88652038574219,
          103.37496948242188,
          99.39897918701172,
          103.47859191894531,
          97.04788970947266,
          99.90258026123047,
          102.79129791259766,
          102.11949920654297,
          102.99456024169922,
          100.96734619140625,
          89.00608825683594,
          85.9150161743164,
          85.9150161743164,
          88.81151580810547,
          85.1591567993164,
          85.1591567993164,
          86.38658142089844,
          86.23899841308594,
          89.39765930175781,
          87.24301147460938,
          87.9910659790039,
          85.42576599121094,
          86.3462905883789,
          86.38658142089844,
          88.81151580810547,
          99.95967864990234,
          99.67862701416016,
          92.86653900146484,
          87.59669494628906,
          87.39704895019531,
          88.81151580810547,
          88.47915649414062,
          89.83609771728516,
          88.47915649414062,
          86.94334411621094,
          87.45401763916016,
          87.39704895019531,
          87.9910659790039,
          87.74864959716797,
          86.38658142089844,
          90.00316619873047,
          86.98919677734375,
          89.83609771728516,
          104.2457275390625,
          104.6640625,
          103.67066955566406,
          103.67066955566406,
          104.46656799316406,
          103.56184387207031,
          101.90636444091797,
          111.02145385742188,
          102.39327239990234,
          112.98450469970703,
          111.905517578125,
          111.2435073852539,
          120.67333984375,
          111.299560546875,
          112.16283416748047,
          112.11614227294922,
          112.7557601928711,
          112.16283416748047,
          104.51382446289062,
          98.06713104248047,
          111.67656707763672,
          111.67656707763672,
          111.67656707763672,
          110.78711700439453,
          110.78711700439453,
          110.78711700439453,
          101.59176635742188,
          102.67015075683594,
          101.59176635742188,
          102.56095886230469,
          92.86653900146484,
          102.67015075683594,
          101.20890808105469,
          101.59176635742188,
          100.75342559814453,
          117.6207504272461,
          101.9095230102539,
          110.80809783935547,
          110.80809783935547,
          110.80809783935547,
          98.98468780517578,
          110.80809783935547
         ],
         "xaxis": "x",
         "y": [
          26.80154800415039,
          30.039302825927734,
          30.623573303222656,
          27.686233520507812,
          25.80642318725586,
          27.778898239135742,
          28.024221420288086,
          24.724342346191406,
          33.45764923095703,
          26.842832565307617,
          28.163347244262695,
          33.82761001586914,
          34.78192138671875,
          32.28460693359375,
          34.566619873046875,
          25.380958557128906,
          33.472103118896484,
          28.091232299804688,
          29.530851364135742,
          30.258394241333008,
          25.470361709594727,
          28.82843589782715,
          27.814220428466797,
          31.05655860900879,
          29.329261779785156,
          28.588945388793945,
          29.31747817993164,
          27.81421661376953,
          28.383262634277344,
          31.318532943725586,
          35.312862396240234,
          24.91958236694336,
          32.74069595336914,
          27.313140869140625,
          30.603851318359375,
          32.104774475097656,
          32.373512268066406,
          30.70746421813965,
          31.495399475097656,
          27.541507720947266,
          27.38859748840332,
          31.806411743164062,
          30.0413875579834,
          33.93345642089844,
          45.71477508544922,
          22.492727279663086,
          32.722496032714844,
          31.646743774414062,
          43.94732666015625,
          33.68391799926758,
          26.220680236816406,
          32.81328582763672,
          29.329261779785156,
          29.329261779785156,
          34.03413772583008,
          27.76885223388672,
          31.3718204498291,
          26.930891036987305,
          31.291452407836914,
          26.619197845458984,
          29.416242599487305,
          33.76740646362305,
          33.42218017578125,
          31.797603607177734,
          30.894866943359375,
          29.416242599487305,
          28.01999855041504,
          30.48162269592285,
          32.355445861816406,
          32.116146087646484,
          31.709875106811523,
          29.14234161376953,
          26.124427795410156,
          26.626480102539062,
          29.192899703979492,
          30.253173828125,
          32.94124984741211,
          25.170564651489258,
          31.11470603942871,
          30.258394241333008,
          30.258394241333008,
          29.181657791137695,
          28.235036849975586,
          26.3916015625,
          28.59642791748047,
          27.652938842773438,
          30.40178108215332,
          28.729816436767578,
          27.7628231048584,
          29.31531524658203,
          24.418989181518555,
          29.416242599487305,
          28.44093132019043,
          24.329294204711914,
          29.517057418823242,
          27.011770248413086,
          30.743297576904297,
          25.054622650146484,
          30.37476921081543,
          27.655786514282227,
          31.133140563964844,
          27.31498146057129,
          35.12314224243164,
          29.28030014038086,
          29.181657791137695,
          32.56181716918945,
          29.00098419189453,
          27.02336311340332,
          35.21025848388672,
          29.192899703979492,
          28.272289276123047,
          31.83627700805664,
          45.63554000854492,
          48.32938766479492,
          48.32938766479492,
          48.152408599853516,
          46.98963928222656,
          46.98963928222656,
          45.80869674682617,
          43.96914291381836,
          44.64421081542969,
          46.763126373291016,
          45.092124938964844,
          44.73915100097656,
          47.082557678222656,
          45.80869674682617,
          48.152408599853516,
          31.627565383911133,
          25.895870208740234,
          44.544681549072266,
          46.01948547363281,
          48.87686538696289,
          48.152408599853516,
          46.57296371459961,
          46.96335983276367,
          46.57296371459961,
          44.674835205078125,
          43.71931457519531,
          48.87686538696289,
          45.092124938964844,
          47.422393798828125,
          45.80869674682617,
          45.66100311279297,
          47.7073860168457,
          46.96335983276367,
          18.863544464111328,
          19.33509635925293,
          19.763118743896484,
          19.763118743896484,
          19.98228645324707,
          18.954105377197266,
          27.9943904876709,
          39.50957107543945,
          30.623573303222656,
          39.70561599731445,
          39.29991912841797,
          40.244930267333984,
          29.158357620239258,
          38.786231994628906,
          40.14231491088867,
          38.54065704345703,
          38.97916030883789,
          40.14231491088867,
          30.463397979736328,
          29.775331497192383,
          21.845151901245117,
          21.845151901245117,
          21.845151901245117,
          22.492727279663086,
          22.492727279663086,
          22.492727279663086,
          41.739158630371094,
          41.618778228759766,
          41.739158630371094,
          40.699893951416016,
          44.544681549072266,
          41.618778228759766,
          40.79523468017578,
          41.739158630371094,
          30.258394241333008,
          30.324363708496094,
          40.567710876464844,
          32.994178771972656,
          32.994178771972656,
          32.994178771972656,
          30.70746421813965,
          32.994178771972656
         ],
         "yaxis": "y"
        },
        {
         "customdata": [
          [
           "['apple', 'fcpx']"
          ],
          [
           "['apple']"
          ],
          [
           "['apple']"
          ],
          [
           "['apple', '3dtouch', 'iphone6s']"
          ],
          [
           "['apple']"
          ],
          [
           "['apple']"
          ],
          [
           "['apple']"
          ],
          [
           "['apple']"
          ],
          [
           "['apple']"
          ],
          [
           "['apple']"
          ],
          [
           "['today', 'apple']"
          ],
          [
           "['apple']"
          ],
          [
           "['apple']"
          ],
          [
           "['apple']"
          ],
          [
           "['apple']"
          ],
          [
           "['apple']"
          ],
          [
           "['hbo', 'apple']"
          ],
          [
           "['apple', 'applewatch']"
          ],
          [
           "['apple']"
          ],
          [
           "['apple', 'onesieforthewin', 'appleevent']"
          ]
         ],
         "hovertemplate": "<b>%{hovertext}</b><br><br>labels=17<br>tsne_x=%{x}<br>tsne_y=%{y}<br>hashtags=%{customdata[0]}<extra></extra>",
         "hovertext": [
          "dannsimmons",
          "dannsimmons",
          "dannsimmons",
          "dannsimmons",
          "dannsimmons",
          "dannsimmons",
          "dannsimmons",
          "dannsimmons",
          "leokelion",
          "leokelion",
          "leokelion",
          "leokelion",
          "leokelion",
          "leokelion",
          "leokelion",
          "leokelion",
          "leokelion",
          "leokelion",
          "leokelion",
          "mshannahmurphy"
         ],
         "legendgroup": "17",
         "marker": {
          "color": "rgb(165, 170, 153)",
          "symbol": "circle"
         },
         "mode": "markers",
         "name": "17",
         "showlegend": true,
         "type": "scattergl",
         "x": [
          -53.13969802856445,
          -50.35728454589844,
          -50.35728454589844,
          -52.805572509765625,
          -51.504573822021484,
          -51.504573822021484,
          -51.504573822021484,
          -51.504573822021484,
          -51.6917610168457,
          -50.35728454589844,
          -52.34428405761719,
          -51.6917610168457,
          -50.35728454589844,
          -51.6917610168457,
          -50.35728454589844,
          -51.6917610168457,
          -53.13969802856445,
          -49.46377182006836,
          -51.6917610168457,
          -53.24533462524414
         ],
         "xaxis": "x",
         "y": [
          -49.98332214355469,
          -50.48114013671875,
          -50.48114013671875,
          -52.03136444091797,
          -51.64250946044922,
          -51.64250946044922,
          -51.64250946044922,
          -51.64250946044922,
          -49.468666076660156,
          -50.48114013671875,
          -50.753936767578125,
          -49.468666076660156,
          -50.48114013671875,
          -49.468666076660156,
          -50.48114013671875,
          -49.468666076660156,
          -49.98332214355469,
          -53.29987335205078,
          -49.468666076660156,
          -51.164798736572266
         ],
         "yaxis": "y"
        },
        {
         "customdata": [
          [
           "['ifa2017']"
          ],
          [
           "['ifa2017']"
          ],
          [
           "['ifa2017']"
          ],
          [
           "['detu', 'ifa2017']"
          ],
          [
           "['ifa2017']"
          ],
          [
           "['ifa2017']"
          ],
          [
           "['ifa2017']"
          ],
          [
           "['ifa2017']"
          ]
         ],
         "hovertemplate": "<b>%{hovertext}</b><br><br>labels=90<br>tsne_x=%{x}<br>tsne_y=%{y}<br>hashtags=%{customdata[0]}<extra></extra>",
         "hovertext": [
          "dannsimmons",
          "dannsimmons",
          "dannsimmons",
          "dannsimmons",
          "dannsimmons",
          "dannsimmons",
          "dannsimmons",
          "dannsimmons"
         ],
         "legendgroup": "90",
         "marker": {
          "color": "rgb(127, 60, 141)",
          "symbol": "circle"
         },
         "mode": "markers",
         "name": "90",
         "showlegend": true,
         "type": "scattergl",
         "x": [
          17.449872970581055,
          17.250940322875977,
          17.449872970581055,
          16.759376525878906,
          18.317991256713867,
          17.741775512695312,
          18.298816680908203,
          18.298816680908203
         ],
         "xaxis": "x",
         "y": [
          -69.62528228759766,
          -70.67387390136719,
          -69.62528228759766,
          -70.20872497558594,
          -69.50831604003906,
          -71.05606079101562,
          -70.39359283447266,
          -70.39359283447266
         ],
         "yaxis": "y"
        },
        {
         "customdata": [
          [
           "['samsung', 'verizon']"
          ],
          [
           "['samsung', 'galaxynote5']"
          ],
          [
           "['lg', 'samsung']"
          ],
          [
           "['samsung', 'tizen']"
          ],
          [
           "['samsung']"
          ]
         ],
         "hovertemplate": "<b>%{hovertext}</b><br><br>labels=12<br>tsne_x=%{x}<br>tsne_y=%{y}<br>hashtags=%{customdata[0]}<extra></extra>",
         "hovertext": [
          "dannsimmons",
          "leokelion",
          "leokelion",
          "leokelion",
          "leokelion"
         ],
         "legendgroup": "12",
         "marker": {
          "color": "rgb(17, 165, 121)",
          "symbol": "circle"
         },
         "mode": "markers",
         "name": "12",
         "showlegend": true,
         "type": "scattergl",
         "x": [
          35.9326171875,
          35.9326171875,
          34.48835754394531,
          35.772735595703125,
          35.41914367675781
         ],
         "xaxis": "x",
         "y": [
          11.116411209106445,
          11.116411209106445,
          9.692535400390625,
          11.599449157714844,
          11.26025676727295
         ],
         "yaxis": "y"
        },
        {
         "customdata": [
          [
           "['futurefest']"
          ],
          [
           "['blockchain']"
          ],
          [
           "['blockchain']"
          ],
          [
           "['blockchain']"
          ],
          [
           "['blockchain']"
          ],
          [
           "['beyoncé', 'blockchain']"
          ],
          [
           "['blockchain']"
          ],
          [
           "['blockchain']"
          ],
          [
           "['futurefest', 'blockchain']"
          ],
          [
           "['futurefest']"
          ],
          [
           "['futurefest', 'nathaliebennett']"
          ],
          [
           "['futurefest', 'blockchain']"
          ],
          [
           "['blockchain', 'futurefest']"
          ],
          [
           "['futurefest']"
          ],
          [
           "['futurefest']"
          ]
         ],
         "hovertemplate": "<b>%{hovertext}</b><br><br>labels=27<br>tsne_x=%{x}<br>tsne_y=%{y}<br>hashtags=%{customdata[0]}<extra></extra>",
         "hovertext": [
          "dannsimmons",
          "_lucyingham",
          "sophiafurber",
          "sophiafurber",
          "sophiafurber",
          "sophiafurber",
          "mshannahmurphy",
          "mshannahmurphy",
          "mshannahmurphy",
          "mshannahmurphy",
          "mshannahmurphy",
          "mshannahmurphy",
          "mshannahmurphy",
          "mshannahmurphy",
          "mshannahmurphy"
         ],
         "legendgroup": "27",
         "marker": {
          "color": "rgb(57, 105, 172)",
          "symbol": "circle"
         },
         "mode": "markers",
         "name": "27",
         "showlegend": true,
         "type": "scattergl",
         "x": [
          -5.887356758117676,
          -4.843552589416504,
          -4.408235549926758,
          -5.375267505645752,
          -5.375267505645752,
          -5.67310905456543,
          -4.843552589416504,
          -4.843552589416504,
          -6.716856002807617,
          -6.407472610473633,
          -5.655002117156982,
          -6.716856002807617,
          -6.716856002807617,
          -6.407472610473633,
          -6.407472610473633
         ],
         "xaxis": "x",
         "y": [
          -80.1813735961914,
          -86.0103530883789,
          -85.07186126708984,
          -84.9757308959961,
          -84.9757308959961,
          -86.51526641845703,
          -86.0103530883789,
          -86.0103530883789,
          -85.78473663330078,
          -80.71456146240234,
          -80.88750457763672,
          -85.78473663330078,
          -85.78473663330078,
          -80.71456146240234,
          -80.71456146240234
         ],
         "yaxis": "y"
        },
        {
         "customdata": [
          [
           "['bhusa']"
          ],
          [
           "['bhusa']"
          ],
          [
           "['bhusa']"
          ],
          [
           "['bhusa']"
          ],
          [
           "['bhusa']"
          ],
          [
           "['bhusa']"
          ],
          [
           "['bhusa']"
          ],
          [
           "['bhusa']"
          ],
          [
           "['bhusa']"
          ],
          [
           "['bhusa']"
          ],
          [
           "['bhusa']"
          ],
          [
           "['bhusa']"
          ],
          [
           "['bhusa']"
          ],
          [
           "['bhusa']"
          ],
          [
           "['bhusa']"
          ],
          [
           "['bhusa']"
          ],
          [
           "['bhusa']"
          ],
          [
           "['bhusa']"
          ],
          [
           "['womeninsecurity', 'bhusa']"
          ],
          [
           "['bhusa', 'hackersummercamp']"
          ],
          [
           "['womeninsecurity', 'bhusa']"
          ],
          [
           "['bhusa', 'hackersummercamp']"
          ],
          [
           "['bhusa']"
          ],
          [
           "['womeninsecurity', 'bhusa']"
          ],
          [
           "['bhusa']"
          ],
          [
           "['womeninsecurity', 'bhusa']"
          ]
         ],
         "hovertemplate": "<b>%{hovertext}</b><br><br>labels=15<br>tsne_x=%{x}<br>tsne_y=%{y}<br>hashtags=%{customdata[0]}<extra></extra>",
         "hovertext": [
          "dannsimmons",
          "dannsimmons",
          "dannyjpalmer",
          "dannyjpalmer",
          "dannyjpalmer",
          "dannyjpalmer",
          "dannyjpalmer",
          "dannyjpalmer",
          "dannyjpalmer",
          "dannyjpalmer",
          "dannyjpalmer",
          "dannyjpalmer",
          "dannyjpalmer",
          "dannyjpalmer",
          "dannyjpalmer",
          "dannyjpalmer",
          "dannyjpalmer",
          "dannyjpalmer",
          "jesscahaworth",
          "jesscahaworth",
          "jesscahaworth",
          "jesscahaworth",
          "ad_nauseum74",
          "ad_nauseum74",
          "ad_nauseum74",
          "ad_nauseum74"
         ],
         "legendgroup": "15",
         "marker": {
          "color": "rgb(242, 183, 1)",
          "symbol": "circle"
         },
         "mode": "markers",
         "name": "15",
         "showlegend": true,
         "type": "scattergl",
         "x": [
          -85.10459899902344,
          -86.15746307373047,
          -83.45169830322266,
          -84.41596984863281,
          -85.22055053710938,
          -84.85723114013672,
          -84.3563232421875,
          -83.86381530761719,
          -82.63714599609375,
          -84.0814208984375,
          -84.2388687133789,
          -82.93683624267578,
          -83.53174591064453,
          -85.20093536376953,
          -82.4607925415039,
          -85.9940414428711,
          -85.06604766845703,
          -85.22742462158203,
          -86.2217788696289,
          -86.17671203613281,
          -87.02024841308594,
          -85.80979919433594,
          -84.01353454589844,
          -86.9380874633789,
          -83.17176055908203,
          -87.21299743652344
         ],
         "xaxis": "x",
         "y": [
          -5.184393882751465,
          -9.235445976257324,
          -8.020328521728516,
          -7.166762351989746,
          -7.828161239624023,
          -6.153537750244141,
          -7.957248210906982,
          -9.586971282958984,
          -6.647472858428955,
          -5.2066731452941895,
          -8.758979797363281,
          -8.851917266845703,
          -7.11326789855957,
          -8.745203971862793,
          -7.712409019470215,
          -8.130295753479004,
          -9.724699020385742,
          -7.003945350646973,
          -5.358412742614746,
          -7.211711883544922,
          -8.390700340270996,
          -6.310819625854492,
          -6.3350911140441895,
          -6.261336803436279,
          -5.76082706451416,
          -7.303432464599609
         ],
         "yaxis": "y"
        },
        {
         "customdata": [
          [
           "['applewatch', 'tattoo']"
          ],
          [
           "['applewatch']"
          ],
          [
           "['applewatch']"
          ],
          [
           "['applewatch']"
          ],
          [
           "['applewatch']"
          ],
          [
           "['applewatch']"
          ],
          [
           "['applewatch']"
          ],
          [
           "['applewatch']"
          ],
          [
           "['up3', 'applewatch']"
          ]
         ],
         "hovertemplate": "<b>%{hovertext}</b><br><br>labels=62<br>tsne_x=%{x}<br>tsne_y=%{y}<br>hashtags=%{customdata[0]}<extra></extra>",
         "hovertext": [
          "dannsimmons",
          "dannsimmons",
          "leokelion",
          "leokelion",
          "leokelion",
          "leokelion",
          "leokelion",
          "leokelion",
          "leokelion"
         ],
         "legendgroup": "62",
         "marker": {
          "color": "rgb(231, 63, 116)",
          "symbol": "circle"
         },
         "mode": "markers",
         "name": "62",
         "showlegend": true,
         "type": "scattergl",
         "x": [
          40.55405807495117,
          39.78285217285156,
          38.99455261230469,
          40.37224578857422,
          39.39868927001953,
          39.39868927001953,
          39.39868927001953,
          38.99455261230469,
          40.330970764160156
         ],
         "xaxis": "x",
         "y": [
          -18.0161075592041,
          -18.916337966918945,
          -18.498395919799805,
          -17.28811264038086,
          -17.506662368774414,
          -17.506662368774414,
          -17.506662368774414,
          -18.498395919799805,
          -18.570175170898438
         ],
         "yaxis": "y"
        },
        {
         "customdata": [
          [
           "['finalresult', 'livemixedreality', 'skirace', 'gaming']"
          ],
          [
           "['destiny2', 'gaming', 'gambit', 'bungie', 'gaming', 'gamer', 'gamerkid', 'kidgamer']"
          ]
         ],
         "hovertemplate": "<b>%{hovertext}</b><br><br>labels=53<br>tsne_x=%{x}<br>tsne_y=%{y}<br>hashtags=%{customdata[0]}<extra></extra>",
         "hovertext": [
          "dannsimmons",
          "joetidy"
         ],
         "legendgroup": "53",
         "marker": {
          "color": "rgb(128, 186, 90)",
          "symbol": "circle"
         },
         "mode": "markers",
         "name": "53",
         "showlegend": true,
         "type": "scattergl",
         "x": [
          -1.7545900344848633,
          -1.8095002174377441
         ],
         "xaxis": "x",
         "y": [
          -33.90095901489258,
          -34.26130676269531
         ],
         "yaxis": "y"
        },
        {
         "customdata": [
          [
           "['ces2015']"
          ],
          [
           "['ces2015']"
          ],
          [
           "['ces2015']"
          ],
          [
           "['ces2015', 'robots']"
          ],
          [
           "['ces2015', '4k']"
          ],
          [
           "['ces2015']"
          ],
          [
           "['ces2015']"
          ],
          [
           "['ces2015']"
          ],
          [
           "['sonyces', 'ces2015']"
          ],
          [
           "['ces2015']"
          ]
         ],
         "hovertemplate": "<b>%{hovertext}</b><br><br>labels=57<br>tsne_x=%{x}<br>tsne_y=%{y}<br>hashtags=%{customdata[0]}<extra></extra>",
         "hovertext": [
          "dannsimmons",
          "leokelion",
          "leokelion",
          "leokelion",
          "leokelion",
          "leokelion",
          "leokelion",
          "leokelion",
          "leokelion",
          "leokelion"
         ],
         "legendgroup": "57",
         "marker": {
          "color": "rgb(230, 131, 16)",
          "symbol": "circle"
         },
         "mode": "markers",
         "name": "57",
         "showlegend": true,
         "type": "scattergl",
         "x": [
          29.88663673400879,
          29.88663673400879,
          29.88663673400879,
          31.206789016723633,
          30.83708953857422,
          29.29498863220215,
          29.88663673400879,
          29.88663673400879,
          30.279861450195312,
          29.29498863220215
         ],
         "xaxis": "x",
         "y": [
          -9.049894332885742,
          -9.049894332885742,
          -9.049894332885742,
          -8.931867599487305,
          -8.089655876159668,
          -7.95687198638916,
          -9.049894332885742,
          -9.049894332885742,
          -7.638047695159912,
          -7.95687198638916
         ],
         "yaxis": "y"
        },
        {
         "customdata": [
          [
           "['70s', 'tech']"
          ],
          [
           "['tech']"
          ],
          [
           "['video', 'tech', 'mojo', 'business']"
          ],
          [
           "['video', 'tech', 'mojo', 'business']"
          ],
          [
           "['mojo']"
          ],
          [
           "['fashion', 'tech', 'data', 'collisionfromhome']"
          ],
          [
           "['collisionfromhome']"
          ],
          [
           "['fashion', 'tech', 'data', 'collisionfromhome']"
          ],
          [
           "['collisionfromhome']"
          ],
          [
           "['techwomen50', 'tech']"
          ],
          [
           "['tech']"
          ],
          [
           "['tech', 'ftbanking']"
          ]
         ],
         "hovertemplate": "<b>%{hovertext}</b><br><br>labels=37<br>tsne_x=%{x}<br>tsne_y=%{y}<br>hashtags=%{customdata[0]}<extra></extra>",
         "hovertext": [
          "dannsimmons",
          "leokelion",
          "joetidy",
          "joetidy",
          "joetidy",
          "_lucyingham",
          "_lucyingham",
          "_lucyingham",
          "_lucyingham",
          "_lucyingham",
          "sophiafurber",
          "sophiafurber"
         ],
         "legendgroup": "37",
         "marker": {
          "color": "rgb(0, 134, 149)",
          "symbol": "circle"
         },
         "mode": "markers",
         "name": "37",
         "showlegend": true,
         "type": "scattergl",
         "x": [
          2.3276312351226807,
          1.7873878479003906,
          4.779783248901367,
          4.779783725738525,
          5.460431098937988,
          0.4939274787902832,
          -1.438364863395691,
          0.493927538394928,
          -1.438364863395691,
          1.9800492525100708,
          2.156062602996826,
          -7.129599094390869
         ],
         "xaxis": "x",
         "y": [
          -28.182392120361328,
          -27.852140426635742,
          -27.183452606201172,
          -27.183452606201172,
          -24.34292221069336,
          -30.05098533630371,
          -27.439373016357422,
          -30.05098533630371,
          -27.439373016357422,
          -28.294530868530273,
          -27.711742401123047,
          -60.938053131103516
         ],
         "yaxis": "y"
        },
        {
         "customdata": [
          [
           "['eurovision']"
          ],
          [
           "['eurovision']"
          ],
          [
           "['eurovision']"
          ],
          [
           "['eurovision']"
          ],
          [
           "['eurovision']"
          ],
          [
           "['eurovision']"
          ],
          [
           "['eurovision2018', 'eurovision', 'wewasthere', 'notahintofirony']"
          ],
          [
           "['eurovision', 'lisbon2018']"
          ]
         ],
         "hovertemplate": "<b>%{hovertext}</b><br><br>labels=85<br>tsne_x=%{x}<br>tsne_y=%{y}<br>hashtags=%{customdata[0]}<extra></extra>",
         "hovertext": [
          "dannsimmons",
          "dannsimmons",
          "dannsimmons",
          "dannsimmons",
          "_lucyingham",
          "_lucyingham",
          "mshannahmurphy",
          "mshannahmurphy"
         ],
         "legendgroup": "85",
         "marker": {
          "color": "rgb(207, 28, 144)",
          "symbol": "circle"
         },
         "mode": "markers",
         "name": "85",
         "showlegend": true,
         "type": "scattergl",
         "x": [
          16.734432220458984,
          16.787769317626953,
          17.186634063720703,
          16.058027267456055,
          16.787769317626953,
          16.058027267456055,
          15.07485294342041,
          15.981783866882324
         ],
         "xaxis": "x",
         "y": [
          -55.97887420654297,
          -57.16665267944336,
          -56.48442077636719,
          -56.33806228637695,
          -57.16665267944336,
          -56.33806228637695,
          -57.113956451416016,
          -57.32691955566406
         ],
         "yaxis": "y"
        },
        {
         "customdata": [
          [
           "['mwc']"
          ],
          [
           "['microsoft', 'satyanadella']"
          ],
          [
           "['microsoft']"
          ],
          [
           "['microsoft']"
          ],
          [
           "['microsoft']"
          ],
          [
           "['microsoft']"
          ],
          [
           "['microsoft']"
          ],
          [
           "['sony', '4k']"
          ],
          [
           "['sony', 'mwc']"
          ],
          [
           "['sony', 'microsoft', 'mwc']"
          ],
          [
           "['htc', 'mwc']"
          ],
          [
           "['mwc', 'htc', 'valve']"
          ],
          [
           "['microsoft', 'sunrise']"
          ],
          [
           "['microsoft', 'projectzero', 'cybersecurity']"
          ]
         ],
         "hovertemplate": "<b>%{hovertext}</b><br><br>labels=59<br>tsne_x=%{x}<br>tsne_y=%{y}<br>hashtags=%{customdata[0]}<extra></extra>",
         "hovertext": [
          "dannsimmons",
          "leokelion",
          "leokelion",
          "leokelion",
          "leokelion",
          "leokelion",
          "leokelion",
          "leokelion",
          "leokelion",
          "leokelion",
          "leokelion",
          "leokelion",
          "leokelion",
          "jesscahaworth"
         ],
         "legendgroup": "59",
         "marker": {
          "color": "rgb(249, 123, 114)",
          "symbol": "circle"
         },
         "mode": "markers",
         "name": "59",
         "showlegend": true,
         "type": "scattergl",
         "x": [
          27.613252639770508,
          48.87391662597656,
          48.83979034423828,
          49.8197135925293,
          48.83979034423828,
          49.8197135925293,
          49.8197135925293,
          38.11897659301758,
          27.039525985717773,
          50.77488327026367,
          27.450180053710938,
          27.141115188598633,
          49.53375244140625,
          82.80669403076172
         ],
         "xaxis": "x",
         "y": [
          -61.4446907043457,
          -32.54547119140625,
          -31.630571365356445,
          -31.762351989746094,
          -31.630571365356445,
          -31.762351989746094,
          -31.762351989746094,
          -43.05429458618164,
          -61.7178840637207,
          -33.93616485595703,
          -61.89048385620117,
          -62.17615509033203,
          -32.69330596923828,
          -50.496517181396484
         ],
         "yaxis": "y"
        },
        {
         "customdata": [
          [
           "['ge2019']"
          ],
          [
           "['ge2019']"
          ],
          [
           "['ge2019']"
          ],
          [
           "['ge2019']"
          ],
          [
           "['notforsale', 'getbrexitdone', 'ge2019']"
          ],
          [
           "['borisjohnson', 'jeremycorbyn', 'ge2019']"
          ],
          [
           "['ge2019']"
          ],
          [
           "['ge2019']"
          ],
          [
           "['ge2019']"
          ],
          [
           "['ge2019']"
          ],
          [
           "['bbcyourquestions', 'ge2019']"
          ],
          [
           "['ge2019']"
          ],
          [
           "['ge2019']"
          ],
          [
           "['ge2019']"
          ],
          [
           "['ge2019']"
          ],
          [
           "['ge2019']"
          ],
          [
           "['digitalelections', 'ge2019']"
          ],
          [
           "['ge2019']"
          ],
          [
           "['ge2019']"
          ],
          [
           "['ge2019']"
          ],
          [
           "['ge2019']"
          ],
          [
           "['ge2019']"
          ],
          [
           "['brexitparty', 'ge2019']"
          ],
          [
           "['ge2019']"
          ],
          [
           "['ge2019']"
          ]
         ],
         "hovertemplate": "<b>%{hovertext}</b><br><br>labels=13<br>tsne_x=%{x}<br>tsne_y=%{y}<br>hashtags=%{customdata[0]}<extra></extra>",
         "hovertext": [
          "leokelion",
          "joetidy",
          "joetidy",
          "joetidy",
          "joetidy",
          "joetidy",
          "joetidy",
          "joetidy",
          "joetidy",
          "joetidy",
          "joetidy",
          "joetidy",
          "joetidy",
          "joetidy",
          "joetidy",
          "joetidy",
          "joetidy",
          "joetidy",
          "joetidy",
          "joetidy",
          "joetidy",
          "joetidy",
          "joetidy",
          "joetidy",
          "joetidy"
         ],
         "legendgroup": "13",
         "marker": {
          "color": "rgb(165, 170, 153)",
          "symbol": "circle"
         },
         "mode": "markers",
         "name": "13",
         "showlegend": true,
         "type": "scattergl",
         "x": [
          -84.56051635742188,
          -85.25688934326172,
          -85.25688934326172,
          -84.56051635742188,
          -85.47696685791016,
          -87.297119140625,
          -86.35795593261719,
          -86.06482696533203,
          -83.33992004394531,
          -85.25688934326172,
          -86.5813980102539,
          -83.33992004394531,
          -83.54888916015625,
          -84.56051635742188,
          -83.33992004394531,
          -84.56051635742188,
          -86.96300506591797,
          -86.35795593261719,
          -85.25688934326172,
          -85.25688934326172,
          -84.56051635742188,
          -85.25688934326172,
          -84.32626342773438,
          -85.25688934326172,
          -84.56051635742188
         ],
         "xaxis": "x",
         "y": [
          -50.23734664916992,
          -48.42200469970703,
          -48.42200469970703,
          -50.23734664916992,
          -46.73931121826172,
          -49.25650405883789,
          -49.85736846923828,
          -51.02799987792969,
          -48.8930549621582,
          -48.42200469970703,
          -47.3375358581543,
          -48.8930549621582,
          -47.56983184814453,
          -50.23734664916992,
          -48.8930549621582,
          -50.23734664916992,
          -48.3343505859375,
          -49.85736846923828,
          -48.42200469970703,
          -48.42200469970703,
          -50.23734664916992,
          -48.42200469970703,
          -46.966800689697266,
          -48.42200469970703,
          -50.23734664916992
         ],
         "yaxis": "y"
        },
        {
         "customdata": [
          [
           "['ai']"
          ],
          [
           "['ai']"
          ],
          [
           "['ai']"
          ],
          [
           "['ai']"
          ],
          [
           "['ai']"
          ],
          [
           "['ai']"
          ],
          [
           "['bbcclickradio', 'ai']"
          ],
          [
           "['awssummit', 'artificialintelligence', 'ai']"
          ],
          [
           "['ai']"
          ],
          [
           "['awssummit', 'ai', 'cybersecurity', 'technology']"
          ],
          [
           "['gdpr', 'artificialintelligence', 'ai']"
          ],
          [
           "['ai', 'vr']"
          ],
          [
           "['aisectordeal', 'artificialintelligence', 'ai']"
          ],
          [
           "['ai']"
          ],
          [
           "['ai', 'aws']"
          ],
          [
           "['artificialintelligence', 'ai', 'digitalmagazine']"
          ],
          [
           "['ai', 'enterprise']"
          ],
          [
           "['ai']"
          ],
          [
           "['cybersecurity', 'ai', 'gdpr']"
          ],
          [
           "['ai', 'automation']"
          ],
          [
           "['ai', 'automation']"
          ],
          [
           "['aibe2018', 'ai']"
          ],
          [
           "['ai', 'machinelearning', 'ml']"
          ],
          [
           "['ai']"
          ],
          [
           "['telegraphfft', 'ai']"
          ],
          [
           "['ai']"
          ]
         ],
         "hovertemplate": "<b>%{hovertext}</b><br><br>labels=14<br>tsne_x=%{x}<br>tsne_y=%{y}<br>hashtags=%{customdata[0]}<extra></extra>",
         "hovertext": [
          "leokelion",
          "leokelion",
          "leokelion",
          "leokelion",
          "leokelion",
          "leokelion",
          "joetidy",
          "_lucyingham",
          "_lucyingham",
          "_lucyingham",
          "_lucyingham",
          "_lucyingham",
          "_lucyingham",
          "_lucyingham",
          "_lucyingham",
          "_lucyingham",
          "_lucyingham",
          "_lucyingham",
          "_lucyingham",
          "_lucyingham",
          "_lucyingham",
          "_lucyingham",
          "sophiafurber",
          "sophiafurber",
          "sophiafurber",
          "mshannahmurphy"
         ],
         "legendgroup": "14",
         "marker": {
          "color": "rgb(127, 60, 141)",
          "symbol": "circle"
         },
         "mode": "markers",
         "name": "14",
         "showlegend": true,
         "type": "scattergl",
         "x": [
          72.885498046875,
          72.64651489257812,
          72.885498046875,
          71.33585357666016,
          70.85778045654297,
          70.85778045654297,
          72.2522201538086,
          68.02025604248047,
          71.90957641601562,
          82.70094299316406,
          67.63463592529297,
          73.2640380859375,
          68.42372131347656,
          71.58790588378906,
          72.08859252929688,
          68.43627166748047,
          73.91526794433594,
          71.58790588378906,
          88.05113220214844,
          73.24331665039062,
          73.24331665039062,
          72.2522201538086,
          72.30026245117188,
          71.15789794921875,
          74.06668090820312,
          70.46260070800781
         ],
         "xaxis": "x",
         "y": [
          -5.673130989074707,
          -6.676940441131592,
          -5.673130989074707,
          -7.661131858825684,
          -6.678728103637695,
          -6.678728103637695,
          -7.6640472412109375,
          -4.7139787673950195,
          -6.692981243133545,
          -45.73783874511719,
          -7.177842617034912,
          -7.103208541870117,
          -6.03033971786499,
          -5.625864028930664,
          -8.802233695983887,
          -6.037054061889648,
          -6.32476282119751,
          -5.625864028930664,
          -45.12161636352539,
          -8.368876457214355,
          -8.368876457214355,
          -7.6640472412109375,
          -10.5844087600708,
          -8.619694709777832,
          -7.452264308929443,
          -7.843443870544434
         ],
         "yaxis": "y"
        },
        {
         "customdata": [
          [
           "['zuckerberg', 'facebook']"
          ],
          [
           "['zuckerberg', 'facebook']"
          ],
          [
           "['zuckerberg', 'facebook']"
          ],
          [
           "['zuckerberg', 'facebook']"
          ],
          [
           "['facebook', 'zuckerberg']"
          ],
          [
           "['facebook']"
          ],
          [
           "['facebook']"
          ],
          [
           "['facebook']"
          ],
          [
           "['facebook']"
          ],
          [
           "['facebook']"
          ],
          [
           "['facebook']"
          ],
          [
           "['facebook']"
          ],
          [
           "['facebook']"
          ],
          [
           "['facebook']"
          ],
          [
           "['facebook']"
          ],
          [
           "['facebook', 'nspcc']"
          ],
          [
           "['nspcc', 'facebook']"
          ],
          [
           "['facebook']"
          ],
          [
           "['email', 'facebook']"
          ],
          [
           "['facebook']"
          ],
          [
           "['facebook']"
          ],
          [
           "['facebook', 'hydroxychloroquine']"
          ],
          [
           "['facebook', 'twitter']"
          ],
          [
           "['facebook', 'hydroxychloroquine']"
          ],
          [
           "['facebook', 'twitter']"
          ],
          [
           "['facebook', 'cambridgeanalytica']"
          ],
          [
           "['facebook']"
          ],
          [
           "['data', 'facebook', 'databreach']"
          ],
          [
           "['facebook']"
          ],
          [
           "['facebook', 'privacy', 'deletefacebook', 'databreach']"
          ],
          [
           "['facebook']"
          ],
          [
           "['databreach', 'facebook']"
          ]
         ],
         "hovertemplate": "<b>%{hovertext}</b><br><br>labels=10<br>tsne_x=%{x}<br>tsne_y=%{y}<br>hashtags=%{customdata[0]}<extra></extra>",
         "hovertext": [
          "leokelion",
          "leokelion",
          "leokelion",
          "leokelion",
          "leokelion",
          "leokelion",
          "leokelion",
          "leokelion",
          "leokelion",
          "leokelion",
          "leokelion",
          "leokelion",
          "leokelion",
          "leokelion",
          "leokelion",
          "leokelion",
          "leokelion",
          "leokelion",
          "leokelion",
          "leokelion",
          "leokelion",
          "mshannahmurphy",
          "mshannahmurphy",
          "mshannahmurphy",
          "mshannahmurphy",
          "jesscahaworth",
          "jesscahaworth",
          "jesscahaworth",
          "jesscahaworth",
          "jesscahaworth",
          "jesscahaworth",
          "jesscahaworth"
         ],
         "legendgroup": "10",
         "marker": {
          "color": "rgb(17, 165, 121)",
          "symbol": "circle"
         },
         "mode": "markers",
         "name": "10",
         "showlegend": true,
         "type": "scattergl",
         "x": [
          105.55045318603516,
          104.78363037109375,
          105.01460266113281,
          105.01460266113281,
          105.8557357788086,
          105.90796661376953,
          106.48692321777344,
          108.2529525756836,
          105.3741683959961,
          105.90796661376953,
          108.46742248535156,
          108.2529525756836,
          105.90796661376953,
          107.22126007080078,
          108.45099639892578,
          106.37378692626953,
          106.37378692626953,
          107.0783462524414,
          107.44220733642578,
          109.43635559082031,
          107.0783462524414,
          108.0037841796875,
          109.06755828857422,
          109.7018814086914,
          109.06755828857422,
          107.44220733642578,
          105.3741683959961,
          106.38037872314453,
          107.22126007080078,
          108.86630249023438,
          108.46742248535156,
          107.47566223144531
         ],
         "xaxis": "x",
         "y": [
          -21.092546463012695,
          -20.987287521362305,
          -20.195899963378906,
          -20.195899963378906,
          -20.45391273498535,
          -16.410093307495117,
          -15.18102741241455,
          -16.592178344726562,
          -14.977189064025879,
          -16.410093307495117,
          -15.430737495422363,
          -16.592178344726562,
          -16.410093307495117,
          -15.931767463684082,
          -17.67371940612793,
          -13.962456703186035,
          -13.962456703186035,
          -17.33607292175293,
          -14.733665466308594,
          -16.5621337890625,
          -17.33607292175293,
          -13.882859230041504,
          -14.274943351745605,
          -15.458444595336914,
          -14.274943351745605,
          -14.733665466308594,
          -14.977189064025879,
          -12.087790489196777,
          -15.931767463684082,
          -12.292198181152344,
          -15.430737495422363,
          -13.127229690551758
         ],
         "yaxis": "y"
        },
        {
         "customdata": [
          [
           "['zuckerberg', 'zuckerberg']"
          ],
          [
           "['zuckerberg']"
          ]
         ],
         "hovertemplate": "<b>%{hovertext}</b><br><br>labels=77<br>tsne_x=%{x}<br>tsne_y=%{y}<br>hashtags=%{customdata[0]}<extra></extra>",
         "hovertext": [
          "leokelion",
          "leokelion"
         ],
         "legendgroup": "77",
         "marker": {
          "color": "rgb(57, 105, 172)",
          "symbol": "circle"
         },
         "mode": "markers",
         "name": "77",
         "showlegend": true,
         "type": "scattergl",
         "x": [
          104.3034896850586,
          104.16448211669922
         ],
         "xaxis": "x",
         "y": [
          -23.554235458374023,
          -24.592243194580078
         ],
         "yaxis": "y"
        },
        {
         "customdata": [
          [
           "['ces2016']"
          ],
          [
           "['ces2016']"
          ],
          [
           "['ces2016']"
          ],
          [
           "['ces2016']"
          ],
          [
           "['ces2016']"
          ],
          [
           "['ces2016']"
          ],
          [
           "['ces2016']"
          ],
          [
           "['ces2016']"
          ],
          [
           "['ces2016']"
          ]
         ],
         "hovertemplate": "<b>%{hovertext}</b><br><br>labels=81<br>tsne_x=%{x}<br>tsne_y=%{y}<br>hashtags=%{customdata[0]}<extra></extra>",
         "hovertext": [
          "leokelion",
          "leokelion",
          "leokelion",
          "leokelion",
          "leokelion",
          "leokelion",
          "leokelion",
          "leokelion",
          "leokelion"
         ],
         "legendgroup": "81",
         "marker": {
          "color": "rgb(242, 183, 1)",
          "symbol": "circle"
         },
         "mode": "markers",
         "name": "81",
         "showlegend": true,
         "type": "scattergl",
         "x": [
          -24.393688201904297,
          -23.74817657470703,
          -23.14031219482422,
          -23.14031219482422,
          -23.74817657470703,
          -23.14031219482422,
          -23.74817657470703,
          -23.14031219482422,
          -23.14031219482422
         ],
         "xaxis": "x",
         "y": [
          -49.24002456665039,
          -50.31174087524414,
          -49.214195251464844,
          -49.214195251464844,
          -50.31174087524414,
          -49.214195251464844,
          -50.31174087524414,
          -49.214195251464844,
          -49.214195251464844
         ],
         "yaxis": "y"
        },
        {
         "customdata": [
          [
           "['starwars', 'youtube']"
          ],
          [
           "['starwars']"
          ],
          [
           "['starwars', 'openingnightlive']"
          ],
          [
           "['space', 'may4th']"
          ],
          [
           "['may4th']"
          ],
          [
           "['robots', 'may4th']"
          ],
          [
           "['robot', 'coronavirus', 'may4th']"
          ],
          [
           "['may4th']"
          ],
          [
           "['starwars', 'may4th', 'maythe4thbewithyou']"
          ],
          [
           "['starwars', 'openingnightlive']"
          ],
          [
           "['space', 'may4th']"
          ],
          [
           "['may4th']"
          ],
          [
           "['robots', 'may4th']"
          ],
          [
           "['robot', 'coronavirus', 'may4th']"
          ],
          [
           "['may4th']"
          ],
          [
           "['starwars', 'may4th', 'maythe4thbewithyou']"
          ],
          [
           "['inktoberday4', 'inktoberday5', 'robot', 'inktober2019']"
          ],
          [
           "['inktober2019', 'robot']"
          ]
         ],
         "hovertemplate": "<b>%{hovertext}</b><br><br>labels=36<br>tsne_x=%{x}<br>tsne_y=%{y}<br>hashtags=%{customdata[0]}<extra></extra>",
         "hovertext": [
          "leokelion",
          "joetidy",
          "_lucyingham",
          "_lucyingham",
          "_lucyingham",
          "_lucyingham",
          "_lucyingham",
          "_lucyingham",
          "_lucyingham",
          "_lucyingham",
          "_lucyingham",
          "_lucyingham",
          "_lucyingham",
          "_lucyingham",
          "_lucyingham",
          "_lucyingham",
          "_lucyingham",
          "_lucyingham"
         ],
         "legendgroup": "36",
         "marker": {
          "color": "rgb(231, 63, 116)",
          "symbol": "circle"
         },
         "mode": "markers",
         "name": "36",
         "showlegend": true,
         "type": "scattergl",
         "x": [
          27.686309814453125,
          27.289655685424805,
          28.29241943359375,
          28.543149948120117,
          27.29783058166504,
          27.739437103271484,
          38.20088195800781,
          27.72003936767578,
          29.18870735168457,
          28.29241943359375,
          28.543149948120117,
          28.421342849731445,
          27.739437103271484,
          38.20088195800781,
          27.29783058166504,
          29.18870735168457,
          26.013391494750977,
          25.664810180664062
         ],
         "xaxis": "x",
         "y": [
          -73.04867553710938,
          -73.501220703125,
          -73.46530151367188,
          -79.51106262207031,
          -79.28533172607422,
          -80.38905334472656,
          -106.62178039550781,
          -78.57061767578125,
          -80.65193176269531,
          -73.46530151367188,
          -79.51106262207031,
          -78.62083435058594,
          -80.38905334472656,
          -106.62178039550781,
          -79.28533172607422,
          -80.65193176269531,
          -72.42237854003906,
          -72.7914810180664
         ],
         "yaxis": "y"
        },
        {
         "customdata": [
          [
           "['wearable', 'google', 'iot']"
          ],
          [
           "['tagheuer', 'fossil', 'google', 'intel', 'baselworld2015']"
          ],
          [
           "['fossil']"
          ],
          [
           "['fossil']"
          ],
          [
           "['tagheuer', 'basel']"
          ],
          [
           "['google']"
          ],
          [
           "['google', 'spacex']"
          ],
          [
           "['google']"
          ],
          [
           "['google', 'bletchley']"
          ],
          [
           "['intel', 'bugbounty', 'sidechannel']"
          ],
          [
           "['google', 'chrome', 'adblocker']"
          ]
         ],
         "hovertemplate": "<b>%{hovertext}</b><br><br>labels=70<br>tsne_x=%{x}<br>tsne_y=%{y}<br>hashtags=%{customdata[0]}<extra></extra>",
         "hovertext": [
          "leokelion",
          "leokelion",
          "leokelion",
          "leokelion",
          "leokelion",
          "leokelion",
          "leokelion",
          "gordoncorera",
          "gordoncorera",
          "jesscahaworth",
          "jesscahaworth"
         ],
         "legendgroup": "70",
         "marker": {
          "color": "rgb(128, 186, 90)",
          "symbol": "circle"
         },
         "mode": "markers",
         "name": "70",
         "showlegend": true,
         "type": "scattergl",
         "x": [
          34.33760452270508,
          39.706050872802734,
          29.87455940246582,
          29.87455940246582,
          29.135026931762695,
          32.91548156738281,
          33.4183235168457,
          33.10595703125,
          33.87300491333008,
          28.68328094482422,
          33.84687042236328
         ],
         "xaxis": "x",
         "y": [
          2.3610846996307373,
          83.26374053955078,
          3.367257595062256,
          3.367257595062256,
          2.8053510189056396,
          2.1320865154266357,
          1.7309056520462036,
          2.692859172821045,
          1.9135022163391113,
          2.446505546569824,
          2.8072354793548584
         ],
         "yaxis": "y"
        },
        {
         "customdata": [
          [
           "['drones']"
          ],
          [
           "['drones']"
          ],
          [
           "['drones']"
          ],
          [
           "['drones']"
          ],
          [
           "['drones']"
          ],
          [
           "['drones']"
          ],
          [
           "['dataviz', 'ddj', 'd3js', 'gis', 'qgis']"
          ],
          [
           "['dataviz', 'ddj']"
          ]
         ],
         "hovertemplate": "<b>%{hovertext}</b><br><br>labels=99<br>tsne_x=%{x}<br>tsne_y=%{y}<br>hashtags=%{customdata[0]}<extra></extra>",
         "hovertext": [
          "leokelion",
          "leokelion",
          "leokelion",
          "gordoncorera",
          "gordoncorera",
          "mshannahmurphy",
          "mshannahmurphy",
          "mshannahmurphy"
         ],
         "legendgroup": "99",
         "marker": {
          "color": "rgb(230, 131, 16)",
          "symbol": "circle"
         },
         "mode": "markers",
         "name": "99",
         "showlegend": true,
         "type": "scattergl",
         "x": [
          33.6728401184082,
          33.83214569091797,
          34.09008026123047,
          34.807186126708984,
          34.64601516723633,
          34.389991760253906,
          31.89838981628418,
          32.25888442993164
         ],
         "xaxis": "x",
         "y": [
          -69.4832763671875,
          -68.93116760253906,
          -69.88346099853516,
          -69.18682861328125,
          -69.74385833740234,
          -68.79244995117188,
          -64.98578643798828,
          -64.31100463867188
         ],
         "yaxis": "y"
        },
        {
         "customdata": [
          [
           "['baselworld2015']"
          ],
          [
           "['baselworld2015']"
          ],
          [
           "['baselworld2015']"
          ],
          [
           "['baselworld2015']"
          ],
          [
           "['baselworld2015']"
          ],
          [
           "['baselworld2015', 'boomboomohmysideshurt']"
          ],
          [
           "['baselworld2015']"
          ],
          [
           "['baselworld2015']"
          ],
          [
           "['baselworld2015']"
          ],
          [
           "['baselworld2015']"
          ],
          [
           "['baselworld2015']"
          ],
          [
           "['baselworld2015']"
          ],
          [
           "['blueleopardlovers', 'baselworld2015']"
          ],
          [
           "['baselworld2015']"
          ],
          [
           "['baselworld2015']"
          ],
          [
           "['baselworld2015']"
          ],
          [
           "['anorexictech', 'baselworld2015']"
          ],
          [
           "['kennethcole', 'baselworld2015']"
          ],
          [
           "['twsteel', 'baselworld2015']"
          ],
          [
           "['baselworld2015']"
          ],
          [
           "['baselworld2015']"
          ],
          [
           "['fatherchristmasareyoulistening', 'baselworld2015']"
          ],
          [
           "['baselworld2015']"
          ],
          [
           "['baselworld2015', 'diamondsandpearls', 'blingbling']"
          ],
          [
           "['gucci', 'baselworld2015']"
          ],
          [
           "['androidwear', 'baselworld2015']"
          ],
          [
           "['girard', 'baselworld2015']"
          ],
          [
           "['baselworld2015']"
          ],
          [
           "['omega', 'baselworld2015']"
          ],
          [
           "['baselworld2015']"
          ],
          [
           "['baselworld2015']"
          ],
          [
           "['baselworld2015']"
          ],
          [
           "['baselworld2015']"
          ],
          [
           "['baselworld2015']"
          ],
          [
           "['chopard', 'baselworld2015']"
          ],
          [
           "['baselworld2015']"
          ],
          [
           "['patekphilippe', 'baselworld2015']"
          ],
          [
           "['rolex', 'baselworld2015']"
          ],
          [
           "['hublot', 'baselworld2015']"
          ],
          [
           "['baselworld2015', 'tagheuer']"
          ],
          [
           "['ressence', 'baselworld2015']"
          ],
          [
           "['lindewerdelin', 'baselworld2015']"
          ],
          [
           "['hyt', 'baselworld2015']"
          ],
          [
           "['baselworld2015']"
          ],
          [
           "['fossil', 'baselworld2015']"
          ],
          [
           "['fossil', 'baselworld2015']"
          ],
          [
           "['fossil', 'baselworld2015']"
          ],
          [
           "['happy', 'baselworld2015']"
          ],
          [
           "['fossil', 'baselworld2015']"
          ],
          [
           "['baselworld2015', 'smartwatch', 'vector']"
          ],
          [
           "['baselworld2015', 'tor']"
          ],
          [
           "['baselworld2015']"
          ],
          [
           "['baselworld2015']"
          ],
          [
           "['fobparis', 'baselworld2015']"
          ],
          [
           "['wearabletech', 'baselworld2015']"
          ],
          [
           "['cabestan', 'baselworld2015']"
          ],
          [
           "['baselworld2015']"
          ],
          [
           "['baselworld2015', 'cyrus']"
          ],
          [
           "['baselworld2015']"
          ],
          [
           "['hyt', 'baselworld2015']"
          ],
          [
           "['baselworld2015']"
          ],
          [
           "['baselworld2015']"
          ],
          [
           "['baselworld2015']"
          ],
          [
           "['tagheuer', 'baselworld2015']"
          ],
          [
           "['tagheuer', 'baselworld2015']"
          ],
          [
           "['baselworld2015']"
          ],
          [
           "['baselworld2015', 'notcheap']"
          ],
          [
           "['baselworld2015']"
          ],
          [
           "['baselworld2015']"
          ],
          [
           "['baselworld2015']"
          ],
          [
           "['baselworld2015']"
          ],
          [
           "['baselworld2015']"
          ],
          [
           "['mondaine', 'baselworld2015']"
          ],
          [
           "['vulcan', 'baselworld2015']"
          ],
          [
           "['alpina', 'baselworld2015']"
          ],
          [
           "['baselworld2015']"
          ],
          [
           "['baselworld2015']"
          ],
          [
           "['baselworld2015']"
          ],
          [
           "['baselworld2015']"
          ],
          [
           "['baselworld2015', 'nicecarpet']"
          ],
          [
           "['baselworld2015']"
          ],
          [
           "['baselworld2015']"
          ],
          [
           "['baselworld2015']"
          ],
          [
           "['baselworld2015']"
          ],
          [
           "['baselworld2015']"
          ],
          [
           "['baselworld2015']"
          ],
          [
           "['baselworld2015']"
          ],
          [
           "['baselworld2015', 'noexpensespared']"
          ],
          [
           "['kairos', 'baselworld2015']"
          ],
          [
           "['baselworld2015']"
          ],
          [
           "['baselworld2015']"
          ],
          [
           "['baselworld2015']"
          ],
          [
           "['baselworld2015']"
          ],
          [
           "['baselworld2015']"
          ],
          [
           "['hysek', 'baselworld2015']"
          ],
          [
           "['baselworld2015']"
          ],
          [
           "['baselworld2015', 'toddlerswithtrustfunds']"
          ],
          [
           "['baselworld2015', 'gatwick']"
          ],
          [
           "['baselworld2015']"
          ]
         ],
         "hovertemplate": "<b>%{hovertext}</b><br><br>labels=1<br>tsne_x=%{x}<br>tsne_y=%{y}<br>hashtags=%{customdata[0]}<extra></extra>",
         "hovertext": [
          "leokelion",
          "leokelion",
          "leokelion",
          "leokelion",
          "leokelion",
          "leokelion",
          "leokelion",
          "leokelion",
          "leokelion",
          "leokelion",
          "leokelion",
          "leokelion",
          "leokelion",
          "leokelion",
          "leokelion",
          "leokelion",
          "leokelion",
          "leokelion",
          "leokelion",
          "leokelion",
          "leokelion",
          "leokelion",
          "leokelion",
          "leokelion",
          "leokelion",
          "leokelion",
          "leokelion",
          "leokelion",
          "leokelion",
          "leokelion",
          "leokelion",
          "leokelion",
          "leokelion",
          "leokelion",
          "leokelion",
          "leokelion",
          "leokelion",
          "leokelion",
          "leokelion",
          "leokelion",
          "leokelion",
          "leokelion",
          "leokelion",
          "leokelion",
          "leokelion",
          "leokelion",
          "leokelion",
          "leokelion",
          "leokelion",
          "leokelion",
          "leokelion",
          "leokelion",
          "leokelion",
          "leokelion",
          "leokelion",
          "leokelion",
          "leokelion",
          "leokelion",
          "leokelion",
          "leokelion",
          "leokelion",
          "leokelion",
          "leokelion",
          "leokelion",
          "leokelion",
          "leokelion",
          "leokelion",
          "leokelion",
          "leokelion",
          "leokelion",
          "leokelion",
          "leokelion",
          "leokelion",
          "leokelion",
          "leokelion",
          "leokelion",
          "leokelion",
          "leokelion",
          "leokelion",
          "leokelion",
          "leokelion",
          "leokelion",
          "leokelion",
          "leokelion",
          "leokelion",
          "leokelion",
          "leokelion",
          "leokelion",
          "leokelion",
          "leokelion",
          "leokelion",
          "leokelion",
          "leokelion",
          "leokelion",
          "leokelion",
          "leokelion",
          "leokelion",
          "leokelion",
          "leokelion"
         ],
         "legendgroup": "1",
         "marker": {
          "color": "rgb(0, 134, 149)",
          "symbol": "circle"
         },
         "mode": "markers",
         "name": "1",
         "showlegend": true,
         "type": "scattergl",
         "x": [
          46.009986877441406,
          42.80873489379883,
          45.45726013183594,
          44.03253173828125,
          44.03253173828125,
          51.882568359375,
          39.218441009521484,
          43.93849182128906,
          42.82533264160156,
          41.582767486572266,
          40.499061584472656,
          41.582767486572266,
          49.29055404663086,
          41.04759979248047,
          43.11275863647461,
          44.3983039855957,
          46.79098892211914,
          49.29055404663086,
          47.80599594116211,
          44.73029327392578,
          42.86760711669922,
          50.0124626159668,
          39.466007232666016,
          51.91725158691406,
          48.43096923828125,
          50.539066314697266,
          47.03569030761719,
          41.8665771484375,
          52.27956771850586,
          40.4510612487793,
          44.3983039855957,
          45.47590637207031,
          46.9340705871582,
          41.62705993652344,
          49.91567611694336,
          45.22105407714844,
          50.473289489746094,
          51.11717987060547,
          49.082767486572266,
          42.35976791381836,
          50.034847259521484,
          48.859012603759766,
          53.178253173828125,
          42.82533264160156,
          41.57040786743164,
          41.04817199707031,
          41.57040786743164,
          51.07972717285156,
          41.04817199707031,
          53.04072570800781,
          52.0021858215332,
          42.39959716796875,
          47.369441986083984,
          48.9080924987793,
          46.74083709716797,
          49.52692413330078,
          43.470088958740234,
          49.51860427856445,
          42.8122673034668,
          53.178253173828125,
          41.468387603759766,
          43.663516998291016,
          46.19903564453125,
          42.70696258544922,
          42.70696258544922,
          45.36962890625,
          50.263206481933594,
          43.93849182128906,
          41.04759979248047,
          43.93849182128906,
          42.45136260986328,
          40.23109817504883,
          47.453460693359375,
          47.492034912109375,
          51.20599365234375,
          47.4484977722168,
          41.052738189697266,
          41.468387603759766,
          39.57857894897461,
          48.9080924987793,
          46.248661041259766,
          44.697696685791016,
          45.47590637207031,
          43.848533630371094,
          44.3983039855957,
          42.82533264160156,
          44.14366149902344,
          48.08766555786133,
          50.45086669921875,
          40.3355827331543,
          45.21867752075195,
          42.08674240112305,
          47.190032958984375,
          46.22941589355469,
          51.15251922607422,
          42.39959716796875,
          48.373741149902344,
          48.315738677978516,
          46.009986877441406
         ],
         "xaxis": "x",
         "y": [
          93.82260131835938,
          95.76808166503906,
          90.10187530517578,
          95.36634063720703,
          95.36634063720703,
          79.88037872314453,
          93.4162368774414,
          92.26920318603516,
          94.41060638427734,
          93.60972595214844,
          94.37006378173828,
          93.60972595214844,
          81.82563018798828,
          92.12491607666016,
          93.25740814208984,
          93.8724594116211,
          80.86830139160156,
          81.82563018798828,
          80.85943603515625,
          96.36923217773438,
          89.87507629394531,
          78.7279281616211,
          94.87325286865234,
          84.92323303222656,
          79.60964965820312,
          83.6581039428711,
          82.00855255126953,
          91.08038330078125,
          80.98177337646484,
          90.760498046875,
          93.8724594116211,
          95.15550994873047,
          95.47209167480469,
          89.96408081054688,
          82.83611297607422,
          97.37718963623047,
          82.15799713134766,
          80.60301208496094,
          83.02433776855469,
          85.68302917480469,
          80.66246032714844,
          78.71477508544922,
          83.7420425415039,
          94.41060638427734,
          84.19165802001953,
          85.03604125976562,
          84.19165802001953,
          79.0965805053711,
          85.03604125976562,
          85.0774917602539,
          82.12313842773438,
          92.45146942138672,
          94.39312744140625,
          80.6683578491211,
          78.15727996826172,
          84.09591674804688,
          96.58291625976562,
          79.70428466796875,
          91.25588989257812,
          83.7420425415039,
          95.20235443115234,
          90.8089599609375,
          96.47235870361328,
          85.18328094482422,
          85.18328094482422,
          91.78765869140625,
          81.33241271972656,
          92.26920318603516,
          92.12491607666016,
          92.26920318603516,
          97.55355834960938,
          95.95195770263672,
          83.05088806152344,
          79.83024597167969,
          81.52009582519531,
          93.1457748413086,
          96.93404388427734,
          95.20235443115234,
          91.95938873291016,
          80.6683578491211,
          91.0379638671875,
          91.00039672851562,
          95.15550994873047,
          97.65931701660156,
          93.8724594116211,
          94.41060638427734,
          89.69214630126953,
          81.69100952148438,
          79.91654968261719,
          93.23684692382812,
          92.7972640991211,
          96.3948745727539,
          91.8233642578125,
          92.52302551269531,
          82.8055191040039,
          92.45146942138672,
          83.81697082519531,
          82.51716613769531,
          93.82260131835938
         ],
         "yaxis": "y"
        },
        {
         "customdata": [
          [
           "['ft']"
          ],
          [
           "['ft']"
          ],
          [
           "['ft']"
          ],
          [
           "['ft', 'thailand']"
          ],
          [
           "['pearson', 'ft', 'nikkei']"
          ],
          [
           "['ft']"
          ],
          [
           "['refugees', 'ft']"
          ],
          [
           "['ft']"
          ],
          [
           "['ft']"
          ]
         ],
         "hovertemplate": "<b>%{hovertext}</b><br><br>labels=58<br>tsne_x=%{x}<br>tsne_y=%{y}<br>hashtags=%{customdata[0]}<extra></extra>",
         "hovertext": [
          "leokelion",
          "leokelion",
          "leokelion",
          "mshannahmurphy",
          "mshannahmurphy",
          "mshannahmurphy",
          "mshannahmurphy",
          "mshannahmurphy",
          "mshannahmurphy"
         ],
         "legendgroup": "58",
         "marker": {
          "color": "rgb(207, 28, 144)",
          "symbol": "circle"
         },
         "mode": "markers",
         "name": "58",
         "showlegend": true,
         "type": "scattergl",
         "x": [
          46.518882751464844,
          46.518882751464844,
          47.51957702636719,
          47.02975845336914,
          46.089839935302734,
          47.83930587768555,
          47.02975845336914,
          45.992637634277344,
          47.11666488647461
         ],
         "xaxis": "x",
         "y": [
          -12.111058235168457,
          -12.111058235168457,
          -12.037866592407227,
          -13.545679092407227,
          -13.603775978088379,
          -12.903888702392578,
          -13.545679092407227,
          -12.793575286865234,
          -12.699392318725586
         ],
         "yaxis": "y"
        },
        {
         "customdata": [
          [
           "['qualcomm']"
          ],
          [
           "['qualcomm']"
          ],
          [
           "['petya', 'ransomware', 'wannacry', 'eternalblue']"
          ],
          [
           "['wikileaks']"
          ],
          [
           "['assange', 'wikileaks']"
          ],
          [
           "['assange']"
          ],
          [
           "['assange']"
          ],
          [
           "['assange', 'guardian']"
          ],
          [
           "['assange']"
          ],
          [
           "['assange']"
          ],
          [
           "['assange', 'wikileaks']"
          ],
          [
           "['blm', 'blackouttuesday']"
          ],
          [
           "['blm', 'blackouttuesday']"
          ],
          [
           "['blm', 'blackouttuesday']"
          ]
         ],
         "hovertemplate": "<b>%{hovertext}</b><br><br>labels=98<br>tsne_x=%{x}<br>tsne_y=%{y}<br>hashtags=%{customdata[0]}<extra></extra>",
         "hovertext": [
          "leokelion",
          "leokelion",
          "gordoncorera",
          "gordoncorera",
          "gordoncorera",
          "gordoncorera",
          "gordoncorera",
          "gordoncorera",
          "gordoncorera",
          "gordoncorera",
          "gordoncorera",
          "joetidy",
          "joetidy",
          "joetidy"
         ],
         "legendgroup": "98",
         "marker": {
          "color": "rgb(249, 123, 114)",
          "symbol": "circle"
         },
         "mode": "markers",
         "name": "98",
         "showlegend": true,
         "type": "scattergl",
         "x": [
          40.52214813232422,
          40.5221061706543,
          33.3558349609375,
          25.743900299072266,
          23.755210876464844,
          24.023300170898438,
          24.023300170898438,
          22.977205276489258,
          23.29072380065918,
          23.29072380065918,
          23.085594177246094,
          38.7060432434082,
          38.7060432434082,
          38.7060432434082
         ],
         "xaxis": "x",
         "y": [
          -29.48867416381836,
          -29.488697052001953,
          -51.46966552734375,
          -53.86174774169922,
          -57.86781311035156,
          -56.79798889160156,
          -56.79798889160156,
          -57.15167999267578,
          -56.39092254638672,
          -56.39092254638672,
          -57.843990325927734,
          -37.92888259887695,
          -37.92888259887695,
          -37.92888259887695
         ],
         "yaxis": "y"
        },
        {
         "customdata": [
          [
           "['cybersecurity']"
          ],
          [
           "['obama', 'cybersecurity']"
          ],
          [
           "['cybersecurity']"
          ],
          [
           "['cybersecurity', 'infosec']"
          ],
          [
           "['cybersecurity', 'pewdiepie', 'pewdiepievstseries']"
          ],
          [
           "['spyware', 'cybersecurity']"
          ],
          [
           "['cybersecurity', 'iranusa', 'cyberattacks']"
          ],
          [
           "['cybersecurity', 'robots']"
          ],
          [
           "['cybersecurity', 'cyberattacks', 'gdpr']"
          ],
          [
           "['species18', 'cybersecurity']"
          ],
          [
           "['itsecforum', 'cybersecurity']"
          ],
          [
           "['cybersecurity']"
          ],
          [
           "['russia', 'cybersecurity']"
          ],
          [
           "['cybersecurity']"
          ],
          [
           "['cybersecurity']"
          ],
          [
           "['machinelearning', 'cybersecurity']"
          ],
          [
           "['women', 'cybersecurity']"
          ],
          [
           "['cybersecurity', 'cybersecuritynews', 'cybersecuritypr']"
          ],
          [
           "['women', 'cybersecurity']"
          ],
          [
           "['cybersecurity', 'cybersecuritynews', 'cybersecuritypr']"
          ],
          [
           "['cybersecurity']"
          ],
          [
           "['cybersecurity']"
          ],
          [
           "['blackhat', 'hacking', 'cybersecurity']"
          ],
          [
           "['socialsecurity', 'kimbho', 'cybersecurity']"
          ],
          [
           "['gdpr', 'alexa', 'cybersecurity']"
          ],
          [
           "['russia', 'cybersecurity']"
          ],
          [
           "['cybersecurity']"
          ],
          [
           "['cybersecurity']"
          ],
          [
           "['cybersecurity']"
          ],
          [
           "['cybersecurity']"
          ],
          [
           "['cybersecurity', 'infosec']"
          ],
          [
           "['cybersecurity']"
          ],
          [
           "['cybersecurity']"
          ],
          [
           "['cybersecurity', 'dataprotection', 'yahoo']"
          ],
          [
           "['heatlhcare', 'nhs', 'cybersecurity']"
          ],
          [
           "['cybersecurity', 'internationalwomensday', 'infosec', 'security']"
          ],
          [
           "['malware', 'cybersecurity']"
          ],
          [
           "['equifax', 'cybersecurity']"
          ],
          [
           "['cybersecurity', 'trustico', 'mwc']"
          ],
          [
           "['phishing', 'studentfinance', 'cybersecurity']"
          ],
          [
           "['iot', 'cybersecurity', 'cryptojacking']"
          ],
          [
           "['cybersecurity', 'privacy']"
          ],
          [
           "['cybersecurity', 'charteroftrust']"
          ],
          [
           "['cybersecurity']"
          ],
          [
           "['cybersecurity', 'ddos']"
          ],
          [
           "['cybersecurity']"
          ],
          [
           "['cybersecurity', 'ddos']"
          ],
          [
           "['cybersecurity']"
          ]
         ],
         "hovertemplate": "<b>%{hovertext}</b><br><br>labels=3<br>tsne_x=%{x}<br>tsne_y=%{y}<br>hashtags=%{customdata[0]}<extra></extra>",
         "hovertext": [
          "leokelion",
          "leokelion",
          "gordoncorera",
          "joetidy",
          "joetidy",
          "_lucyingham",
          "_lucyingham",
          "_lucyingham",
          "_lucyingham",
          "_lucyingham",
          "_lucyingham",
          "_lucyingham",
          "_lucyingham",
          "_lucyingham",
          "_lucyingham",
          "_lucyingham",
          "jesscahaworth",
          "jesscahaworth",
          "jesscahaworth",
          "jesscahaworth",
          "jesscahaworth",
          "jesscahaworth",
          "jesscahaworth",
          "jesscahaworth",
          "jesscahaworth",
          "jesscahaworth",
          "jesscahaworth",
          "jesscahaworth",
          "jesscahaworth",
          "jesscahaworth",
          "jesscahaworth",
          "jesscahaworth",
          "jesscahaworth",
          "jesscahaworth",
          "jesscahaworth",
          "jesscahaworth",
          "jesscahaworth",
          "jesscahaworth",
          "jesscahaworth",
          "jesscahaworth",
          "jesscahaworth",
          "jesscahaworth",
          "jesscahaworth",
          "jesscahaworth",
          "ad_nauseum74",
          "ad_nauseum74",
          "ad_nauseum74",
          "ad_nauseum74"
         ],
         "legendgroup": "3",
         "marker": {
          "color": "rgb(165, 170, 153)",
          "symbol": "circle"
         },
         "mode": "markers",
         "name": "3",
         "showlegend": true,
         "type": "scattergl",
         "x": [
          85.39000701904297,
          88.15984344482422,
          85.75958251953125,
          81.27877807617188,
          87.14674377441406,
          85.03971099853516,
          88.6915283203125,
          84.23001861572266,
          88.07733154296875,
          86.78655242919922,
          87.42395782470703,
          87.1683578491211,
          87.2060546875,
          85.75958251953125,
          85.39000701904297,
          91.60869598388672,
          88.6187744140625,
          89.6086196899414,
          87.90798950195312,
          89.6086196899414,
          87.1683578491211,
          85.75958251953125,
          84.03263092041016,
          88.20979309082031,
          88.06033325195312,
          87.2060546875,
          85.74200439453125,
          87.19402313232422,
          87.1683578491211,
          87.1683578491211,
          81.27877807617188,
          85.39000701904297,
          87.19402313232422,
          84.26347351074219,
          89.34188842773438,
          80.1161117553711,
          86.3160171508789,
          88.60712432861328,
          91.41114044189453,
          89.4730224609375,
          89.62153625488281,
          85.77873229980469,
          86.3160171508789,
          87.1683578491211,
          88.56196594238281,
          87.1683578491211,
          88.56196594238281,
          85.75958251953125
         ],
         "xaxis": "x",
         "y": [
          -51.784950256347656,
          -53.39291763305664,
          -53.391502380371094,
          -53.85747528076172,
          -49.702030181884766,
          -50.46765899658203,
          -49.28044509887695,
          -53.60879135131836,
          -46.34148025512695,
          -55.0819206237793,
          -50.708290100097656,
          -52.206607818603516,
          -57.3391227722168,
          -53.391502380371094,
          -51.784950256347656,
          -56.578369140625,
          -52.75170135498047,
          -52.23605728149414,
          -54.87190246582031,
          -52.23605728149414,
          -52.206607818603516,
          -53.391502380371094,
          -52.166351318359375,
          -50.31636047363281,
          -46.19645690917969,
          -57.3391227722168,
          -54.786224365234375,
          -53.925235748291016,
          -52.206607818603516,
          -52.206607818603516,
          -53.85747146606445,
          -51.784950256347656,
          -53.925235748291016,
          -55.96651840209961,
          -55.224998474121094,
          -54.11986541748047,
          -50.62461471557617,
          -54.08223342895508,
          -53.337364196777344,
          -53.54559326171875,
          -50.70197296142578,
          -48.921897888183594,
          -50.62461471557617,
          -52.206607818603516,
          -51.39126968383789,
          -52.206607818603516,
          -51.39126968383789,
          -53.391502380371094
         ],
         "yaxis": "y"
        },
        {
         "customdata": [
          [
           "['sharp']"
          ],
          [
           "['bugbountyradar']"
          ],
          [
           "['bugbountyradar']"
          ],
          [
           "['bugbountyradar']"
          ],
          [
           "['bugbountyradar']"
          ],
          [
           "['bugbountyradar']"
          ],
          [
           "['bugbountyradar']"
          ],
          [
           "['bugbountyradar']"
          ],
          [
           "['bugbountyradar']"
          ]
         ],
         "hovertemplate": "<b>%{hovertext}</b><br><br>labels=93<br>tsne_x=%{x}<br>tsne_y=%{y}<br>hashtags=%{customdata[0]}<extra></extra>",
         "hovertext": [
          "leokelion",
          "jesscahaworth",
          "jesscahaworth",
          "jesscahaworth",
          "jesscahaworth",
          "jesscahaworth",
          "ad_nauseum74",
          "ad_nauseum74",
          "ad_nauseum74"
         ],
         "legendgroup": "93",
         "marker": {
          "color": "rgb(127, 60, 141)",
          "symbol": "circle"
         },
         "mode": "markers",
         "name": "93",
         "showlegend": true,
         "type": "scattergl",
         "x": [
          33.21568298339844,
          42.77226638793945,
          43.81792068481445,
          43.18407440185547,
          42.528236389160156,
          43.15669631958008,
          43.955631256103516,
          43.48741912841797,
          42.34445571899414
         ],
         "xaxis": "x",
         "y": [
          -40.81633377075195,
          -46.07649612426758,
          -44.865848541259766,
          -44.5338249206543,
          -44.81549072265625,
          -45.35270309448242,
          -45.56816864013672,
          -46.109107971191406,
          -45.504154205322266
         ],
         "yaxis": "y"
        },
        {
         "customdata": [
          [
           "['lg']"
          ],
          [
           "['lg']"
          ]
         ],
         "hovertemplate": "<b>%{hovertext}</b><br><br>labels=40<br>tsne_x=%{x}<br>tsne_y=%{y}<br>hashtags=%{customdata[0]}<extra></extra>",
         "hovertext": [
          "leokelion",
          "leokelion"
         ],
         "legendgroup": "40",
         "marker": {
          "color": "rgb(17, 165, 121)",
          "symbol": "circle"
         },
         "mode": "markers",
         "name": "40",
         "showlegend": true,
         "type": "scattergl",
         "x": [
          20.59807014465332,
          20.59807014465332
         ],
         "xaxis": "x",
         "y": [
          -9.185708045959473,
          -9.185708045959473
         ],
         "yaxis": "y"
        },
        {
         "customdata": [
          [
           "['nvidia']"
          ],
          [
           "['nvidia']"
          ],
          [
           "['nvidia']"
          ],
          [
           "['nvidia']"
          ],
          [
           "['nvidia']"
          ]
         ],
         "hovertemplate": "<b>%{hovertext}</b><br><br>labels=83<br>tsne_x=%{x}<br>tsne_y=%{y}<br>hashtags=%{customdata[0]}<extra></extra>",
         "hovertext": [
          "leokelion",
          "leokelion",
          "leokelion",
          "leokelion",
          "leokelion"
         ],
         "legendgroup": "83",
         "marker": {
          "color": "rgb(57, 105, 172)",
          "symbol": "circle"
         },
         "mode": "markers",
         "name": "83",
         "showlegend": true,
         "type": "scattergl",
         "x": [
          35.827186584472656,
          35.827186584472656,
          35.827186584472656,
          35.827186584472656,
          35.827186584472656
         ],
         "xaxis": "x",
         "y": [
          -12.610626220703125,
          -12.610626220703125,
          -12.610626220703125,
          -12.610626220703125,
          -12.610626220703125
         ],
         "yaxis": "y"
        },
        {
         "customdata": [
          [
           "['technology']"
          ],
          [
           "['technology', 'cybersecurity', 'startups', 'mentalhealth', 'blacklivesmatter']"
          ],
          [
           "['facialrecognition', 'blacklivesmatter', 'protests2020']"
          ],
          [
           "['digital', 'technology', 'future']"
          ],
          [
           "['coronavirus', 'libreplanet2020', 'privacy', 'technology', 'saas']"
          ],
          [
           "['technology', 'cybersecurity', 'startups', 'mentalhealth', 'blacklivesmatter']"
          ],
          [
           "['facialrecognition', 'blacklivesmatter', 'protests2020']"
          ],
          [
           "['digital', 'technology', 'future']"
          ],
          [
           "['coronavirus', 'libreplanet2020', 'privacy', 'technology', 'saas']"
          ],
          [
           "['freesoftware', 'technology', 'privacy', 'selfisolating', 'libreplanet']"
          ],
          [
           "['verdict', 'enterprise', 'technology']"
          ],
          [
           "['backtowork', 'business', 'technology']"
          ],
          [
           "['blacklivesmatter']"
          ],
          [
           "['blacklivesmatter']"
          ],
          [
           "['blmldn', 'blacklivesmatter']"
          ],
          [
           "['blacklivesmatter']"
          ],
          [
           "['blmldn', 'blacklivesmatter']"
          ],
          [
           "['blacklivesmatter']"
          ],
          [
           "['privacy']"
          ],
          [
           "['privacy']"
          ]
         ],
         "hovertemplate": "<b>%{hovertext}</b><br><br>labels=22<br>tsne_x=%{x}<br>tsne_y=%{y}<br>hashtags=%{customdata[0]}<extra></extra>",
         "hovertext": [
          "gordoncorera",
          "_lucyingham",
          "_lucyingham",
          "_lucyingham",
          "_lucyingham",
          "_lucyingham",
          "_lucyingham",
          "_lucyingham",
          "_lucyingham",
          "_lucyingham",
          "_lucyingham",
          "_lucyingham",
          "dannyjpalmer",
          "dannyjpalmer",
          "scfgallagher",
          "scfgallagher",
          "scfgallagher",
          "scfgallagher",
          "mshannahmurphy",
          "mshannahmurphy"
         ],
         "legendgroup": "22",
         "marker": {
          "color": "rgb(242, 183, 1)",
          "symbol": "circle"
         },
         "mode": "markers",
         "name": "22",
         "showlegend": true,
         "type": "scattergl",
         "x": [
          31.29884910583496,
          78.2844467163086,
          21.2966365814209,
          32.22553253173828,
          43.225440979003906,
          78.28446960449219,
          21.2966365814209,
          32.22553253173828,
          43.225364685058594,
          33.04717254638672,
          31.554550170898438,
          31.425857543945312,
          19.374629974365234,
          19.374629974365234,
          20.15981674194336,
          19.374629974365234,
          20.15981674194336,
          19.374629974365234,
          32.883670806884766,
          32.8836669921875
         ],
         "xaxis": "x",
         "y": [
          -17.120664596557617,
          -49.604190826416016,
          4.999983787536621,
          -17.21145248413086,
          -104.40528106689453,
          -49.60417556762695,
          4.999983787536621,
          -17.21145248413086,
          -104.40528869628906,
          -17.73003578186035,
          -17.190458297729492,
          -15.933136940002441,
          5.213473320007324,
          5.213473320007324,
          5.864223480224609,
          5.213473320007324,
          5.864223480224609,
          5.213473320007324,
          -20.665903091430664,
          -20.6658992767334
         ],
         "yaxis": "y"
        },
        {
         "customdata": [
          [
           "['aspensecurity']"
          ],
          [
           "['aspensecurity']"
          ],
          [
           "['aspensecurity']"
          ],
          [
           "['aspensecurity']"
          ],
          [
           "['aspensecurity']"
          ],
          [
           "['aspensecurity']"
          ],
          [
           "['aspensecurity']"
          ],
          [
           "['aspensecurity']"
          ],
          [
           "['aspensecurity']"
          ],
          [
           "['aspensecurity']"
          ],
          [
           "['aspensecurity']"
          ],
          [
           "['aspensecurity']"
          ],
          [
           "['aspensecurity']"
          ],
          [
           "['aspensecurity']"
          ],
          [
           "['aspensecurity']"
          ],
          [
           "['aspensecurity']"
          ],
          [
           "['aspensecurity']"
          ],
          [
           "['aspensecurity']"
          ],
          [
           "['aspensecurity']"
          ]
         ],
         "hovertemplate": "<b>%{hovertext}</b><br><br>labels=20<br>tsne_x=%{x}<br>tsne_y=%{y}<br>hashtags=%{customdata[0]}<extra></extra>",
         "hovertext": [
          "gordoncorera",
          "gordoncorera",
          "gordoncorera",
          "gordoncorera",
          "gordoncorera",
          "gordoncorera",
          "gordoncorera",
          "gordoncorera",
          "gordoncorera",
          "gordoncorera",
          "gordoncorera",
          "gordoncorera",
          "gordoncorera",
          "gordoncorera",
          "gordoncorera",
          "gordoncorera",
          "gordoncorera",
          "gordoncorera",
          "gordoncorera"
         ],
         "legendgroup": "20",
         "marker": {
          "color": "rgb(231, 63, 116)",
          "symbol": "circle"
         },
         "mode": "markers",
         "name": "20",
         "showlegend": true,
         "type": "scattergl",
         "x": [
          -13.009321212768555,
          -11.324734687805176,
          -11.606528282165527,
          -14.37249755859375,
          -13.255375862121582,
          -13.009321212768555,
          -13.607897758483887,
          -12.30483341217041,
          -12.472565650939941,
          -13.009321212768555,
          -14.37249755859375,
          -12.30483341217041,
          -13.009321212768555,
          -13.607897758483887,
          -11.324734687805176,
          -14.294776916503906,
          -12.30483341217041,
          -11.606528282165527,
          -14.294776916503906
         ],
         "xaxis": "x",
         "y": [
          21.175724029541016,
          22.458303451538086,
          21.20547866821289,
          21.449357986450195,
          22.478439331054688,
          21.175724029541016,
          23.679433822631836,
          23.3895320892334,
          22.2622013092041,
          21.175724029541016,
          21.449357986450195,
          23.3895320892334,
          21.175724029541016,
          23.679433822631836,
          22.458303451538086,
          22.67267417907715,
          23.3895320892334,
          21.20547866821289,
          22.67267417907715
         ],
         "yaxis": "y"
        },
        {
         "customdata": [
          [
           "['litvinenko']"
          ],
          [
           "['litvinenko']"
          ],
          [
           "['litvinenko']"
          ],
          [
           "['litvinenko']"
          ],
          [
           "['litvinenko']"
          ],
          [
           "['litvinenko']"
          ],
          [
           "['litvinenko']"
          ],
          [
           "['litvinenko']"
          ],
          [
           "['litvinenko']"
          ],
          [
           "['litvinenko']"
          ],
          [
           "['litvinenko']"
          ],
          [
           "['litvinenko']"
          ],
          [
           "['litvinenko']"
          ]
         ],
         "hovertemplate": "<b>%{hovertext}</b><br><br>labels=38<br>tsne_x=%{x}<br>tsne_y=%{y}<br>hashtags=%{customdata[0]}<extra></extra>",
         "hovertext": [
          "gordoncorera",
          "gordoncorera",
          "gordoncorera",
          "gordoncorera",
          "gordoncorera",
          "gordoncorera",
          "gordoncorera",
          "gordoncorera",
          "gordoncorera",
          "gordoncorera",
          "gordoncorera",
          "gordoncorera",
          "gordoncorera"
         ],
         "legendgroup": "38",
         "marker": {
          "color": "rgb(128, 186, 90)",
          "symbol": "circle"
         },
         "mode": "markers",
         "name": "38",
         "showlegend": true,
         "type": "scattergl",
         "x": [
          15.79150390625,
          15.089329719543457,
          15.79150390625,
          14.339030265808105,
          15.79150390625,
          16.476804733276367,
          14.339030265808105,
          15.089329719543457,
          15.79150390625,
          16.476804733276367,
          15.79150390625,
          15.79150390625,
          15.089329719543457
         ],
         "xaxis": "x",
         "y": [
          14.654410362243652,
          16.11930274963379,
          14.654410362243652,
          14.939093589782715,
          14.654410362243652,
          15.968695640563965,
          14.939093589782715,
          16.11930274963379,
          14.654410362243652,
          15.968695640563965,
          14.654410362243652,
          14.654410362243652,
          16.11930274963379
         ],
         "yaxis": "y"
        },
        {
         "customdata": [
          [
           "['coldwar', 'russia', 'china', 'cyberwar']"
          ],
          [
           "['china']"
          ],
          [
           "['china']"
          ],
          [
           "['china']"
          ],
          [
           "['india', 'china']"
          ],
          [
           "['china']"
          ],
          [
           "['china']"
          ],
          [
           "['china', 'prc', 'taiwan']"
          ],
          [
           "['china', 'prc', 'taiwan']"
          ]
         ],
         "hovertemplate": "<b>%{hovertext}</b><br><br>labels=45<br>tsne_x=%{x}<br>tsne_y=%{y}<br>hashtags=%{customdata[0]}<extra></extra>",
         "hovertext": [
          "gordoncorera",
          "gordoncorera",
          "mshannahmurphy",
          "mshannahmurphy",
          "mshannahmurphy",
          "mshannahmurphy",
          "mshannahmurphy",
          "jesscahaworth",
          "jesscahaworth"
         ],
         "legendgroup": "45",
         "marker": {
          "color": "rgb(230, 131, 16)",
          "symbol": "circle"
         },
         "mode": "markers",
         "name": "45",
         "showlegend": true,
         "type": "scattergl",
         "x": [
          -7.971053123474121,
          -9.867167472839355,
          -10.47152328491211,
          -9.479207992553711,
          -9.420198440551758,
          -10.319069862365723,
          -10.319069862365723,
          -8.85238265991211,
          -9.536256790161133
         ],
         "xaxis": "x",
         "y": [
          -70.6146011352539,
          -70.85426330566406,
          -71.06871795654297,
          -71.21537017822266,
          -71.84892272949219,
          -71.80332946777344,
          -71.80332946777344,
          -72.60619354248047,
          -72.94124603271484
         ],
         "yaxis": "y"
        },
        {
         "customdata": [
          [
           "['gchq']"
          ],
          [
           "['gchq']"
          ],
          [
           "['gchq']"
          ],
          [
           "['gchq']"
          ],
          [
           "['gchq', 'ipt']"
          ],
          [
           "['gchq', 'ft']"
          ],
          [
           "['gchq']"
          ],
          [
           "['gchq']"
          ],
          [
           "['gchq']"
          ],
          [
           "['gchq']"
          ],
          [
           "['gchq']"
          ],
          [
           "['gchq']"
          ],
          [
           "['gchq']"
          ],
          [
           "['gchq']"
          ],
          [
           "['gchq']"
          ],
          [
           "['gchq']"
          ],
          [
           "['gchq']"
          ]
         ],
         "hovertemplate": "<b>%{hovertext}</b><br><br>labels=25<br>tsne_x=%{x}<br>tsne_y=%{y}<br>hashtags=%{customdata[0]}<extra></extra>",
         "hovertext": [
          "gordoncorera",
          "gordoncorera",
          "gordoncorera",
          "gordoncorera",
          "gordoncorera",
          "gordoncorera",
          "gordoncorera",
          "gordoncorera",
          "gordoncorera",
          "gordoncorera",
          "gordoncorera",
          "gordoncorera",
          "gordoncorera",
          "gordoncorera",
          "gordoncorera",
          "gordoncorera",
          "gordoncorera"
         ],
         "legendgroup": "25",
         "marker": {
          "color": "rgb(0, 134, 149)",
          "symbol": "circle"
         },
         "mode": "markers",
         "name": "25",
         "showlegend": true,
         "type": "scattergl",
         "x": [
          23.90365219116211,
          23.90365219116211,
          21.870067596435547,
          24.009557723999023,
          22.912790298461914,
          26.603195190429688,
          22.401409149169922,
          22.779085159301758,
          23.90365219116211,
          23.90365219116211,
          23.90365219116211,
          24.009557723999023,
          24.009557723999023,
          22.401409149169922,
          24.009557723999023,
          24.009557723999023,
          22.35755729675293
         ],
         "xaxis": "x",
         "y": [
          30.64990234375,
          30.64990234375,
          29.6120548248291,
          29.033859252929688,
          28.14453125,
          29.366535186767578,
          30.644441604614258,
          29.62209701538086,
          30.64990234375,
          30.64990234375,
          30.64990234375,
          29.033859252929688,
          29.033859252929688,
          30.644441604614258,
          29.033859252929688,
          29.033859252929688,
          28.852142333984375
         ],
         "yaxis": "y"
        },
        {
         "customdata": [
          [
           "['mi5']"
          ],
          [
           "['mi5']"
          ],
          [
           "['mi5']"
          ],
          [
           "['mi5']"
          ],
          [
           "['mi5']"
          ],
          [
           "['mi5']"
          ],
          [
           "['mi5']"
          ],
          [
           "['mi5']"
          ],
          [
           "['mi5']"
          ],
          [
           "['mi5', 'fbi']"
          ],
          [
           "['chaplin', 'mi5']"
          ],
          [
           "['mi5']"
          ]
         ],
         "hovertemplate": "<b>%{hovertext}</b><br><br>labels=41<br>tsne_x=%{x}<br>tsne_y=%{y}<br>hashtags=%{customdata[0]}<extra></extra>",
         "hovertext": [
          "gordoncorera",
          "gordoncorera",
          "gordoncorera",
          "gordoncorera",
          "gordoncorera",
          "gordoncorera",
          "gordoncorera",
          "gordoncorera",
          "gordoncorera",
          "gordoncorera",
          "gordoncorera",
          "gordoncorera"
         ],
         "legendgroup": "41",
         "marker": {
          "color": "rgb(207, 28, 144)",
          "symbol": "circle"
         },
         "mode": "markers",
         "name": "41",
         "showlegend": true,
         "type": "scattergl",
         "x": [
          11.75306224822998,
          11.75306224822998,
          12.515726089477539,
          13.325445175170898,
          12.515726089477539,
          12.515726089477539,
          13.325445175170898,
          13.325445175170898,
          11.75306224822998,
          12.15585994720459,
          12.992781639099121,
          11.75306224822998
         ],
         "xaxis": "x",
         "y": [
          37.13526153564453,
          37.13526153564453,
          35.98746871948242,
          37.063358306884766,
          35.98746871948242,
          35.98746871948242,
          37.063358306884766,
          37.063358306884766,
          37.13526153564453,
          38.295162200927734,
          38.123863220214844,
          37.13526153564453
         ],
         "yaxis": "y"
        },
        {
         "customdata": [
          [
           "['spook']"
          ],
          [
           "['spook']"
          ],
          [
           "['spook']"
          ],
          [
           "['spook']"
          ],
          [
           "['spook']"
          ],
          [
           "['spook']"
          ],
          [
           "['spook']"
          ],
          [
           "['spook']"
          ],
          [
           "['spook']"
          ],
          [
           "['spook']"
          ],
          [
           "['spook']"
          ],
          [
           "['spook']"
          ],
          [
           "['spook']"
          ],
          [
           "['spook']"
          ],
          [
           "['spook']"
          ],
          [
           "['spook']"
          ],
          [
           "['spook']"
          ],
          [
           "['spook']"
          ],
          [
           "['spook']"
          ],
          [
           "['spook']"
          ],
          [
           "['spook']"
          ],
          [
           "['spook']"
          ],
          [
           "['spook']"
          ],
          [
           "['spook']"
          ],
          [
           "['spook']"
          ],
          [
           "['spook']"
          ]
         ],
         "hovertemplate": "<b>%{hovertext}</b><br><br>labels=16<br>tsne_x=%{x}<br>tsne_y=%{y}<br>hashtags=%{customdata[0]}<extra></extra>",
         "hovertext": [
          "gordoncorera",
          "gordoncorera",
          "gordoncorera",
          "gordoncorera",
          "gordoncorera",
          "gordoncorera",
          "gordoncorera",
          "gordoncorera",
          "gordoncorera",
          "gordoncorera",
          "gordoncorera",
          "gordoncorera",
          "gordoncorera",
          "gordoncorera",
          "gordoncorera",
          "gordoncorera",
          "gordoncorera",
          "gordoncorera",
          "gordoncorera",
          "gordoncorera",
          "gordoncorera",
          "gordoncorera",
          "gordoncorera",
          "gordoncorera",
          "gordoncorera",
          "gordoncorera"
         ],
         "legendgroup": "16",
         "marker": {
          "color": "rgb(249, 123, 114)",
          "symbol": "circle"
         },
         "mode": "markers",
         "name": "16",
         "showlegend": true,
         "type": "scattergl",
         "x": [
          0.9758943915367126,
          0.9758943915367126,
          -0.646609365940094,
          0.09872028976678848,
          -1.4069246053695679,
          2.4781553745269775,
          -1.734420657157898,
          -1.734420657157898,
          -0.47032269835472107,
          1.1530957221984863,
          -0.646609365940094,
          0.5227060914039612,
          1.7810593843460083,
          -0.646609365940094,
          0.09872028976678848,
          -0.47032269835472107,
          0.09872028976678848,
          1.7810593843460083,
          1.7716068029403687,
          1.7716068029403687,
          -0.646609365940094,
          1.7810593843460083,
          0.09872028976678848,
          2.7719686031341553,
          0.9758943915367126,
          0.5350242257118225
         ],
         "xaxis": "x",
         "y": [
          72.73406219482422,
          72.73406219482422,
          72.24449920654297,
          69.34344482421875,
          69.55177307128906,
          72.35382843017578,
          70.92327880859375,
          70.92327880859375,
          70.70448303222656,
          70.25155639648438,
          72.24449920654297,
          71.50959014892578,
          71.23725128173828,
          72.24449920654297,
          69.34344482421875,
          70.70448303222656,
          69.34344482421875,
          71.23725128173828,
          69.34587097167969,
          69.34587097167969,
          72.24449920654297,
          71.23725128173828,
          69.34344482421875,
          70.36686706542969,
          72.73406219482422,
          70.80431365966797
         ],
         "yaxis": "y"
        },
        {
         "customdata": [
          [
           "['cybercrime']"
          ],
          [
           "['cybercrime']"
          ],
          [
           "['hackers', 'cybercrime']"
          ],
          [
           "['hackers', 'cybercrime']"
          ],
          [
           "['cybersecurity', 'cybercrime']"
          ],
          [
           "['law', 'cybercrime', 'legal', 'journorequest', 'egypt', 'prrequest', 'humanrights']"
          ],
          [
           "['cybercrime']"
          ],
          [
           "['bigbrotherwatch', 'cybercrime', 'cybersecurity']"
          ],
          [
           "['cybercrime', 'ransomware', 'darkweb']"
          ]
         ],
         "hovertemplate": "<b>%{hovertext}</b><br><br>labels=48<br>tsne_x=%{x}<br>tsne_y=%{y}<br>hashtags=%{customdata[0]}<extra></extra>",
         "hovertext": [
          "joetidy",
          "joetidy",
          "jesscahaworth",
          "jesscahaworth",
          "jesscahaworth",
          "jesscahaworth",
          "jesscahaworth",
          "jesscahaworth",
          "jesscahaworth"
         ],
         "legendgroup": "48",
         "marker": {
          "color": "rgb(165, 170, 153)",
          "symbol": "circle"
         },
         "mode": "markers",
         "name": "48",
         "showlegend": true,
         "type": "scattergl",
         "x": [
          69.38431549072266,
          69.32225036621094,
          70.2200927734375,
          70.2200927734375,
          92.4895248413086,
          72.15410614013672,
          69.6682357788086,
          92.59392547607422,
          70.4884033203125
         ],
         "xaxis": "x",
         "y": [
          -35.356380462646484,
          -35.90034484863281,
          -35.40016174316406,
          -35.40016174316406,
          -50.64267349243164,
          -34.886837005615234,
          -36.25603485107422,
          -50.602989196777344,
          -36.135658264160156
         ],
         "yaxis": "y"
        },
        {
         "customdata": [
          [
           "['russiareport']"
          ],
          [
           "['russiareport']"
          ],
          [
           "['russiareport']"
          ],
          [
           "['russiareport']"
          ],
          [
           "['russiareport']"
          ],
          [
           "['russiareport']"
          ],
          [
           "['russiareport']"
          ],
          [
           "['russiareport']"
          ],
          [
           "['russiareport']"
          ],
          [
           "['russiareport']"
          ],
          [
           "['russiareport', 'cyberattacks']"
          ],
          [
           "['russiareport', 'cyberattacks']"
          ],
          [
           "['internationalwomensday']"
          ],
          [
           "['womenintech', 'internationalwomensday']"
          ],
          [
           "['russiareport']"
          ],
          [
           "['russiareport']"
          ],
          [
           "['internationalwomensday']"
          ],
          [
           "['internationalwomensday']"
          ],
          [
           "['internationalwomensday']"
          ],
          [
           "['internationalwomensday']"
          ],
          [
           "['internationalwomensday']"
          ],
          [
           "['internationalwomensday']"
          ],
          [
           "['internationalwomensday']"
          ],
          [
           "['internationalwomensday']"
          ],
          [
           "['internationalwomensday']"
          ],
          [
           "['internationalwomensday']"
          ]
         ],
         "hovertemplate": "<b>%{hovertext}</b><br><br>labels=35<br>tsne_x=%{x}<br>tsne_y=%{y}<br>hashtags=%{customdata[0]}<extra></extra>",
         "hovertext": [
          "joetidy",
          "joetidy",
          "joetidy",
          "joetidy",
          "joetidy",
          "joetidy",
          "joetidy",
          "joetidy",
          "joetidy",
          "joetidy",
          "_lucyingham",
          "_lucyingham",
          "_lucyingham",
          "_lucyingham",
          "dannyjpalmer",
          "dannyjpalmer",
          "scfgallagher",
          "scfgallagher",
          "scfgallagher",
          "scfgallagher",
          "scfgallagher",
          "scfgallagher",
          "scfgallagher",
          "scfgallagher",
          "scfgallagher",
          "mshannahmurphy"
         ],
         "legendgroup": "35",
         "marker": {
          "color": "rgb(127, 60, 141)",
          "symbol": "circle"
         },
         "mode": "markers",
         "name": "35",
         "showlegend": true,
         "type": "scattergl",
         "x": [
          26.70407485961914,
          26.92444610595703,
          28.379730224609375,
          26.92444610595703,
          26.92444610595703,
          28.379730224609375,
          26.92444610595703,
          26.92444610595703,
          26.92444610595703,
          26.70407485961914,
          28.227752685546875,
          28.227752685546875,
          50.67742919921875,
          51.1765022277832,
          26.70407485961914,
          26.92444610595703,
          50.67742919921875,
          50.67742919921875,
          50.67742919921875,
          50.67742919921875,
          50.67742919921875,
          50.67742919921875,
          50.67742919921875,
          50.67742919921875,
          50.67742919921875,
          50.67742919921875
         ],
         "xaxis": "x",
         "y": [
          15.943437576293945,
          14.45452880859375,
          14.64035701751709,
          14.45452880859375,
          14.45452880859375,
          14.64035701751709,
          14.45452880859375,
          14.45452880859375,
          14.45452880859375,
          15.943437576293945,
          16.05449867248535,
          16.05449867248535,
          11.098139762878418,
          9.681429862976074,
          15.943437576293945,
          14.45452880859375,
          11.098139762878418,
          11.098139762878418,
          11.098139762878418,
          11.098139762878418,
          11.098139762878418,
          11.098139762878418,
          11.098139762878418,
          11.098139762878418,
          11.098139762878418,
          11.098139762878418
         ],
         "yaxis": "y"
        },
        {
         "customdata": [
          [
           "['lockdown']"
          ],
          [
           "['lockdown']"
          ],
          [
           "['lockdown', 'wakeupwednesday']"
          ],
          [
           "['5g', '5gcoronavirus', 'lockdown']"
          ],
          [
           "['lockdown', 'augmentedreality']"
          ],
          [
           "['lockdown', 'radio']"
          ],
          [
           "['foodwaste', 'lockdown']"
          ],
          [
           "['fitness', 'lockdown']"
          ],
          [
           "['5g', '5gcoronavirus', 'lockdown']"
          ],
          [
           "['lockdown', 'augmentedreality']"
          ],
          [
           "['lockdown', 'radio']"
          ],
          [
           "['foodwaste', 'lockdown']"
          ],
          [
           "['fitness', 'lockdown']"
          ]
         ],
         "hovertemplate": "<b>%{hovertext}</b><br><br>labels=30<br>tsne_x=%{x}<br>tsne_y=%{y}<br>hashtags=%{customdata[0]}<extra></extra>",
         "hovertext": [
          "joetidy",
          "joetidy",
          "joetidy",
          "_lucyingham",
          "_lucyingham",
          "_lucyingham",
          "_lucyingham",
          "_lucyingham",
          "_lucyingham",
          "_lucyingham",
          "_lucyingham",
          "_lucyingham",
          "_lucyingham"
         ],
         "legendgroup": "30",
         "marker": {
          "color": "rgb(17, 165, 121)",
          "symbol": "circle"
         },
         "mode": "markers",
         "name": "30",
         "showlegend": true,
         "type": "scattergl",
         "x": [
          -27.497285842895508,
          -27.497285842895508,
          -26.566747665405273,
          -28.812297821044922,
          -27.060527801513672,
          -28.56591796875,
          -26.87732696533203,
          -27.726238250732422,
          -28.812297821044922,
          -27.912124633789062,
          -28.702537536621094,
          -26.351484298706055,
          -27.726238250732422
         ],
         "xaxis": "x",
         "y": [
          -39.10713577270508,
          -39.10713577270508,
          -39.587894439697266,
          -41.947486877441406,
          -40.18571090698242,
          -39.50416946411133,
          -41.38381576538086,
          -40.85995101928711,
          -41.947486877441406,
          -39.99764633178711,
          -40.34965896606445,
          -40.638057708740234,
          -40.85995101928711
         ],
         "yaxis": "y"
        },
        {
         "customdata": [
          [
           "['cybercriminals', 'cryptocurrency']"
          ],
          [
           "['cryptocurrency']"
          ],
          [
           "['cryptocurrency']"
          ],
          [
           "['cryptocurrency']"
          ],
          [
           "['cryptocurrency']"
          ]
         ],
         "hovertemplate": "<b>%{hovertext}</b><br><br>labels=89<br>tsne_x=%{x}<br>tsne_y=%{y}<br>hashtags=%{customdata[0]}<extra></extra>",
         "hovertext": [
          "joetidy",
          "_lucyingham",
          "mshannahmurphy",
          "mshannahmurphy",
          "jesscahaworth"
         ],
         "legendgroup": "89",
         "marker": {
          "color": "rgb(57, 105, 172)",
          "symbol": "circle"
         },
         "mode": "markers",
         "name": "89",
         "showlegend": true,
         "type": "scattergl",
         "x": [
          4.071681976318359,
          4.298724174499512,
          3.4465224742889404,
          3.500365972518921,
          3.936610698699951
         ],
         "xaxis": "x",
         "y": [
          -66.71296691894531,
          -66.16622924804688,
          -66.04305267333984,
          -66.55427551269531,
          -65.80140686035156
         ],
         "yaxis": "y"
        },
        {
         "customdata": [
          [
           "['digitalelection']"
          ],
          [
           "['digitalelection', 'ge2019']"
          ],
          [
           "['digitalelection']"
          ],
          [
           "['ge2019', 'digitalelection']"
          ],
          [
           "['digitalelection']"
          ],
          [
           "['digitalelection']"
          ],
          [
           "['digitalelection']"
          ],
          [
           "['digitalelection']"
          ],
          [
           "['digitalelection', 'ge2019']"
          ],
          [
           "['digitalelection', 'ge2019']"
          ],
          [
           "['digitalelection']"
          ],
          [
           "['ge2019', 'digitalelection']"
          ],
          [
           "['digitalelection']"
          ],
          [
           "['maureenlipman', 'digitalelection']"
          ],
          [
           "['digitalelection']"
          ],
          [
           "['digitalelection']"
          ],
          [
           "['digitalelection']"
          ],
          [
           "['digitalelection']"
          ],
          [
           "['digitalelection']"
          ],
          [
           "['digitalelection']"
          ],
          [
           "['digitalelection']"
          ],
          [
           "['digitalelection']"
          ],
          [
           "['digitalelection', 'ge2019']"
          ],
          [
           "['digitalelection']"
          ],
          [
           "['digitalelection']"
          ],
          [
           "['ge2019', 'digitalelection']"
          ],
          [
           "['digitalelection']"
          ],
          [
           "['ge2019', 'digitalelection']"
          ],
          [
           "['digitalelection']"
          ],
          [
           "['digitalelection']"
          ],
          [
           "['digitalelection']"
          ],
          [
           "['digitalelection']"
          ],
          [
           "['digitalelection']"
          ],
          [
           "['digitalelection']"
          ],
          [
           "['digitalelection']"
          ],
          [
           "['digitalelection']"
          ],
          [
           "['digitalelection']"
          ],
          [
           "['digitalelection']"
          ],
          [
           "['ge2019', 'digitalelection']"
          ],
          [
           "['digitalelection']"
          ],
          [
           "['digitalelection']"
          ],
          [
           "['digitalelection']"
          ],
          [
           "['ge2019', 'digitalelection']"
          ]
         ],
         "hovertemplate": "<b>%{hovertext}</b><br><br>labels=5<br>tsne_x=%{x}<br>tsne_y=%{y}<br>hashtags=%{customdata[0]}<extra></extra>",
         "hovertext": [
          "joetidy",
          "joetidy",
          "joetidy",
          "joetidy",
          "joetidy",
          "joetidy",
          "joetidy",
          "joetidy",
          "joetidy",
          "joetidy",
          "joetidy",
          "joetidy",
          "joetidy",
          "joetidy",
          "joetidy",
          "joetidy",
          "joetidy",
          "joetidy",
          "joetidy",
          "joetidy",
          "joetidy",
          "joetidy",
          "joetidy",
          "joetidy",
          "joetidy",
          "joetidy",
          "joetidy",
          "joetidy",
          "joetidy",
          "joetidy",
          "joetidy",
          "joetidy",
          "joetidy",
          "joetidy",
          "joetidy",
          "joetidy",
          "joetidy",
          "joetidy",
          "joetidy",
          "joetidy",
          "joetidy",
          "joetidy",
          "joetidy"
         ],
         "legendgroup": "5",
         "marker": {
          "color": "rgb(242, 183, 1)",
          "symbol": "circle"
         },
         "mode": "markers",
         "name": "5",
         "showlegend": true,
         "type": "scattergl",
         "x": [
          -99.32220458984375,
          -91.9041519165039,
          -95.23809051513672,
          -91.9041519165039,
          -95.3199234008789,
          -94.04471588134766,
          -96.2739486694336,
          -99.43573760986328,
          -91.6302719116211,
          -91.9041519165039,
          -94.9317855834961,
          -91.6302719116211,
          -97.62397003173828,
          -98.65911865234375,
          -96.30846405029297,
          -96.78388214111328,
          -97.67195892333984,
          -96.78388214111328,
          -96.78388214111328,
          -96.44671630859375,
          -95.00392150878906,
          -98.40859985351562,
          -90.76338958740234,
          -98.9443588256836,
          -97.67195892333984,
          -90.76338958740234,
          -96.78388214111328,
          -90.75492095947266,
          -96.78388214111328,
          -96.30846405029297,
          -97.27691650390625,
          -98.13162994384766,
          -94.22532653808594,
          -96.78388214111328,
          -95.15068817138672,
          -98.5893325805664,
          -96.78388214111328,
          -95.15068817138672,
          -92.66214752197266,
          -96.78388214111328,
          -96.78388214111328,
          -96.78388214111328,
          -92.66214752197266
         ],
         "xaxis": "x",
         "y": [
          -36.80320739746094,
          -41.781402587890625,
          -38.1318244934082,
          -41.781402587890625,
          -34.722412109375,
          -36.34922409057617,
          -37.54495620727539,
          -35.47105026245117,
          -43.382625579833984,
          -41.781402587890625,
          -35.69635009765625,
          -43.382625579833984,
          -38.45396423339844,
          -37.85945510864258,
          -33.7237434387207,
          -35.781280517578125,
          -33.8520622253418,
          -35.781280517578125,
          -35.781280517578125,
          -38.5125732421875,
          -33.78935241699219,
          -35.03324890136719,
          -42.622169494628906,
          -34.20619583129883,
          -33.8520622253418,
          -42.622169494628906,
          -35.781280517578125,
          -41.51078796386719,
          -35.781280517578125,
          -33.7237434387207,
          -37.542274475097656,
          -37.02621078491211,
          -34.93800354003906,
          -35.781280517578125,
          -36.93788146972656,
          -36.10224533081055,
          -35.781280517578125,
          -36.93788146972656,
          -42.777183532714844,
          -35.781280517578125,
          -35.781280517578125,
          -35.781280517578125,
          -42.777183532714844
         ],
         "yaxis": "y"
        },
        {
         "customdata": [
          [
           "['stalkerware', 'spy', 'phone', 'fintech', 'cybersecurity']"
          ],
          [
           "['fintech', 'remoteworking']"
          ],
          [
           "['fintech', 'openbanking']"
          ],
          [
           "['fintech', 'remoteworking']"
          ],
          [
           "['fintech', 'openbanking']"
          ],
          [
           "['fintech']"
          ],
          [
           "['fintech', 'finfail']"
          ],
          [
           "['fintech']"
          ],
          [
           "['fintech', 'finfail']"
          ],
          [
           "['fintech', 'coronavirus']"
          ],
          [
           "['fintech', 'startups', 'funding']"
          ],
          [
           "['fintech', 'psd2']"
          ],
          [
           "['fintech']"
          ],
          [
           "['fintech']"
          ],
          [
           "['fintech']"
          ],
          [
           "['fintech']"
          ],
          [
           "['fintech']"
          ],
          [
           "['fintech']"
          ],
          [
           "['fintech']"
          ],
          [
           "['fintech']"
          ],
          [
           "['fintech', 'socialpurpose']"
          ],
          [
           "['brexit', 'fintech']"
          ],
          [
           "['blockchain', 'fintech']"
          ],
          [
           "['fidor', 'bpce', 'bank', 'fintech']"
          ],
          [
           "['remittance', 'financialinclusion', 'aid', 'fintech', 'ferg']"
          ],
          [
           "['fintech', 'mergers']"
          ],
          [
           "['seacon', 'fintech']"
          ],
          [
           "['fintech', 'journoproblems']"
          ],
          [
           "['fintech', 'ico']"
          ],
          [
           "['fintech']"
          ],
          [
           "['sandbox', 'fintech']"
          ],
          [
           "['fintech']"
          ],
          [
           "['fintech', 'fintechintel']"
          ],
          [
           "['ftbanking', 'fintech']"
          ],
          [
           "['mpesa', 'fintech', 'payments']"
          ],
          [
           "['fintech', 'payments']"
          ],
          [
           "['fintech', 'telegraphfft']"
          ],
          [
           "['china', 'fintech', 'alipay', 'wechatpay']"
          ],
          [
           "['fintech']"
          ],
          [
           "['fintech']"
          ],
          [
           "['banking', 'fintech', 'psd2']"
          ],
          [
           "['money2020eu', 'fintech']"
          ],
          [
           "['fintech']"
          ],
          [
           "['fintech']"
          ],
          [
           "['fintech', 'chatbot']"
          ],
          [
           "['london', 'crypto', 'fintech', 'blockchain']"
          ],
          [
           "['fintech', 'crypto', 'cryptonews']"
          ]
         ],
         "hovertemplate": "<b>%{hovertext}</b><br><br>labels=4<br>tsne_x=%{x}<br>tsne_y=%{y}<br>hashtags=%{customdata[0]}<extra></extra>",
         "hovertext": [
          "joetidy",
          "_lucyingham",
          "_lucyingham",
          "_lucyingham",
          "_lucyingham",
          "sophiafurber",
          "sophiafurber",
          "sophiafurber",
          "sophiafurber",
          "sophiafurber",
          "sophiafurber",
          "sophiafurber",
          "sophiafurber",
          "sophiafurber",
          "sophiafurber",
          "sophiafurber",
          "sophiafurber",
          "sophiafurber",
          "sophiafurber",
          "sophiafurber",
          "sophiafurber",
          "sophiafurber",
          "sophiafurber",
          "sophiafurber",
          "sophiafurber",
          "sophiafurber",
          "sophiafurber",
          "sophiafurber",
          "sophiafurber",
          "sophiafurber",
          "sophiafurber",
          "sophiafurber",
          "sophiafurber",
          "sophiafurber",
          "sophiafurber",
          "sophiafurber",
          "sophiafurber",
          "sophiafurber",
          "sophiafurber",
          "sophiafurber",
          "sophiafurber",
          "sophiafurber",
          "sophiafurber",
          "sophiafurber",
          "sophiafurber",
          "mshannahmurphy",
          "mshannahmurphy"
         ],
         "legendgroup": "4",
         "marker": {
          "color": "rgb(231, 63, 116)",
          "symbol": "circle"
         },
         "mode": "markers",
         "name": "4",
         "showlegend": true,
         "type": "scattergl",
         "x": [
          -9.442235946655273,
          -17.734880447387695,
          -14.676589965820312,
          -17.734880447387695,
          -14.676589965820312,
          -14.0789155960083,
          -11.229018211364746,
          -13.447834968566895,
          -10.477147102355957,
          36.13960266113281,
          -15.570584297180176,
          -13.878684997558594,
          -12.485068321228027,
          -15.078675270080566,
          -12.45998764038086,
          -14.0789155960083,
          -13.724416732788086,
          -13.724416732788086,
          -14.468628883361816,
          -15.114014625549316,
          -11.224647521972656,
          -48.0869255065918,
          -10.114997863769531,
          -14.647111892700195,
          -12.375264167785645,
          -12.160310745239258,
          -12.845900535583496,
          -10.94225788116455,
          -11.0617094039917,
          -13.714879989624023,
          -11.700578689575195,
          -13.724416732788086,
          -12.037102699279785,
          -15.488648414611816,
          -9.821276664733887,
          -10.070959091186523,
          -11.195892333984375,
          -13.2581205368042,
          -12.45998764038086,
          -12.45998764038086,
          -12.797557830810547,
          -8.032645225524902,
          -12.45998764038086,
          -12.45998764038086,
          -13.17652702331543,
          -9.009413719177246,
          -7.429265975952148
         ],
         "xaxis": "x",
         "y": [
          -105.09798431396484,
          -102.97815704345703,
          -106.74373626708984,
          -102.97815704345703,
          -106.74373626708984,
          -101.32244873046875,
          -100.67608642578125,
          -100.49529266357422,
          -103.07522583007812,
          -119.0467300415039,
          -100.6829833984375,
          -105.00553131103516,
          -103.1173324584961,
          -102.71610260009766,
          -101.61898803710938,
          -101.32244873046875,
          -102.68829345703125,
          -102.68829345703125,
          -100.18968963623047,
          -101.77082061767578,
          -103.80875396728516,
          -88.17282104492188,
          -97.81881713867188,
          -103.85028839111328,
          -98.97654724121094,
          -104.04613494873047,
          -99.97870635986328,
          -101.4763412475586,
          -102.30424499511719,
          -99.41057586669922,
          -102.90414428710938,
          -102.68829345703125,
          -100.19868469238281,
          -98.29495239257812,
          -101.94060516357422,
          -100.66876983642578,
          -99.7167739868164,
          -96.53591918945312,
          -101.61898803710938,
          -101.61898803710938,
          -105.51392364501953,
          -101.5405502319336,
          -101.61898803710938,
          -101.61898803710938,
          -103.80814361572266,
          -97.03350067138672,
          -97.4396743774414
         ],
         "yaxis": "y"
        },
        {
         "customdata": [
          [
           "['bbc', 'london']"
          ],
          [
           "['crypto']"
          ],
          [
           "['london', 'fintechweek', 'london', 'fintech', 'ftw17', 'brexit']"
          ],
          [
           "['london', 'drinking']"
          ],
          [
           "['london']"
          ],
          [
           "['crypto', 'defi']"
          ],
          [
           "['crypto']"
          ],
          [
           "['crypto', 'cfds']"
          ],
          [
           "['crypto', 'eco']"
          ],
          [
           "['crypto', 'cryptonews']"
          ]
         ],
         "hovertemplate": "<b>%{hovertext}</b><br><br>labels=47<br>tsne_x=%{x}<br>tsne_y=%{y}<br>hashtags=%{customdata[0]}<extra></extra>",
         "hovertext": [
          "joetidy",
          "sophiafurber",
          "sophiafurber",
          "sophiafurber",
          "sophiafurber",
          "mshannahmurphy",
          "mshannahmurphy",
          "mshannahmurphy",
          "mshannahmurphy",
          "mshannahmurphy"
         ],
         "legendgroup": "47",
         "marker": {
          "color": "rgb(128, 186, 90)",
          "symbol": "circle"
         },
         "mode": "markers",
         "name": "47",
         "showlegend": true,
         "type": "scattergl",
         "x": [
          -28.703584671020508,
          4.6343092918396,
          -29.526182174682617,
          -28.664165496826172,
          -28.57762908935547,
          5.273768901824951,
          5.049354076385498,
          6.401647090911865,
          5.273768901824951,
          4.6779866218566895
         ],
         "xaxis": "x",
         "y": [
          -68.25482177734375,
          -86.03424072265625,
          -69.58047485351562,
          -68.17704772949219,
          -67.9960708618164,
          -86.4745864868164,
          -85.8003921508789,
          -85.71646881103516,
          -86.4745864868164,
          -86.86618041992188
         ],
         "yaxis": "y"
        },
        {
         "customdata": [
          [
           "['fortniteworldcup']"
          ],
          [
           "['fortniteworldcup']"
          ],
          [
           "['fortniteworldcup']"
          ],
          [
           "['fortniteworldcup']"
          ],
          [
           "['fortniteworldcup']"
          ],
          [
           "['fortniteworldcup']"
          ],
          [
           "['fortniteworldcup']"
          ],
          [
           "['fortniteworldcup']"
          ],
          [
           "['fortniteworldcup']"
          ],
          [
           "['fortniteworldcup']"
          ],
          [
           "['fortniteworldcup']"
          ],
          [
           "['fortniteworldcup']"
          ],
          [
           "['fortniteworldcup']"
          ],
          [
           "['fortniteworldcup']"
          ],
          [
           "['fortniteworldcup']"
          ],
          [
           "['fortniteworldcup']"
          ],
          [
           "['fortniteworldcup']"
          ],
          [
           "['fortniteworldcup']"
          ],
          [
           "['fortniteworldcup']"
          ],
          [
           "['fortniteworldcup']"
          ],
          [
           "['fortniteworldcup']"
          ],
          [
           "['fortniteworldcup']"
          ],
          [
           "['fortniteworldcup']"
          ],
          [
           "['fortniteworldcup']"
          ],
          [
           "['fortniteworldcup']"
          ],
          [
           "['fortniteworldcup']"
          ],
          [
           "['fortniteworldcup']"
          ],
          [
           "['fortniteworldcup']"
          ],
          [
           "['fortniteworldcup']"
          ],
          [
           "['fortniteworldcup']"
          ],
          [
           "['fortniteworldcup']"
          ],
          [
           "['fortniteworldcup']"
          ],
          [
           "['fortniteworldcup']"
          ]
         ],
         "hovertemplate": "<b>%{hovertext}</b><br><br>labels=11<br>tsne_x=%{x}<br>tsne_y=%{y}<br>hashtags=%{customdata[0]}<extra></extra>",
         "hovertext": [
          "joetidy",
          "joetidy",
          "joetidy",
          "joetidy",
          "joetidy",
          "joetidy",
          "joetidy",
          "joetidy",
          "joetidy",
          "joetidy",
          "joetidy",
          "joetidy",
          "joetidy",
          "joetidy",
          "joetidy",
          "joetidy",
          "joetidy",
          "joetidy",
          "joetidy",
          "joetidy",
          "joetidy",
          "joetidy",
          "joetidy",
          "joetidy",
          "joetidy",
          "joetidy",
          "joetidy",
          "joetidy",
          "joetidy",
          "joetidy",
          "joetidy",
          "joetidy",
          "joetidy"
         ],
         "legendgroup": "11",
         "marker": {
          "color": "rgb(230, 131, 16)",
          "symbol": "circle"
         },
         "mode": "markers",
         "name": "11",
         "showlegend": true,
         "type": "scattergl",
         "x": [
          -104.70923614501953,
          -102.37008666992188,
          -103.61407470703125,
          -101.27473449707031,
          -102.046142578125,
          -103.2069091796875,
          -103.2069091796875,
          -100.47272491455078,
          -102.046142578125,
          -103.3711929321289,
          -102.81654357910156,
          -100.90658569335938,
          -100.12010955810547,
          -101.63459014892578,
          -100.90658569335938,
          -102.046142578125,
          -100.47272491455078,
          -103.49090576171875,
          -104.8300552368164,
          -103.51686096191406,
          -100.47272491455078,
          -104.70923614501953,
          -101.63459014892578,
          -104.8300552368164,
          -101.34017181396484,
          -103.49090576171875,
          -103.49090576171875,
          -102.17800903320312,
          -101.63459014892578,
          -103.3711929321289,
          -104.50892639160156,
          -99.59944152832031,
          -102.17800903320312
         ],
         "xaxis": "x",
         "y": [
          39.60858917236328,
          42.606689453125,
          39.136329650878906,
          41.95433807373047,
          39.853633880615234,
          37.82969665527344,
          37.82969665527344,
          39.307830810546875,
          39.853633880615234,
          40.23908615112305,
          38.98070526123047,
          40.79747009277344,
          41.860172271728516,
          38.15157699584961,
          40.79747009277344,
          39.853633880615234,
          39.307830810546875,
          41.649208068847656,
          41.033836364746094,
          43.02143859863281,
          39.307830810546875,
          39.60858917236328,
          38.15157699584961,
          41.033836364746094,
          42.91730499267578,
          41.649208068847656,
          41.649208068847656,
          41.22987365722656,
          38.15157699584961,
          40.23908615112305,
          38.2945671081543,
          40.55397033691406,
          41.22987365722656
         ],
         "yaxis": "y"
        },
        {
         "customdata": [
          [
           "['fortniteworldcup2019']"
          ],
          [
           "['fortniteworldcup2019']"
          ],
          [
           "['fortniteworldcup2019']"
          ],
          [
           "['fortniteworldcup2019']"
          ],
          [
           "['fortniteworldcup2019']"
          ],
          [
           "['fortniteworldcup2019']"
          ],
          [
           "['fortniteworldcup2019']"
          ],
          [
           "['fortniteworldcup2019']"
          ],
          [
           "['fortniteworldcup2019']"
          ],
          [
           "['fortniteworldcup2019']"
          ]
         ],
         "hovertemplate": "<b>%{hovertext}</b><br><br>labels=66<br>tsne_x=%{x}<br>tsne_y=%{y}<br>hashtags=%{customdata[0]}<extra></extra>",
         "hovertext": [
          "joetidy",
          "joetidy",
          "joetidy",
          "joetidy",
          "joetidy",
          "joetidy",
          "joetidy",
          "joetidy",
          "joetidy",
          "joetidy"
         ],
         "legendgroup": "66",
         "marker": {
          "color": "rgb(0, 134, 149)",
          "symbol": "circle"
         },
         "mode": "markers",
         "name": "66",
         "showlegend": true,
         "type": "scattergl",
         "x": [
          63.746795654296875,
          63.746795654296875,
          63.746795654296875,
          63.746795654296875,
          63.746795654296875,
          63.746795654296875,
          62.51681900024414,
          63.746795654296875,
          63.746795654296875,
          63.746795654296875
         ],
         "xaxis": "x",
         "y": [
          6.153532028198242,
          6.153532028198242,
          6.153532028198242,
          6.153532028198242,
          6.153532028198242,
          6.153532028198242,
          5.612624645233154,
          6.153532028198242,
          6.153532028198242,
          6.153532028198242
         ],
         "yaxis": "y"
        },
        {
         "customdata": [
          [
           "['infosec']"
          ],
          [
           "['infosec']"
          ],
          [
           "['infosec']"
          ],
          [
           "['infosec']"
          ],
          [
           "['efail', 'infosec']"
          ],
          [
           "['infosec']"
          ]
         ],
         "hovertemplate": "<b>%{hovertext}</b><br><br>labels=82<br>tsne_x=%{x}<br>tsne_y=%{y}<br>hashtags=%{customdata[0]}<extra></extra>",
         "hovertext": [
          "joetidy",
          "dannyjpalmer",
          "dannyjpalmer",
          "jesscahaworth",
          "jesscahaworth",
          "ad_nauseum74"
         ],
         "legendgroup": "82",
         "marker": {
          "color": "rgb(207, 28, 144)",
          "symbol": "circle"
         },
         "mode": "markers",
         "name": "82",
         "showlegend": true,
         "type": "scattergl",
         "x": [
          43.44767761230469,
          42.98460388183594,
          43.94197082519531,
          43.05899429321289,
          44.0958137512207,
          43.56263732910156
         ],
         "xaxis": "x",
         "y": [
          -64.82371520996094,
          -65.16065216064453,
          -65.05599975585938,
          -65.72846221923828,
          -65.64359283447266,
          -65.93798065185547
         ],
         "yaxis": "y"
        },
        {
         "customdata": [
          [
           "['scrollfreeseptember']"
          ],
          [
           "['scrollfreeseptember']"
          ],
          [
           "['scrollfreeseptember']"
          ],
          [
           "['scrollfreeseptember']"
          ],
          [
           "['scrollfreeseptember']"
          ],
          [
           "['scrollfreeseptember']"
          ],
          [
           "['scrollfreeseptember']"
          ],
          [
           "['scrollfreeseptember']"
          ],
          [
           "['scrollfreeseptember']"
          ],
          [
           "['instagram', 'machinelearning', 'scrollfreeseptember']"
          ],
          [
           "['scrollfreeseptember']"
          ],
          [
           "['scrollfreeseptember']"
          ],
          [
           "['scrollfreeseptember']"
          ],
          [
           "['scrollfreeseptember']"
          ],
          [
           "['scrollfreeseptember']"
          ],
          [
           "['scrollfreeseptember']"
          ],
          [
           "['scrollfreeseptember']"
          ],
          [
           "['scrollfreeseptember']"
          ],
          [
           "['scrollfreeseptember']"
          ]
         ],
         "hovertemplate": "<b>%{hovertext}</b><br><br>labels=19<br>tsne_x=%{x}<br>tsne_y=%{y}<br>hashtags=%{customdata[0]}<extra></extra>",
         "hovertext": [
          "joetidy",
          "joetidy",
          "joetidy",
          "joetidy",
          "joetidy",
          "joetidy",
          "joetidy",
          "joetidy",
          "joetidy",
          "joetidy",
          "joetidy",
          "joetidy",
          "joetidy",
          "joetidy",
          "joetidy",
          "joetidy",
          "joetidy",
          "joetidy",
          "joetidy"
         ],
         "legendgroup": "19",
         "marker": {
          "color": "rgb(249, 123, 114)",
          "symbol": "circle"
         },
         "mode": "markers",
         "name": "19",
         "showlegend": true,
         "type": "scattergl",
         "x": [
          60.60606384277344,
          60.69187927246094,
          60.60606384277344,
          59.38969039916992,
          59.04075241088867,
          59.04075241088867,
          59.886600494384766,
          59.38969039916992,
          57.94922637939453,
          60.5601806640625,
          59.04075241088867,
          57.94922637939453,
          60.60606384277344,
          60.60606384277344,
          58.9786376953125,
          59.04075241088867,
          59.04075241088867,
          60.69187927246094,
          58.274383544921875
         ],
         "xaxis": "x",
         "y": [
          24.381607055664062,
          25.81121826171875,
          24.381607055664062,
          25.427366256713867,
          23.94817352294922,
          23.94817352294922,
          26.566560745239258,
          25.427366256713867,
          24.968793869018555,
          21.582778930664062,
          23.94817352294922,
          24.968793869018555,
          24.381607055664062,
          24.381607055664062,
          26.483299255371094,
          23.94817352294922,
          23.94817352294922,
          25.81121826171875,
          25.991609573364258
         ],
         "yaxis": "y"
        },
        {
         "customdata": [
          [
           "['pretinquest']"
          ],
          [
           "['pretinquest']"
          ],
          [
           "['pretinquest']"
          ],
          [
           "['pretinquest']"
          ],
          [
           "['pretinquest']"
          ],
          [
           "['pretinquest']"
          ],
          [
           "['pretinquest']"
          ],
          [
           "['pretinquest']"
          ],
          [
           "['pretinquest']"
          ],
          [
           "['pretinquest']"
          ]
         ],
         "hovertemplate": "<b>%{hovertext}</b><br><br>labels=65<br>tsne_x=%{x}<br>tsne_y=%{y}<br>hashtags=%{customdata[0]}<extra></extra>",
         "hovertext": [
          "joetidy",
          "joetidy",
          "joetidy",
          "joetidy",
          "joetidy",
          "joetidy",
          "joetidy",
          "joetidy",
          "joetidy",
          "joetidy"
         ],
         "legendgroup": "65",
         "marker": {
          "color": "rgb(165, 170, 153)",
          "symbol": "circle"
         },
         "mode": "markers",
         "name": "65",
         "showlegend": true,
         "type": "scattergl",
         "x": [
          5.04561185836792,
          4.931830883026123,
          3.7772862911224365,
          4.931830883026123,
          3.7772862911224365,
          4.931830883026123,
          3.7772862911224365,
          5.04561185836792,
          4.136810779571533,
          3.7772862911224365
         ],
         "xaxis": "x",
         "y": [
          -39.616920471191406,
          -40.81992721557617,
          -40.27189636230469,
          -40.81992721557617,
          -40.27189636230469,
          -40.81992721557617,
          -40.27189636230469,
          -39.616920471191406,
          -39.15522003173828,
          -40.27189636230469
         ],
         "yaxis": "y"
        },
        {
         "customdata": [
          [
           "['instagram', 'machinelearning', 'anorexia']"
          ],
          [
           "['machinelearning', 'species18']"
          ],
          [
           "['artificialinteligence', 'machinelearning', 'cybersecurity']"
          ],
          [
           "['artificialinteligence', 'machinelearning', 'cybersecurity']"
          ]
         ],
         "hovertemplate": "<b>%{hovertext}</b><br><br>labels=75<br>tsne_x=%{x}<br>tsne_y=%{y}<br>hashtags=%{customdata[0]}<extra></extra>",
         "hovertext": [
          "joetidy",
          "_lucyingham",
          "ad_nauseum74",
          "ad_nauseum74"
         ],
         "legendgroup": "75",
         "marker": {
          "color": "rgb(127, 60, 141)",
          "symbol": "circle"
         },
         "mode": "markers",
         "name": "75",
         "showlegend": true,
         "type": "scattergl",
         "x": [
          65.08550262451172,
          65.08201599121094,
          92.12530517578125,
          92.12530517578125
         ],
         "xaxis": "x",
         "y": [
          -17.606552124023438,
          -17.6084041595459,
          -56.92524337768555,
          -56.92524337768555
         ],
         "yaxis": "y"
        },
        {
         "customdata": [
          [
           "['journalistsforbelarus', 'journorequest']"
          ],
          [
           "['facialrecognition', 'georgefloyd', 'blacklivesmatter', 'journorequest']"
          ],
          [
           "['journalistsforbelarus', 'journorequest']"
          ],
          [
           "['facialrecognition', 'georgefloyd', 'blacklivesmatter', 'journorequest']"
          ],
          [
           "['journorequest']"
          ],
          [
           "['journorequest']"
          ],
          [
           "['journorequest']"
          ],
          [
           "['journorequest']"
          ],
          [
           "['journorequest']"
          ],
          [
           "['journorequest']"
          ],
          [
           "['journorequest']"
          ],
          [
           "['journorequest']"
          ],
          [
           "['journorequest']"
          ],
          [
           "['journorequest']"
          ],
          [
           "['journorequest']"
          ],
          [
           "['journorequest']"
          ],
          [
           "['journorequest']"
          ],
          [
           "['journorequest']"
          ],
          [
           "['journorequest']"
          ],
          [
           "['journorequest']"
          ],
          [
           "['journorequest']"
          ],
          [
           "['journorequest']"
          ],
          [
           "['journorequest']"
          ],
          [
           "['journorequest']"
          ],
          [
           "['journorequest']"
          ],
          [
           "['journorequest']"
          ],
          [
           "['journorequest']"
          ],
          [
           "['journorequest']"
          ],
          [
           "['journorequest']"
          ],
          [
           "['journorequest']"
          ],
          [
           "['journorequest']"
          ],
          [
           "['journorequest']"
          ],
          [
           "['journorequest']"
          ],
          [
           "['journojobs', 'journorequest', 'journalism']"
          ],
          [
           "['journojobs', 'journorequest', 'journalism']"
          ],
          [
           "['cybersecurity', 'journorequest', 'prrequest', 'business']"
          ],
          [
           "['cybersecurity', 'internationalwomensday', 'journorequest', 'websecurity', 'business']"
          ],
          [
           "['cybersecurity', 'railways', 'journorequest', 'trains', 'pr']"
          ]
         ],
         "hovertemplate": "<b>%{hovertext}</b><br><br>labels=7<br>tsne_x=%{x}<br>tsne_y=%{y}<br>hashtags=%{customdata[0]}<extra></extra>",
         "hovertext": [
          "_lucyingham",
          "_lucyingham",
          "_lucyingham",
          "_lucyingham",
          "_lucyingham",
          "_lucyingham",
          "scfgallagher",
          "scfgallagher",
          "scfgallagher",
          "scfgallagher",
          "scfgallagher",
          "scfgallagher",
          "scfgallagher",
          "scfgallagher",
          "scfgallagher",
          "scfgallagher",
          "scfgallagher",
          "scfgallagher",
          "scfgallagher",
          "scfgallagher",
          "scfgallagher",
          "scfgallagher",
          "scfgallagher",
          "scfgallagher",
          "scfgallagher",
          "scfgallagher",
          "scfgallagher",
          "scfgallagher",
          "scfgallagher",
          "scfgallagher",
          "scfgallagher",
          "scfgallagher",
          "scfgallagher",
          "jesscahaworth",
          "jesscahaworth",
          "jesscahaworth",
          "jesscahaworth",
          "jesscahaworth"
         ],
         "legendgroup": "7",
         "marker": {
          "color": "rgb(17, 165, 121)",
          "symbol": "circle"
         },
         "mode": "markers",
         "name": "7",
         "showlegend": true,
         "type": "scattergl",
         "x": [
          81.37992858886719,
          81.84215545654297,
          82.06985473632812,
          81.84215545654297,
          81.246337890625,
          83.3631362915039,
          84.99179077148438,
          84.27472686767578,
          82.43648529052734,
          81.71817016601562,
          84.25352478027344,
          83.08119201660156,
          83.66875457763672,
          86.6263656616211,
          83.56721496582031,
          84.96651458740234,
          83.56721496582031,
          84.27472686767578,
          84.70280456542969,
          84.70280456542969,
          85.87151336669922,
          84.70280456542969,
          83.08119201660156,
          86.33393096923828,
          84.99179077148438,
          83.56721496582031,
          82.33513641357422,
          85.46525573730469,
          83.06653594970703,
          85.46525573730469,
          86.09954071044922,
          82.43648529052734,
          83.08119201660156,
          77.41002655029297,
          77.41002655029297,
          85.66156768798828,
          85.81697845458984,
          85.5628890991211
         ],
         "xaxis": "x",
         "y": [
          -27.877851486206055,
          -22.08770179748535,
          -26.68094253540039,
          -22.08769989013672,
          -29.086332321166992,
          -29.376483917236328,
          -27.832408905029297,
          -29.13999366760254,
          -28.977481842041016,
          -30.19696044921875,
          -26.913022994995117,
          -30.589384078979492,
          -25.991025924682617,
          -29.025569915771484,
          -27.999143600463867,
          -26.248249053955078,
          -27.999143600463867,
          -29.13999366760254,
          -30.553659439086914,
          -30.553659439086914,
          -26.916608810424805,
          -30.553659439086914,
          -30.589384078979492,
          -27.90475082397461,
          -27.832408905029297,
          -27.999143600463867,
          -27.745555877685547,
          -29.054479598999023,
          -26.779556274414062,
          -29.054479598999023,
          -30.236982345581055,
          -28.977481842041016,
          -30.589384078979492,
          -26.364294052124023,
          -26.364294052124023,
          -35.51826095581055,
          -36.327293395996094,
          -35.017086029052734
         ],
         "yaxis": "y"
        },
        {
         "customdata": [
          [
           "['covid_19', 'covidiots', 'coviduk', 'chooselies']"
          ],
          [
           "['covid_19', 'covidiots', 'coviduk', 'chooselies']"
          ]
         ],
         "hovertemplate": "<b>%{hovertext}</b><br><br>labels=95<br>tsne_x=%{x}<br>tsne_y=%{y}<br>hashtags=%{customdata[0]}<extra></extra>",
         "hovertext": [
          "_lucyingham",
          "_lucyingham"
         ],
         "legendgroup": "95",
         "marker": {
          "color": "rgb(57, 105, 172)",
          "symbol": "circle"
         },
         "mode": "markers",
         "name": "95",
         "showlegend": true,
         "type": "scattergl",
         "x": [
          30.568538665771484,
          30.568538665771484
         ],
         "xaxis": "x",
         "y": [
          -42.194061279296875,
          -42.194061279296875
         ],
         "yaxis": "y"
        },
        {
         "customdata": [
          [
           "['remoteworking']"
          ],
          [
           "['remoteworking']"
          ],
          [
           "['remoteworking']"
          ],
          [
           "['remoteworking']"
          ],
          [
           "['remoteworking']"
          ],
          [
           "['remoteworking', 'lookslikeanipadonasegway']"
          ]
         ],
         "hovertemplate": "<b>%{hovertext}</b><br><br>labels=96<br>tsne_x=%{x}<br>tsne_y=%{y}<br>hashtags=%{customdata[0]}<extra></extra>",
         "hovertext": [
          "_lucyingham",
          "_lucyingham",
          "_lucyingham",
          "_lucyingham",
          "_lucyingham",
          "mshannahmurphy"
         ],
         "legendgroup": "96",
         "marker": {
          "color": "rgb(242, 183, 1)",
          "symbol": "circle"
         },
         "mode": "markers",
         "name": "96",
         "showlegend": true,
         "type": "scattergl",
         "x": [
          7.733031749725342,
          8.722587585449219,
          7.974689960479736,
          8.564684867858887,
          7.733031749725342,
          8.33575439453125
         ],
         "xaxis": "x",
         "y": [
          -56.4544792175293,
          -56.446067810058594,
          -55.745113372802734,
          -55.9160270690918,
          -56.4544792175293,
          -56.977474212646484
         ],
         "yaxis": "y"
        },
        {
         "customdata": [
          [
           "['journalism']"
          ],
          [
           "['journalism']"
          ],
          [
           "['journalism']"
          ],
          [
           "['journalism', 'stoptedcruz', 'verdict', 'journorequests']"
          ],
          [
           "['journalism']"
          ],
          [
           "['journojobs']"
          ],
          [
           "['journojobs']"
          ],
          [
           "['journojobs']"
          ],
          [
           "['journojobs']"
          ],
          [
           "['journojobs']"
          ],
          [
           "['journalism', 'neverendingstory']"
          ]
         ],
         "hovertemplate": "<b>%{hovertext}</b><br><br>labels=67<br>tsne_x=%{x}<br>tsne_y=%{y}<br>hashtags=%{customdata[0]}<extra></extra>",
         "hovertext": [
          "_lucyingham",
          "_lucyingham",
          "_lucyingham",
          "_lucyingham",
          "_lucyingham",
          "_lucyingham",
          "_lucyingham",
          "_lucyingham",
          "_lucyingham",
          "_lucyingham",
          "sophiafurber"
         ],
         "legendgroup": "67",
         "marker": {
          "color": "rgb(231, 63, 116)",
          "symbol": "circle"
         },
         "mode": "markers",
         "name": "67",
         "showlegend": true,
         "type": "scattergl",
         "x": [
          42.31447219848633,
          42.31447219848633,
          42.31447219848633,
          43.739566802978516,
          42.31447219848633,
          40.40398406982422,
          40.40398406982422,
          40.40398406982422,
          40.40398406982422,
          40.40398406982422,
          42.540008544921875
         ],
         "xaxis": "x",
         "y": [
          -5.98772668838501,
          -5.98772668838501,
          -5.98772668838501,
          -5.271895408630371,
          -5.98772668838501,
          -5.847469329833984,
          -5.847469329833984,
          -5.847469329833984,
          -5.847469329833984,
          -5.847469329833984,
          -4.884261608123779
         ],
         "yaxis": "y"
        },
        {
         "customdata": [
          [
           "['libreplanet2020']"
          ],
          [
           "['libreplanet2020']"
          ],
          [
           "['libreplanet2020', 'gnu']"
          ],
          [
           "['libreplanet2020']"
          ],
          [
           "['libreplanet2020']"
          ],
          [
           "['libreplanet2020']"
          ],
          [
           "['libreplanet2020', 'gnu']"
          ],
          [
           "['libreplanet2020']"
          ],
          [
           "['libreplanet2020']"
          ],
          [
           "['libreplanet2020']"
          ]
         ],
         "hovertemplate": "<b>%{hovertext}</b><br><br>labels=51<br>tsne_x=%{x}<br>tsne_y=%{y}<br>hashtags=%{customdata[0]}<extra></extra>",
         "hovertext": [
          "_lucyingham",
          "_lucyingham",
          "_lucyingham",
          "_lucyingham",
          "_lucyingham",
          "_lucyingham",
          "_lucyingham",
          "_lucyingham",
          "_lucyingham",
          "_lucyingham"
         ],
         "legendgroup": "51",
         "marker": {
          "color": "rgb(128, 186, 90)",
          "symbol": "circle"
         },
         "mode": "markers",
         "name": "51",
         "showlegend": true,
         "type": "scattergl",
         "x": [
          -22.472576141357422,
          -20.90091323852539,
          -20.92881202697754,
          -22.165748596191406,
          -21.766084671020508,
          -20.90091323852539,
          -20.92881202697754,
          -21.53038215637207,
          -21.921720504760742,
          -22.633100509643555
         ],
         "xaxis": "x",
         "y": [
          -76.15534210205078,
          -77.04844665527344,
          -75.91275024414062,
          -77.4212417602539,
          -76.62871551513672,
          -77.04844665527344,
          -75.91275024414062,
          -77.73591613769531,
          -75.7042465209961,
          -76.89491271972656
         ],
         "yaxis": "y"
        },
        {
         "customdata": [
          [
           "['coronavirus', 'bitcoin', 'bitcoinhalving']"
          ],
          [
           "['coronavirus', 'bitcoin', 'bitcoinhalving']"
          ],
          [
           "['crypto', 'bitcoin']"
          ],
          [
           "['blockchain', 'bitcoin']"
          ],
          [
           "['bitcoin', 'cryptonews']"
          ],
          [
           "['crypto', 'bitcoin']"
          ],
          [
           "['bitcoin']"
          ],
          [
           "['bitcoin', 'cryptocurrency']"
          ],
          [
           "['bitcoin']"
          ],
          [
           "['bitcoin']"
          ],
          [
           "['bitcoin']"
          ],
          [
           "['bitcoin']"
          ],
          [
           "['bitcoin']"
          ],
          [
           "['bitcoin']"
          ],
          [
           "['icos', 'initialcoinoffering', 'bitcoin', 'cryptocurrency']"
          ],
          [
           "['bitcoin', 'buybuybuy', 'gocrypto']"
          ],
          [
           "['bitcoin', 'cryptocurrencies']"
          ],
          [
           "['bitcoin', 'greece']"
          ],
          [
           "['bitcoin', 'bitcoin']"
          ],
          [
           "['bitcoin', 'cryptocurrency', 'gold']"
          ],
          [
           "['soundcloud', 'bitcoin']"
          ],
          [
           "['bitcoin']"
          ],
          [
           "['silkroad', 'bitcoin']"
          ],
          [
           "['coinbase', 'bitcoin', 'london']"
          ],
          [
           "['bitcoin']"
          ],
          [
           "['blockchain', 'bitcoin']"
          ],
          [
           "['bitcoin']"
          ],
          [
           "['bitcoin']"
          ],
          [
           "['bitcoin', 'budget2015']"
          ],
          [
           "['bitcoin', 'budget2015']"
          ],
          [
           "['bitcoin']"
          ],
          [
           "['blockchain', 'bitcoin']"
          ],
          [
           "['bitcoin']"
          ]
         ],
         "hovertemplate": "<b>%{hovertext}</b><br><br>labels=9<br>tsne_x=%{x}<br>tsne_y=%{y}<br>hashtags=%{customdata[0]}<extra></extra>",
         "hovertext": [
          "_lucyingham",
          "_lucyingham",
          "mshannahmurphy",
          "mshannahmurphy",
          "mshannahmurphy",
          "mshannahmurphy",
          "mshannahmurphy",
          "mshannahmurphy",
          "mshannahmurphy",
          "mshannahmurphy",
          "mshannahmurphy",
          "mshannahmurphy",
          "mshannahmurphy",
          "mshannahmurphy",
          "mshannahmurphy",
          "mshannahmurphy",
          "mshannahmurphy",
          "mshannahmurphy",
          "mshannahmurphy",
          "mshannahmurphy",
          "mshannahmurphy",
          "mshannahmurphy",
          "mshannahmurphy",
          "mshannahmurphy",
          "mshannahmurphy",
          "mshannahmurphy",
          "mshannahmurphy",
          "mshannahmurphy",
          "mshannahmurphy",
          "mshannahmurphy",
          "mshannahmurphy",
          "mshannahmurphy",
          "mshannahmurphy"
         ],
         "legendgroup": "9",
         "marker": {
          "color": "rgb(230, 131, 16)",
          "symbol": "circle"
         },
         "mode": "markers",
         "name": "9",
         "showlegend": true,
         "type": "scattergl",
         "x": [
          33.5811882019043,
          33.5811882019043,
          13.738993644714355,
          11.931206703186035,
          15.464581489562988,
          13.738993644714355,
          18.241771697998047,
          17.936132431030273,
          15.286330223083496,
          18.241771697998047,
          16.85419464111328,
          16.35176658630371,
          15.286330223083496,
          16.85419464111328,
          18.028606414794922,
          17.92496109008789,
          18.540576934814453,
          17.71467399597168,
          15.654475212097168,
          18.218647003173828,
          15.423457145690918,
          15.286330223083496,
          15.423457145690918,
          19.94170379638672,
          16.85419464111328,
          12.084539413452148,
          16.85419464111328,
          17.22591209411621,
          16.62957763671875,
          16.62957763671875,
          16.85419464111328,
          12.084539413452148,
          16.85419464111328
         ],
         "xaxis": "x",
         "y": [
          -108.79268646240234,
          -108.7927017211914,
          -94.21923065185547,
          -97.9806137084961,
          -95.4442138671875,
          -94.21923065185547,
          -97.2816162109375,
          -92.75777435302734,
          -97.00662231445312,
          -97.2816162109375,
          -96.49159240722656,
          -97.78775024414062,
          -97.00662231445312,
          -96.49159240722656,
          -92.01154327392578,
          -98.36257934570312,
          -95.79645538330078,
          -99.4889144897461,
          -100.65362548828125,
          -92.35803985595703,
          -98.37730407714844,
          -97.00662231445312,
          -98.37730407714844,
          -98.72615051269531,
          -96.49159240722656,
          -98.4892578125,
          -96.49159240722656,
          -97.89443969726562,
          -98.78174591064453,
          -98.78174591064453,
          -96.49159240722656,
          -98.4892578125,
          -96.49159240722656
         ],
         "yaxis": "y"
        },
        {
         "customdata": [
          [
           "['dataprotection', 'gdpr']"
          ],
          [
           "['uber', 'dataprotection']"
          ]
         ],
         "hovertemplate": "<b>%{hovertext}</b><br><br>labels=44<br>tsne_x=%{x}<br>tsne_y=%{y}<br>hashtags=%{customdata[0]}<extra></extra>",
         "hovertext": [
          "_lucyingham",
          "jesscahaworth"
         ],
         "legendgroup": "44",
         "marker": {
          "color": "rgb(0, 134, 149)",
          "symbol": "circle"
         },
         "mode": "markers",
         "name": "44",
         "showlegend": true,
         "type": "scattergl",
         "x": [
          57.05622863769531,
          42.89976501464844
         ],
         "xaxis": "x",
         "y": [
          -12.206197738647461,
          4.003872394561768
         ],
         "yaxis": "y"
        },
        {
         "customdata": [
          [
           "['awssummit']"
          ],
          [
           "['development', 'serverless', 'awssummit']"
          ],
          [
           "['encryption', 'cybersecurity', 'awssummit']"
          ],
          [
           "['cybersecurity', 'awssummit']"
          ],
          [
           "['awssummit']"
          ],
          [
           "['awssummit']"
          ],
          [
           "['machinelearning', 'awssummit']"
          ],
          [
           "['awssummit']"
          ],
          [
           "['awssummit']"
          ],
          [
           "['awssummit']"
          ],
          [
           "['awssummit']"
          ],
          [
           "['awssummit']"
          ],
          [
           "['awssummit']"
          ],
          [
           "['awssummit']"
          ]
         ],
         "hovertemplate": "<b>%{hovertext}</b><br><br>labels=28<br>tsne_x=%{x}<br>tsne_y=%{y}<br>hashtags=%{customdata[0]}<extra></extra>",
         "hovertext": [
          "_lucyingham",
          "_lucyingham",
          "_lucyingham",
          "_lucyingham",
          "_lucyingham",
          "_lucyingham",
          "_lucyingham",
          "_lucyingham",
          "_lucyingham",
          "_lucyingham",
          "_lucyingham",
          "_lucyingham",
          "_lucyingham",
          "_lucyingham"
         ],
         "legendgroup": "28",
         "marker": {
          "color": "rgb(207, 28, 144)",
          "symbol": "circle"
         },
         "mode": "markers",
         "name": "28",
         "showlegend": true,
         "type": "scattergl",
         "x": [
          53.21144485473633,
          53.266056060791016,
          83.12486267089844,
          83.14226531982422,
          53.21144485473633,
          53.21144485473633,
          54.957740783691406,
          53.21144485473633,
          53.21144485473633,
          53.21144485473633,
          54.45458221435547,
          54.45458221435547,
          53.21144485473633,
          53.21144485473633
         ],
         "xaxis": "x",
         "y": [
          -2.524461507797241,
          -1.0812599658966064,
          -46.84217834472656,
          -46.8581657409668,
          -2.524461507797241,
          -2.524461507797241,
          -3.9488444328308105,
          -2.524461507797241,
          -2.524461507797241,
          -2.524461507797241,
          -1.8454639911651611,
          -1.8454639911651611,
          -2.524461507797241,
          -2.524461507797241
         ],
         "yaxis": "y"
        },
        {
         "customdata": [
          [
           "['ff7r']"
          ],
          [
           "['ff7r']"
          ],
          [
           "['ff7r']"
          ],
          [
           "['ff7r']"
          ],
          [
           "['ff7r']"
          ],
          [
           "['ff7r']"
          ],
          [
           "['ff7r']"
          ],
          [
           "['ff7r']"
          ],
          [
           "['ff7r']"
          ],
          [
           "['ff7r']"
          ],
          [
           "['reddwarf', 'ff7r']"
          ],
          [
           "['ff7r']"
          ]
         ],
         "hovertemplate": "<b>%{hovertext}</b><br><br>labels=42<br>tsne_x=%{x}<br>tsne_y=%{y}<br>hashtags=%{customdata[0]}<extra></extra>",
         "hovertext": [
          "dannyjpalmer",
          "dannyjpalmer",
          "dannyjpalmer",
          "dannyjpalmer",
          "dannyjpalmer",
          "dannyjpalmer",
          "dannyjpalmer",
          "dannyjpalmer",
          "dannyjpalmer",
          "dannyjpalmer",
          "dannyjpalmer",
          "dannyjpalmer"
         ],
         "legendgroup": "42",
         "marker": {
          "color": "rgb(249, 123, 114)",
          "symbol": "circle"
         },
         "mode": "markers",
         "name": "42",
         "showlegend": true,
         "type": "scattergl",
         "x": [
          -25.56511878967285,
          -25.56511878967285,
          -25.56511878967285,
          -25.56511878967285,
          -25.56511878967285,
          -25.56511878967285,
          -25.56511878967285,
          -25.56511878967285,
          -25.56511878967285,
          -25.56511878967285,
          -24.636844635009766,
          -25.56511878967285
         ],
         "xaxis": "x",
         "y": [
          -23.427173614501953,
          -23.427173614501953,
          -23.427173614501953,
          -23.427173614501953,
          -23.427173614501953,
          -23.427173614501953,
          -23.427173614501953,
          -23.427173614501953,
          -23.427173614501953,
          -23.427173614501953,
          -22.237472534179688,
          -23.427173614501953
         ],
         "yaxis": "y"
        },
        {
         "customdata": [
          [
           "['ecb', 'visa', 'mastercard']"
          ],
          [
           "['ecb', 'visa', 'mastercard']"
          ],
          [
           "['ftbanking']"
          ],
          [
           "['demonetization', 'ftbanking']"
          ],
          [
           "['ftbanking']"
          ],
          [
           "['interestrates', 'ecb', 'populism', 'ftbanking']"
          ],
          [
           "['ftbanking']"
          ],
          [
           "['ftbanking']"
          ],
          [
           "['ftbanking']"
          ],
          [
           "['ftbanking']"
          ],
          [
           "['ecb']"
          ]
         ],
         "hovertemplate": "<b>%{hovertext}</b><br><br>labels=52<br>tsne_x=%{x}<br>tsne_y=%{y}<br>hashtags=%{customdata[0]}<extra></extra>",
         "hovertext": [
          "sophiafurber",
          "sophiafurber",
          "sophiafurber",
          "sophiafurber",
          "sophiafurber",
          "sophiafurber",
          "sophiafurber",
          "sophiafurber",
          "sophiafurber",
          "sophiafurber",
          "mshannahmurphy"
         ],
         "legendgroup": "52",
         "marker": {
          "color": "rgb(165, 170, 153)",
          "symbol": "circle"
         },
         "mode": "markers",
         "name": "52",
         "showlegend": true,
         "type": "scattergl",
         "x": [
          -2.8188138008117676,
          -2.818821430206299,
          -7.059401988983154,
          -6.173580169677734,
          -7.437591552734375,
          -5.026483535766602,
          -6.370666027069092,
          -6.370666027069092,
          -7.311265468597412,
          -6.764034748077393,
          -3.336327075958252
         ],
         "xaxis": "x",
         "y": [
          -57.662879943847656,
          -57.66287612915039,
          -63.470794677734375,
          -62.235504150390625,
          -62.94783020019531,
          -62.56019592285156,
          -63.13909912109375,
          -63.13909912109375,
          -62.38381576538086,
          -62.286373138427734,
          -57.79680633544922
         ],
         "yaxis": "y"
        },
        {
         "customdata": [
          [
           "['greece', 'cyprus']"
          ],
          [
           "['italy', 'accountants', 'lospread']"
          ],
          [
           "['greece']"
          ],
          [
           "['portugal', 'wef', 'spain', 'italy']"
          ],
          [
           "['italy', 'greece', 'turkey']"
          ],
          [
           "['france', 'italy']"
          ],
          [
           "['greece']"
          ],
          [
           "['economist', 'italy']"
          ],
          [
           "['greece']"
          ],
          [
           "['italy', 'mafia', 'mafiacapitale']"
          ]
         ],
         "hovertemplate": "<b>%{hovertext}</b><br><br>labels=78<br>tsne_x=%{x}<br>tsne_y=%{y}<br>hashtags=%{customdata[0]}<extra></extra>",
         "hovertext": [
          "sophiafurber",
          "sophiafurber",
          "sophiafurber",
          "mshannahmurphy",
          "mshannahmurphy",
          "mshannahmurphy",
          "mshannahmurphy",
          "mshannahmurphy",
          "mshannahmurphy",
          "mshannahmurphy"
         ],
         "legendgroup": "78",
         "marker": {
          "color": "rgb(127, 60, 141)",
          "symbol": "circle"
         },
         "mode": "markers",
         "name": "78",
         "showlegend": true,
         "type": "scattergl",
         "x": [
          -2.552318811416626,
          -4.779148101806641,
          -3.1632609367370605,
          -5.049871444702148,
          -4.5902018547058105,
          -4.308619022369385,
          -2.656142473220825,
          -3.811920404434204,
          -2.656142473220825,
          -4.067469120025635
         ],
         "xaxis": "x",
         "y": [
          -48.9311408996582,
          -51.680397033691406,
          -48.607078552246094,
          -52.2968635559082,
          -52.7784309387207,
          -51.312286376953125,
          -48.24433898925781,
          -51.66621398925781,
          -48.24433898925781,
          -52.1993293762207
         ],
         "yaxis": "y"
        },
        {
         "customdata": [
          [
           "['sibos2019', 'lenditfintech']"
          ],
          [
           "['ecb', 'sibos2019']"
          ],
          [
           "['sibos2019']"
          ],
          [
           "['sibos2019']"
          ],
          [
           "['sibos2019']"
          ],
          [
           "['sibos2019']"
          ],
          [
           "['sibos2019']"
          ],
          [
           "['sibos2019']"
          ],
          [
           "['sibos2019']"
          ]
         ],
         "hovertemplate": "<b>%{hovertext}</b><br><br>labels=72<br>tsne_x=%{x}<br>tsne_y=%{y}<br>hashtags=%{customdata[0]}<extra></extra>",
         "hovertext": [
          "sophiafurber",
          "sophiafurber",
          "sophiafurber",
          "sophiafurber",
          "sophiafurber",
          "sophiafurber",
          "sophiafurber",
          "sophiafurber",
          "sophiafurber"
         ],
         "legendgroup": "72",
         "marker": {
          "color": "rgb(17, 165, 121)",
          "symbol": "circle"
         },
         "mode": "markers",
         "name": "72",
         "showlegend": true,
         "type": "scattergl",
         "x": [
          59.549007415771484,
          60.21927261352539,
          57.82875442504883,
          58.26569366455078,
          58.8394775390625,
          58.8394775390625,
          58.26569366455078,
          58.8394775390625,
          59.081382751464844
         ],
         "xaxis": "x",
         "y": [
          -40.649452209472656,
          -41.33279800415039,
          -41.31427001953125,
          -40.449642181396484,
          -41.51359558105469,
          -41.51359558105469,
          -40.449642181396484,
          -41.51359558105469,
          -40.14170837402344
         ],
         "yaxis": "y"
        },
        {
         "customdata": [
          [
           "['psd2']"
          ],
          [
           "['psd2', 'retailbanking']"
          ],
          [
           "['retailbanking']"
          ],
          [
           "['retailbanking']"
          ],
          [
           "['retailbanking']"
          ],
          [
           "['retailbanking']"
          ],
          [
           "['retailbanking']"
          ],
          [
           "['retailbanking']"
          ],
          [
           "['retailbanking']"
          ],
          [
           "['retailbanking']"
          ],
          [
           "['retailbanking']"
          ],
          [
           "['psd2', 'money2020']"
          ],
          [
           "['psd2']"
          ]
         ],
         "hovertemplate": "<b>%{hovertext}</b><br><br>labels=56<br>tsne_x=%{x}<br>tsne_y=%{y}<br>hashtags=%{customdata[0]}<extra></extra>",
         "hovertext": [
          "sophiafurber",
          "sophiafurber",
          "sophiafurber",
          "sophiafurber",
          "sophiafurber",
          "sophiafurber",
          "sophiafurber",
          "sophiafurber",
          "sophiafurber",
          "sophiafurber",
          "sophiafurber",
          "sophiafurber",
          "sophiafurber"
         ],
         "legendgroup": "56",
         "marker": {
          "color": "rgb(57, 105, 172)",
          "symbol": "circle"
         },
         "mode": "markers",
         "name": "56",
         "showlegend": true,
         "type": "scattergl",
         "x": [
          7.241376876831055,
          39.388240814208984,
          39.05973815917969,
          40.2922477722168,
          40.892669677734375,
          39.85714340209961,
          39.85714340209961,
          40.2922477722168,
          40.2922477722168,
          39.11033248901367,
          40.2922477722168,
          8.015619277954102,
          7.241376876831055
         ],
         "xaxis": "x",
         "y": [
          -72.43898010253906,
          -79.41842651367188,
          -77.52359008789062,
          -78.23139190673828,
          -77.26461791992188,
          -77.02971649169922,
          -77.02971649169922,
          -78.23139190673828,
          -78.23139190673828,
          -78.2324447631836,
          -78.23139190673828,
          -72.80955505371094,
          -72.43898010253906
         ],
         "yaxis": "y"
        },
        {
         "customdata": [
          [
           "['money2020eu', 'dogsoffintech']"
          ],
          [
           "['money2020eu']"
          ],
          [
           "['money2020eu']"
          ],
          [
           "['money2020eu']"
          ],
          [
           "['money2020eu', 'payments']"
          ],
          [
           "['money2020eu']"
          ],
          [
           "['money2020eu']"
          ],
          [
           "['money2020eu']"
          ],
          [
           "['money2020eu']"
          ]
         ],
         "hovertemplate": "<b>%{hovertext}</b><br><br>labels=61<br>tsne_x=%{x}<br>tsne_y=%{y}<br>hashtags=%{customdata[0]}<extra></extra>",
         "hovertext": [
          "sophiafurber",
          "sophiafurber",
          "sophiafurber",
          "sophiafurber",
          "sophiafurber",
          "sophiafurber",
          "sophiafurber",
          "sophiafurber",
          "sophiafurber"
         ],
         "legendgroup": "61",
         "marker": {
          "color": "rgb(242, 183, 1)",
          "symbol": "circle"
         },
         "mode": "markers",
         "name": "61",
         "showlegend": true,
         "type": "scattergl",
         "x": [
          15.026787757873535,
          14.200483322143555,
          15.841181755065918,
          14.440718650817871,
          14.990457534790039,
          15.699150085449219,
          15.699150085449219,
          15.108026504516602,
          14.440718650817871
         ],
         "xaxis": "x",
         "y": [
          -80.38925170898438,
          -80.47649383544922,
          -80.56856536865234,
          -79.5905990600586,
          -81.08648681640625,
          -79.66249084472656,
          -79.66249084472656,
          -78.95697784423828,
          -79.5905990600586
         ],
         "yaxis": "y"
        },
        {
         "customdata": [
          [
           "['emccee']"
          ],
          [
           "['emccee']"
          ],
          [
           "['emccee']"
          ],
          [
           "['emccee']"
          ],
          [
           "['emccee']"
          ],
          [
           "['emccee']"
          ],
          [
           "['emccee']"
          ],
          [
           "['emccee']"
          ],
          [
           "['emccee']"
          ],
          [
           "['panamapapers']"
          ],
          [
           "['panamapapers']"
          ],
          [
           "['panamapapers']"
          ],
          [
           "['panamapapers']"
          ],
          [
           "['panamapapers']"
          ],
          [
           "['panamapapers']"
          ],
          [
           "['panamapapers']"
          ],
          [
           "['panamapapers']"
          ],
          [
           "['panamapapers']"
          ]
         ],
         "hovertemplate": "<b>%{hovertext}</b><br><br>labels=80<br>tsne_x=%{x}<br>tsne_y=%{y}<br>hashtags=%{customdata[0]}<extra></extra>",
         "hovertext": [
          "sophiafurber",
          "sophiafurber",
          "sophiafurber",
          "sophiafurber",
          "sophiafurber",
          "sophiafurber",
          "sophiafurber",
          "sophiafurber",
          "sophiafurber",
          "mshannahmurphy",
          "mshannahmurphy",
          "mshannahmurphy",
          "mshannahmurphy",
          "mshannahmurphy",
          "mshannahmurphy",
          "mshannahmurphy",
          "mshannahmurphy",
          "mshannahmurphy"
         ],
         "legendgroup": "80",
         "marker": {
          "color": "rgb(231, 63, 116)",
          "symbol": "circle"
         },
         "mode": "markers",
         "name": "80",
         "showlegend": true,
         "type": "scattergl",
         "x": [
          12.670991897583008,
          12.670991897583008,
          12.670991897583008,
          12.670991897583008,
          12.670991897583008,
          12.670991897583008,
          12.670991897583008,
          12.670991897583008,
          12.670991897583008,
          54.8694953918457,
          54.335357666015625,
          54.8694953918457,
          55.74671936035156,
          56.167320251464844,
          55.410030364990234,
          55.410030364990234,
          54.335357666015625,
          55.410030364990234
         ],
         "xaxis": "x",
         "y": [
          -35.21084976196289,
          -35.21084976196289,
          -35.21084976196289,
          -35.21084976196289,
          -35.21084976196289,
          -35.21084976196289,
          -35.21084976196289,
          -35.21084976196289,
          -35.21084976196289,
          -64.01895141601562,
          -64.94368743896484,
          -64.01895141601562,
          -63.98234176635742,
          -64.60179138183594,
          -65.28083038330078,
          -65.28083038330078,
          -64.94368743896484,
          -65.28083038330078
         ],
         "yaxis": "y"
        },
        {
         "customdata": [
          [
           "['chcity']"
          ],
          [
           "['shelfie', 'chcity']"
          ],
          [
           "['chcity']"
          ],
          [
           "['chcity']"
          ],
          [
           "['chcity']"
          ],
          [
           "['chcity']"
          ],
          [
           "['chcity', 'fintech', 'passporting', 'regulation']"
          ],
          [
           "['chcity']"
          ],
          [
           "['chcity']"
          ],
          [
           "['chcity']"
          ],
          [
           "['chcity']"
          ],
          [
           "['chcity']"
          ],
          [
           "['chcity']"
          ],
          [
           "['chcity']"
          ],
          [
           "['chcity']"
          ],
          [
           "['chcity']"
          ]
         ],
         "hovertemplate": "<b>%{hovertext}</b><br><br>labels=18<br>tsne_x=%{x}<br>tsne_y=%{y}<br>hashtags=%{customdata[0]}<extra></extra>",
         "hovertext": [
          "sophiafurber",
          "sophiafurber",
          "sophiafurber",
          "sophiafurber",
          "sophiafurber",
          "sophiafurber",
          "sophiafurber",
          "sophiafurber",
          "sophiafurber",
          "sophiafurber",
          "sophiafurber",
          "sophiafurber",
          "sophiafurber",
          "sophiafurber",
          "sophiafurber",
          "sophiafurber"
         ],
         "legendgroup": "18",
         "marker": {
          "color": "rgb(128, 186, 90)",
          "symbol": "circle"
         },
         "mode": "markers",
         "name": "18",
         "showlegend": true,
         "type": "scattergl",
         "x": [
          -43.30558776855469,
          -42.56336212158203,
          -43.11265563964844,
          -41.49429702758789,
          -43.11265563964844,
          -43.11265563964844,
          -18.73287010192871,
          -43.11265563964844,
          -43.11265563964844,
          -43.11265563964844,
          -43.11265563964844,
          -41.633872985839844,
          -41.49429702758789,
          -43.11265563964844,
          -41.49429702758789,
          -42.234275817871094
         ],
         "xaxis": "x",
         "y": [
          -69.82697296142578,
          -72.78666687011719,
          -71.3481216430664,
          -70.9437255859375,
          -71.3481216430664,
          -71.3481216430664,
          -98.22809600830078,
          -71.3481216430664,
          -71.3481216430664,
          -71.3481216430664,
          -71.3481216430664,
          -72.24726867675781,
          -70.9437255859375,
          -71.3481216430664,
          -70.9437255859375,
          -69.85822296142578
         ],
         "yaxis": "y"
        },
        {
         "customdata": [
          [
           "['mipim']"
          ],
          [
           "['mipim']"
          ],
          [
           "['mipim']"
          ],
          [
           "['mipim']"
          ],
          [
           "['mipim']"
          ],
          [
           "['mipim']"
          ],
          [
           "['mipim', 'realestate']"
          ],
          [
           "['mipim']"
          ]
         ],
         "hovertemplate": "<b>%{hovertext}</b><br><br>labels=92<br>tsne_x=%{x}<br>tsne_y=%{y}<br>hashtags=%{customdata[0]}<extra></extra>",
         "hovertext": [
          "sophiafurber",
          "sophiafurber",
          "sophiafurber",
          "sophiafurber",
          "sophiafurber",
          "sophiafurber",
          "sophiafurber",
          "sophiafurber"
         ],
         "legendgroup": "92",
         "marker": {
          "color": "rgb(230, 131, 16)",
          "symbol": "circle"
         },
         "mode": "markers",
         "name": "92",
         "showlegend": true,
         "type": "scattergl",
         "x": [
          46.662803649902344,
          46.819217681884766,
          47.47499084472656,
          48.21063232421875,
          47.580867767333984,
          47.580867767333984,
          47.74250793457031,
          46.662803649902344
         ],
         "xaxis": "x",
         "y": [
          -57.768836975097656,
          -58.69206237792969,
          -58.265865325927734,
          -58.02383804321289,
          -57.323219299316406,
          -57.323219299316406,
          -58.841251373291016,
          -57.768836975097656
         ],
         "yaxis": "y"
        },
        {
         "customdata": [
          [
           "['emceeforum']"
          ],
          [
           "['vienna', 'emceeforum', 'hundertwasserhaus']"
          ],
          [
           "['emceeforum']"
          ],
          [
           "['emceeforum']"
          ],
          [
           "['emceeforum']"
          ],
          [
           "['emceeforum']"
          ],
          [
           "['emceeforum']"
          ],
          [
           "['emceeforum']"
          ],
          [
           "['emceeforum']"
          ],
          [
           "['emceeforum']"
          ],
          [
           "['emceeforum']"
          ]
         ],
         "hovertemplate": "<b>%{hovertext}</b><br><br>labels=49<br>tsne_x=%{x}<br>tsne_y=%{y}<br>hashtags=%{customdata[0]}<extra></extra>",
         "hovertext": [
          "sophiafurber",
          "sophiafurber",
          "sophiafurber",
          "sophiafurber",
          "sophiafurber",
          "sophiafurber",
          "sophiafurber",
          "sophiafurber",
          "sophiafurber",
          "sophiafurber",
          "sophiafurber"
         ],
         "legendgroup": "49",
         "marker": {
          "color": "rgb(0, 134, 149)",
          "symbol": "circle"
         },
         "mode": "markers",
         "name": "49",
         "showlegend": true,
         "type": "scattergl",
         "x": [
          -33.054229736328125,
          -31.97260284423828,
          -31.64092254638672,
          -33.054229736328125,
          -33.054229736328125,
          -33.054229736328125,
          -33.054229736328125,
          -33.054229736328125,
          -33.054229736328125,
          -33.054229736328125,
          -32.347900390625
         ],
         "xaxis": "x",
         "y": [
          -30.135820388793945,
          -31.129108428955078,
          -29.917522430419922,
          -30.135820388793945,
          -30.135820388793945,
          -30.135820388793945,
          -30.135820388793945,
          -30.135820388793945,
          -30.135820388793945,
          -30.135820388793945,
          -28.95018196105957
         ],
         "yaxis": "y"
        },
        {
         "customdata": [
          [
           "['mipimuk']"
          ],
          [
           "['mipimuk']"
          ],
          [
           "['mipimuk']"
          ],
          [
           "['mipimuk']"
          ],
          [
           "['mipimuk']"
          ],
          [
           "['mipimuk', 'housingcrisis']"
          ],
          [
           "['mipimuk']"
          ],
          [
           "['mipimuk']"
          ],
          [
           "['mipimuk']"
          ]
         ],
         "hovertemplate": "<b>%{hovertext}</b><br><br>labels=76<br>tsne_x=%{x}<br>tsne_y=%{y}<br>hashtags=%{customdata[0]}<extra></extra>",
         "hovertext": [
          "sophiafurber",
          "sophiafurber",
          "sophiafurber",
          "sophiafurber",
          "sophiafurber",
          "sophiafurber",
          "sophiafurber",
          "sophiafurber",
          "sophiafurber"
         ],
         "legendgroup": "76",
         "marker": {
          "color": "rgb(207, 28, 144)",
          "symbol": "circle"
         },
         "mode": "markers",
         "name": "76",
         "showlegend": true,
         "type": "scattergl",
         "x": [
          13.993193626403809,
          14.686812400817871,
          13.988295555114746,
          13.314125061035156,
          14.920489311218262,
          15.250636100769043,
          14.920489311218262,
          13.993193626403809,
          13.988295555114746
         ],
         "xaxis": "x",
         "y": [
          -48.1962776184082,
          -48.58397674560547,
          -47.01288604736328,
          -47.67772674560547,
          -47.282527923583984,
          -48.08979797363281,
          -47.282527923583984,
          -48.1962776184082,
          -47.01288604736328
         ],
         "yaxis": "y"
        },
        {
         "customdata": [
          [
           "['cyberflashing']"
          ],
          [
           "['cyberflashing']"
          ],
          [
           "['cyberflashing']"
          ],
          [
           "['cyberflashing']"
          ],
          [
           "['cyberflashing']"
          ],
          [
           "['cyberflashing']"
          ],
          [
           "['cyberflashing']"
          ],
          [
           "['cyberflashing']"
          ],
          [
           "['cyberflashing']"
          ],
          [
           "['cyberflashing']"
          ],
          [
           "['cyberflashing']"
          ],
          [
           "['cyberflashing']"
          ]
         ],
         "hovertemplate": "<b>%{hovertext}</b><br><br>labels=43<br>tsne_x=%{x}<br>tsne_y=%{y}<br>hashtags=%{customdata[0]}<extra></extra>",
         "hovertext": [
          "scfgallagher",
          "scfgallagher",
          "scfgallagher",
          "scfgallagher",
          "scfgallagher",
          "scfgallagher",
          "scfgallagher",
          "scfgallagher",
          "scfgallagher",
          "scfgallagher",
          "scfgallagher",
          "scfgallagher"
         ],
         "legendgroup": "43",
         "marker": {
          "color": "rgb(249, 123, 114)",
          "symbol": "circle"
         },
         "mode": "markers",
         "name": "43",
         "showlegend": true,
         "type": "scattergl",
         "x": [
          -39.85317611694336,
          -39.85317611694336,
          -39.85317611694336,
          -39.85317611694336,
          -39.85317611694336,
          -39.85317611694336,
          -39.85317611694336,
          -39.85317611694336,
          -40.125648498535156,
          -40.125648498535156,
          -40.125648498535156,
          -39.85317611694336
         ],
         "xaxis": "x",
         "y": [
          -39.79378128051758,
          -39.79378128051758,
          -39.79378128051758,
          -39.79378128051758,
          -39.79378128051758,
          -39.79378128051758,
          -39.79378128051758,
          -39.79378128051758,
          -38.325984954833984,
          -38.325984954833984,
          -38.325984954833984,
          -39.79378128051758
         ],
         "yaxis": "y"
        },
        {
         "customdata": [
          [
           "['mifidii']"
          ],
          [
           "['mifidii', 'mifid']"
          ],
          [
           "['mifidii']"
          ],
          [
           "['mifidii', 'mifid2']"
          ],
          [
           "['mifidii']"
          ],
          [
           "['mifidii']"
          ],
          [
           "['mifidii', 'baffled', 'happytooblige']"
          ],
          [
           "['mifidii']"
          ],
          [
           "['mifidii']"
          ],
          [
           "['mifidii']"
          ],
          [
           "['mifidii']"
          ],
          [
           "['mifidii']"
          ],
          [
           "['mifidii']"
          ],
          [
           "['mifidii']"
          ],
          [
           "['mifidii', 'noreturns', 'iwin']"
          ],
          [
           "['mifidii']"
          ],
          [
           "['mifidii']"
          ]
         ],
         "hovertemplate": "<b>%{hovertext}</b><br><br>labels=23<br>tsne_x=%{x}<br>tsne_y=%{y}<br>hashtags=%{customdata[0]}<extra></extra>",
         "hovertext": [
          "mshannahmurphy",
          "mshannahmurphy",
          "mshannahmurphy",
          "mshannahmurphy",
          "mshannahmurphy",
          "mshannahmurphy",
          "mshannahmurphy",
          "mshannahmurphy",
          "mshannahmurphy",
          "mshannahmurphy",
          "mshannahmurphy",
          "mshannahmurphy",
          "mshannahmurphy",
          "mshannahmurphy",
          "mshannahmurphy",
          "mshannahmurphy",
          "mshannahmurphy"
         ],
         "legendgroup": "23",
         "marker": {
          "color": "rgb(165, 170, 153)",
          "symbol": "circle"
         },
         "mode": "markers",
         "name": "23",
         "showlegend": true,
         "type": "scattergl",
         "x": [
          39.609718322753906,
          41.04588317871094,
          39.68766784667969,
          40.02986145019531,
          41.13178253173828,
          39.609718322753906,
          41.10165023803711,
          39.68766784667969,
          39.609718322753906,
          41.13178253173828,
          41.13178253173828,
          39.68766784667969,
          39.609718322753906,
          39.609718322753906,
          41.970577239990234,
          39.609718322753906,
          41.13178253173828
         ],
         "xaxis": "x",
         "y": [
          23.515918731689453,
          24.66059112548828,
          21.89720916748047,
          24.9197998046875,
          22.531824111938477,
          23.515918731689453,
          23.916156768798828,
          21.89720916748047,
          23.515918731689453,
          22.531824111938477,
          22.531824111938477,
          21.89720916748047,
          23.515918731689453,
          23.515918731689453,
          23.687789916992188,
          23.515918731689453,
          22.531824111938477
         ],
         "yaxis": "y"
        },
        {
         "customdata": [
          [
           "['cryptocurrencies', 'icos']"
          ],
          [
           "['esma', 'cfdstrading']"
          ],
          [
           "['esma']"
          ],
          [
           "['esma', 'cfds', 'binaryoptions']"
          ],
          [
           "['cfds', 'cryptocurrencies']"
          ],
          [
           "['esma', 'cfds']"
          ],
          [
           "['cryptocurrencies', 'cfds']"
          ],
          [
           "['cryptocurrencies']"
          ],
          [
           "['spreadbetting', 'cfds']"
          ],
          [
           "['esma', 'hfts']"
          ]
         ],
         "hovertemplate": "<b>%{hovertext}</b><br><br>labels=87<br>tsne_x=%{x}<br>tsne_y=%{y}<br>hashtags=%{customdata[0]}<extra></extra>",
         "hovertext": [
          "mshannahmurphy",
          "mshannahmurphy",
          "mshannahmurphy",
          "mshannahmurphy",
          "mshannahmurphy",
          "mshannahmurphy",
          "mshannahmurphy",
          "mshannahmurphy",
          "mshannahmurphy",
          "mshannahmurphy"
         ],
         "legendgroup": "87",
         "marker": {
          "color": "rgb(127, 60, 141)",
          "symbol": "circle"
         },
         "mode": "markers",
         "name": "87",
         "showlegend": true,
         "type": "scattergl",
         "x": [
          41.365692138671875,
          40.561344146728516,
          40.24802780151367,
          39.81912612915039,
          40.38178634643555,
          39.571800231933594,
          40.38178634643555,
          40.54462432861328,
          40.30400466918945,
          40.18552780151367
         ],
         "xaxis": "x",
         "y": [
          -52.14103317260742,
          -52.63149642944336,
          -52.09256362915039,
          -55.81230926513672,
          -55.20308303833008,
          -55.12556076049805,
          -55.20308303833008,
          -51.78594970703125,
          -54.066680908203125,
          -52.5628547668457
         ],
         "yaxis": "y"
        },
        {
         "customdata": [
          [
           "['presidentielle2017']"
          ],
          [
           "['presidentielle2017']"
          ],
          [
           "['presidentielle2017', 'debat2017', 'legranddebat']"
          ],
          [
           "['presidentielle2017']"
          ],
          [
           "['presidentielle2017']"
          ],
          [
           "['presidentielle2017']"
          ],
          [
           "['frenchelection']"
          ],
          [
           "['presidentielle2017']"
          ],
          [
           "['presidentielle2017', 'frenchelection']"
          ],
          [
           "['frenchelection', 'presidentielle2017']"
          ],
          [
           "['frenchelection']"
          ],
          [
           "['frenchelection']"
          ],
          [
           "['frenchelection']"
          ],
          [
           "['frenchelection']"
          ]
         ],
         "hovertemplate": "<b>%{hovertext}</b><br><br>labels=55<br>tsne_x=%{x}<br>tsne_y=%{y}<br>hashtags=%{customdata[0]}<extra></extra>",
         "hovertext": [
          "mshannahmurphy",
          "mshannahmurphy",
          "mshannahmurphy",
          "mshannahmurphy",
          "mshannahmurphy",
          "mshannahmurphy",
          "mshannahmurphy",
          "mshannahmurphy",
          "mshannahmurphy",
          "mshannahmurphy",
          "mshannahmurphy",
          "mshannahmurphy",
          "mshannahmurphy",
          "mshannahmurphy"
         ],
         "legendgroup": "55",
         "marker": {
          "color": "rgb(17, 165, 121)",
          "symbol": "circle"
         },
         "mode": "markers",
         "name": "55",
         "showlegend": true,
         "type": "scattergl",
         "x": [
          59.85447692871094,
          60.34163284301758,
          61.43414306640625,
          59.85447692871094,
          60.575199127197266,
          60.575199127197266,
          58.5507926940918,
          60.78146743774414,
          62.25565719604492,
          62.25565719604492,
          58.128868103027344,
          58.5507926940918,
          58.128868103027344,
          58.128868103027344
         ],
         "xaxis": "x",
         "y": [
          -27.70122528076172,
          -26.905481338500977,
          -27.17284393310547,
          -27.70122528076172,
          -28.662656784057617,
          -28.662656784057617,
          -29.56071662902832,
          -27.77250099182129,
          -28.058794021606445,
          -28.058794021606445,
          -28.881240844726562,
          -29.56071662902832,
          -28.881240844726562,
          -28.881240844726562
         ],
         "yaxis": "y"
        },
        {
         "customdata": [
          [
           "['dataprotection', 'cybersecurity', 'cybersecurityindia', 'dataprotectionlaws', 'cybersecuritylaw']"
          ],
          [
           "['dataprotection', 'cybersecurity', 'cybersecurityindia', 'dataprotectionlaws', 'cybersecuritylaw']"
          ]
         ],
         "hovertemplate": "<b>%{hovertext}</b><br><br>labels=88<br>tsne_x=%{x}<br>tsne_y=%{y}<br>hashtags=%{customdata[0]}<extra></extra>",
         "hovertext": [
          "jesscahaworth",
          "jesscahaworth"
         ],
         "legendgroup": "88",
         "marker": {
          "color": "rgb(57, 105, 172)",
          "symbol": "circle"
         },
         "mode": "markers",
         "name": "88",
         "showlegend": true,
         "type": "scattergl",
         "x": [
          82.41334533691406,
          82.41334533691406
         ],
         "xaxis": "x",
         "y": [
          -58.281429290771484,
          -58.281429290771484
         ],
         "yaxis": "y"
        },
        {
         "customdata": [
          [
           "['bhasia']"
          ],
          [
           "['bhasia']"
          ],
          [
           "['bhasia']"
          ],
          [
           "['bhasia']"
          ],
          [
           "['bhasia']"
          ],
          [
           "['bhasia']"
          ],
          [
           "['bhasia']"
          ],
          [
           "['bhasia']"
          ]
         ],
         "hovertemplate": "<b>%{hovertext}</b><br><br>labels=94<br>tsne_x=%{x}<br>tsne_y=%{y}<br>hashtags=%{customdata[0]}<extra></extra>",
         "hovertext": [
          "jesscahaworth",
          "jesscahaworth",
          "jesscahaworth",
          "jesscahaworth",
          "jesscahaworth",
          "jesscahaworth",
          "jesscahaworth",
          "jesscahaworth"
         ],
         "legendgroup": "94",
         "marker": {
          "color": "rgb(242, 183, 1)",
          "symbol": "circle"
         },
         "mode": "markers",
         "name": "94",
         "showlegend": true,
         "type": "scattergl",
         "x": [
          49.27717590332031,
          50.0733642578125,
          50.0733642578125,
          49.79020309448242,
          49.79020309448242,
          50.917911529541016,
          50.86713790893555,
          50.607208251953125
         ],
         "xaxis": "x",
         "y": [
          -49.566532135009766,
          -49.168182373046875,
          -49.168182373046875,
          -50.2896842956543,
          -50.2896842956543,
          -49.3150634765625,
          -49.9607048034668,
          -50.55009460449219
         ],
         "yaxis": "y"
        },
        {
         "customdata": [
          [
           "['bheu']"
          ],
          [
           "['bheu']"
          ],
          [
           "['bheu']"
          ],
          [
           "['bheu']"
          ],
          [
           "['bheu']"
          ],
          [
           "['bheu']"
          ],
          [
           "['bheu']"
          ],
          [
           "['bheu']"
          ],
          [
           "['bheu']"
          ],
          [
           "['bheu']"
          ],
          [
           "['bheu']"
          ],
          [
           "['bheu']"
          ],
          [
           "['bheu']"
          ],
          [
           "['bheu']"
          ],
          [
           "['bheu']"
          ]
         ],
         "hovertemplate": "<b>%{hovertext}</b><br><br>labels=32<br>tsne_x=%{x}<br>tsne_y=%{y}<br>hashtags=%{customdata[0]}<extra></extra>",
         "hovertext": [
          "jesscahaworth",
          "ad_nauseum74",
          "ad_nauseum74",
          "ad_nauseum74",
          "ad_nauseum74",
          "ad_nauseum74",
          "ad_nauseum74",
          "ad_nauseum74",
          "ad_nauseum74",
          "ad_nauseum74",
          "ad_nauseum74",
          "ad_nauseum74",
          "ad_nauseum74",
          "ad_nauseum74",
          "ad_nauseum74"
         ],
         "legendgroup": "32",
         "marker": {
          "color": "rgb(231, 63, 116)",
          "symbol": "circle"
         },
         "mode": "markers",
         "name": "32",
         "showlegend": true,
         "type": "scattergl",
         "x": [
          -62.3568229675293,
          -62.3568229675293,
          -63.59122085571289,
          -63.81703186035156,
          -61.48988342285156,
          -63.59122085571289,
          -62.3568229675293,
          -63.81703186035156,
          -63.81703186035156,
          -63.59122085571289,
          -62.54792404174805,
          -64.60015869140625,
          -62.54792404174805,
          -64.60015869140625,
          -62.54792404174805
         ],
         "xaxis": "x",
         "y": [
          -17.933147430419922,
          -17.933147430419922,
          -17.635631561279297,
          -19.38011932373047,
          -18.796140670776367,
          -17.635631561279297,
          -17.933147430419922,
          -19.38011932373047,
          -19.38011932373047,
          -17.635631561279297,
          -19.411664962768555,
          -18.392719268798828,
          -19.411664962768555,
          -18.392719268798828,
          -19.411664962768555
         ],
         "yaxis": "y"
        },
        {
         "customdata": [
          [
           "['appseceu']"
          ],
          [
           "['appseceu']"
          ],
          [
           "['appseceu']"
          ],
          [
           "['appseceu']"
          ],
          [
           "['appseceu']"
          ],
          [
           "['appseceu']"
          ],
          [
           "['appseceu']"
          ],
          [
           "['appseceu']"
          ],
          [
           "['appseceu']"
          ],
          [
           "['appseceu']"
          ],
          [
           "['appseceu']"
          ],
          [
           "['appseceu']"
          ],
          [
           "['appseceu']"
          ],
          [
           "['appseceu']"
          ],
          [
           "['appseceu']"
          ],
          [
           "['appseceu']"
          ],
          [
           "['appseceu']"
          ],
          [
           "['appseceu', 'cybersecurity']"
          ]
         ],
         "hovertemplate": "<b>%{hovertext}</b><br><br>labels=21<br>tsne_x=%{x}<br>tsne_y=%{y}<br>hashtags=%{customdata[0]}<extra></extra>",
         "hovertext": [
          "jesscahaworth",
          "jesscahaworth",
          "jesscahaworth",
          "jesscahaworth",
          "jesscahaworth",
          "jesscahaworth",
          "jesscahaworth",
          "jesscahaworth",
          "jesscahaworth",
          "jesscahaworth",
          "jesscahaworth",
          "jesscahaworth",
          "jesscahaworth",
          "jesscahaworth",
          "jesscahaworth",
          "jesscahaworth",
          "jesscahaworth",
          "jesscahaworth"
         ],
         "legendgroup": "21",
         "marker": {
          "color": "rgb(128, 186, 90)",
          "symbol": "circle"
         },
         "mode": "markers",
         "name": "21",
         "showlegend": true,
         "type": "scattergl",
         "x": [
          40.749053955078125,
          39.10767364501953,
          39.10767364501953,
          40.70671844482422,
          40.70671844482422,
          38.726680755615234,
          39.16883850097656,
          40.749053955078125,
          39.10767364501953,
          39.86603546142578,
          39.800113677978516,
          39.10767364501953,
          39.10767364501953,
          38.037410736083984,
          39.10767364501953,
          40.70671844482422,
          38.037410736083984,
          91.58468627929688
         ],
         "xaxis": "x",
         "y": [
          39.348758697509766,
          40.840797424316406,
          40.840797424316406,
          40.76947021484375,
          40.76947021484375,
          38.59680938720703,
          39.275489807128906,
          39.348758697509766,
          40.840797424316406,
          38.48725128173828,
          39.57009506225586,
          40.840797424316406,
          40.840797424316406,
          39.704158782958984,
          40.840797424316406,
          40.76947021484375,
          39.704158782958984,
          -47.45402908325195
         ],
         "yaxis": "y"
        }
       ],
       "layout": {
        "height": 800,
        "legend": {
         "title": {
          "text": "labels"
         },
         "tracegroupgap": 0
        },
        "margin": {
         "t": 60
        },
        "template": {
         "data": {
          "bar": [
           {
            "error_x": {
             "color": "#2a3f5f"
            },
            "error_y": {
             "color": "#2a3f5f"
            },
            "marker": {
             "line": {
              "color": "#E5ECF6",
              "width": 0.5
             }
            },
            "type": "bar"
           }
          ],
          "barpolar": [
           {
            "marker": {
             "line": {
              "color": "#E5ECF6",
              "width": 0.5
             }
            },
            "type": "barpolar"
           }
          ],
          "carpet": [
           {
            "aaxis": {
             "endlinecolor": "#2a3f5f",
             "gridcolor": "white",
             "linecolor": "white",
             "minorgridcolor": "white",
             "startlinecolor": "#2a3f5f"
            },
            "baxis": {
             "endlinecolor": "#2a3f5f",
             "gridcolor": "white",
             "linecolor": "white",
             "minorgridcolor": "white",
             "startlinecolor": "#2a3f5f"
            },
            "type": "carpet"
           }
          ],
          "choropleth": [
           {
            "colorbar": {
             "outlinewidth": 0,
             "ticks": ""
            },
            "type": "choropleth"
           }
          ],
          "contour": [
           {
            "colorbar": {
             "outlinewidth": 0,
             "ticks": ""
            },
            "colorscale": [
             [
              0,
              "#0d0887"
             ],
             [
              0.1111111111111111,
              "#46039f"
             ],
             [
              0.2222222222222222,
              "#7201a8"
             ],
             [
              0.3333333333333333,
              "#9c179e"
             ],
             [
              0.4444444444444444,
              "#bd3786"
             ],
             [
              0.5555555555555556,
              "#d8576b"
             ],
             [
              0.6666666666666666,
              "#ed7953"
             ],
             [
              0.7777777777777778,
              "#fb9f3a"
             ],
             [
              0.8888888888888888,
              "#fdca26"
             ],
             [
              1,
              "#f0f921"
             ]
            ],
            "type": "contour"
           }
          ],
          "contourcarpet": [
           {
            "colorbar": {
             "outlinewidth": 0,
             "ticks": ""
            },
            "type": "contourcarpet"
           }
          ],
          "heatmap": [
           {
            "colorbar": {
             "outlinewidth": 0,
             "ticks": ""
            },
            "colorscale": [
             [
              0,
              "#0d0887"
             ],
             [
              0.1111111111111111,
              "#46039f"
             ],
             [
              0.2222222222222222,
              "#7201a8"
             ],
             [
              0.3333333333333333,
              "#9c179e"
             ],
             [
              0.4444444444444444,
              "#bd3786"
             ],
             [
              0.5555555555555556,
              "#d8576b"
             ],
             [
              0.6666666666666666,
              "#ed7953"
             ],
             [
              0.7777777777777778,
              "#fb9f3a"
             ],
             [
              0.8888888888888888,
              "#fdca26"
             ],
             [
              1,
              "#f0f921"
             ]
            ],
            "type": "heatmap"
           }
          ],
          "heatmapgl": [
           {
            "colorbar": {
             "outlinewidth": 0,
             "ticks": ""
            },
            "colorscale": [
             [
              0,
              "#0d0887"
             ],
             [
              0.1111111111111111,
              "#46039f"
             ],
             [
              0.2222222222222222,
              "#7201a8"
             ],
             [
              0.3333333333333333,
              "#9c179e"
             ],
             [
              0.4444444444444444,
              "#bd3786"
             ],
             [
              0.5555555555555556,
              "#d8576b"
             ],
             [
              0.6666666666666666,
              "#ed7953"
             ],
             [
              0.7777777777777778,
              "#fb9f3a"
             ],
             [
              0.8888888888888888,
              "#fdca26"
             ],
             [
              1,
              "#f0f921"
             ]
            ],
            "type": "heatmapgl"
           }
          ],
          "histogram": [
           {
            "marker": {
             "colorbar": {
              "outlinewidth": 0,
              "ticks": ""
             }
            },
            "type": "histogram"
           }
          ],
          "histogram2d": [
           {
            "colorbar": {
             "outlinewidth": 0,
             "ticks": ""
            },
            "colorscale": [
             [
              0,
              "#0d0887"
             ],
             [
              0.1111111111111111,
              "#46039f"
             ],
             [
              0.2222222222222222,
              "#7201a8"
             ],
             [
              0.3333333333333333,
              "#9c179e"
             ],
             [
              0.4444444444444444,
              "#bd3786"
             ],
             [
              0.5555555555555556,
              "#d8576b"
             ],
             [
              0.6666666666666666,
              "#ed7953"
             ],
             [
              0.7777777777777778,
              "#fb9f3a"
             ],
             [
              0.8888888888888888,
              "#fdca26"
             ],
             [
              1,
              "#f0f921"
             ]
            ],
            "type": "histogram2d"
           }
          ],
          "histogram2dcontour": [
           {
            "colorbar": {
             "outlinewidth": 0,
             "ticks": ""
            },
            "colorscale": [
             [
              0,
              "#0d0887"
             ],
             [
              0.1111111111111111,
              "#46039f"
             ],
             [
              0.2222222222222222,
              "#7201a8"
             ],
             [
              0.3333333333333333,
              "#9c179e"
             ],
             [
              0.4444444444444444,
              "#bd3786"
             ],
             [
              0.5555555555555556,
              "#d8576b"
             ],
             [
              0.6666666666666666,
              "#ed7953"
             ],
             [
              0.7777777777777778,
              "#fb9f3a"
             ],
             [
              0.8888888888888888,
              "#fdca26"
             ],
             [
              1,
              "#f0f921"
             ]
            ],
            "type": "histogram2dcontour"
           }
          ],
          "mesh3d": [
           {
            "colorbar": {
             "outlinewidth": 0,
             "ticks": ""
            },
            "type": "mesh3d"
           }
          ],
          "parcoords": [
           {
            "line": {
             "colorbar": {
              "outlinewidth": 0,
              "ticks": ""
             }
            },
            "type": "parcoords"
           }
          ],
          "pie": [
           {
            "automargin": true,
            "type": "pie"
           }
          ],
          "scatter": [
           {
            "marker": {
             "colorbar": {
              "outlinewidth": 0,
              "ticks": ""
             }
            },
            "type": "scatter"
           }
          ],
          "scatter3d": [
           {
            "line": {
             "colorbar": {
              "outlinewidth": 0,
              "ticks": ""
             }
            },
            "marker": {
             "colorbar": {
              "outlinewidth": 0,
              "ticks": ""
             }
            },
            "type": "scatter3d"
           }
          ],
          "scattercarpet": [
           {
            "marker": {
             "colorbar": {
              "outlinewidth": 0,
              "ticks": ""
             }
            },
            "type": "scattercarpet"
           }
          ],
          "scattergeo": [
           {
            "marker": {
             "colorbar": {
              "outlinewidth": 0,
              "ticks": ""
             }
            },
            "type": "scattergeo"
           }
          ],
          "scattergl": [
           {
            "marker": {
             "colorbar": {
              "outlinewidth": 0,
              "ticks": ""
             }
            },
            "type": "scattergl"
           }
          ],
          "scattermapbox": [
           {
            "marker": {
             "colorbar": {
              "outlinewidth": 0,
              "ticks": ""
             }
            },
            "type": "scattermapbox"
           }
          ],
          "scatterpolar": [
           {
            "marker": {
             "colorbar": {
              "outlinewidth": 0,
              "ticks": ""
             }
            },
            "type": "scatterpolar"
           }
          ],
          "scatterpolargl": [
           {
            "marker": {
             "colorbar": {
              "outlinewidth": 0,
              "ticks": ""
             }
            },
            "type": "scatterpolargl"
           }
          ],
          "scatterternary": [
           {
            "marker": {
             "colorbar": {
              "outlinewidth": 0,
              "ticks": ""
             }
            },
            "type": "scatterternary"
           }
          ],
          "surface": [
           {
            "colorbar": {
             "outlinewidth": 0,
             "ticks": ""
            },
            "colorscale": [
             [
              0,
              "#0d0887"
             ],
             [
              0.1111111111111111,
              "#46039f"
             ],
             [
              0.2222222222222222,
              "#7201a8"
             ],
             [
              0.3333333333333333,
              "#9c179e"
             ],
             [
              0.4444444444444444,
              "#bd3786"
             ],
             [
              0.5555555555555556,
              "#d8576b"
             ],
             [
              0.6666666666666666,
              "#ed7953"
             ],
             [
              0.7777777777777778,
              "#fb9f3a"
             ],
             [
              0.8888888888888888,
              "#fdca26"
             ],
             [
              1,
              "#f0f921"
             ]
            ],
            "type": "surface"
           }
          ],
          "table": [
           {
            "cells": {
             "fill": {
              "color": "#EBF0F8"
             },
             "line": {
              "color": "white"
             }
            },
            "header": {
             "fill": {
              "color": "#C8D4E3"
             },
             "line": {
              "color": "white"
             }
            },
            "type": "table"
           }
          ]
         },
         "layout": {
          "annotationdefaults": {
           "arrowcolor": "#2a3f5f",
           "arrowhead": 0,
           "arrowwidth": 1
          },
          "coloraxis": {
           "colorbar": {
            "outlinewidth": 0,
            "ticks": ""
           }
          },
          "colorscale": {
           "diverging": [
            [
             0,
             "#8e0152"
            ],
            [
             0.1,
             "#c51b7d"
            ],
            [
             0.2,
             "#de77ae"
            ],
            [
             0.3,
             "#f1b6da"
            ],
            [
             0.4,
             "#fde0ef"
            ],
            [
             0.5,
             "#f7f7f7"
            ],
            [
             0.6,
             "#e6f5d0"
            ],
            [
             0.7,
             "#b8e186"
            ],
            [
             0.8,
             "#7fbc41"
            ],
            [
             0.9,
             "#4d9221"
            ],
            [
             1,
             "#276419"
            ]
           ],
           "sequential": [
            [
             0,
             "#0d0887"
            ],
            [
             0.1111111111111111,
             "#46039f"
            ],
            [
             0.2222222222222222,
             "#7201a8"
            ],
            [
             0.3333333333333333,
             "#9c179e"
            ],
            [
             0.4444444444444444,
             "#bd3786"
            ],
            [
             0.5555555555555556,
             "#d8576b"
            ],
            [
             0.6666666666666666,
             "#ed7953"
            ],
            [
             0.7777777777777778,
             "#fb9f3a"
            ],
            [
             0.8888888888888888,
             "#fdca26"
            ],
            [
             1,
             "#f0f921"
            ]
           ],
           "sequentialminus": [
            [
             0,
             "#0d0887"
            ],
            [
             0.1111111111111111,
             "#46039f"
            ],
            [
             0.2222222222222222,
             "#7201a8"
            ],
            [
             0.3333333333333333,
             "#9c179e"
            ],
            [
             0.4444444444444444,
             "#bd3786"
            ],
            [
             0.5555555555555556,
             "#d8576b"
            ],
            [
             0.6666666666666666,
             "#ed7953"
            ],
            [
             0.7777777777777778,
             "#fb9f3a"
            ],
            [
             0.8888888888888888,
             "#fdca26"
            ],
            [
             1,
             "#f0f921"
            ]
           ]
          },
          "colorway": [
           "#636efa",
           "#EF553B",
           "#00cc96",
           "#ab63fa",
           "#FFA15A",
           "#19d3f3",
           "#FF6692",
           "#B6E880",
           "#FF97FF",
           "#FECB52"
          ],
          "font": {
           "color": "#2a3f5f"
          },
          "geo": {
           "bgcolor": "white",
           "lakecolor": "white",
           "landcolor": "#E5ECF6",
           "showlakes": true,
           "showland": true,
           "subunitcolor": "white"
          },
          "hoverlabel": {
           "align": "left"
          },
          "hovermode": "closest",
          "mapbox": {
           "style": "light"
          },
          "paper_bgcolor": "white",
          "plot_bgcolor": "#E5ECF6",
          "polar": {
           "angularaxis": {
            "gridcolor": "white",
            "linecolor": "white",
            "ticks": ""
           },
           "bgcolor": "#E5ECF6",
           "radialaxis": {
            "gridcolor": "white",
            "linecolor": "white",
            "ticks": ""
           }
          },
          "scene": {
           "xaxis": {
            "backgroundcolor": "#E5ECF6",
            "gridcolor": "white",
            "gridwidth": 2,
            "linecolor": "white",
            "showbackground": true,
            "ticks": "",
            "zerolinecolor": "white"
           },
           "yaxis": {
            "backgroundcolor": "#E5ECF6",
            "gridcolor": "white",
            "gridwidth": 2,
            "linecolor": "white",
            "showbackground": true,
            "ticks": "",
            "zerolinecolor": "white"
           },
           "zaxis": {
            "backgroundcolor": "#E5ECF6",
            "gridcolor": "white",
            "gridwidth": 2,
            "linecolor": "white",
            "showbackground": true,
            "ticks": "",
            "zerolinecolor": "white"
           }
          },
          "shapedefaults": {
           "line": {
            "color": "#2a3f5f"
           }
          },
          "ternary": {
           "aaxis": {
            "gridcolor": "white",
            "linecolor": "white",
            "ticks": ""
           },
           "baxis": {
            "gridcolor": "white",
            "linecolor": "white",
            "ticks": ""
           },
           "bgcolor": "#E5ECF6",
           "caxis": {
            "gridcolor": "white",
            "linecolor": "white",
            "ticks": ""
           }
          },
          "title": {
           "x": 0.05
          },
          "xaxis": {
           "automargin": true,
           "gridcolor": "white",
           "linecolor": "white",
           "ticks": "",
           "title": {
            "standoff": 15
           },
           "zerolinecolor": "white",
           "zerolinewidth": 2
          },
          "yaxis": {
           "automargin": true,
           "gridcolor": "white",
           "linecolor": "white",
           "ticks": "",
           "title": {
            "standoff": 15
           },
           "zerolinecolor": "white",
           "zerolinewidth": 2
          }
         }
        },
        "width": 800,
        "xaxis": {
         "anchor": "y",
         "autorange": true,
         "domain": [
          0,
          1
         ],
         "range": [
          -119.02663729258995,
          134.86992189952355
         ],
         "title": {
          "text": "tsne_x"
         },
         "type": "linear"
        },
        "yaxis": {
         "anchor": "x",
         "autorange": true,
         "domain": [
          0,
          1
         ],
         "range": [
          -133.9503973938925,
          133.70730199594328
         ],
         "title": {
          "text": "tsne_y"
         },
         "type": "linear"
        }
       }
      },
      "image/png": "[encoded data removed]",
      "text/html": [
       "<div>\n",
       "        \n",
       "        \n",
       "            <div id=\"1ce15a80-64e9-4a39-aec1-cb291b73f8df\" class=\"plotly-graph-div\" style=\"height:800px; width:800px;\"></div>\n",
       "            <script type=\"text/javascript\">\n",
       "                require([\"plotly\"], function(Plotly) {\n",
       "                    window.PLOTLYENV=window.PLOTLYENV || {};\n",
       "                    \n",
       "                if (document.getElementById(\"1ce15a80-64e9-4a39-aec1-cb291b73f8df\")) {\n",
       "                    Plotly.newPlot(\n",
       "                        '1ce15a80-64e9-4a39-aec1-cb291b73f8df',\n",
       "                        [{\"customdata\": [[\"['covid']\"], [\"['covid']\"], [\"['covid', 'germany']\"], [\"['covid']\"], [\"['banks', 'branches', 'covid']\"], [\"['banks', 'branches', 'covid']\"], [\"['banks']\"], [\"['banks', 'fintechs']\"], [\"['banks', 'markcarney']\"]], \"hovertemplate\": \"<b>%{hovertext}</b><br><br>labels=68<br>tsne_x=%{x}<br>tsne_y=%{y}<br>hashtags=%{customdata[0]}<extra></extra>\", \"hovertext\": [\"jennystrasburg\", \"jennystrasburg\", \"jennystrasburg\", \"dannyjpalmer\", \"sophiafurber\", \"sophiafurber\", \"sophiafurber\", \"sophiafurber\", \"sophiafurber\"], \"legendgroup\": \"68\", \"marker\": {\"color\": \"rgb(127, 60, 141)\", \"symbol\": \"circle\"}, \"mode\": \"markers\", \"name\": \"68\", \"showlegend\": true, \"type\": \"scattergl\", \"x\": [-17.63623046875, -17.63623046875, -13.310401916503906, -17.093669891357422, -14.96163558959961, -14.96163558959961, -17.677583694458008, -16.838380813598633, -17.231130599975586], \"xaxis\": \"x\", \"y\": [-63.527198791503906, -63.527198791503906, -57.565879821777344, -63.45132827758789, -64.89330291748047, -64.89330291748047, -64.46549224853516, -64.5048828125, -64.74776458740234], \"yaxis\": \"y\"}, {\"customdata\": [[\"['bafin', 'wirecard']\"], [\"['bafin', 'wirecard']\"], [\"['wirecard']\"], [\"['wirecard']\"], [\"['wirecard']\"], [\"['wirecard']\"], [\"['wirecard']\"], [\"['wirecard']\"], [\"['wirecard']\"]], \"hovertemplate\": \"<b>%{hovertext}</b><br><br>labels=71<br>tsne_x=%{x}<br>tsne_y=%{y}<br>hashtags=%{customdata[0]}<extra></extra>\", \"hovertext\": [\"jennystrasburg\", \"jennystrasburg\", \"sophiafurber\", \"sophiafurber\", \"sophiafurber\", \"sophiafurber\", \"sophiafurber\", \"sophiafurber\", \"sophiafurber\"], \"legendgroup\": \"71\", \"marker\": {\"color\": \"rgb(17, 165, 121)\", \"symbol\": \"circle\"}, \"mode\": \"markers\", \"name\": \"71\", \"showlegend\": true, \"type\": \"scattergl\", \"x\": [52.86663818359375, 52.86663818359375, 51.91753387451172, 51.91753387451172, 52.50697326660156, 51.89950942993164, 53.32696533203125, 52.82184982299805, 53.32696533203125], \"xaxis\": \"x\", \"y\": [-20.819570541381836, -20.819570541381836, -20.139720916748047, -20.139720916748047, -19.52845001220703, -19.144922256469727, -19.74637794494629, -18.885957717895508, -19.74637794494629], \"yaxis\": \"y\"}, {\"customdata\": [[\"['germany']\"], [\"['germany']\"], [\"['germany']\"], [\"['germany', 'merkel']\"], [\"['germany']\"], [\"['germany', 'trump']\"], [\"['trump']\"], [\"['trump']\"], [\"['trump']\"], [\"['migrantcrisis', 'germany', 'cdu']\"], [\"['trump']\"], [\"['trump']\"]], \"hovertemplate\": \"<b>%{hovertext}</b><br><br>labels=86<br>tsne_x=%{x}<br>tsne_y=%{y}<br>hashtags=%{customdata[0]}<extra></extra>\", \"hovertext\": [\"jennystrasburg\", \"jennystrasburg\", \"jennystrasburg\", \"jennystrasburg\", \"jennystrasburg\", \"jennystrasburg\", \"dannsimmons\", \"dannsimmons\", \"joetidy\", \"sophiafurber\", \"mshannahmurphy\", \"mshannahmurphy\"], \"legendgroup\": \"86\", \"marker\": {\"color\": \"rgb(57, 105, 172)\", \"symbol\": \"circle\"}, \"mode\": \"markers\", \"name\": \"86\", \"showlegend\": true, \"type\": \"scattergl\", \"x\": [-12.650032997131348, -12.650032997131348, -12.650032997131348, -12.159395217895508, -12.650032997131348, -11.383391380310059, -13.627238273620605, -13.627238273620605, -13.627238273620605, -11.524428367614746, -12.669766426086426, -12.952709197998047], \"xaxis\": \"x\", \"y\": [-55.96320343017578, -55.96320343017578, -55.96320343017578, -56.93589401245117, -55.96320343017578, -55.97933578491211, -52.298282623291016, -52.298282623291016, -52.298282623291016, -56.699920654296875, -52.18940734863281, -51.51567077636719], \"yaxis\": \"y\"}, {\"customdata\": [[\"['breaking', 'hkindependence', 'causewaybay']\"], [\"['breaking', 'hkindependence', 'causewaybay']\"], [\"['breaking']\"], [\"['breaking', 'fbi', 'cyber']\"], [\"['breaking']\"], [\"['breaking']\"], [\"['breaking']\"], [\"['breaking']\"], [\"['breaking']\"], [\"['breaking']\"], [\"['breaking']\"], [\"['breaking', 'jakarta']\"], [\"['breaking']\"], [\"['breaking']\"], [\"['breaking', 'athens']\"]], \"hovertemplate\": \"<b>%{hovertext}</b><br><br>labels=26<br>tsne_x=%{x}<br>tsne_y=%{y}<br>hashtags=%{customdata[0]}<extra></extra>\", \"hovertext\": [\"jennystrasburg\", \"jennystrasburg\", \"gordoncorera\", \"gordoncorera\", \"mshannahmurphy\", \"mshannahmurphy\", \"mshannahmurphy\", \"mshannahmurphy\", \"mshannahmurphy\", \"mshannahmurphy\", \"mshannahmurphy\", \"mshannahmurphy\", \"mshannahmurphy\", \"mshannahmurphy\", \"mshannahmurphy\"], \"legendgroup\": \"26\", \"marker\": {\"color\": \"rgb(242, 183, 1)\", \"symbol\": \"circle\"}, \"mode\": \"markers\", \"name\": \"26\", \"showlegend\": true, \"type\": \"scattergl\", \"x\": [-46.970436096191406, -46.970436096191406, -48.291629791259766, -46.7830810546875, -49.54307556152344, -48.201725006103516, -49.497154235839844, -49.54307556152344, -48.201725006103516, -48.201725006103516, -48.201725006103516, -48.43597412109375, -48.201725006103516, -48.201725006103516, -48.43597412109375], \"xaxis\": \"x\", \"y\": [-27.841279983520508, -27.841279983520508, -25.306617736816406, -26.378400802612305, -27.323896408081055, -26.645530700683594, -26.00309181213379, -27.323896408081055, -26.645530700683594, -26.645530700683594, -26.645530700683594, -28.16946792602539, -26.645530700683594, -26.645530700683594, -28.16946792602539], \"yaxis\": \"y\"}, {\"customdata\": [[\"['covid19']\"], [\"['covid19', 'sweden']\"], [\"['cybercrime', 'covid19', 'coronavirus', 'organizedcrime', 'podcast']\"], [\"['covid19']\"], [\"['covid19']\"], [\"['covid19']\"], [\"['covid19']\"], [\"['covid19']\"], [\"['stayathomechallenge', 'covid19']\"], [\"['covid19']\"], [\"['covid19']\"]], \"hovertemplate\": \"<b>%{hovertext}</b><br><br>labels=31<br>tsne_x=%{x}<br>tsne_y=%{y}<br>hashtags=%{customdata[0]}<extra></extra>\", \"hovertext\": [\"jennystrasburg\", \"jennystrasburg\", \"joetidy\", \"joetidy\", \"joetidy\", \"dannyjpalmer\", \"dannyjpalmer\", \"dannyjpalmer\", \"sophiafurber\", \"mshannahmurphy\", \"mshannahmurphy\"], \"legendgroup\": \"31\", \"marker\": {\"color\": \"rgb(231, 63, 116)\", \"symbol\": \"circle\"}, \"mode\": \"markers\", \"name\": \"31\", \"showlegend\": true, \"type\": \"scattergl\", \"x\": [-33.296600341796875, -33.49636459350586, 32.150333404541016, -34.82901382446289, -34.0961799621582, -34.55950927734375, -34.82901382446289, -34.82901382446289, -33.72875213623047, -34.82901382446289, -34.0961799621582], \"xaxis\": \"x\", \"y\": [-51.93230438232422, -52.55730438232422, -115.89460754394531, -52.285640716552734, -51.33078384399414, -53.39215850830078, -52.285640716552734, -52.285640716552734, -53.16065979003906, -52.285640716552734, -51.33078384399414], \"yaxis\": \"y\"}, {\"customdata\": [[\"['opec', 'oott', 'russia', 'saudi', 'us']\"], [\"['saudi', 'sabic']\"], [\"['russia']\"], [\"['us', 'economist', 'fed']\"], [\"['mh17', 'russia']\"], [\"['pope', 'francis', 'putin', 'russia', 'kirill']\"]], \"hovertemplate\": \"<b>%{hovertext}</b><br><br>labels=84<br>tsne_x=%{x}<br>tsne_y=%{y}<br>hashtags=%{customdata[0]}<extra></extra>\", \"hovertext\": [\"jennystrasburg\", \"jennystrasburg\", \"gordoncorera\", \"sophiafurber\", \"mshannahmurphy\", \"mshannahmurphy\"], \"legendgroup\": \"84\", \"marker\": {\"color\": \"rgb(128, 186, 90)\", \"symbol\": \"circle\"}, \"mode\": \"markers\", \"name\": \"84\", \"showlegend\": true, \"type\": \"scattergl\", \"x\": [26.67784881591797, 23.41718864440918, 25.15022850036621, 22.904186248779297, 25.24664878845215, 26.5422420501709], \"xaxis\": \"x\", \"y\": [-43.664794921875, -41.9175910949707, -43.97927474975586, -42.764591217041016, -43.973880767822266, -43.6981201171875], \"yaxis\": \"y\"}, {\"customdata\": [[\"['college', 'coronavirus']\"], [\"['coronavirus']\"], [\"['coronavirus', 'covid19']\"], [\"['coronavirus']\"], [\"['coronavirus']\"], [\"['coronavirus']\"], [\"['coronavirus']\"], [\"['coronavirus']\"], [\"['coronavirus']\"], [\"['coronavirus']\"], [\"['cloud', 'businessintelligence', 'data', 'coronavirus']\"], [\"['hospitality', 'coronavirus']\"], [\"['coronavirus', 'education', 'coding']\"], [\"['nhs', 'cyberattacks', 'coronavirus', 'cybersecurity']\"], [\"['healthcare', 'coronavirus', 'cloudcomputing']\"], [\"['foodwaste', 'coronavirus', 'supplychain']\"], [\"['coronavirus', 'delivery', 'insurtech']\"], [\"['coronavirus']\"], [\"['coronavirus', 'festival']\"], [\"['business', 'coronavirus', 'corona', 'pandemic']\"], [\"['amazon', 'coronavirus']\"], [\"['cloud', 'businessintelligence', 'data', 'coronavirus']\"], [\"['hospitality', 'coronavirus']\"], [\"['coronavirus', 'education', 'coding']\"], [\"['nhs', 'cyberattacks', 'coronavirus', 'cybersecurity']\"], [\"['healthcare', 'coronavirus', 'cloudcomputing']\"], [\"['foodwaste', 'coronavirus', 'supplychain']\"], [\"['coronavirus', 'delivery', 'insurtech']\"], [\"['coronavirus']\"], [\"['coronavirus', 'festival']\"], [\"['business', 'coronavirus', 'corona', 'pandemic']\"], [\"['amazon', 'coronavirus']\"], [\"['coronavirus']\"], [\"['selfisolating', 'coronavirus']\"], [\"['coronavirus']\"], [\"['mwc2020', 'coronavirus']\"], [\"['mwc20', 'coronavirus', 'mwc']\"], [\"['coronavirus']\"], [\"['coronavirus']\"], [\"['coronavirus']\"], [\"['coronavirus']\"], [\"['coronavirus']\"], [\"['coronavirus']\"], [\"['coronavirus']\"], [\"['coronavirus', 'covid19']\"], [\"['coronavirus']\"], [\"['coronavirus', 'covid19']\"], [\"['coronavirus']\"], [\"['coronavirus']\"], [\"['coronavirus', 'covid19']\"], [\"['coronavirus']\"], [\"['coronavirus']\"], [\"['coronavirus']\"], [\"['coronavirus', 'tokenization']\"], [\"['coronavirus']\"], [\"['coronavirus']\"], [\"['coronavirus']\"], [\"['coronavirus']\"], [\"['coronavirus']\"], [\"['italy', 'coronavirus']\"], [\"['coronavirus']\"]], \"hovertemplate\": \"<b>%{hovertext}</b><br><br>labels=2<br>tsne_x=%{x}<br>tsne_y=%{y}<br>hashtags=%{customdata[0]}<extra></extra>\", \"hovertext\": [\"jennystrasburg\", \"jennystrasburg\", \"jennystrasburg\", \"leokelion\", \"leokelion\", \"leokelion\", \"leokelion\", \"joetidy\", \"joetidy\", \"joetidy\", \"_lucyingham\", \"_lucyingham\", \"_lucyingham\", \"_lucyingham\", \"_lucyingham\", \"_lucyingham\", \"_lucyingham\", \"_lucyingham\", \"_lucyingham\", \"_lucyingham\", \"_lucyingham\", \"_lucyingham\", \"_lucyingham\", \"_lucyingham\", \"_lucyingham\", \"_lucyingham\", \"_lucyingham\", \"_lucyingham\", \"_lucyingham\", \"_lucyingham\", \"_lucyingham\", \"_lucyingham\", \"_lucyingham\", \"_lucyingham\", \"_lucyingham\", \"_lucyingham\", \"_lucyingham\", \"dannyjpalmer\", \"dannyjpalmer\", \"dannyjpalmer\", \"dannyjpalmer\", \"dannyjpalmer\", \"sophiafurber\", \"sophiafurber\", \"sophiafurber\", \"sophiafurber\", \"sophiafurber\", \"sophiafurber\", \"sophiafurber\", \"sophiafurber\", \"sophiafurber\", \"sophiafurber\", \"sophiafurber\", \"sophiafurber\", \"sophiafurber\", \"sophiafurber\", \"scfgallagher\", \"scfgallagher\", \"scfgallagher\", \"mshannahmurphy\", \"mshannahmurphy\"], \"legendgroup\": \"2\", \"marker\": {\"color\": \"rgb(230, 131, 16)\", \"symbol\": \"circle\"}, \"mode\": \"markers\", \"name\": \"2\", \"showlegend\": true, \"type\": \"scattergl\", \"x\": [44.05094528198242, 37.13511276245117, 33.47997283935547, 39.3934440612793, 40.629905700683594, 40.6043586730957, 41.881561279296875, 41.299278259277344, 39.57198715209961, 37.70083236694336, 45.72933578491211, 41.85822677612305, 41.69590377807617, 87.42383575439453, 39.686893463134766, 41.3814811706543, 43.10213851928711, 41.10211944580078, 38.831634521484375, 46.18565368652344, 38.5010871887207, 45.72933578491211, 41.85822677612305, 41.69590377807617, 87.42383575439453, 40.59370040893555, 42.81936264038086, 43.10213851928711, 37.228538513183594, 39.71091079711914, 46.18565368652344, 37.534568786621094, 38.40398406982422, 44.03373336791992, 39.13528823852539, 42.90052032470703, 42.2493782043457, 38.14622116088867, 40.6043586730957, 38.49397277832031, 40.629905700683594, 38.277889251708984, 39.161617279052734, 40.629905700683594, 33.0767707824707, 43.1823616027832, 33.885311126708984, 39.65985107421875, 40.629905700683594, 33.533111572265625, 40.629905700683594, 42.21449661254883, 40.22671890258789, 42.20254135131836, 39.05518341064453, 42.85131072998047, 43.628807067871094, 40.903892517089844, 40.1202507019043, 46.006980895996094, 42.195133209228516], \"xaxis\": \"x\", \"y\": [-112.73854064941406, -112.91598510742188, -115.50316619873047, -114.64877319335938, -113.67569732666016, -112.05033111572266, -114.49510955810547, -115.94039916992188, -112.3922119140625, -115.4308853149414, -117.5101318359375, -112.54862213134766, -111.1121597290039, -61.81800842285156, -110.06205749511719, -109.3009262084961, -111.67868041992188, -115.08792877197266, -111.69910430908203, -109.80818176269531, -110.59616088867188, -117.5101318359375, -112.54862213134766, -111.1121597290039, -61.81801223754883, -110.62409210205078, -109.85592651367188, -111.67868041992188, -114.25147247314453, -111.2646713256836, -109.80818176269531, -111.5581283569336, -114.55377960205078, -114.88511657714844, -113.8453369140625, -113.07681274414062, -118.6856918334961, -113.53709411621094, -112.05033111572266, -116.39729309082031, -113.67569732666016, -112.52659606933594, -113.04046630859375, -113.67569732666016, -114.90856170654297, -115.84378051757812, -115.12406921386719, -116.79200744628906, -113.67569732666016, -114.58419799804688, -113.67569732666016, -115.37090301513672, -115.94623565673828, -113.67950439453125, -115.5272216796875, -114.50306701660156, -113.80066680908203, -116.98316192626953, -115.12381744384766, -113.7376708984375, -116.61055755615234], \"yaxis\": \"y\"}, {\"customdata\": [[\"['covid\\u30fc19']\"], [\"['gdpr']\"], [\"['gdpr']\"], [\"['gdpr']\"], [\"['nhs', 'staffing', 'covid\\u30fc19', 'artificialintelligence']\"], [\"['nhs', 'staffing', 'covid\\u30fc19', 'artificialintelligence']\"], [\"['artificialintelligence']\"], [\"['gdpr']\"], [\"['startups', 'artificialintelligence']\"], [\"['artificialintelligence']\"], [\"['artificialintelligence']\"], [\"['artificialintelligence', 'augmentedintelligence']\"], [\"['privacy', 'gdpr']\"], [\"['gdpr']\"], [\"['gdpr']\"]], \"hovertemplate\": \"<b>%{hovertext}</b><br><br>labels=39<br>tsne_x=%{x}<br>tsne_y=%{y}<br>hashtags=%{customdata[0]}<extra></extra>\", \"hovertext\": [\"jennystrasburg\", \"dannsimmons\", \"dannsimmons\", \"leokelion\", \"_lucyingham\", \"_lucyingham\", \"_lucyingham\", \"_lucyingham\", \"_lucyingham\", \"_lucyingham\", \"_lucyingham\", \"_lucyingham\", \"sophiafurber\", \"jesscahaworth\", \"jesscahaworth\"], \"legendgroup\": \"39\", \"marker\": {\"color\": \"rgb(0, 134, 149)\", \"symbol\": \"circle\"}, \"mode\": \"markers\", \"name\": \"39\", \"showlegend\": true, \"type\": \"scattergl\", \"x\": [14.014254570007324, 58.357139587402344, 59.27133560180664, 58.200927734375, 24.6238956451416, 24.6238956451416, 22.313058853149414, 58.88549041748047, 22.708232879638672, 22.313058853149414, 22.313058853149414, 22.972204208374023, 59.42978286743164, 58.27723693847656, 58.860076904296875], \"xaxis\": \"x\", \"y\": [-12.517502784729004, -12.59206485748291, -11.874216079711914, -12.000983238220215, -4.482508659362793, -4.482508182525635, -5.1749043464660645, -11.396472930908203, -4.396385669708252, -5.1749043464660645, -5.1749043464660645, -5.2684712409973145, -13.107640266418457, -11.444270133972168, -12.258981704711914], \"yaxis\": \"y\"}, {\"customdata\": [[\"['deutschebank']\"], [\"['deutschebank']\"], [\"['deutschebank', 'commerzbank']\"], [\"['deutschebank']\"], [\"['deutschebank']\"], [\"['deutschebank']\"], [\"['deutschebank', 'barclays', 'creditsuisse']\"], [\"['deutschebank']\"], [\"['deutschebank']\"], [\"['deutschebank']\"], [\"['deutschebank']\"], [\"['deutschebank']\"], [\"['deutschebank']\"], [\"['deutschebank']\"], [\"['deutschebank']\"], [\"['deutschebank']\"], [\"['deutschebank']\"], [\"['deutschebank']\"], [\"['deutschebank']\"], [\"['deutschebank', 'commerzbank']\"], [\"['commerzbank', 'deutschebank']\"], [\"['deutschebank', 'commerzbank']\"], [\"['deutschebank', 'commerzbank']\"], [\"['deutschebank']\"], [\"['deutschebank']\"], [\"['deutschebank', 'commerzbank']\"], [\"['deutschebank']\"], [\"['deutschebank']\"], [\"['deutschebank']\"], [\"['deutschebank']\"], [\"['deutschebank']\"], [\"['deutschebank']\"], [\"['deutschebank']\"], [\"['deutschebank']\"], [\"['deutschebank']\"], [\"['deutschebank']\"], [\"['deutschebank']\"], [\"['barclays', 'deutschebank']\"]], \"hovertemplate\": \"<b>%{hovertext}</b><br><br>labels=8<br>tsne_x=%{x}<br>tsne_y=%{y}<br>hashtags=%{customdata[0]}<extra></extra>\", \"hovertext\": [\"jennystrasburg\", \"jennystrasburg\", \"jennystrasburg\", \"jennystrasburg\", \"jennystrasburg\", \"jennystrasburg\", \"jennystrasburg\", \"jennystrasburg\", \"jennystrasburg\", \"jennystrasburg\", \"jennystrasburg\", \"jennystrasburg\", \"jennystrasburg\", \"jennystrasburg\", \"jennystrasburg\", \"jennystrasburg\", \"jennystrasburg\", \"jennystrasburg\", \"jennystrasburg\", \"jennystrasburg\", \"jennystrasburg\", \"jennystrasburg\", \"jennystrasburg\", \"jennystrasburg\", \"jennystrasburg\", \"jennystrasburg\", \"jennystrasburg\", \"jennystrasburg\", \"jennystrasburg\", \"jennystrasburg\", \"jennystrasburg\", \"jennystrasburg\", \"jennystrasburg\", \"jennystrasburg\", \"jennystrasburg\", \"jennystrasburg\", \"jennystrasburg\", \"jennystrasburg\"], \"legendgroup\": \"8\", \"marker\": {\"color\": \"rgb(207, 28, 144)\", \"symbol\": \"circle\"}, \"mode\": \"markers\", \"name\": \"8\", \"showlegend\": true, \"type\": \"scattergl\", \"x\": [3.2592902183532715, 6.863063812255859, 6.295947551727295, 3.925743579864502, 5.867645740509033, 3.100346803665161, 7.635915279388428, 6.280143737792969, 7.652085304260254, 4.525308132171631, 4.611104965209961, 2.6900227069854736, 2.897213935852051, 4.525308132171631, 5.867645740509033, 4.785055160522461, 1.8595081567764282, 4.611104965209961, 3.1227710247039795, 6.295947551727295, 4.026549339294434, 4.026549339294434, 6.295947551727295, 5.853098392486572, 7.921801567077637, 5.286174297332764, 1.990958333015442, 6.986544132232666, 5.596497058868408, 2.1168370246887207, 5.905253887176514, 4.525308132171631, 3.7418761253356934, 3.2592902183532715, 4.525308132171631, 6.818625450134277, 4.785055160522461, 4.947263717651367], \"xaxis\": \"x\", \"y\": [113.42672729492188, 113.34317779541016, 117.69042205810547, 116.93340301513672, 115.34320831298828, 116.59994506835938, 116.88909149169922, 114.27406311035156, 114.23968505859375, 114.6739273071289, 112.93604278564453, 117.63568115234375, 115.58197021484375, 114.6739273071289, 115.34320831298828, 116.21659088134766, 115.3262939453125, 112.93604278564453, 114.73043823242188, 117.69042205810547, 118.22545623779297, 118.22545623779297, 117.69042205810547, 116.41505432128906, 115.61905670166016, 118.80363464355469, 116.54570007324219, 115.05895233154297, 113.77059936523438, 114.16409301757812, 112.67982482910156, 114.6739273071289, 115.83649444580078, 113.42672729492188, 114.6739273071289, 116.14371490478516, 116.21659088134766, 117.32050323486328], \"yaxis\": \"y\"}, {\"customdata\": [[\"['kommentar', 'ank\\u00fcndigungen', 'deutsche', 'bank']\"], [\"['openbanking']\"], [\"['openbanking']\"], [\"['openbanking']\"], [\"['openbanking', 'coronavirus']\"], [\"['bank', 'openbanking']\"], [\"['openbanking']\"], [\"['psd2', 'openbanking']\"]], \"hovertemplate\": \"<b>%{hovertext}</b><br><br>labels=73<br>tsne_x=%{x}<br>tsne_y=%{y}<br>hashtags=%{customdata[0]}<extra></extra>\", \"hovertext\": [\"jennystrasburg\", \"sophiafurber\", \"sophiafurber\", \"sophiafurber\", \"sophiafurber\", \"sophiafurber\", \"sophiafurber\", \"sophiafurber\"], \"legendgroup\": \"73\", \"marker\": {\"color\": \"rgb(249, 123, 114)\", \"symbol\": \"circle\"}, \"mode\": \"markers\", \"name\": \"73\", \"showlegend\": true, \"type\": \"scattergl\", \"x\": [5.504120826721191, 1.4627552032470703, 2.0785679817199707, 1.7482768297195435, 39.42817687988281, 2.3612442016601562, 2.0785679817199707, 3.186927556991577], \"xaxis\": \"x\", \"y\": [-77.4713134765625, -73.34779357910156, -73.03311920166016, -73.8502426147461, -118.83518981933594, -73.85770416259766, -73.03311920166016, -73.51593017578125], \"yaxis\": \"y\"}, {\"customdata\": [[\"['brexit']\"], [\"['brexit']\"], [\"['brexit']\"], [\"['brexit']\"], [\"['brexit']\"], [\"['brexit']\"], [\"['brexit']\"], [\"['banks', 'restructuring', 'brexit']\"], [\"['brexit', 'chcity']\"], [\"['brexit', 'chcity']\"], [\"['chcity', 'brexit']\"], [\"['chcity', 'brexit', 'london']\"], [\"['brexit']\"], [\"['brexit']\"], [\"['brexit', 'aldeskodining']\"], [\"['brexit']\"], [\"['brexit']\"], [\"['brexit']\"], [\"['brexit']\"], [\"['brexit']\"], [\"['brexit']\"], [\"['brexit']\"], [\"['brexit', 'radiohead']\"], [\"['brexit']\"], [\"['brexit', '2017ledebat']\"], [\"['brexit']\"], [\"['grim', 'brexit']\"], [\"['brexit']\"], [\"['brexit']\"], [\"['brexit']\"], [\"['brexit']\"], [\"['brexit']\"], [\"['eu', 'brexit']\"], [\"['brexit']\"], [\"['brexit']\"], [\"['farage', 'brexit']\"], [\"['brexit']\"], [\"['grexit', 'brexit', 'manspreading', 'bants']\"]], \"hovertemplate\": \"<b>%{hovertext}</b><br><br>labels=6<br>tsne_x=%{x}<br>tsne_y=%{y}<br>hashtags=%{customdata[0]}<extra></extra>\", \"hovertext\": [\"jennystrasburg\", \"jennystrasburg\", \"dannsimmons\", \"sophiafurber\", \"sophiafurber\", \"sophiafurber\", \"sophiafurber\", \"sophiafurber\", \"sophiafurber\", \"sophiafurber\", \"sophiafurber\", \"sophiafurber\", \"sophiafurber\", \"sophiafurber\", \"sophiafurber\", \"sophiafurber\", \"sophiafurber\", \"sophiafurber\", \"sophiafurber\", \"sophiafurber\", \"sophiafurber\", \"sophiafurber\", \"mshannahmurphy\", \"mshannahmurphy\", \"mshannahmurphy\", \"mshannahmurphy\", \"mshannahmurphy\", \"mshannahmurphy\", \"mshannahmurphy\", \"mshannahmurphy\", \"mshannahmurphy\", \"mshannahmurphy\", \"mshannahmurphy\", \"mshannahmurphy\", \"mshannahmurphy\", \"mshannahmurphy\", \"mshannahmurphy\", \"mshannahmurphy\"], \"legendgroup\": \"6\", \"marker\": {\"color\": \"rgb(165, 170, 153)\", \"symbol\": \"circle\"}, \"mode\": \"markers\", \"name\": \"6\", \"showlegend\": true, \"type\": \"scattergl\", \"x\": [-51.031341552734375, -49.311614990234375, -51.031341552734375, -50.86661911010742, -53.00715637207031, -51.031341552734375, -53.528839111328125, -52.862186431884766, -47.723758697509766, -47.723758697509766, -47.723758697509766, -46.465782165527344, -50.86661911010742, -51.031341552734375, -51.13490676879883, -52.32073211669922, -49.311614990234375, -49.311614990234375, -51.031341552734375, -53.00715637207031, -51.031341552734375, -51.031341552734375, -51.13490676879883, -48.6771125793457, -52.29261016845703, -51.031341552734375, -49.84368896484375, -50.86661911010742, -50.86661911010742, -51.031341552734375, -49.311614990234375, -49.32194519042969, -52.393226623535156, -48.26546096801758, -52.32073211669922, -49.84368896484375, -53.00715637207031, -53.41640853881836], \"xaxis\": \"x\", \"y\": [-84.56670379638672, -85.74433135986328, -84.56670379638672, -86.72156524658203, -84.66573333740234, -84.56670379638672, -86.01326751708984, -88.2835464477539, -79.13362121582031, -79.13362121582031, -79.13362121582031, -78.65801239013672, -86.72156524658203, -84.56670379638672, -82.53052520751953, -86.17253112792969, -85.74433135986328, -85.74433135986328, -84.56670379638672, -84.66573333740234, -84.56670379638672, -84.56670379638672, -82.53052520751953, -83.4297103881836, -83.35343170166016, -84.56670379638672, -82.92400360107422, -86.72156524658203, -86.72156524658203, -84.56670379638672, -85.74433135986328, -84.17171478271484, -82.37773895263672, -84.6099624633789, -86.17253112792969, -82.92400360107422, -84.66573333740234, -83.27360534667969], \"yaxis\": \"y\"}, {\"customdata\": [[\"['rbs']\"], [\"['rbs']\"], [\"['rbs', 'ppi']\"], [\"['rbs']\"], [\"['fca', 'rbs']\"], [\"['rbs']\"], [\"['rbs']\"], [\"['rbs']\"], [\"['rbs']\"]], \"hovertemplate\": \"<b>%{hovertext}</b><br><br>labels=74<br>tsne_x=%{x}<br>tsne_y=%{y}<br>hashtags=%{customdata[0]}<extra></extra>\", \"hovertext\": [\"jennystrasburg\", \"sophiafurber\", \"sophiafurber\", \"sophiafurber\", \"sophiafurber\", \"sophiafurber\", \"sophiafurber\", \"sophiafurber\", \"sophiafurber\"], \"legendgroup\": \"74\", \"marker\": {\"color\": \"rgb(127, 60, 141)\", \"symbol\": \"circle\"}, \"mode\": \"markers\", \"name\": \"74\", \"showlegend\": true, \"type\": \"scattergl\", \"x\": [51.46065902709961, 51.104732513427734, 51.20027160644531, 52.13572311401367, 51.20027160644531, 52.13572311401367, 52.05781555175781, 50.59554672241211, 50.59554672241211], \"xaxis\": \"x\", \"y\": [-76.41819763183594, -77.05750274658203, -75.24754333496094, -75.8198013305664, -75.24754333496094, -75.8198013305664, -76.84490203857422, -76.16188049316406, -76.16188049316406], \"yaxis\": \"y\"}, {\"customdata\": [[\"['hsbc', 'huawei']\"], [\"['5g', 'huawei']\"], [\"['5g', 'huawei']\"], [\"['huawei', 'bbcnewscast']\"], [\"['huawei']\"], [\"['huawei', 'bbcnewscast']\"], [\"['huawei']\"], [\"['huawei']\"], [\"['5g', 'o2']\"], [\"['huawei']\"], [\"['5g']\"]], \"hovertemplate\": \"<b>%{hovertext}</b><br><br>labels=54<br>tsne_x=%{x}<br>tsne_y=%{y}<br>hashtags=%{customdata[0]}<extra></extra>\", \"hovertext\": [\"jennystrasburg\", \"dannsimmons\", \"dannsimmons\", \"gordoncorera\", \"gordoncorera\", \"gordoncorera\", \"gordoncorera\", \"gordoncorera\", \"joetidy\", \"joetidy\", \"_lucyingham\"], \"legendgroup\": \"54\", \"marker\": {\"color\": \"rgb(17, 165, 121)\", \"symbol\": \"circle\"}, \"mode\": \"markers\", \"name\": \"54\", \"showlegend\": true, \"type\": \"scattergl\", \"x\": [46.26547622680664, 45.24805450439453, 45.24805450439453, 45.9733772277832, 44.80315017700195, 45.9733772277832, 44.80315017700195, 45.45352554321289, 41.433284759521484, 45.45352554321289, 41.42028045654297], \"xaxis\": \"x\", \"y\": [-23.8356876373291, -25.45904541015625, -25.45904541015625, -24.616743087768555, -24.044469833374023, -24.616743087768555, -24.044469833374023, -23.380212783813477, -24.98927116394043, -23.380212783813477, -24.989219665527344], \"yaxis\": \"y\"}, {\"customdata\": [[\"['metoo']\"], [\"['metoo']\"], [\"['metoo']\"], [\"['metoo']\"], [\"['metoo']\"], [\"['metoo']\"], [\"['metoo']\"], [\"['twentiestakeover', 'metoo']\"]], \"hovertemplate\": \"<b>%{hovertext}</b><br><br>labels=91<br>tsne_x=%{x}<br>tsne_y=%{y}<br>hashtags=%{customdata[0]}<extra></extra>\", \"hovertext\": [\"jennystrasburg\", \"joetidy\", \"scfgallagher\", \"scfgallagher\", \"scfgallagher\", \"scfgallagher\", \"scfgallagher\", \"scfgallagher\"], \"legendgroup\": \"91\", \"marker\": {\"color\": \"rgb(57, 105, 172)\", \"symbol\": \"circle\"}, \"mode\": \"markers\", \"name\": \"91\", \"showlegend\": true, \"type\": \"scattergl\", \"x\": [48.0323371887207, 48.57661437988281, 49.2945671081543, 49.66546630859375, 48.42381286621094, 48.980323791503906, 48.42381286621094, 49.44670486450195], \"xaxis\": \"x\", \"y\": [-40.80751419067383, -41.31035614013672, -39.79225158691406, -40.43825149536133, -40.00200271606445, -40.696319580078125, -40.00200271606445, -41.286014556884766], \"yaxis\": \"y\"}, {\"customdata\": [[\"['bbcclick']\"], [\"['bbcclick']\"], [\"['bbcclick']\"], [\"['bbcclick']\"], [\"['bbcclick']\"], [\"['bbcclick']\"], [\"['bbcclick']\"], [\"['bbcclick']\"], [\"['bbcclick']\"], [\"['bbcclick']\"], [\"['bbcclick', 'bbcnews']\"], [\"['bbcclick']\"], [\"['bbcclick']\"], [\"['bbcclick', 'rioplussocial']\"], [\"['bbcclick']\"], [\"['bbcclick']\"], [\"['bbcclick', 'mojo']\"]], \"hovertemplate\": \"<b>%{hovertext}</b><br><br>labels=24<br>tsne_x=%{x}<br>tsne_y=%{y}<br>hashtags=%{customdata[0]}<extra></extra>\", \"hovertext\": [\"dannsimmons\", \"dannsimmons\", \"dannsimmons\", \"dannsimmons\", \"dannsimmons\", \"dannsimmons\", \"dannsimmons\", \"dannsimmons\", \"dannsimmons\", \"dannsimmons\", \"dannsimmons\", \"dannsimmons\", \"dannsimmons\", \"dannsimmons\", \"dannsimmons\", \"leokelion\", \"leokelion\"], \"legendgroup\": \"24\", \"marker\": {\"color\": \"rgb(242, 183, 1)\", \"symbol\": \"circle\"}, \"mode\": \"markers\", \"name\": \"24\", \"showlegend\": true, \"type\": \"scattergl\", \"x\": [18.90779685974121, 18.90779685974121, 18.90779685974121, 18.90779685974121, 18.90779685974121, 18.90779685974121, 18.90779685974121, 18.90779685974121, 17.518033981323242, 18.90779685974121, 20.050901412963867, 19.57869529724121, 18.117839813232422, 18.68883514404297, 17.27737045288086, 18.90779685974121, 20.766328811645508], \"xaxis\": \"x\", \"y\": [52.157100677490234, 52.157100677490234, 52.157100677490234, 52.157100677490234, 52.157100677490234, 52.157100677490234, 52.157100677490234, 52.157100677490234, 53.08984375, 52.157100677490234, 53.346473693847656, 50.660606384277344, 50.69401550292969, 53.81846618652344, 51.775760650634766, 52.157100677490234, 51.86252212524414], \"yaxis\": \"y\"}, {\"customdata\": [[\"['cablecongress']\"], [\"['cablecongress']\"], [\"['cablecongress']\"], [\"['cablecongress']\"], [\"['cablecongress']\"], [\"['cablecongress']\"], [\"['cablecongress']\"], [\"['cablecongress']\"], [\"['cablecongress']\"], [\"['cablecongress']\"], [\"['cablecongress', 'fullduplexobvs']\"]], \"hovertemplate\": \"<b>%{hovertext}</b><br><br>labels=50<br>tsne_x=%{x}<br>tsne_y=%{y}<br>hashtags=%{customdata[0]}<extra></extra>\", \"hovertext\": [\"dannsimmons\", \"dannsimmons\", \"dannsimmons\", \"dannsimmons\", \"dannsimmons\", \"dannsimmons\", \"dannsimmons\", \"dannsimmons\", \"dannsimmons\", \"dannsimmons\", \"dannsimmons\"], \"legendgroup\": \"50\", \"marker\": {\"color\": \"rgb(231, 63, 116)\", \"symbol\": \"circle\"}, \"mode\": \"markers\", \"name\": \"50\", \"showlegend\": true, \"type\": \"scattergl\", \"x\": [11.22510051727295, 10.08134937286377, 11.22510051727295, 11.22510051727295, 11.11109447479248, 10.08134937286377, 11.22510051727295, 11.11109447479248, 10.08134937286377, 11.22510051727295, 12.079975128173828], \"xaxis\": \"x\", \"y\": [-21.874698638916016, -22.591962814331055, -21.874698638916016, -21.874698638916016, -23.342069625854492, -22.591962814331055, -21.874698638916016, -23.342069625854492, -22.591962814331055, -21.874698638916016, -22.835281372070312], \"yaxis\": \"y\"}, {\"customdata\": [[\"['frankfurtmotorshow']\"], [\"['frankfurtmotorshow']\"], [\"['frankfurtmotorshow']\"], [\"['frankfurtmotorshow']\"], [\"['frankfurtmotorshow']\"], [\"['frankfurtmotorshow']\"], [\"['frankfurtmotorshow']\"], [\"['frankfurtmotorshow']\"], [\"['frankfurtmotorshow']\"], [\"['frankfurtmotorshow']\"]], \"hovertemplate\": \"<b>%{hovertext}</b><br><br>labels=64<br>tsne_x=%{x}<br>tsne_y=%{y}<br>hashtags=%{customdata[0]}<extra></extra>\", \"hovertext\": [\"dannsimmons\", \"dannsimmons\", \"dannsimmons\", \"dannsimmons\", \"dannsimmons\", \"dannsimmons\", \"dannsimmons\", \"dannsimmons\", \"dannsimmons\", \"dannsimmons\"], \"legendgroup\": \"64\", \"marker\": {\"color\": \"rgb(128, 186, 90)\", \"symbol\": \"circle\"}, \"mode\": \"markers\", \"name\": \"64\", \"showlegend\": true, \"type\": \"scattergl\", \"x\": [60.221736907958984, 59.58894729614258, 59.58894729614258, 59.58894729614258, 60.930259704589844, 60.930259704589844, 60.930259704589844, 60.930259704589844, 60.930259704589844, 59.58894729614258], \"xaxis\": \"x\", \"y\": [-52.034629821777344, -53.22047424316406, -53.22047424316406, -53.22047424316406, -53.174564361572266, -53.174564361572266, -53.174564361572266, -53.174564361572266, -53.174564361572266, -53.22047424316406], \"yaxis\": \"y\"}, {\"customdata\": [[\"['ces2019']\"], [\"['ces2019']\"], [\"['ces2019', 'tothinkioncepackedoutpacha']\"], [\"['ces2019', 'youreholdingitwrong']\"], [\"['ces2019', 'mybrainfeelsabitwarm']\"], [\"['ces2019']\"], [\"['ces2019', 'ilooktotallynormal', 'allmythoughtsbelongtozuckerberg']\"], [\"['ces2019', 'bigdrone', 'imnotgettingonthat']\"], [\"['ces2019', 'macinestalkingtomachines']\"], [\"['ces2019']\"], [\"['ces2019', 'cloinotinvited']\"], [\"['ces2019']\"], [\"['ces2019']\"], [\"['ces2019']\"], [\"['ces2019']\"]], \"hovertemplate\": \"<b>%{hovertext}</b><br><br>labels=29<br>tsne_x=%{x}<br>tsne_y=%{y}<br>hashtags=%{customdata[0]}<extra></extra>\", \"hovertext\": [\"dannsimmons\", \"leokelion\", \"leokelion\", \"leokelion\", \"leokelion\", \"leokelion\", \"leokelion\", \"leokelion\", \"leokelion\", \"leokelion\", \"leokelion\", \"leokelion\", \"leokelion\", \"leokelion\", \"leokelion\"], \"legendgroup\": \"29\", \"marker\": {\"color\": \"rgb(230, 131, 16)\", \"symbol\": \"circle\"}, \"mode\": \"markers\", \"name\": \"29\", \"showlegend\": true, \"type\": \"scattergl\", \"x\": [-60.894004821777344, -60.894004821777344, -61.58832550048828, -61.58832550048828, -61.58832550048828, -62.39189910888672, -60.28560256958008, -60.28560256958008, -62.796878814697266, -60.894004821777344, -62.796878814697266, -62.39189910888672, -61.622047424316406, -62.39189910888672, -60.894004821777344], \"xaxis\": \"x\", \"y\": [-35.00925827026367, -35.00925827026367, -36.48988342285156, -36.48988342285156, -36.48988342285156, -34.9250602722168, -36.30131530761719, -36.30131530761719, -36.15712356567383, -35.00925827026367, -36.15712356567383, -34.9250602722168, -33.89975357055664, -34.9250602722168, -35.00925827026367], \"yaxis\": \"y\"}, {\"customdata\": [[\"['photokina2018']\"], [\"['nikonz7', 'photokina2018']\"], [\"['panasonic', 'leica', 'sigma', 'photokina2018']\"], [\"['photokina2018', 'nikonz7']\"]], \"hovertemplate\": \"<b>%{hovertext}</b><br><br>labels=63<br>tsne_x=%{x}<br>tsne_y=%{y}<br>hashtags=%{customdata[0]}<extra></extra>\", \"hovertext\": [\"dannsimmons\", \"dannsimmons\", \"dannsimmons\", \"dannsimmons\"], \"legendgroup\": \"63\", \"marker\": {\"color\": \"rgb(0, 134, 149)\", \"symbol\": \"circle\"}, \"mode\": \"markers\", \"name\": \"63\", \"showlegend\": true, \"type\": \"scattergl\", \"x\": [16.642074584960938, 17.22461700439453, 112.82865142822266, 17.22461700439453], \"xaxis\": \"x\", \"y\": [-6.05570650100708, -6.1582231521606445, 41.867393493652344, -6.1582231521606445], \"yaxis\": \"y\"}, {\"customdata\": [[\"['uber']\"], [\"['uber']\"], [\"['uber', 'amimissingsomething']\"], [\"['uber']\"], [\"['ba', 'github', 'slack', 'uber']\"], [\"['uber']\"], [\"['uber']\"], [\"['precariat', 'freelance', 'uber', 'rights']\"], [\"['snapchat', 'google', 'uber', 'siliconvalley']\"]], \"hovertemplate\": \"<b>%{hovertext}</b><br><br>labels=46<br>tsne_x=%{x}<br>tsne_y=%{y}<br>hashtags=%{customdata[0]}<extra></extra>\", \"hovertext\": [\"dannsimmons\", \"dannsimmons\", \"dannsimmons\", \"leokelion\", \"leokelion\", \"mshannahmurphy\", \"mshannahmurphy\", \"mshannahmurphy\", \"mshannahmurphy\"], \"legendgroup\": \"46\", \"marker\": {\"color\": \"rgb(207, 28, 144)\", \"symbol\": \"circle\"}, \"mode\": \"markers\", \"name\": \"46\", \"showlegend\": true, \"type\": \"scattergl\", \"x\": [40.75102615356445, 40.75102615356445, 41.71052932739258, 40.75102615356445, 41.72172546386719, 41.52738952636719, 41.52738952636719, 40.959922790527344, 38.64488983154297], \"xaxis\": \"x\", \"y\": [4.068403720855713, 4.068403720855713, 4.459236145019531, 4.068403720855713, 5.424895763397217, 3.52135968208313, 3.52135968208313, 5.242279052734375, 3.7451791763305664], \"yaxis\": \"y\"}, {\"customdata\": [[\"['ces']\"], [\"['ces']\"], [\"['ces']\"], [\"['ces']\"], [\"['ces']\"], [\"['ces']\"], [\"['ces', 'seeyalateralligators']\"], [\"['ces']\"], [\"['ces']\"], [\"['bbctech', 'ces']\"], [\"['ces']\"], [\"['ces']\"], [\"['ces']\"], [\"['ces']\"], [\"['ces']\"], [\"['ces']\"], [\"['wearabletech', 'ces']\"], [\"['ces', 'byebyegadgets']\"], [\"['ces', 'stopsayingiot']\"], [\"['ces']\"], [\"['ces']\"], [\"['ces']\"], [\"['ces', 'drones']\"], [\"['ces', 'arethereventhatmanyhandsets']\"], [\"['ces', 'wouldyouliketobuysomewire']\"], [\"['ces', 'giantdrone']\"], [\"['ces']\"], [\"['ces', 'drones']\"], [\"['oculus', 'ces']\"], [\"['ces', 'toomuchtechforonebrain']\"], [\"['ces']\"], [\"['ces', 'nearlyovernow', 'ninjaman']\"], [\"['ces']\"], [\"['ces', 'makeitstop']\"], [\"['cartech', 'ces']\"], [\"['ces', 'pantone']\"], [\"['ces']\"], [\"['ces']\"], [\"['ces']\"], [\"['ces']\"], [\"['mophie', 'ces']\"], [\"['ces', 'joke']\"], [\"['mercedes', 'ces']\"], [\"['ces']\"], [\"['samsung', 'ces']\"], [\"['sharp', 'ces']\"], [\"['ces']\"], [\"['arghhhh', 'ces']\"], [\"['ces', 'samsung']\"], [\"['ces']\"], [\"['ces']\"], [\"['ces']\"], [\"['bbctechtent', 'ces']\"], [\"['vegas', 'ces']\"], [\"['ces']\"], [\"['ces']\"], [\"['ces']\"], [\"['stuff', 'ces']\"], [\"['ces']\"], [\"['ces']\"], [\"['ces', 'justbecauseyoucandoesn']\"], [\"['ces']\"], [\"['ces']\"], [\"['ces']\"], [\"['ces']\"], [\"['bosch', 'ces']\"], [\"['ces', 'greedyhacks']\"], [\"['ces']\"], [\"['ces']\"], [\"['ces']\"], [\"['ces']\"], [\"['ces', 'killtheacronym']\"], [\"['ces']\"], [\"['ces']\"], [\"['ces']\"], [\"['ces']\"], [\"['ces']\"], [\"['ces']\"], [\"['ces']\"], [\"['ces']\"], [\"['ces']\"], [\"['ces']\"], [\"['ces']\"], [\"['ces']\"], [\"['ces']\"], [\"['mcor', 'ces']\"], [\"['autodesk', 'ces']\"], [\"['ces']\"], [\"['ces']\"], [\"['ces']\"], [\"['ces']\"], [\"['misfit', 'ces']\"], [\"['ces', 'maycontainnuts']\"], [\"['ces']\"], [\"['ces']\"], [\"['ces']\"], [\"['fitbark', 'ces']\"], [\"['motorola', 'ces', 'woofcam']\"], [\"['ces', 'bluetooth']\"], [\"['ces']\"], [\"['meccanoid', 'ces']\"], [\"['ces']\"], [\"['ces']\"], [\"['ces']\"], [\"['ces']\"], [\"['ces']\"], [\"['ces']\"], [\"['ces']\"], [\"['ces']\"], [\"['ces']\"], [\"['ces']\"], [\"['ces']\"], [\"['samsung', 'ces']\"], [\"['bmw', 'samsung', 'ces']\"], [\"['bmw', 'samsung', 'ces']\"], [\"['samsung', 'ces']\"], [\"['jawbone', 'samsung', 'ces']\"], [\"['jawbone', 'samsung', 'ces']\"], [\"['samsung', 'ces']\"], [\"['samsung', 'ces']\"], [\"['samsung', 'ces']\"], [\"['samsung', 'ces']\"], [\"['ces', 'samsung']\"], [\"['samsung', 'ces', 'notgoingtogetpromoted']\"], [\"['galaxys6', 'samsung', 'ces']\"], [\"['samsung', 'ces']\"], [\"['samsung', 'ces']\"], [\"['ces']\"], [\"['ces']\"], [\"['samsung', 'lg', 'ces']\"], [\"['samsung', 'ces']\"], [\"['samsung', 'ces']\"], [\"['samsung', 'ces']\"], [\"['samsung', 'ces']\"], [\"['samsung', 'ces']\"], [\"['samsung', 'ces']\"], [\"['samsung', 'ces']\"], [\"['samsung', 'ces']\"], [\"['samsung', 'ces']\"], [\"['samsung', 'ces']\"], [\"['samsung', 'ces']\"], [\"['samsung', 'ces']\"], [\"['samsung', 'ces']\"], [\"['samsung', 'ces']\"], [\"['samsung', 'ces']\"], [\"['qualcomm', 'ces']\"], [\"['qualcomm', 'ces']\"], [\"['qualcomm', 'ces']\"], [\"['qualcomm', 'ces']\"], [\"['qualcomm', 'ces']\"], [\"['qualcomm', 'ces']\"], [\"['ces']\"], [\"['panasonic', 'ces']\"], [\"['ces']\"], [\"['panasonic', 'ces']\"], [\"['panasonic', 'ces']\"], [\"['panasonic', 'ces']\"], [\"['blu', 'ces']\"], [\"['panasonic', 'ces']\"], [\"['panasonic', 'ces']\"], [\"['panasonic', 'ces']\"], [\"['panasonic', 'ces']\"], [\"['panasonic', 'ces']\"], [\"['ces']\"], [\"['ces']\"], [\"['sharp', 'ces']\"], [\"['sharp', 'ces']\"], [\"['sharp', 'ces']\"], [\"['sharp', 'ces']\"], [\"['sharp', 'ces']\"], [\"['sharp', 'ces']\"], [\"['lg', 'ces']\"], [\"['lg', 'ces']\"], [\"['lg', 'ces']\"], [\"['lg', 'ces']\"], [\"['lg', 'samsung', 'ces']\"], [\"['lg', 'ces']\"], [\"['lg', 'ces']\"], [\"['lg', 'ces']\"], [\"['ces']\"], [\"['gobe', 'ces']\"], [\"['lg', 'ces']\"], [\"['nvidia', 'ces']\"], [\"['nvidia', 'ces']\"], [\"['nvidia', 'ces']\"], [\"['ces']\"], [\"['nvidia', 'ces']\"]], \"hovertemplate\": \"<b>%{hovertext}</b><br><br>labels=0<br>tsne_x=%{x}<br>tsne_y=%{y}<br>hashtags=%{customdata[0]}<extra></extra>\", \"hovertext\": [\"dannsimmons\", \"dannsimmons\", \"leokelion\", \"leokelion\", \"leokelion\", \"leokelion\", \"leokelion\", \"leokelion\", \"leokelion\", \"leokelion\", \"leokelion\", \"leokelion\", \"leokelion\", \"leokelion\", \"leokelion\", \"leokelion\", \"leokelion\", \"leokelion\", \"leokelion\", \"leokelion\", \"leokelion\", \"leokelion\", \"leokelion\", \"leokelion\", \"leokelion\", \"leokelion\", \"leokelion\", \"leokelion\", \"leokelion\", \"leokelion\", \"leokelion\", \"leokelion\", \"leokelion\", \"leokelion\", \"leokelion\", \"leokelion\", \"leokelion\", \"leokelion\", \"leokelion\", \"leokelion\", \"leokelion\", \"leokelion\", \"leokelion\", \"leokelion\", \"leokelion\", \"leokelion\", \"leokelion\", \"leokelion\", \"leokelion\", \"leokelion\", \"leokelion\", \"leokelion\", \"leokelion\", \"leokelion\", \"leokelion\", \"leokelion\", \"leokelion\", \"leokelion\", \"leokelion\", \"leokelion\", \"leokelion\", \"leokelion\", \"leokelion\", \"leokelion\", \"leokelion\", \"leokelion\", \"leokelion\", \"leokelion\", \"leokelion\", \"leokelion\", \"leokelion\", \"leokelion\", \"leokelion\", \"leokelion\", \"leokelion\", \"leokelion\", \"leokelion\", \"leokelion\", \"leokelion\", \"leokelion\", \"leokelion\", \"leokelion\", \"leokelion\", \"leokelion\", \"leokelion\", \"leokelion\", \"leokelion\", \"leokelion\", \"leokelion\", \"leokelion\", \"leokelion\", \"leokelion\", \"leokelion\", \"leokelion\", \"leokelion\", \"leokelion\", \"leokelion\", \"leokelion\", \"leokelion\", \"leokelion\", \"leokelion\", \"leokelion\", \"leokelion\", \"leokelion\", \"leokelion\", \"leokelion\", \"leokelion\", \"leokelion\", \"leokelion\", \"leokelion\", \"leokelion\", \"leokelion\", \"leokelion\", \"leokelion\", \"leokelion\", \"leokelion\", \"leokelion\", \"leokelion\", \"leokelion\", \"leokelion\", \"leokelion\", \"leokelion\", \"leokelion\", \"leokelion\", \"leokelion\", \"leokelion\", \"leokelion\", \"leokelion\", \"leokelion\", \"leokelion\", \"leokelion\", \"leokelion\", \"leokelion\", \"leokelion\", \"leokelion\", \"leokelion\", \"leokelion\", \"leokelion\", \"leokelion\", \"leokelion\", \"leokelion\", \"leokelion\", \"leokelion\", \"leokelion\", \"leokelion\", \"leokelion\", \"leokelion\", \"leokelion\", \"leokelion\", \"leokelion\", \"leokelion\", \"leokelion\", \"leokelion\", \"leokelion\", \"leokelion\", \"leokelion\", \"leokelion\", \"leokelion\", \"leokelion\", \"leokelion\", \"leokelion\", \"leokelion\", \"leokelion\", \"leokelion\", \"leokelion\", \"leokelion\", \"leokelion\", \"leokelion\", \"leokelion\", \"leokelion\", \"leokelion\", \"leokelion\", \"leokelion\", \"leokelion\", \"leokelion\", \"leokelion\", \"leokelion\", \"leokelion\", \"leokelion\", \"leokelion\", \"leokelion\", \"leokelion\", \"leokelion\", \"leokelion\", \"leokelion\", \"leokelion\", \"leokelion\"], \"legendgroup\": \"0\", \"marker\": {\"color\": \"rgb(249, 123, 114)\", \"symbol\": \"circle\"}, \"mode\": \"markers\", \"name\": \"0\", \"showlegend\": true, \"type\": \"scattergl\", \"x\": [104.27442169189453, 105.62279510498047, 102.39327239990234, 105.05997467041016, 102.09967803955078, 106.49595642089844, 116.85787200927734, 103.19681549072266, 99.27095794677734, 117.07959747314453, 100.06531524658203, 102.98487091064453, 104.27723693847656, 104.7494125366211, 98.56896209716797, 104.56629943847656, 119.2576675415039, 118.72772216796875, 119.72638702392578, 100.75342559814453, 100.88211059570312, 105.47115325927734, 110.54903411865234, 115.73700714111328, 116.85310363769531, 119.4739761352539, 106.84557342529297, 110.54918670654297, 115.80783081054688, 119.81037139892578, 101.31498718261719, 117.87953186035156, 98.15918731689453, 119.46212768554688, 116.6640853881836, 117.78564453125, 96.69334411621094, 98.98468780517578, 97.81055450439453, 97.63311004638672, 115.99591827392578, 116.64002990722656, 115.62435913085938, 100.49093627929688, 84.87438201904297, 110.78711700439453, 100.16350555419922, 118.79049682617188, 88.5550537109375, 105.59001159667969, 97.1182632446289, 102.33735656738281, 116.85310363769531, 116.85310363769531, 101.77283477783203, 96.22604370117188, 103.92987060546875, 118.41730499267578, 105.36725616455078, 101.0251235961914, 118.43608856201172, 97.28927612304688, 104.2303466796875, 101.85763549804688, 106.78279113769531, 118.43608856201172, 120.32917785644531, 97.17626953125, 106.26109313964844, 99.04806518554688, 102.93070983886719, 115.21307373046875, 103.23351287841797, 98.59841918945312, 102.11949920654297, 103.5076904296875, 101.2626953125, 98.3965072631836, 95.98467254638672, 100.75342559814453, 100.75342559814453, 99.39897918701172, 104.07674407958984, 105.72447967529297, 98.18629455566406, 117.79118347167969, 119.31621551513672, 100.90283966064453, 98.98828887939453, 104.43189239501953, 99.90848541259766, 118.43608856201172, 117.76873016357422, 101.69600677490234, 95.82469940185547, 102.12694549560547, 118.4756851196289, 119.00360107421875, 120.48955535888672, 100.96207427978516, 117.5420150756836, 103.19774627685547, 99.88652038574219, 103.37496948242188, 99.39897918701172, 103.47859191894531, 97.04788970947266, 99.90258026123047, 102.79129791259766, 102.11949920654297, 102.99456024169922, 100.96734619140625, 89.00608825683594, 85.9150161743164, 85.9150161743164, 88.81151580810547, 85.1591567993164, 85.1591567993164, 86.38658142089844, 86.23899841308594, 89.39765930175781, 87.24301147460938, 87.9910659790039, 85.42576599121094, 86.3462905883789, 86.38658142089844, 88.81151580810547, 99.95967864990234, 99.67862701416016, 92.86653900146484, 87.59669494628906, 87.39704895019531, 88.81151580810547, 88.47915649414062, 89.83609771728516, 88.47915649414062, 86.94334411621094, 87.45401763916016, 87.39704895019531, 87.9910659790039, 87.74864959716797, 86.38658142089844, 90.00316619873047, 86.98919677734375, 89.83609771728516, 104.2457275390625, 104.6640625, 103.67066955566406, 103.67066955566406, 104.46656799316406, 103.56184387207031, 101.90636444091797, 111.02145385742188, 102.39327239990234, 112.98450469970703, 111.905517578125, 111.2435073852539, 120.67333984375, 111.299560546875, 112.16283416748047, 112.11614227294922, 112.7557601928711, 112.16283416748047, 104.51382446289062, 98.06713104248047, 111.67656707763672, 111.67656707763672, 111.67656707763672, 110.78711700439453, 110.78711700439453, 110.78711700439453, 101.59176635742188, 102.67015075683594, 101.59176635742188, 102.56095886230469, 92.86653900146484, 102.67015075683594, 101.20890808105469, 101.59176635742188, 100.75342559814453, 117.6207504272461, 101.9095230102539, 110.80809783935547, 110.80809783935547, 110.80809783935547, 98.98468780517578, 110.80809783935547], \"xaxis\": \"x\", \"y\": [26.80154800415039, 30.039302825927734, 30.623573303222656, 27.686233520507812, 25.80642318725586, 27.778898239135742, 28.024221420288086, 24.724342346191406, 33.45764923095703, 26.842832565307617, 28.163347244262695, 33.82761001586914, 34.78192138671875, 32.28460693359375, 34.566619873046875, 25.380958557128906, 33.472103118896484, 28.091232299804688, 29.530851364135742, 30.258394241333008, 25.470361709594727, 28.82843589782715, 27.814220428466797, 31.05655860900879, 29.329261779785156, 28.588945388793945, 29.31747817993164, 27.81421661376953, 28.383262634277344, 31.318532943725586, 35.312862396240234, 24.91958236694336, 32.74069595336914, 27.313140869140625, 30.603851318359375, 32.104774475097656, 32.373512268066406, 30.70746421813965, 31.495399475097656, 27.541507720947266, 27.38859748840332, 31.806411743164062, 30.0413875579834, 33.93345642089844, 45.71477508544922, 22.492727279663086, 32.722496032714844, 31.646743774414062, 43.94732666015625, 33.68391799926758, 26.220680236816406, 32.81328582763672, 29.329261779785156, 29.329261779785156, 34.03413772583008, 27.76885223388672, 31.3718204498291, 26.930891036987305, 31.291452407836914, 26.619197845458984, 29.416242599487305, 33.76740646362305, 33.42218017578125, 31.797603607177734, 30.894866943359375, 29.416242599487305, 28.01999855041504, 30.48162269592285, 32.355445861816406, 32.116146087646484, 31.709875106811523, 29.14234161376953, 26.124427795410156, 26.626480102539062, 29.192899703979492, 30.253173828125, 32.94124984741211, 25.170564651489258, 31.11470603942871, 30.258394241333008, 30.258394241333008, 29.181657791137695, 28.235036849975586, 26.3916015625, 28.59642791748047, 27.652938842773438, 30.40178108215332, 28.729816436767578, 27.7628231048584, 29.31531524658203, 24.418989181518555, 29.416242599487305, 28.44093132019043, 24.329294204711914, 29.517057418823242, 27.011770248413086, 30.743297576904297, 25.054622650146484, 30.37476921081543, 27.655786514282227, 31.133140563964844, 27.31498146057129, 35.12314224243164, 29.28030014038086, 29.181657791137695, 32.56181716918945, 29.00098419189453, 27.02336311340332, 35.21025848388672, 29.192899703979492, 28.272289276123047, 31.83627700805664, 45.63554000854492, 48.32938766479492, 48.32938766479492, 48.152408599853516, 46.98963928222656, 46.98963928222656, 45.80869674682617, 43.96914291381836, 44.64421081542969, 46.763126373291016, 45.092124938964844, 44.73915100097656, 47.082557678222656, 45.80869674682617, 48.152408599853516, 31.627565383911133, 25.895870208740234, 44.544681549072266, 46.01948547363281, 48.87686538696289, 48.152408599853516, 46.57296371459961, 46.96335983276367, 46.57296371459961, 44.674835205078125, 43.71931457519531, 48.87686538696289, 45.092124938964844, 47.422393798828125, 45.80869674682617, 45.66100311279297, 47.7073860168457, 46.96335983276367, 18.863544464111328, 19.33509635925293, 19.763118743896484, 19.763118743896484, 19.98228645324707, 18.954105377197266, 27.9943904876709, 39.50957107543945, 30.623573303222656, 39.70561599731445, 39.29991912841797, 40.244930267333984, 29.158357620239258, 38.786231994628906, 40.14231491088867, 38.54065704345703, 38.97916030883789, 40.14231491088867, 30.463397979736328, 29.775331497192383, 21.845151901245117, 21.845151901245117, 21.845151901245117, 22.492727279663086, 22.492727279663086, 22.492727279663086, 41.739158630371094, 41.618778228759766, 41.739158630371094, 40.699893951416016, 44.544681549072266, 41.618778228759766, 40.79523468017578, 41.739158630371094, 30.258394241333008, 30.324363708496094, 40.567710876464844, 32.994178771972656, 32.994178771972656, 32.994178771972656, 30.70746421813965, 32.994178771972656], \"yaxis\": \"y\"}, {\"customdata\": [[\"['apple', 'fcpx']\"], [\"['apple']\"], [\"['apple']\"], [\"['apple', '3dtouch', 'iphone6s']\"], [\"['apple']\"], [\"['apple']\"], [\"['apple']\"], [\"['apple']\"], [\"['apple']\"], [\"['apple']\"], [\"['today', 'apple']\"], [\"['apple']\"], [\"['apple']\"], [\"['apple']\"], [\"['apple']\"], [\"['apple']\"], [\"['hbo', 'apple']\"], [\"['apple', 'applewatch']\"], [\"['apple']\"], [\"['apple', 'onesieforthewin', 'appleevent']\"]], \"hovertemplate\": \"<b>%{hovertext}</b><br><br>labels=17<br>tsne_x=%{x}<br>tsne_y=%{y}<br>hashtags=%{customdata[0]}<extra></extra>\", \"hovertext\": [\"dannsimmons\", \"dannsimmons\", \"dannsimmons\", \"dannsimmons\", \"dannsimmons\", \"dannsimmons\", \"dannsimmons\", \"dannsimmons\", \"leokelion\", \"leokelion\", \"leokelion\", \"leokelion\", \"leokelion\", \"leokelion\", \"leokelion\", \"leokelion\", \"leokelion\", \"leokelion\", \"leokelion\", \"mshannahmurphy\"], \"legendgroup\": \"17\", \"marker\": {\"color\": \"rgb(165, 170, 153)\", \"symbol\": \"circle\"}, \"mode\": \"markers\", \"name\": \"17\", \"showlegend\": true, \"type\": \"scattergl\", \"x\": [-53.13969802856445, -50.35728454589844, -50.35728454589844, -52.805572509765625, -51.504573822021484, -51.504573822021484, -51.504573822021484, -51.504573822021484, -51.6917610168457, -50.35728454589844, -52.34428405761719, -51.6917610168457, -50.35728454589844, -51.6917610168457, -50.35728454589844, -51.6917610168457, -53.13969802856445, -49.46377182006836, -51.6917610168457, -53.24533462524414], \"xaxis\": \"x\", \"y\": [-49.98332214355469, -50.48114013671875, -50.48114013671875, -52.03136444091797, -51.64250946044922, -51.64250946044922, -51.64250946044922, -51.64250946044922, -49.468666076660156, -50.48114013671875, -50.753936767578125, -49.468666076660156, -50.48114013671875, -49.468666076660156, -50.48114013671875, -49.468666076660156, -49.98332214355469, -53.29987335205078, -49.468666076660156, -51.164798736572266], \"yaxis\": \"y\"}, {\"customdata\": [[\"['ifa2017']\"], [\"['ifa2017']\"], [\"['ifa2017']\"], [\"['detu', 'ifa2017']\"], [\"['ifa2017']\"], [\"['ifa2017']\"], [\"['ifa2017']\"], [\"['ifa2017']\"]], \"hovertemplate\": \"<b>%{hovertext}</b><br><br>labels=90<br>tsne_x=%{x}<br>tsne_y=%{y}<br>hashtags=%{customdata[0]}<extra></extra>\", \"hovertext\": [\"dannsimmons\", \"dannsimmons\", \"dannsimmons\", \"dannsimmons\", \"dannsimmons\", \"dannsimmons\", \"dannsimmons\", \"dannsimmons\"], \"legendgroup\": \"90\", \"marker\": {\"color\": \"rgb(127, 60, 141)\", \"symbol\": \"circle\"}, \"mode\": \"markers\", \"name\": \"90\", \"showlegend\": true, \"type\": \"scattergl\", \"x\": [17.449872970581055, 17.250940322875977, 17.449872970581055, 16.759376525878906, 18.317991256713867, 17.741775512695312, 18.298816680908203, 18.298816680908203], \"xaxis\": \"x\", \"y\": [-69.62528228759766, -70.67387390136719, -69.62528228759766, -70.20872497558594, -69.50831604003906, -71.05606079101562, -70.39359283447266, -70.39359283447266], \"yaxis\": \"y\"}, {\"customdata\": [[\"['samsung', 'verizon']\"], [\"['samsung', 'galaxynote5']\"], [\"['lg', 'samsung']\"], [\"['samsung', 'tizen']\"], [\"['samsung']\"]], \"hovertemplate\": \"<b>%{hovertext}</b><br><br>labels=12<br>tsne_x=%{x}<br>tsne_y=%{y}<br>hashtags=%{customdata[0]}<extra></extra>\", \"hovertext\": [\"dannsimmons\", \"leokelion\", \"leokelion\", \"leokelion\", \"leokelion\"], \"legendgroup\": \"12\", \"marker\": {\"color\": \"rgb(17, 165, 121)\", \"symbol\": \"circle\"}, \"mode\": \"markers\", \"name\": \"12\", \"showlegend\": true, \"type\": \"scattergl\", \"x\": [35.9326171875, 35.9326171875, 34.48835754394531, 35.772735595703125, 35.41914367675781], \"xaxis\": \"x\", \"y\": [11.116411209106445, 11.116411209106445, 9.692535400390625, 11.599449157714844, 11.26025676727295], \"yaxis\": \"y\"}, {\"customdata\": [[\"['futurefest']\"], [\"['blockchain']\"], [\"['blockchain']\"], [\"['blockchain']\"], [\"['blockchain']\"], [\"['beyonc\\u00e9', 'blockchain']\"], [\"['blockchain']\"], [\"['blockchain']\"], [\"['futurefest', 'blockchain']\"], [\"['futurefest']\"], [\"['futurefest', 'nathaliebennett']\"], [\"['futurefest', 'blockchain']\"], [\"['blockchain', 'futurefest']\"], [\"['futurefest']\"], [\"['futurefest']\"]], \"hovertemplate\": \"<b>%{hovertext}</b><br><br>labels=27<br>tsne_x=%{x}<br>tsne_y=%{y}<br>hashtags=%{customdata[0]}<extra></extra>\", \"hovertext\": [\"dannsimmons\", \"_lucyingham\", \"sophiafurber\", \"sophiafurber\", \"sophiafurber\", \"sophiafurber\", \"mshannahmurphy\", \"mshannahmurphy\", \"mshannahmurphy\", \"mshannahmurphy\", \"mshannahmurphy\", \"mshannahmurphy\", \"mshannahmurphy\", \"mshannahmurphy\", \"mshannahmurphy\"], \"legendgroup\": \"27\", \"marker\": {\"color\": \"rgb(57, 105, 172)\", \"symbol\": \"circle\"}, \"mode\": \"markers\", \"name\": \"27\", \"showlegend\": true, \"type\": \"scattergl\", \"x\": [-5.887356758117676, -4.843552589416504, -4.408235549926758, -5.375267505645752, -5.375267505645752, -5.67310905456543, -4.843552589416504, -4.843552589416504, -6.716856002807617, -6.407472610473633, -5.655002117156982, -6.716856002807617, -6.716856002807617, -6.407472610473633, -6.407472610473633], \"xaxis\": \"x\", \"y\": [-80.1813735961914, -86.0103530883789, -85.07186126708984, -84.9757308959961, -84.9757308959961, -86.51526641845703, -86.0103530883789, -86.0103530883789, -85.78473663330078, -80.71456146240234, -80.88750457763672, -85.78473663330078, -85.78473663330078, -80.71456146240234, -80.71456146240234], \"yaxis\": \"y\"}, {\"customdata\": [[\"['bhusa']\"], [\"['bhusa']\"], [\"['bhusa']\"], [\"['bhusa']\"], [\"['bhusa']\"], [\"['bhusa']\"], [\"['bhusa']\"], [\"['bhusa']\"], [\"['bhusa']\"], [\"['bhusa']\"], [\"['bhusa']\"], [\"['bhusa']\"], [\"['bhusa']\"], [\"['bhusa']\"], [\"['bhusa']\"], [\"['bhusa']\"], [\"['bhusa']\"], [\"['bhusa']\"], [\"['womeninsecurity', 'bhusa']\"], [\"['bhusa', 'hackersummercamp']\"], [\"['womeninsecurity', 'bhusa']\"], [\"['bhusa', 'hackersummercamp']\"], [\"['bhusa']\"], [\"['womeninsecurity', 'bhusa']\"], [\"['bhusa']\"], [\"['womeninsecurity', 'bhusa']\"]], \"hovertemplate\": \"<b>%{hovertext}</b><br><br>labels=15<br>tsne_x=%{x}<br>tsne_y=%{y}<br>hashtags=%{customdata[0]}<extra></extra>\", \"hovertext\": [\"dannsimmons\", \"dannsimmons\", \"dannyjpalmer\", \"dannyjpalmer\", \"dannyjpalmer\", \"dannyjpalmer\", \"dannyjpalmer\", \"dannyjpalmer\", \"dannyjpalmer\", \"dannyjpalmer\", \"dannyjpalmer\", \"dannyjpalmer\", \"dannyjpalmer\", \"dannyjpalmer\", \"dannyjpalmer\", \"dannyjpalmer\", \"dannyjpalmer\", \"dannyjpalmer\", \"jesscahaworth\", \"jesscahaworth\", \"jesscahaworth\", \"jesscahaworth\", \"ad_nauseum74\", \"ad_nauseum74\", \"ad_nauseum74\", \"ad_nauseum74\"], \"legendgroup\": \"15\", \"marker\": {\"color\": \"rgb(242, 183, 1)\", \"symbol\": \"circle\"}, \"mode\": \"markers\", \"name\": \"15\", \"showlegend\": true, \"type\": \"scattergl\", \"x\": [-85.10459899902344, -86.15746307373047, -83.45169830322266, -84.41596984863281, -85.22055053710938, -84.85723114013672, -84.3563232421875, -83.86381530761719, -82.63714599609375, -84.0814208984375, -84.2388687133789, -82.93683624267578, -83.53174591064453, -85.20093536376953, -82.4607925415039, -85.9940414428711, -85.06604766845703, -85.22742462158203, -86.2217788696289, -86.17671203613281, -87.02024841308594, -85.80979919433594, -84.01353454589844, -86.9380874633789, -83.17176055908203, -87.21299743652344], \"xaxis\": \"x\", \"y\": [-5.184393882751465, -9.235445976257324, -8.020328521728516, -7.166762351989746, -7.828161239624023, -6.153537750244141, -7.957248210906982, -9.586971282958984, -6.647472858428955, -5.2066731452941895, -8.758979797363281, -8.851917266845703, -7.11326789855957, -8.745203971862793, -7.712409019470215, -8.130295753479004, -9.724699020385742, -7.003945350646973, -5.358412742614746, -7.211711883544922, -8.390700340270996, -6.310819625854492, -6.3350911140441895, -6.261336803436279, -5.76082706451416, -7.303432464599609], \"yaxis\": \"y\"}, {\"customdata\": [[\"['applewatch', 'tattoo']\"], [\"['applewatch']\"], [\"['applewatch']\"], [\"['applewatch']\"], [\"['applewatch']\"], [\"['applewatch']\"], [\"['applewatch']\"], [\"['applewatch']\"], [\"['up3', 'applewatch']\"]], \"hovertemplate\": \"<b>%{hovertext}</b><br><br>labels=62<br>tsne_x=%{x}<br>tsne_y=%{y}<br>hashtags=%{customdata[0]}<extra></extra>\", \"hovertext\": [\"dannsimmons\", \"dannsimmons\", \"leokelion\", \"leokelion\", \"leokelion\", \"leokelion\", \"leokelion\", \"leokelion\", \"leokelion\"], \"legendgroup\": \"62\", \"marker\": {\"color\": \"rgb(231, 63, 116)\", \"symbol\": \"circle\"}, \"mode\": \"markers\", \"name\": \"62\", \"showlegend\": true, \"type\": \"scattergl\", \"x\": [40.55405807495117, 39.78285217285156, 38.99455261230469, 40.37224578857422, 39.39868927001953, 39.39868927001953, 39.39868927001953, 38.99455261230469, 40.330970764160156], \"xaxis\": \"x\", \"y\": [-18.0161075592041, -18.916337966918945, -18.498395919799805, -17.28811264038086, -17.506662368774414, -17.506662368774414, -17.506662368774414, -18.498395919799805, -18.570175170898438], \"yaxis\": \"y\"}, {\"customdata\": [[\"['finalresult', 'livemixedreality', 'skirace', 'gaming']\"], [\"['destiny2', 'gaming', 'gambit', 'bungie', 'gaming', 'gamer', 'gamerkid', 'kidgamer']\"]], \"hovertemplate\": \"<b>%{hovertext}</b><br><br>labels=53<br>tsne_x=%{x}<br>tsne_y=%{y}<br>hashtags=%{customdata[0]}<extra></extra>\", \"hovertext\": [\"dannsimmons\", \"joetidy\"], \"legendgroup\": \"53\", \"marker\": {\"color\": \"rgb(128, 186, 90)\", \"symbol\": \"circle\"}, \"mode\": \"markers\", \"name\": \"53\", \"showlegend\": true, \"type\": \"scattergl\", \"x\": [-1.7545900344848633, -1.8095002174377441], \"xaxis\": \"x\", \"y\": [-33.90095901489258, -34.26130676269531], \"yaxis\": \"y\"}, {\"customdata\": [[\"['ces2015']\"], [\"['ces2015']\"], [\"['ces2015']\"], [\"['ces2015', 'robots']\"], [\"['ces2015', '4k']\"], [\"['ces2015']\"], [\"['ces2015']\"], [\"['ces2015']\"], [\"['sonyces', 'ces2015']\"], [\"['ces2015']\"]], \"hovertemplate\": \"<b>%{hovertext}</b><br><br>labels=57<br>tsne_x=%{x}<br>tsne_y=%{y}<br>hashtags=%{customdata[0]}<extra></extra>\", \"hovertext\": [\"dannsimmons\", \"leokelion\", \"leokelion\", \"leokelion\", \"leokelion\", \"leokelion\", \"leokelion\", \"leokelion\", \"leokelion\", \"leokelion\"], \"legendgroup\": \"57\", \"marker\": {\"color\": \"rgb(230, 131, 16)\", \"symbol\": \"circle\"}, \"mode\": \"markers\", \"name\": \"57\", \"showlegend\": true, \"type\": \"scattergl\", \"x\": [29.88663673400879, 29.88663673400879, 29.88663673400879, 31.206789016723633, 30.83708953857422, 29.29498863220215, 29.88663673400879, 29.88663673400879, 30.279861450195312, 29.29498863220215], \"xaxis\": \"x\", \"y\": [-9.049894332885742, -9.049894332885742, -9.049894332885742, -8.931867599487305, -8.089655876159668, -7.95687198638916, -9.049894332885742, -9.049894332885742, -7.638047695159912, -7.95687198638916], \"yaxis\": \"y\"}, {\"customdata\": [[\"['70s', 'tech']\"], [\"['tech']\"], [\"['video', 'tech', 'mojo', 'business']\"], [\"['video', 'tech', 'mojo', 'business']\"], [\"['mojo']\"], [\"['fashion', 'tech', 'data', 'collisionfromhome']\"], [\"['collisionfromhome']\"], [\"['fashion', 'tech', 'data', 'collisionfromhome']\"], [\"['collisionfromhome']\"], [\"['techwomen50', 'tech']\"], [\"['tech']\"], [\"['tech', 'ftbanking']\"]], \"hovertemplate\": \"<b>%{hovertext}</b><br><br>labels=37<br>tsne_x=%{x}<br>tsne_y=%{y}<br>hashtags=%{customdata[0]}<extra></extra>\", \"hovertext\": [\"dannsimmons\", \"leokelion\", \"joetidy\", \"joetidy\", \"joetidy\", \"_lucyingham\", \"_lucyingham\", \"_lucyingham\", \"_lucyingham\", \"_lucyingham\", \"sophiafurber\", \"sophiafurber\"], \"legendgroup\": \"37\", \"marker\": {\"color\": \"rgb(0, 134, 149)\", \"symbol\": \"circle\"}, \"mode\": \"markers\", \"name\": \"37\", \"showlegend\": true, \"type\": \"scattergl\", \"x\": [2.3276312351226807, 1.7873878479003906, 4.779783248901367, 4.779783725738525, 5.460431098937988, 0.4939274787902832, -1.438364863395691, 0.493927538394928, -1.438364863395691, 1.9800492525100708, 2.156062602996826, -7.129599094390869], \"xaxis\": \"x\", \"y\": [-28.182392120361328, -27.852140426635742, -27.183452606201172, -27.183452606201172, -24.34292221069336, -30.05098533630371, -27.439373016357422, -30.05098533630371, -27.439373016357422, -28.294530868530273, -27.711742401123047, -60.938053131103516], \"yaxis\": \"y\"}, {\"customdata\": [[\"['eurovision']\"], [\"['eurovision']\"], [\"['eurovision']\"], [\"['eurovision']\"], [\"['eurovision']\"], [\"['eurovision']\"], [\"['eurovision2018', 'eurovision', 'wewasthere', 'notahintofirony']\"], [\"['eurovision', 'lisbon2018']\"]], \"hovertemplate\": \"<b>%{hovertext}</b><br><br>labels=85<br>tsne_x=%{x}<br>tsne_y=%{y}<br>hashtags=%{customdata[0]}<extra></extra>\", \"hovertext\": [\"dannsimmons\", \"dannsimmons\", \"dannsimmons\", \"dannsimmons\", \"_lucyingham\", \"_lucyingham\", \"mshannahmurphy\", \"mshannahmurphy\"], \"legendgroup\": \"85\", \"marker\": {\"color\": \"rgb(207, 28, 144)\", \"symbol\": \"circle\"}, \"mode\": \"markers\", \"name\": \"85\", \"showlegend\": true, \"type\": \"scattergl\", \"x\": [16.734432220458984, 16.787769317626953, 17.186634063720703, 16.058027267456055, 16.787769317626953, 16.058027267456055, 15.07485294342041, 15.981783866882324], \"xaxis\": \"x\", \"y\": [-55.97887420654297, -57.16665267944336, -56.48442077636719, -56.33806228637695, -57.16665267944336, -56.33806228637695, -57.113956451416016, -57.32691955566406], \"yaxis\": \"y\"}, {\"customdata\": [[\"['mwc']\"], [\"['microsoft', 'satyanadella']\"], [\"['microsoft']\"], [\"['microsoft']\"], [\"['microsoft']\"], [\"['microsoft']\"], [\"['microsoft']\"], [\"['sony', '4k']\"], [\"['sony', 'mwc']\"], [\"['sony', 'microsoft', 'mwc']\"], [\"['htc', 'mwc']\"], [\"['mwc', 'htc', 'valve']\"], [\"['microsoft', 'sunrise']\"], [\"['microsoft', 'projectzero', 'cybersecurity']\"]], \"hovertemplate\": \"<b>%{hovertext}</b><br><br>labels=59<br>tsne_x=%{x}<br>tsne_y=%{y}<br>hashtags=%{customdata[0]}<extra></extra>\", \"hovertext\": [\"dannsimmons\", \"leokelion\", \"leokelion\", \"leokelion\", \"leokelion\", \"leokelion\", \"leokelion\", \"leokelion\", \"leokelion\", \"leokelion\", \"leokelion\", \"leokelion\", \"leokelion\", \"jesscahaworth\"], \"legendgroup\": \"59\", \"marker\": {\"color\": \"rgb(249, 123, 114)\", \"symbol\": \"circle\"}, \"mode\": \"markers\", \"name\": \"59\", \"showlegend\": true, \"type\": \"scattergl\", \"x\": [27.613252639770508, 48.87391662597656, 48.83979034423828, 49.8197135925293, 48.83979034423828, 49.8197135925293, 49.8197135925293, 38.11897659301758, 27.039525985717773, 50.77488327026367, 27.450180053710938, 27.141115188598633, 49.53375244140625, 82.80669403076172], \"xaxis\": \"x\", \"y\": [-61.4446907043457, -32.54547119140625, -31.630571365356445, -31.762351989746094, -31.630571365356445, -31.762351989746094, -31.762351989746094, -43.05429458618164, -61.7178840637207, -33.93616485595703, -61.89048385620117, -62.17615509033203, -32.69330596923828, -50.496517181396484], \"yaxis\": \"y\"}, {\"customdata\": [[\"['ge2019']\"], [\"['ge2019']\"], [\"['ge2019']\"], [\"['ge2019']\"], [\"['notforsale', 'getbrexitdone', 'ge2019']\"], [\"['borisjohnson', 'jeremycorbyn', 'ge2019']\"], [\"['ge2019']\"], [\"['ge2019']\"], [\"['ge2019']\"], [\"['ge2019']\"], [\"['bbcyourquestions', 'ge2019']\"], [\"['ge2019']\"], [\"['ge2019']\"], [\"['ge2019']\"], [\"['ge2019']\"], [\"['ge2019']\"], [\"['digitalelections', 'ge2019']\"], [\"['ge2019']\"], [\"['ge2019']\"], [\"['ge2019']\"], [\"['ge2019']\"], [\"['ge2019']\"], [\"['brexitparty', 'ge2019']\"], [\"['ge2019']\"], [\"['ge2019']\"]], \"hovertemplate\": \"<b>%{hovertext}</b><br><br>labels=13<br>tsne_x=%{x}<br>tsne_y=%{y}<br>hashtags=%{customdata[0]}<extra></extra>\", \"hovertext\": [\"leokelion\", \"joetidy\", \"joetidy\", \"joetidy\", \"joetidy\", \"joetidy\", \"joetidy\", \"joetidy\", \"joetidy\", \"joetidy\", \"joetidy\", \"joetidy\", \"joetidy\", \"joetidy\", \"joetidy\", \"joetidy\", \"joetidy\", \"joetidy\", \"joetidy\", \"joetidy\", \"joetidy\", \"joetidy\", \"joetidy\", \"joetidy\", \"joetidy\"], \"legendgroup\": \"13\", \"marker\": {\"color\": \"rgb(165, 170, 153)\", \"symbol\": \"circle\"}, \"mode\": \"markers\", \"name\": \"13\", \"showlegend\": true, \"type\": \"scattergl\", \"x\": [-84.56051635742188, -85.25688934326172, -85.25688934326172, -84.56051635742188, -85.47696685791016, -87.297119140625, -86.35795593261719, -86.06482696533203, -83.33992004394531, -85.25688934326172, -86.5813980102539, -83.33992004394531, -83.54888916015625, -84.56051635742188, -83.33992004394531, -84.56051635742188, -86.96300506591797, -86.35795593261719, -85.25688934326172, -85.25688934326172, -84.56051635742188, -85.25688934326172, -84.32626342773438, -85.25688934326172, -84.56051635742188], \"xaxis\": \"x\", \"y\": [-50.23734664916992, -48.42200469970703, -48.42200469970703, -50.23734664916992, -46.73931121826172, -49.25650405883789, -49.85736846923828, -51.02799987792969, -48.8930549621582, -48.42200469970703, -47.3375358581543, -48.8930549621582, -47.56983184814453, -50.23734664916992, -48.8930549621582, -50.23734664916992, -48.3343505859375, -49.85736846923828, -48.42200469970703, -48.42200469970703, -50.23734664916992, -48.42200469970703, -46.966800689697266, -48.42200469970703, -50.23734664916992], \"yaxis\": \"y\"}, {\"customdata\": [[\"['ai']\"], [\"['ai']\"], [\"['ai']\"], [\"['ai']\"], [\"['ai']\"], [\"['ai']\"], [\"['bbcclickradio', 'ai']\"], [\"['awssummit', 'artificialintelligence', 'ai']\"], [\"['ai']\"], [\"['awssummit', 'ai', 'cybersecurity', 'technology']\"], [\"['gdpr', 'artificialintelligence', 'ai']\"], [\"['ai', 'vr']\"], [\"['aisectordeal', 'artificialintelligence', 'ai']\"], [\"['ai']\"], [\"['ai', 'aws']\"], [\"['artificialintelligence', 'ai', 'digitalmagazine']\"], [\"['ai', 'enterprise']\"], [\"['ai']\"], [\"['cybersecurity', 'ai', 'gdpr']\"], [\"['ai', 'automation']\"], [\"['ai', 'automation']\"], [\"['aibe2018', 'ai']\"], [\"['ai', 'machinelearning', 'ml']\"], [\"['ai']\"], [\"['telegraphfft', 'ai']\"], [\"['ai']\"]], \"hovertemplate\": \"<b>%{hovertext}</b><br><br>labels=14<br>tsne_x=%{x}<br>tsne_y=%{y}<br>hashtags=%{customdata[0]}<extra></extra>\", \"hovertext\": [\"leokelion\", \"leokelion\", \"leokelion\", \"leokelion\", \"leokelion\", \"leokelion\", \"joetidy\", \"_lucyingham\", \"_lucyingham\", \"_lucyingham\", \"_lucyingham\", \"_lucyingham\", \"_lucyingham\", \"_lucyingham\", \"_lucyingham\", \"_lucyingham\", \"_lucyingham\", \"_lucyingham\", \"_lucyingham\", \"_lucyingham\", \"_lucyingham\", \"_lucyingham\", \"sophiafurber\", \"sophiafurber\", \"sophiafurber\", \"mshannahmurphy\"], \"legendgroup\": \"14\", \"marker\": {\"color\": \"rgb(127, 60, 141)\", \"symbol\": \"circle\"}, \"mode\": \"markers\", \"name\": \"14\", \"showlegend\": true, \"type\": \"scattergl\", \"x\": [72.885498046875, 72.64651489257812, 72.885498046875, 71.33585357666016, 70.85778045654297, 70.85778045654297, 72.2522201538086, 68.02025604248047, 71.90957641601562, 82.70094299316406, 67.63463592529297, 73.2640380859375, 68.42372131347656, 71.58790588378906, 72.08859252929688, 68.43627166748047, 73.91526794433594, 71.58790588378906, 88.05113220214844, 73.24331665039062, 73.24331665039062, 72.2522201538086, 72.30026245117188, 71.15789794921875, 74.06668090820312, 70.46260070800781], \"xaxis\": \"x\", \"y\": [-5.673130989074707, -6.676940441131592, -5.673130989074707, -7.661131858825684, -6.678728103637695, -6.678728103637695, -7.6640472412109375, -4.7139787673950195, -6.692981243133545, -45.73783874511719, -7.177842617034912, -7.103208541870117, -6.03033971786499, -5.625864028930664, -8.802233695983887, -6.037054061889648, -6.32476282119751, -5.625864028930664, -45.12161636352539, -8.368876457214355, -8.368876457214355, -7.6640472412109375, -10.5844087600708, -8.619694709777832, -7.452264308929443, -7.843443870544434], \"yaxis\": \"y\"}, {\"customdata\": [[\"['zuckerberg', 'facebook']\"], [\"['zuckerberg', 'facebook']\"], [\"['zuckerberg', 'facebook']\"], [\"['zuckerberg', 'facebook']\"], [\"['facebook', 'zuckerberg']\"], [\"['facebook']\"], [\"['facebook']\"], [\"['facebook']\"], [\"['facebook']\"], [\"['facebook']\"], [\"['facebook']\"], [\"['facebook']\"], [\"['facebook']\"], [\"['facebook']\"], [\"['facebook']\"], [\"['facebook', 'nspcc']\"], [\"['nspcc', 'facebook']\"], [\"['facebook']\"], [\"['email', 'facebook']\"], [\"['facebook']\"], [\"['facebook']\"], [\"['facebook', 'hydroxychloroquine']\"], [\"['facebook', 'twitter']\"], [\"['facebook', 'hydroxychloroquine']\"], [\"['facebook', 'twitter']\"], [\"['facebook', 'cambridgeanalytica']\"], [\"['facebook']\"], [\"['data', 'facebook', 'databreach']\"], [\"['facebook']\"], [\"['facebook', 'privacy', 'deletefacebook', 'databreach']\"], [\"['facebook']\"], [\"['databreach', 'facebook']\"]], \"hovertemplate\": \"<b>%{hovertext}</b><br><br>labels=10<br>tsne_x=%{x}<br>tsne_y=%{y}<br>hashtags=%{customdata[0]}<extra></extra>\", \"hovertext\": [\"leokelion\", \"leokelion\", \"leokelion\", \"leokelion\", \"leokelion\", \"leokelion\", \"leokelion\", \"leokelion\", \"leokelion\", \"leokelion\", \"leokelion\", \"leokelion\", \"leokelion\", \"leokelion\", \"leokelion\", \"leokelion\", \"leokelion\", \"leokelion\", \"leokelion\", \"leokelion\", \"leokelion\", \"mshannahmurphy\", \"mshannahmurphy\", \"mshannahmurphy\", \"mshannahmurphy\", \"jesscahaworth\", \"jesscahaworth\", \"jesscahaworth\", \"jesscahaworth\", \"jesscahaworth\", \"jesscahaworth\", \"jesscahaworth\"], \"legendgroup\": \"10\", \"marker\": {\"color\": \"rgb(17, 165, 121)\", \"symbol\": \"circle\"}, \"mode\": \"markers\", \"name\": \"10\", \"showlegend\": true, \"type\": \"scattergl\", \"x\": [105.55045318603516, 104.78363037109375, 105.01460266113281, 105.01460266113281, 105.8557357788086, 105.90796661376953, 106.48692321777344, 108.2529525756836, 105.3741683959961, 105.90796661376953, 108.46742248535156, 108.2529525756836, 105.90796661376953, 107.22126007080078, 108.45099639892578, 106.37378692626953, 106.37378692626953, 107.0783462524414, 107.44220733642578, 109.43635559082031, 107.0783462524414, 108.0037841796875, 109.06755828857422, 109.7018814086914, 109.06755828857422, 107.44220733642578, 105.3741683959961, 106.38037872314453, 107.22126007080078, 108.86630249023438, 108.46742248535156, 107.47566223144531], \"xaxis\": \"x\", \"y\": [-21.092546463012695, -20.987287521362305, -20.195899963378906, -20.195899963378906, -20.45391273498535, -16.410093307495117, -15.18102741241455, -16.592178344726562, -14.977189064025879, -16.410093307495117, -15.430737495422363, -16.592178344726562, -16.410093307495117, -15.931767463684082, -17.67371940612793, -13.962456703186035, -13.962456703186035, -17.33607292175293, -14.733665466308594, -16.5621337890625, -17.33607292175293, -13.882859230041504, -14.274943351745605, -15.458444595336914, -14.274943351745605, -14.733665466308594, -14.977189064025879, -12.087790489196777, -15.931767463684082, -12.292198181152344, -15.430737495422363, -13.127229690551758], \"yaxis\": \"y\"}, {\"customdata\": [[\"['zuckerberg', 'zuckerberg']\"], [\"['zuckerberg']\"]], \"hovertemplate\": \"<b>%{hovertext}</b><br><br>labels=77<br>tsne_x=%{x}<br>tsne_y=%{y}<br>hashtags=%{customdata[0]}<extra></extra>\", \"hovertext\": [\"leokelion\", \"leokelion\"], \"legendgroup\": \"77\", \"marker\": {\"color\": \"rgb(57, 105, 172)\", \"symbol\": \"circle\"}, \"mode\": \"markers\", \"name\": \"77\", \"showlegend\": true, \"type\": \"scattergl\", \"x\": [104.3034896850586, 104.16448211669922], \"xaxis\": \"x\", \"y\": [-23.554235458374023, -24.592243194580078], \"yaxis\": \"y\"}, {\"customdata\": [[\"['ces2016']\"], [\"['ces2016']\"], [\"['ces2016']\"], [\"['ces2016']\"], [\"['ces2016']\"], [\"['ces2016']\"], [\"['ces2016']\"], [\"['ces2016']\"], [\"['ces2016']\"]], \"hovertemplate\": \"<b>%{hovertext}</b><br><br>labels=81<br>tsne_x=%{x}<br>tsne_y=%{y}<br>hashtags=%{customdata[0]}<extra></extra>\", \"hovertext\": [\"leokelion\", \"leokelion\", \"leokelion\", \"leokelion\", \"leokelion\", \"leokelion\", \"leokelion\", \"leokelion\", \"leokelion\"], \"legendgroup\": \"81\", \"marker\": {\"color\": \"rgb(242, 183, 1)\", \"symbol\": \"circle\"}, \"mode\": \"markers\", \"name\": \"81\", \"showlegend\": true, \"type\": \"scattergl\", \"x\": [-24.393688201904297, -23.74817657470703, -23.14031219482422, -23.14031219482422, -23.74817657470703, -23.14031219482422, -23.74817657470703, -23.14031219482422, -23.14031219482422], \"xaxis\": \"x\", \"y\": [-49.24002456665039, -50.31174087524414, -49.214195251464844, -49.214195251464844, -50.31174087524414, -49.214195251464844, -50.31174087524414, -49.214195251464844, -49.214195251464844], \"yaxis\": \"y\"}, {\"customdata\": [[\"['starwars', 'youtube']\"], [\"['starwars']\"], [\"['starwars', 'openingnightlive']\"], [\"['space', 'may4th']\"], [\"['may4th']\"], [\"['robots', 'may4th']\"], [\"['robot', 'coronavirus', 'may4th']\"], [\"['may4th']\"], [\"['starwars', 'may4th', 'maythe4thbewithyou']\"], [\"['starwars', 'openingnightlive']\"], [\"['space', 'may4th']\"], [\"['may4th']\"], [\"['robots', 'may4th']\"], [\"['robot', 'coronavirus', 'may4th']\"], [\"['may4th']\"], [\"['starwars', 'may4th', 'maythe4thbewithyou']\"], [\"['inktoberday4', 'inktoberday5', 'robot', 'inktober2019']\"], [\"['inktober2019', 'robot']\"]], \"hovertemplate\": \"<b>%{hovertext}</b><br><br>labels=36<br>tsne_x=%{x}<br>tsne_y=%{y}<br>hashtags=%{customdata[0]}<extra></extra>\", \"hovertext\": [\"leokelion\", \"joetidy\", \"_lucyingham\", \"_lucyingham\", \"_lucyingham\", \"_lucyingham\", \"_lucyingham\", \"_lucyingham\", \"_lucyingham\", \"_lucyingham\", \"_lucyingham\", \"_lucyingham\", \"_lucyingham\", \"_lucyingham\", \"_lucyingham\", \"_lucyingham\", \"_lucyingham\", \"_lucyingham\"], \"legendgroup\": \"36\", \"marker\": {\"color\": \"rgb(231, 63, 116)\", \"symbol\": \"circle\"}, \"mode\": \"markers\", \"name\": \"36\", \"showlegend\": true, \"type\": \"scattergl\", \"x\": [27.686309814453125, 27.289655685424805, 28.29241943359375, 28.543149948120117, 27.29783058166504, 27.739437103271484, 38.20088195800781, 27.72003936767578, 29.18870735168457, 28.29241943359375, 28.543149948120117, 28.421342849731445, 27.739437103271484, 38.20088195800781, 27.29783058166504, 29.18870735168457, 26.013391494750977, 25.664810180664062], \"xaxis\": \"x\", \"y\": [-73.04867553710938, -73.501220703125, -73.46530151367188, -79.51106262207031, -79.28533172607422, -80.38905334472656, -106.62178039550781, -78.57061767578125, -80.65193176269531, -73.46530151367188, -79.51106262207031, -78.62083435058594, -80.38905334472656, -106.62178039550781, -79.28533172607422, -80.65193176269531, -72.42237854003906, -72.7914810180664], \"yaxis\": \"y\"}, {\"customdata\": [[\"['wearable', 'google', 'iot']\"], [\"['tagheuer', 'fossil', 'google', 'intel', 'baselworld2015']\"], [\"['fossil']\"], [\"['fossil']\"], [\"['tagheuer', 'basel']\"], [\"['google']\"], [\"['google', 'spacex']\"], [\"['google']\"], [\"['google', 'bletchley']\"], [\"['intel', 'bugbounty', 'sidechannel']\"], [\"['google', 'chrome', 'adblocker']\"]], \"hovertemplate\": \"<b>%{hovertext}</b><br><br>labels=70<br>tsne_x=%{x}<br>tsne_y=%{y}<br>hashtags=%{customdata[0]}<extra></extra>\", \"hovertext\": [\"leokelion\", \"leokelion\", \"leokelion\", \"leokelion\", \"leokelion\", \"leokelion\", \"leokelion\", \"gordoncorera\", \"gordoncorera\", \"jesscahaworth\", \"jesscahaworth\"], \"legendgroup\": \"70\", \"marker\": {\"color\": \"rgb(128, 186, 90)\", \"symbol\": \"circle\"}, \"mode\": \"markers\", \"name\": \"70\", \"showlegend\": true, \"type\": \"scattergl\", \"x\": [34.33760452270508, 39.706050872802734, 29.87455940246582, 29.87455940246582, 29.135026931762695, 32.91548156738281, 33.4183235168457, 33.10595703125, 33.87300491333008, 28.68328094482422, 33.84687042236328], \"xaxis\": \"x\", \"y\": [2.3610846996307373, 83.26374053955078, 3.367257595062256, 3.367257595062256, 2.8053510189056396, 2.1320865154266357, 1.7309056520462036, 2.692859172821045, 1.9135022163391113, 2.446505546569824, 2.8072354793548584], \"yaxis\": \"y\"}, {\"customdata\": [[\"['drones']\"], [\"['drones']\"], [\"['drones']\"], [\"['drones']\"], [\"['drones']\"], [\"['drones']\"], [\"['dataviz', 'ddj', 'd3js', 'gis', 'qgis']\"], [\"['dataviz', 'ddj']\"]], \"hovertemplate\": \"<b>%{hovertext}</b><br><br>labels=99<br>tsne_x=%{x}<br>tsne_y=%{y}<br>hashtags=%{customdata[0]}<extra></extra>\", \"hovertext\": [\"leokelion\", \"leokelion\", \"leokelion\", \"gordoncorera\", \"gordoncorera\", \"mshannahmurphy\", \"mshannahmurphy\", \"mshannahmurphy\"], \"legendgroup\": \"99\", \"marker\": {\"color\": \"rgb(230, 131, 16)\", \"symbol\": \"circle\"}, \"mode\": \"markers\", \"name\": \"99\", \"showlegend\": true, \"type\": \"scattergl\", \"x\": [33.6728401184082, 33.83214569091797, 34.09008026123047, 34.807186126708984, 34.64601516723633, 34.389991760253906, 31.89838981628418, 32.25888442993164], \"xaxis\": \"x\", \"y\": [-69.4832763671875, -68.93116760253906, -69.88346099853516, -69.18682861328125, -69.74385833740234, -68.79244995117188, -64.98578643798828, -64.31100463867188], \"yaxis\": \"y\"}, {\"customdata\": [[\"['baselworld2015']\"], [\"['baselworld2015']\"], [\"['baselworld2015']\"], [\"['baselworld2015']\"], [\"['baselworld2015']\"], [\"['baselworld2015', 'boomboomohmysideshurt']\"], [\"['baselworld2015']\"], [\"['baselworld2015']\"], [\"['baselworld2015']\"], [\"['baselworld2015']\"], [\"['baselworld2015']\"], [\"['baselworld2015']\"], [\"['blueleopardlovers', 'baselworld2015']\"], [\"['baselworld2015']\"], [\"['baselworld2015']\"], [\"['baselworld2015']\"], [\"['anorexictech', 'baselworld2015']\"], [\"['kennethcole', 'baselworld2015']\"], [\"['twsteel', 'baselworld2015']\"], [\"['baselworld2015']\"], [\"['baselworld2015']\"], [\"['fatherchristmasareyoulistening', 'baselworld2015']\"], [\"['baselworld2015']\"], [\"['baselworld2015', 'diamondsandpearls', 'blingbling']\"], [\"['gucci', 'baselworld2015']\"], [\"['androidwear', 'baselworld2015']\"], [\"['girard', 'baselworld2015']\"], [\"['baselworld2015']\"], [\"['omega', 'baselworld2015']\"], [\"['baselworld2015']\"], [\"['baselworld2015']\"], [\"['baselworld2015']\"], [\"['baselworld2015']\"], [\"['baselworld2015']\"], [\"['chopard', 'baselworld2015']\"], [\"['baselworld2015']\"], [\"['patekphilippe', 'baselworld2015']\"], [\"['rolex', 'baselworld2015']\"], [\"['hublot', 'baselworld2015']\"], [\"['baselworld2015', 'tagheuer']\"], [\"['ressence', 'baselworld2015']\"], [\"['lindewerdelin', 'baselworld2015']\"], [\"['hyt', 'baselworld2015']\"], [\"['baselworld2015']\"], [\"['fossil', 'baselworld2015']\"], [\"['fossil', 'baselworld2015']\"], [\"['fossil', 'baselworld2015']\"], [\"['happy', 'baselworld2015']\"], [\"['fossil', 'baselworld2015']\"], [\"['baselworld2015', 'smartwatch', 'vector']\"], [\"['baselworld2015', 'tor']\"], [\"['baselworld2015']\"], [\"['baselworld2015']\"], [\"['fobparis', 'baselworld2015']\"], [\"['wearabletech', 'baselworld2015']\"], [\"['cabestan', 'baselworld2015']\"], [\"['baselworld2015']\"], [\"['baselworld2015', 'cyrus']\"], [\"['baselworld2015']\"], [\"['hyt', 'baselworld2015']\"], [\"['baselworld2015']\"], [\"['baselworld2015']\"], [\"['baselworld2015']\"], [\"['tagheuer', 'baselworld2015']\"], [\"['tagheuer', 'baselworld2015']\"], [\"['baselworld2015']\"], [\"['baselworld2015', 'notcheap']\"], [\"['baselworld2015']\"], [\"['baselworld2015']\"], [\"['baselworld2015']\"], [\"['baselworld2015']\"], [\"['baselworld2015']\"], [\"['mondaine', 'baselworld2015']\"], [\"['vulcan', 'baselworld2015']\"], [\"['alpina', 'baselworld2015']\"], [\"['baselworld2015']\"], [\"['baselworld2015']\"], [\"['baselworld2015']\"], [\"['baselworld2015']\"], [\"['baselworld2015', 'nicecarpet']\"], [\"['baselworld2015']\"], [\"['baselworld2015']\"], [\"['baselworld2015']\"], [\"['baselworld2015']\"], [\"['baselworld2015']\"], [\"['baselworld2015']\"], [\"['baselworld2015']\"], [\"['baselworld2015', 'noexpensespared']\"], [\"['kairos', 'baselworld2015']\"], [\"['baselworld2015']\"], [\"['baselworld2015']\"], [\"['baselworld2015']\"], [\"['baselworld2015']\"], [\"['baselworld2015']\"], [\"['hysek', 'baselworld2015']\"], [\"['baselworld2015']\"], [\"['baselworld2015', 'toddlerswithtrustfunds']\"], [\"['baselworld2015', 'gatwick']\"], [\"['baselworld2015']\"]], \"hovertemplate\": \"<b>%{hovertext}</b><br><br>labels=1<br>tsne_x=%{x}<br>tsne_y=%{y}<br>hashtags=%{customdata[0]}<extra></extra>\", \"hovertext\": [\"leokelion\", \"leokelion\", \"leokelion\", \"leokelion\", \"leokelion\", \"leokelion\", \"leokelion\", \"leokelion\", \"leokelion\", \"leokelion\", \"leokelion\", \"leokelion\", \"leokelion\", \"leokelion\", \"leokelion\", \"leokelion\", \"leokelion\", \"leokelion\", \"leokelion\", \"leokelion\", \"leokelion\", \"leokelion\", \"leokelion\", \"leokelion\", \"leokelion\", \"leokelion\", \"leokelion\", \"leokelion\", \"leokelion\", \"leokelion\", \"leokelion\", \"leokelion\", \"leokelion\", \"leokelion\", \"leokelion\", \"leokelion\", \"leokelion\", \"leokelion\", \"leokelion\", \"leokelion\", \"leokelion\", \"leokelion\", \"leokelion\", \"leokelion\", \"leokelion\", \"leokelion\", \"leokelion\", \"leokelion\", \"leokelion\", \"leokelion\", \"leokelion\", \"leokelion\", \"leokelion\", \"leokelion\", \"leokelion\", \"leokelion\", \"leokelion\", \"leokelion\", \"leokelion\", \"leokelion\", \"leokelion\", \"leokelion\", \"leokelion\", \"leokelion\", \"leokelion\", \"leokelion\", \"leokelion\", \"leokelion\", \"leokelion\", \"leokelion\", \"leokelion\", \"leokelion\", \"leokelion\", \"leokelion\", \"leokelion\", \"leokelion\", \"leokelion\", \"leokelion\", \"leokelion\", \"leokelion\", \"leokelion\", \"leokelion\", \"leokelion\", \"leokelion\", \"leokelion\", \"leokelion\", \"leokelion\", \"leokelion\", \"leokelion\", \"leokelion\", \"leokelion\", \"leokelion\", \"leokelion\", \"leokelion\", \"leokelion\", \"leokelion\", \"leokelion\", \"leokelion\", \"leokelion\"], \"legendgroup\": \"1\", \"marker\": {\"color\": \"rgb(0, 134, 149)\", \"symbol\": \"circle\"}, \"mode\": \"markers\", \"name\": \"1\", \"showlegend\": true, \"type\": \"scattergl\", \"x\": [46.009986877441406, 42.80873489379883, 45.45726013183594, 44.03253173828125, 44.03253173828125, 51.882568359375, 39.218441009521484, 43.93849182128906, 42.82533264160156, 41.582767486572266, 40.499061584472656, 41.582767486572266, 49.29055404663086, 41.04759979248047, 43.11275863647461, 44.3983039855957, 46.79098892211914, 49.29055404663086, 47.80599594116211, 44.73029327392578, 42.86760711669922, 50.0124626159668, 39.466007232666016, 51.91725158691406, 48.43096923828125, 50.539066314697266, 47.03569030761719, 41.8665771484375, 52.27956771850586, 40.4510612487793, 44.3983039855957, 45.47590637207031, 46.9340705871582, 41.62705993652344, 49.91567611694336, 45.22105407714844, 50.473289489746094, 51.11717987060547, 49.082767486572266, 42.35976791381836, 50.034847259521484, 48.859012603759766, 53.178253173828125, 42.82533264160156, 41.57040786743164, 41.04817199707031, 41.57040786743164, 51.07972717285156, 41.04817199707031, 53.04072570800781, 52.0021858215332, 42.39959716796875, 47.369441986083984, 48.9080924987793, 46.74083709716797, 49.52692413330078, 43.470088958740234, 49.51860427856445, 42.8122673034668, 53.178253173828125, 41.468387603759766, 43.663516998291016, 46.19903564453125, 42.70696258544922, 42.70696258544922, 45.36962890625, 50.263206481933594, 43.93849182128906, 41.04759979248047, 43.93849182128906, 42.45136260986328, 40.23109817504883, 47.453460693359375, 47.492034912109375, 51.20599365234375, 47.4484977722168, 41.052738189697266, 41.468387603759766, 39.57857894897461, 48.9080924987793, 46.248661041259766, 44.697696685791016, 45.47590637207031, 43.848533630371094, 44.3983039855957, 42.82533264160156, 44.14366149902344, 48.08766555786133, 50.45086669921875, 40.3355827331543, 45.21867752075195, 42.08674240112305, 47.190032958984375, 46.22941589355469, 51.15251922607422, 42.39959716796875, 48.373741149902344, 48.315738677978516, 46.009986877441406], \"xaxis\": \"x\", \"y\": [93.82260131835938, 95.76808166503906, 90.10187530517578, 95.36634063720703, 95.36634063720703, 79.88037872314453, 93.4162368774414, 92.26920318603516, 94.41060638427734, 93.60972595214844, 94.37006378173828, 93.60972595214844, 81.82563018798828, 92.12491607666016, 93.25740814208984, 93.8724594116211, 80.86830139160156, 81.82563018798828, 80.85943603515625, 96.36923217773438, 89.87507629394531, 78.7279281616211, 94.87325286865234, 84.92323303222656, 79.60964965820312, 83.6581039428711, 82.00855255126953, 91.08038330078125, 80.98177337646484, 90.760498046875, 93.8724594116211, 95.15550994873047, 95.47209167480469, 89.96408081054688, 82.83611297607422, 97.37718963623047, 82.15799713134766, 80.60301208496094, 83.02433776855469, 85.68302917480469, 80.66246032714844, 78.71477508544922, 83.7420425415039, 94.41060638427734, 84.19165802001953, 85.03604125976562, 84.19165802001953, 79.0965805053711, 85.03604125976562, 85.0774917602539, 82.12313842773438, 92.45146942138672, 94.39312744140625, 80.6683578491211, 78.15727996826172, 84.09591674804688, 96.58291625976562, 79.70428466796875, 91.25588989257812, 83.7420425415039, 95.20235443115234, 90.8089599609375, 96.47235870361328, 85.18328094482422, 85.18328094482422, 91.78765869140625, 81.33241271972656, 92.26920318603516, 92.12491607666016, 92.26920318603516, 97.55355834960938, 95.95195770263672, 83.05088806152344, 79.83024597167969, 81.52009582519531, 93.1457748413086, 96.93404388427734, 95.20235443115234, 91.95938873291016, 80.6683578491211, 91.0379638671875, 91.00039672851562, 95.15550994873047, 97.65931701660156, 93.8724594116211, 94.41060638427734, 89.69214630126953, 81.69100952148438, 79.91654968261719, 93.23684692382812, 92.7972640991211, 96.3948745727539, 91.8233642578125, 92.52302551269531, 82.8055191040039, 92.45146942138672, 83.81697082519531, 82.51716613769531, 93.82260131835938], \"yaxis\": \"y\"}, {\"customdata\": [[\"['ft']\"], [\"['ft']\"], [\"['ft']\"], [\"['ft', 'thailand']\"], [\"['pearson', 'ft', 'nikkei']\"], [\"['ft']\"], [\"['refugees', 'ft']\"], [\"['ft']\"], [\"['ft']\"]], \"hovertemplate\": \"<b>%{hovertext}</b><br><br>labels=58<br>tsne_x=%{x}<br>tsne_y=%{y}<br>hashtags=%{customdata[0]}<extra></extra>\", \"hovertext\": [\"leokelion\", \"leokelion\", \"leokelion\", \"mshannahmurphy\", \"mshannahmurphy\", \"mshannahmurphy\", \"mshannahmurphy\", \"mshannahmurphy\", \"mshannahmurphy\"], \"legendgroup\": \"58\", \"marker\": {\"color\": \"rgb(207, 28, 144)\", \"symbol\": \"circle\"}, \"mode\": \"markers\", \"name\": \"58\", \"showlegend\": true, \"type\": \"scattergl\", \"x\": [46.518882751464844, 46.518882751464844, 47.51957702636719, 47.02975845336914, 46.089839935302734, 47.83930587768555, 47.02975845336914, 45.992637634277344, 47.11666488647461], \"xaxis\": \"x\", \"y\": [-12.111058235168457, -12.111058235168457, -12.037866592407227, -13.545679092407227, -13.603775978088379, -12.903888702392578, -13.545679092407227, -12.793575286865234, -12.699392318725586], \"yaxis\": \"y\"}, {\"customdata\": [[\"['qualcomm']\"], [\"['qualcomm']\"], [\"['petya', 'ransomware', 'wannacry', 'eternalblue']\"], [\"['wikileaks']\"], [\"['assange', 'wikileaks']\"], [\"['assange']\"], [\"['assange']\"], [\"['assange', 'guardian']\"], [\"['assange']\"], [\"['assange']\"], [\"['assange', 'wikileaks']\"], [\"['blm', 'blackouttuesday']\"], [\"['blm', 'blackouttuesday']\"], [\"['blm', 'blackouttuesday']\"]], \"hovertemplate\": \"<b>%{hovertext}</b><br><br>labels=98<br>tsne_x=%{x}<br>tsne_y=%{y}<br>hashtags=%{customdata[0]}<extra></extra>\", \"hovertext\": [\"leokelion\", \"leokelion\", \"gordoncorera\", \"gordoncorera\", \"gordoncorera\", \"gordoncorera\", \"gordoncorera\", \"gordoncorera\", \"gordoncorera\", \"gordoncorera\", \"gordoncorera\", \"joetidy\", \"joetidy\", \"joetidy\"], \"legendgroup\": \"98\", \"marker\": {\"color\": \"rgb(249, 123, 114)\", \"symbol\": \"circle\"}, \"mode\": \"markers\", \"name\": \"98\", \"showlegend\": true, \"type\": \"scattergl\", \"x\": [40.52214813232422, 40.5221061706543, 33.3558349609375, 25.743900299072266, 23.755210876464844, 24.023300170898438, 24.023300170898438, 22.977205276489258, 23.29072380065918, 23.29072380065918, 23.085594177246094, 38.7060432434082, 38.7060432434082, 38.7060432434082], \"xaxis\": \"x\", \"y\": [-29.48867416381836, -29.488697052001953, -51.46966552734375, -53.86174774169922, -57.86781311035156, -56.79798889160156, -56.79798889160156, -57.15167999267578, -56.39092254638672, -56.39092254638672, -57.843990325927734, -37.92888259887695, -37.92888259887695, -37.92888259887695], \"yaxis\": \"y\"}, {\"customdata\": [[\"['cybersecurity']\"], [\"['obama', 'cybersecurity']\"], [\"['cybersecurity']\"], [\"['cybersecurity', 'infosec']\"], [\"['cybersecurity', 'pewdiepie', 'pewdiepievstseries']\"], [\"['spyware', 'cybersecurity']\"], [\"['cybersecurity', 'iranusa', 'cyberattacks']\"], [\"['cybersecurity', 'robots']\"], [\"['cybersecurity', 'cyberattacks', 'gdpr']\"], [\"['species18', 'cybersecurity']\"], [\"['itsecforum', 'cybersecurity']\"], [\"['cybersecurity']\"], [\"['russia', 'cybersecurity']\"], [\"['cybersecurity']\"], [\"['cybersecurity']\"], [\"['machinelearning', 'cybersecurity']\"], [\"['women', 'cybersecurity']\"], [\"['cybersecurity', 'cybersecuritynews', 'cybersecuritypr']\"], [\"['women', 'cybersecurity']\"], [\"['cybersecurity', 'cybersecuritynews', 'cybersecuritypr']\"], [\"['cybersecurity']\"], [\"['cybersecurity']\"], [\"['blackhat', 'hacking', 'cybersecurity']\"], [\"['socialsecurity', 'kimbho', 'cybersecurity']\"], [\"['gdpr', 'alexa', 'cybersecurity']\"], [\"['russia', 'cybersecurity']\"], [\"['cybersecurity']\"], [\"['cybersecurity']\"], [\"['cybersecurity']\"], [\"['cybersecurity']\"], [\"['cybersecurity', 'infosec']\"], [\"['cybersecurity']\"], [\"['cybersecurity']\"], [\"['cybersecurity', 'dataprotection', 'yahoo']\"], [\"['heatlhcare', 'nhs', 'cybersecurity']\"], [\"['cybersecurity', 'internationalwomensday', 'infosec', 'security']\"], [\"['malware', 'cybersecurity']\"], [\"['equifax', 'cybersecurity']\"], [\"['cybersecurity', 'trustico', 'mwc']\"], [\"['phishing', 'studentfinance', 'cybersecurity']\"], [\"['iot', 'cybersecurity', 'cryptojacking']\"], [\"['cybersecurity', 'privacy']\"], [\"['cybersecurity', 'charteroftrust']\"], [\"['cybersecurity']\"], [\"['cybersecurity', 'ddos']\"], [\"['cybersecurity']\"], [\"['cybersecurity', 'ddos']\"], [\"['cybersecurity']\"]], \"hovertemplate\": \"<b>%{hovertext}</b><br><br>labels=3<br>tsne_x=%{x}<br>tsne_y=%{y}<br>hashtags=%{customdata[0]}<extra></extra>\", \"hovertext\": [\"leokelion\", \"leokelion\", \"gordoncorera\", \"joetidy\", \"joetidy\", \"_lucyingham\", \"_lucyingham\", \"_lucyingham\", \"_lucyingham\", \"_lucyingham\", \"_lucyingham\", \"_lucyingham\", \"_lucyingham\", \"_lucyingham\", \"_lucyingham\", \"_lucyingham\", \"jesscahaworth\", \"jesscahaworth\", \"jesscahaworth\", \"jesscahaworth\", \"jesscahaworth\", \"jesscahaworth\", \"jesscahaworth\", \"jesscahaworth\", \"jesscahaworth\", \"jesscahaworth\", \"jesscahaworth\", \"jesscahaworth\", \"jesscahaworth\", \"jesscahaworth\", \"jesscahaworth\", \"jesscahaworth\", \"jesscahaworth\", \"jesscahaworth\", \"jesscahaworth\", \"jesscahaworth\", \"jesscahaworth\", \"jesscahaworth\", \"jesscahaworth\", \"jesscahaworth\", \"jesscahaworth\", \"jesscahaworth\", \"jesscahaworth\", \"jesscahaworth\", \"ad_nauseum74\", \"ad_nauseum74\", \"ad_nauseum74\", \"ad_nauseum74\"], \"legendgroup\": \"3\", \"marker\": {\"color\": \"rgb(165, 170, 153)\", \"symbol\": \"circle\"}, \"mode\": \"markers\", \"name\": \"3\", \"showlegend\": true, \"type\": \"scattergl\", \"x\": [85.39000701904297, 88.15984344482422, 85.75958251953125, 81.27877807617188, 87.14674377441406, 85.03971099853516, 88.6915283203125, 84.23001861572266, 88.07733154296875, 86.78655242919922, 87.42395782470703, 87.1683578491211, 87.2060546875, 85.75958251953125, 85.39000701904297, 91.60869598388672, 88.6187744140625, 89.6086196899414, 87.90798950195312, 89.6086196899414, 87.1683578491211, 85.75958251953125, 84.03263092041016, 88.20979309082031, 88.06033325195312, 87.2060546875, 85.74200439453125, 87.19402313232422, 87.1683578491211, 87.1683578491211, 81.27877807617188, 85.39000701904297, 87.19402313232422, 84.26347351074219, 89.34188842773438, 80.1161117553711, 86.3160171508789, 88.60712432861328, 91.41114044189453, 89.4730224609375, 89.62153625488281, 85.77873229980469, 86.3160171508789, 87.1683578491211, 88.56196594238281, 87.1683578491211, 88.56196594238281, 85.75958251953125], \"xaxis\": \"x\", \"y\": [-51.784950256347656, -53.39291763305664, -53.391502380371094, -53.85747528076172, -49.702030181884766, -50.46765899658203, -49.28044509887695, -53.60879135131836, -46.34148025512695, -55.0819206237793, -50.708290100097656, -52.206607818603516, -57.3391227722168, -53.391502380371094, -51.784950256347656, -56.578369140625, -52.75170135498047, -52.23605728149414, -54.87190246582031, -52.23605728149414, -52.206607818603516, -53.391502380371094, -52.166351318359375, -50.31636047363281, -46.19645690917969, -57.3391227722168, -54.786224365234375, -53.925235748291016, -52.206607818603516, -52.206607818603516, -53.85747146606445, -51.784950256347656, -53.925235748291016, -55.96651840209961, -55.224998474121094, -54.11986541748047, -50.62461471557617, -54.08223342895508, -53.337364196777344, -53.54559326171875, -50.70197296142578, -48.921897888183594, -50.62461471557617, -52.206607818603516, -51.39126968383789, -52.206607818603516, -51.39126968383789, -53.391502380371094], \"yaxis\": \"y\"}, {\"customdata\": [[\"['sharp']\"], [\"['bugbountyradar']\"], [\"['bugbountyradar']\"], [\"['bugbountyradar']\"], [\"['bugbountyradar']\"], [\"['bugbountyradar']\"], [\"['bugbountyradar']\"], [\"['bugbountyradar']\"], [\"['bugbountyradar']\"]], \"hovertemplate\": \"<b>%{hovertext}</b><br><br>labels=93<br>tsne_x=%{x}<br>tsne_y=%{y}<br>hashtags=%{customdata[0]}<extra></extra>\", \"hovertext\": [\"leokelion\", \"jesscahaworth\", \"jesscahaworth\", \"jesscahaworth\", \"jesscahaworth\", \"jesscahaworth\", \"ad_nauseum74\", \"ad_nauseum74\", \"ad_nauseum74\"], \"legendgroup\": \"93\", \"marker\": {\"color\": \"rgb(127, 60, 141)\", \"symbol\": \"circle\"}, \"mode\": \"markers\", \"name\": \"93\", \"showlegend\": true, \"type\": \"scattergl\", \"x\": [33.21568298339844, 42.77226638793945, 43.81792068481445, 43.18407440185547, 42.528236389160156, 43.15669631958008, 43.955631256103516, 43.48741912841797, 42.34445571899414], \"xaxis\": \"x\", \"y\": [-40.81633377075195, -46.07649612426758, -44.865848541259766, -44.5338249206543, -44.81549072265625, -45.35270309448242, -45.56816864013672, -46.109107971191406, -45.504154205322266], \"yaxis\": \"y\"}, {\"customdata\": [[\"['lg']\"], [\"['lg']\"]], \"hovertemplate\": \"<b>%{hovertext}</b><br><br>labels=40<br>tsne_x=%{x}<br>tsne_y=%{y}<br>hashtags=%{customdata[0]}<extra></extra>\", \"hovertext\": [\"leokelion\", \"leokelion\"], \"legendgroup\": \"40\", \"marker\": {\"color\": \"rgb(17, 165, 121)\", \"symbol\": \"circle\"}, \"mode\": \"markers\", \"name\": \"40\", \"showlegend\": true, \"type\": \"scattergl\", \"x\": [20.59807014465332, 20.59807014465332], \"xaxis\": \"x\", \"y\": [-9.185708045959473, -9.185708045959473], \"yaxis\": \"y\"}, {\"customdata\": [[\"['nvidia']\"], [\"['nvidia']\"], [\"['nvidia']\"], [\"['nvidia']\"], [\"['nvidia']\"]], \"hovertemplate\": \"<b>%{hovertext}</b><br><br>labels=83<br>tsne_x=%{x}<br>tsne_y=%{y}<br>hashtags=%{customdata[0]}<extra></extra>\", \"hovertext\": [\"leokelion\", \"leokelion\", \"leokelion\", \"leokelion\", \"leokelion\"], \"legendgroup\": \"83\", \"marker\": {\"color\": \"rgb(57, 105, 172)\", \"symbol\": \"circle\"}, \"mode\": \"markers\", \"name\": \"83\", \"showlegend\": true, \"type\": \"scattergl\", \"x\": [35.827186584472656, 35.827186584472656, 35.827186584472656, 35.827186584472656, 35.827186584472656], \"xaxis\": \"x\", \"y\": [-12.610626220703125, -12.610626220703125, -12.610626220703125, -12.610626220703125, -12.610626220703125], \"yaxis\": \"y\"}, {\"customdata\": [[\"['technology']\"], [\"['technology', 'cybersecurity', 'startups', 'mentalhealth', 'blacklivesmatter']\"], [\"['facialrecognition', 'blacklivesmatter', 'protests2020']\"], [\"['digital', 'technology', 'future']\"], [\"['coronavirus', 'libreplanet2020', 'privacy', 'technology', 'saas']\"], [\"['technology', 'cybersecurity', 'startups', 'mentalhealth', 'blacklivesmatter']\"], [\"['facialrecognition', 'blacklivesmatter', 'protests2020']\"], [\"['digital', 'technology', 'future']\"], [\"['coronavirus', 'libreplanet2020', 'privacy', 'technology', 'saas']\"], [\"['freesoftware', 'technology', 'privacy', 'selfisolating', 'libreplanet']\"], [\"['verdict', 'enterprise', 'technology']\"], [\"['backtowork', 'business', 'technology']\"], [\"['blacklivesmatter']\"], [\"['blacklivesmatter']\"], [\"['blmldn', 'blacklivesmatter']\"], [\"['blacklivesmatter']\"], [\"['blmldn', 'blacklivesmatter']\"], [\"['blacklivesmatter']\"], [\"['privacy']\"], [\"['privacy']\"]], \"hovertemplate\": \"<b>%{hovertext}</b><br><br>labels=22<br>tsne_x=%{x}<br>tsne_y=%{y}<br>hashtags=%{customdata[0]}<extra></extra>\", \"hovertext\": [\"gordoncorera\", \"_lucyingham\", \"_lucyingham\", \"_lucyingham\", \"_lucyingham\", \"_lucyingham\", \"_lucyingham\", \"_lucyingham\", \"_lucyingham\", \"_lucyingham\", \"_lucyingham\", \"_lucyingham\", \"dannyjpalmer\", \"dannyjpalmer\", \"scfgallagher\", \"scfgallagher\", \"scfgallagher\", \"scfgallagher\", \"mshannahmurphy\", \"mshannahmurphy\"], \"legendgroup\": \"22\", \"marker\": {\"color\": \"rgb(242, 183, 1)\", \"symbol\": \"circle\"}, \"mode\": \"markers\", \"name\": \"22\", \"showlegend\": true, \"type\": \"scattergl\", \"x\": [31.29884910583496, 78.2844467163086, 21.2966365814209, 32.22553253173828, 43.225440979003906, 78.28446960449219, 21.2966365814209, 32.22553253173828, 43.225364685058594, 33.04717254638672, 31.554550170898438, 31.425857543945312, 19.374629974365234, 19.374629974365234, 20.15981674194336, 19.374629974365234, 20.15981674194336, 19.374629974365234, 32.883670806884766, 32.8836669921875], \"xaxis\": \"x\", \"y\": [-17.120664596557617, -49.604190826416016, 4.999983787536621, -17.21145248413086, -104.40528106689453, -49.60417556762695, 4.999983787536621, -17.21145248413086, -104.40528869628906, -17.73003578186035, -17.190458297729492, -15.933136940002441, 5.213473320007324, 5.213473320007324, 5.864223480224609, 5.213473320007324, 5.864223480224609, 5.213473320007324, -20.665903091430664, -20.6658992767334], \"yaxis\": \"y\"}, {\"customdata\": [[\"['aspensecurity']\"], [\"['aspensecurity']\"], [\"['aspensecurity']\"], [\"['aspensecurity']\"], [\"['aspensecurity']\"], [\"['aspensecurity']\"], [\"['aspensecurity']\"], [\"['aspensecurity']\"], [\"['aspensecurity']\"], [\"['aspensecurity']\"], [\"['aspensecurity']\"], [\"['aspensecurity']\"], [\"['aspensecurity']\"], [\"['aspensecurity']\"], [\"['aspensecurity']\"], [\"['aspensecurity']\"], [\"['aspensecurity']\"], [\"['aspensecurity']\"], [\"['aspensecurity']\"]], \"hovertemplate\": \"<b>%{hovertext}</b><br><br>labels=20<br>tsne_x=%{x}<br>tsne_y=%{y}<br>hashtags=%{customdata[0]}<extra></extra>\", \"hovertext\": [\"gordoncorera\", \"gordoncorera\", \"gordoncorera\", \"gordoncorera\", \"gordoncorera\", \"gordoncorera\", \"gordoncorera\", \"gordoncorera\", \"gordoncorera\", \"gordoncorera\", \"gordoncorera\", \"gordoncorera\", \"gordoncorera\", \"gordoncorera\", \"gordoncorera\", \"gordoncorera\", \"gordoncorera\", \"gordoncorera\", \"gordoncorera\"], \"legendgroup\": \"20\", \"marker\": {\"color\": \"rgb(231, 63, 116)\", \"symbol\": \"circle\"}, \"mode\": \"markers\", \"name\": \"20\", \"showlegend\": true, \"type\": \"scattergl\", \"x\": [-13.009321212768555, -11.324734687805176, -11.606528282165527, -14.37249755859375, -13.255375862121582, -13.009321212768555, -13.607897758483887, -12.30483341217041, -12.472565650939941, -13.009321212768555, -14.37249755859375, -12.30483341217041, -13.009321212768555, -13.607897758483887, -11.324734687805176, -14.294776916503906, -12.30483341217041, -11.606528282165527, -14.294776916503906], \"xaxis\": \"x\", \"y\": [21.175724029541016, 22.458303451538086, 21.20547866821289, 21.449357986450195, 22.478439331054688, 21.175724029541016, 23.679433822631836, 23.3895320892334, 22.2622013092041, 21.175724029541016, 21.449357986450195, 23.3895320892334, 21.175724029541016, 23.679433822631836, 22.458303451538086, 22.67267417907715, 23.3895320892334, 21.20547866821289, 22.67267417907715], \"yaxis\": \"y\"}, {\"customdata\": [[\"['litvinenko']\"], [\"['litvinenko']\"], [\"['litvinenko']\"], [\"['litvinenko']\"], [\"['litvinenko']\"], [\"['litvinenko']\"], [\"['litvinenko']\"], [\"['litvinenko']\"], [\"['litvinenko']\"], [\"['litvinenko']\"], [\"['litvinenko']\"], [\"['litvinenko']\"], [\"['litvinenko']\"]], \"hovertemplate\": \"<b>%{hovertext}</b><br><br>labels=38<br>tsne_x=%{x}<br>tsne_y=%{y}<br>hashtags=%{customdata[0]}<extra></extra>\", \"hovertext\": [\"gordoncorera\", \"gordoncorera\", \"gordoncorera\", \"gordoncorera\", \"gordoncorera\", \"gordoncorera\", \"gordoncorera\", \"gordoncorera\", \"gordoncorera\", \"gordoncorera\", \"gordoncorera\", \"gordoncorera\", \"gordoncorera\"], \"legendgroup\": \"38\", \"marker\": {\"color\": \"rgb(128, 186, 90)\", \"symbol\": \"circle\"}, \"mode\": \"markers\", \"name\": \"38\", \"showlegend\": true, \"type\": \"scattergl\", \"x\": [15.79150390625, 15.089329719543457, 15.79150390625, 14.339030265808105, 15.79150390625, 16.476804733276367, 14.339030265808105, 15.089329719543457, 15.79150390625, 16.476804733276367, 15.79150390625, 15.79150390625, 15.089329719543457], \"xaxis\": \"x\", \"y\": [14.654410362243652, 16.11930274963379, 14.654410362243652, 14.939093589782715, 14.654410362243652, 15.968695640563965, 14.939093589782715, 16.11930274963379, 14.654410362243652, 15.968695640563965, 14.654410362243652, 14.654410362243652, 16.11930274963379], \"yaxis\": \"y\"}, {\"customdata\": [[\"['coldwar', 'russia', 'china', 'cyberwar']\"], [\"['china']\"], [\"['china']\"], [\"['china']\"], [\"['india', 'china']\"], [\"['china']\"], [\"['china']\"], [\"['china', 'prc', 'taiwan']\"], [\"['china', 'prc', 'taiwan']\"]], \"hovertemplate\": \"<b>%{hovertext}</b><br><br>labels=45<br>tsne_x=%{x}<br>tsne_y=%{y}<br>hashtags=%{customdata[0]}<extra></extra>\", \"hovertext\": [\"gordoncorera\", \"gordoncorera\", \"mshannahmurphy\", \"mshannahmurphy\", \"mshannahmurphy\", \"mshannahmurphy\", \"mshannahmurphy\", \"jesscahaworth\", \"jesscahaworth\"], \"legendgroup\": \"45\", \"marker\": {\"color\": \"rgb(230, 131, 16)\", \"symbol\": \"circle\"}, \"mode\": \"markers\", \"name\": \"45\", \"showlegend\": true, \"type\": \"scattergl\", \"x\": [-7.971053123474121, -9.867167472839355, -10.47152328491211, -9.479207992553711, -9.420198440551758, -10.319069862365723, -10.319069862365723, -8.85238265991211, -9.536256790161133], \"xaxis\": \"x\", \"y\": [-70.6146011352539, -70.85426330566406, -71.06871795654297, -71.21537017822266, -71.84892272949219, -71.80332946777344, -71.80332946777344, -72.60619354248047, -72.94124603271484], \"yaxis\": \"y\"}, {\"customdata\": [[\"['gchq']\"], [\"['gchq']\"], [\"['gchq']\"], [\"['gchq']\"], [\"['gchq', 'ipt']\"], [\"['gchq', 'ft']\"], [\"['gchq']\"], [\"['gchq']\"], [\"['gchq']\"], [\"['gchq']\"], [\"['gchq']\"], [\"['gchq']\"], [\"['gchq']\"], [\"['gchq']\"], [\"['gchq']\"], [\"['gchq']\"], [\"['gchq']\"]], \"hovertemplate\": \"<b>%{hovertext}</b><br><br>labels=25<br>tsne_x=%{x}<br>tsne_y=%{y}<br>hashtags=%{customdata[0]}<extra></extra>\", \"hovertext\": [\"gordoncorera\", \"gordoncorera\", \"gordoncorera\", \"gordoncorera\", \"gordoncorera\", \"gordoncorera\", \"gordoncorera\", \"gordoncorera\", \"gordoncorera\", \"gordoncorera\", \"gordoncorera\", \"gordoncorera\", \"gordoncorera\", \"gordoncorera\", \"gordoncorera\", \"gordoncorera\", \"gordoncorera\"], \"legendgroup\": \"25\", \"marker\": {\"color\": \"rgb(0, 134, 149)\", \"symbol\": \"circle\"}, \"mode\": \"markers\", \"name\": \"25\", \"showlegend\": true, \"type\": \"scattergl\", \"x\": [23.90365219116211, 23.90365219116211, 21.870067596435547, 24.009557723999023, 22.912790298461914, 26.603195190429688, 22.401409149169922, 22.779085159301758, 23.90365219116211, 23.90365219116211, 23.90365219116211, 24.009557723999023, 24.009557723999023, 22.401409149169922, 24.009557723999023, 24.009557723999023, 22.35755729675293], \"xaxis\": \"x\", \"y\": [30.64990234375, 30.64990234375, 29.6120548248291, 29.033859252929688, 28.14453125, 29.366535186767578, 30.644441604614258, 29.62209701538086, 30.64990234375, 30.64990234375, 30.64990234375, 29.033859252929688, 29.033859252929688, 30.644441604614258, 29.033859252929688, 29.033859252929688, 28.852142333984375], \"yaxis\": \"y\"}, {\"customdata\": [[\"['mi5']\"], [\"['mi5']\"], [\"['mi5']\"], [\"['mi5']\"], [\"['mi5']\"], [\"['mi5']\"], [\"['mi5']\"], [\"['mi5']\"], [\"['mi5']\"], [\"['mi5', 'fbi']\"], [\"['chaplin', 'mi5']\"], [\"['mi5']\"]], \"hovertemplate\": \"<b>%{hovertext}</b><br><br>labels=41<br>tsne_x=%{x}<br>tsne_y=%{y}<br>hashtags=%{customdata[0]}<extra></extra>\", \"hovertext\": [\"gordoncorera\", \"gordoncorera\", \"gordoncorera\", \"gordoncorera\", \"gordoncorera\", \"gordoncorera\", \"gordoncorera\", \"gordoncorera\", \"gordoncorera\", \"gordoncorera\", \"gordoncorera\", \"gordoncorera\"], \"legendgroup\": \"41\", \"marker\": {\"color\": \"rgb(207, 28, 144)\", \"symbol\": \"circle\"}, \"mode\": \"markers\", \"name\": \"41\", \"showlegend\": true, \"type\": \"scattergl\", \"x\": [11.75306224822998, 11.75306224822998, 12.515726089477539, 13.325445175170898, 12.515726089477539, 12.515726089477539, 13.325445175170898, 13.325445175170898, 11.75306224822998, 12.15585994720459, 12.992781639099121, 11.75306224822998], \"xaxis\": \"x\", \"y\": [37.13526153564453, 37.13526153564453, 35.98746871948242, 37.063358306884766, 35.98746871948242, 35.98746871948242, 37.063358306884766, 37.063358306884766, 37.13526153564453, 38.295162200927734, 38.123863220214844, 37.13526153564453], \"yaxis\": \"y\"}, {\"customdata\": [[\"['spook']\"], [\"['spook']\"], [\"['spook']\"], [\"['spook']\"], [\"['spook']\"], [\"['spook']\"], [\"['spook']\"], [\"['spook']\"], [\"['spook']\"], [\"['spook']\"], [\"['spook']\"], [\"['spook']\"], [\"['spook']\"], [\"['spook']\"], [\"['spook']\"], [\"['spook']\"], [\"['spook']\"], [\"['spook']\"], [\"['spook']\"], [\"['spook']\"], [\"['spook']\"], [\"['spook']\"], [\"['spook']\"], [\"['spook']\"], [\"['spook']\"], [\"['spook']\"]], \"hovertemplate\": \"<b>%{hovertext}</b><br><br>labels=16<br>tsne_x=%{x}<br>tsne_y=%{y}<br>hashtags=%{customdata[0]}<extra></extra>\", \"hovertext\": [\"gordoncorera\", \"gordoncorera\", \"gordoncorera\", \"gordoncorera\", \"gordoncorera\", \"gordoncorera\", \"gordoncorera\", \"gordoncorera\", \"gordoncorera\", \"gordoncorera\", \"gordoncorera\", \"gordoncorera\", \"gordoncorera\", \"gordoncorera\", \"gordoncorera\", \"gordoncorera\", \"gordoncorera\", \"gordoncorera\", \"gordoncorera\", \"gordoncorera\", \"gordoncorera\", \"gordoncorera\", \"gordoncorera\", \"gordoncorera\", \"gordoncorera\", \"gordoncorera\"], \"legendgroup\": \"16\", \"marker\": {\"color\": \"rgb(249, 123, 114)\", \"symbol\": \"circle\"}, \"mode\": \"markers\", \"name\": \"16\", \"showlegend\": true, \"type\": \"scattergl\", \"x\": [0.9758943915367126, 0.9758943915367126, -0.646609365940094, 0.09872028976678848, -1.4069246053695679, 2.4781553745269775, -1.734420657157898, -1.734420657157898, -0.47032269835472107, 1.1530957221984863, -0.646609365940094, 0.5227060914039612, 1.7810593843460083, -0.646609365940094, 0.09872028976678848, -0.47032269835472107, 0.09872028976678848, 1.7810593843460083, 1.7716068029403687, 1.7716068029403687, -0.646609365940094, 1.7810593843460083, 0.09872028976678848, 2.7719686031341553, 0.9758943915367126, 0.5350242257118225], \"xaxis\": \"x\", \"y\": [72.73406219482422, 72.73406219482422, 72.24449920654297, 69.34344482421875, 69.55177307128906, 72.35382843017578, 70.92327880859375, 70.92327880859375, 70.70448303222656, 70.25155639648438, 72.24449920654297, 71.50959014892578, 71.23725128173828, 72.24449920654297, 69.34344482421875, 70.70448303222656, 69.34344482421875, 71.23725128173828, 69.34587097167969, 69.34587097167969, 72.24449920654297, 71.23725128173828, 69.34344482421875, 70.36686706542969, 72.73406219482422, 70.80431365966797], \"yaxis\": \"y\"}, {\"customdata\": [[\"['cybercrime']\"], [\"['cybercrime']\"], [\"['hackers', 'cybercrime']\"], [\"['hackers', 'cybercrime']\"], [\"['cybersecurity', 'cybercrime']\"], [\"['law', 'cybercrime', 'legal', 'journorequest', 'egypt', 'prrequest', 'humanrights']\"], [\"['cybercrime']\"], [\"['bigbrotherwatch', 'cybercrime', 'cybersecurity']\"], [\"['cybercrime', 'ransomware', 'darkweb']\"]], \"hovertemplate\": \"<b>%{hovertext}</b><br><br>labels=48<br>tsne_x=%{x}<br>tsne_y=%{y}<br>hashtags=%{customdata[0]}<extra></extra>\", \"hovertext\": [\"joetidy\", \"joetidy\", \"jesscahaworth\", \"jesscahaworth\", \"jesscahaworth\", \"jesscahaworth\", \"jesscahaworth\", \"jesscahaworth\", \"jesscahaworth\"], \"legendgroup\": \"48\", \"marker\": {\"color\": \"rgb(165, 170, 153)\", \"symbol\": \"circle\"}, \"mode\": \"markers\", \"name\": \"48\", \"showlegend\": true, \"type\": \"scattergl\", \"x\": [69.38431549072266, 69.32225036621094, 70.2200927734375, 70.2200927734375, 92.4895248413086, 72.15410614013672, 69.6682357788086, 92.59392547607422, 70.4884033203125], \"xaxis\": \"x\", \"y\": [-35.356380462646484, -35.90034484863281, -35.40016174316406, -35.40016174316406, -50.64267349243164, -34.886837005615234, -36.25603485107422, -50.602989196777344, -36.135658264160156], \"yaxis\": \"y\"}, {\"customdata\": [[\"['russiareport']\"], [\"['russiareport']\"], [\"['russiareport']\"], [\"['russiareport']\"], [\"['russiareport']\"], [\"['russiareport']\"], [\"['russiareport']\"], [\"['russiareport']\"], [\"['russiareport']\"], [\"['russiareport']\"], [\"['russiareport', 'cyberattacks']\"], [\"['russiareport', 'cyberattacks']\"], [\"['internationalwomensday']\"], [\"['womenintech', 'internationalwomensday']\"], [\"['russiareport']\"], [\"['russiareport']\"], [\"['internationalwomensday']\"], [\"['internationalwomensday']\"], [\"['internationalwomensday']\"], [\"['internationalwomensday']\"], [\"['internationalwomensday']\"], [\"['internationalwomensday']\"], [\"['internationalwomensday']\"], [\"['internationalwomensday']\"], [\"['internationalwomensday']\"], [\"['internationalwomensday']\"]], \"hovertemplate\": \"<b>%{hovertext}</b><br><br>labels=35<br>tsne_x=%{x}<br>tsne_y=%{y}<br>hashtags=%{customdata[0]}<extra></extra>\", \"hovertext\": [\"joetidy\", \"joetidy\", \"joetidy\", \"joetidy\", \"joetidy\", \"joetidy\", \"joetidy\", \"joetidy\", \"joetidy\", \"joetidy\", \"_lucyingham\", \"_lucyingham\", \"_lucyingham\", \"_lucyingham\", \"dannyjpalmer\", \"dannyjpalmer\", \"scfgallagher\", \"scfgallagher\", \"scfgallagher\", \"scfgallagher\", \"scfgallagher\", \"scfgallagher\", \"scfgallagher\", \"scfgallagher\", \"scfgallagher\", \"mshannahmurphy\"], \"legendgroup\": \"35\", \"marker\": {\"color\": \"rgb(127, 60, 141)\", \"symbol\": \"circle\"}, \"mode\": \"markers\", \"name\": \"35\", \"showlegend\": true, \"type\": \"scattergl\", \"x\": [26.70407485961914, 26.92444610595703, 28.379730224609375, 26.92444610595703, 26.92444610595703, 28.379730224609375, 26.92444610595703, 26.92444610595703, 26.92444610595703, 26.70407485961914, 28.227752685546875, 28.227752685546875, 50.67742919921875, 51.1765022277832, 26.70407485961914, 26.92444610595703, 50.67742919921875, 50.67742919921875, 50.67742919921875, 50.67742919921875, 50.67742919921875, 50.67742919921875, 50.67742919921875, 50.67742919921875, 50.67742919921875, 50.67742919921875], \"xaxis\": \"x\", \"y\": [15.943437576293945, 14.45452880859375, 14.64035701751709, 14.45452880859375, 14.45452880859375, 14.64035701751709, 14.45452880859375, 14.45452880859375, 14.45452880859375, 15.943437576293945, 16.05449867248535, 16.05449867248535, 11.098139762878418, 9.681429862976074, 15.943437576293945, 14.45452880859375, 11.098139762878418, 11.098139762878418, 11.098139762878418, 11.098139762878418, 11.098139762878418, 11.098139762878418, 11.098139762878418, 11.098139762878418, 11.098139762878418, 11.098139762878418], \"yaxis\": \"y\"}, {\"customdata\": [[\"['lockdown']\"], [\"['lockdown']\"], [\"['lockdown', 'wakeupwednesday']\"], [\"['5g', '5gcoronavirus', 'lockdown']\"], [\"['lockdown', 'augmentedreality']\"], [\"['lockdown', 'radio']\"], [\"['foodwaste', 'lockdown']\"], [\"['fitness', 'lockdown']\"], [\"['5g', '5gcoronavirus', 'lockdown']\"], [\"['lockdown', 'augmentedreality']\"], [\"['lockdown', 'radio']\"], [\"['foodwaste', 'lockdown']\"], [\"['fitness', 'lockdown']\"]], \"hovertemplate\": \"<b>%{hovertext}</b><br><br>labels=30<br>tsne_x=%{x}<br>tsne_y=%{y}<br>hashtags=%{customdata[0]}<extra></extra>\", \"hovertext\": [\"joetidy\", \"joetidy\", \"joetidy\", \"_lucyingham\", \"_lucyingham\", \"_lucyingham\", \"_lucyingham\", \"_lucyingham\", \"_lucyingham\", \"_lucyingham\", \"_lucyingham\", \"_lucyingham\", \"_lucyingham\"], \"legendgroup\": \"30\", \"marker\": {\"color\": \"rgb(17, 165, 121)\", \"symbol\": \"circle\"}, \"mode\": \"markers\", \"name\": \"30\", \"showlegend\": true, \"type\": \"scattergl\", \"x\": [-27.497285842895508, -27.497285842895508, -26.566747665405273, -28.812297821044922, -27.060527801513672, -28.56591796875, -26.87732696533203, -27.726238250732422, -28.812297821044922, -27.912124633789062, -28.702537536621094, -26.351484298706055, -27.726238250732422], \"xaxis\": \"x\", \"y\": [-39.10713577270508, -39.10713577270508, -39.587894439697266, -41.947486877441406, -40.18571090698242, -39.50416946411133, -41.38381576538086, -40.85995101928711, -41.947486877441406, -39.99764633178711, -40.34965896606445, -40.638057708740234, -40.85995101928711], \"yaxis\": \"y\"}, {\"customdata\": [[\"['cybercriminals', 'cryptocurrency']\"], [\"['cryptocurrency']\"], [\"['cryptocurrency']\"], [\"['cryptocurrency']\"], [\"['cryptocurrency']\"]], \"hovertemplate\": \"<b>%{hovertext}</b><br><br>labels=89<br>tsne_x=%{x}<br>tsne_y=%{y}<br>hashtags=%{customdata[0]}<extra></extra>\", \"hovertext\": [\"joetidy\", \"_lucyingham\", \"mshannahmurphy\", \"mshannahmurphy\", \"jesscahaworth\"], \"legendgroup\": \"89\", \"marker\": {\"color\": \"rgb(57, 105, 172)\", \"symbol\": \"circle\"}, \"mode\": \"markers\", \"name\": \"89\", \"showlegend\": true, \"type\": \"scattergl\", \"x\": [4.071681976318359, 4.298724174499512, 3.4465224742889404, 3.500365972518921, 3.936610698699951], \"xaxis\": \"x\", \"y\": [-66.71296691894531, -66.16622924804688, -66.04305267333984, -66.55427551269531, -65.80140686035156], \"yaxis\": \"y\"}, {\"customdata\": [[\"['digitalelection']\"], [\"['digitalelection', 'ge2019']\"], [\"['digitalelection']\"], [\"['ge2019', 'digitalelection']\"], [\"['digitalelection']\"], [\"['digitalelection']\"], [\"['digitalelection']\"], [\"['digitalelection']\"], [\"['digitalelection', 'ge2019']\"], [\"['digitalelection', 'ge2019']\"], [\"['digitalelection']\"], [\"['ge2019', 'digitalelection']\"], [\"['digitalelection']\"], [\"['maureenlipman', 'digitalelection']\"], [\"['digitalelection']\"], [\"['digitalelection']\"], [\"['digitalelection']\"], [\"['digitalelection']\"], [\"['digitalelection']\"], [\"['digitalelection']\"], [\"['digitalelection']\"], [\"['digitalelection']\"], [\"['digitalelection', 'ge2019']\"], [\"['digitalelection']\"], [\"['digitalelection']\"], [\"['ge2019', 'digitalelection']\"], [\"['digitalelection']\"], [\"['ge2019', 'digitalelection']\"], [\"['digitalelection']\"], [\"['digitalelection']\"], [\"['digitalelection']\"], [\"['digitalelection']\"], [\"['digitalelection']\"], [\"['digitalelection']\"], [\"['digitalelection']\"], [\"['digitalelection']\"], [\"['digitalelection']\"], [\"['digitalelection']\"], [\"['ge2019', 'digitalelection']\"], [\"['digitalelection']\"], [\"['digitalelection']\"], [\"['digitalelection']\"], [\"['ge2019', 'digitalelection']\"]], \"hovertemplate\": \"<b>%{hovertext}</b><br><br>labels=5<br>tsne_x=%{x}<br>tsne_y=%{y}<br>hashtags=%{customdata[0]}<extra></extra>\", \"hovertext\": [\"joetidy\", \"joetidy\", \"joetidy\", \"joetidy\", \"joetidy\", \"joetidy\", \"joetidy\", \"joetidy\", \"joetidy\", \"joetidy\", \"joetidy\", \"joetidy\", \"joetidy\", \"joetidy\", \"joetidy\", \"joetidy\", \"joetidy\", \"joetidy\", \"joetidy\", \"joetidy\", \"joetidy\", \"joetidy\", \"joetidy\", \"joetidy\", \"joetidy\", \"joetidy\", \"joetidy\", \"joetidy\", \"joetidy\", \"joetidy\", \"joetidy\", \"joetidy\", \"joetidy\", \"joetidy\", \"joetidy\", \"joetidy\", \"joetidy\", \"joetidy\", \"joetidy\", \"joetidy\", \"joetidy\", \"joetidy\", \"joetidy\"], \"legendgroup\": \"5\", \"marker\": {\"color\": \"rgb(242, 183, 1)\", \"symbol\": \"circle\"}, \"mode\": \"markers\", \"name\": \"5\", \"showlegend\": true, \"type\": \"scattergl\", \"x\": [-99.32220458984375, -91.9041519165039, -95.23809051513672, -91.9041519165039, -95.3199234008789, -94.04471588134766, -96.2739486694336, -99.43573760986328, -91.6302719116211, -91.9041519165039, -94.9317855834961, -91.6302719116211, -97.62397003173828, -98.65911865234375, -96.30846405029297, -96.78388214111328, -97.67195892333984, -96.78388214111328, -96.78388214111328, -96.44671630859375, -95.00392150878906, -98.40859985351562, -90.76338958740234, -98.9443588256836, -97.67195892333984, -90.76338958740234, -96.78388214111328, -90.75492095947266, -96.78388214111328, -96.30846405029297, -97.27691650390625, -98.13162994384766, -94.22532653808594, -96.78388214111328, -95.15068817138672, -98.5893325805664, -96.78388214111328, -95.15068817138672, -92.66214752197266, -96.78388214111328, -96.78388214111328, -96.78388214111328, -92.66214752197266], \"xaxis\": \"x\", \"y\": [-36.80320739746094, -41.781402587890625, -38.1318244934082, -41.781402587890625, -34.722412109375, -36.34922409057617, -37.54495620727539, -35.47105026245117, -43.382625579833984, -41.781402587890625, -35.69635009765625, -43.382625579833984, -38.45396423339844, -37.85945510864258, -33.7237434387207, -35.781280517578125, -33.8520622253418, -35.781280517578125, -35.781280517578125, -38.5125732421875, -33.78935241699219, -35.03324890136719, -42.622169494628906, -34.20619583129883, -33.8520622253418, -42.622169494628906, -35.781280517578125, -41.51078796386719, -35.781280517578125, -33.7237434387207, -37.542274475097656, -37.02621078491211, -34.93800354003906, -35.781280517578125, -36.93788146972656, -36.10224533081055, -35.781280517578125, -36.93788146972656, -42.777183532714844, -35.781280517578125, -35.781280517578125, -35.781280517578125, -42.777183532714844], \"yaxis\": \"y\"}, {\"customdata\": [[\"['stalkerware', 'spy', 'phone', 'fintech', 'cybersecurity']\"], [\"['fintech', 'remoteworking']\"], [\"['fintech', 'openbanking']\"], [\"['fintech', 'remoteworking']\"], [\"['fintech', 'openbanking']\"], [\"['fintech']\"], [\"['fintech', 'finfail']\"], [\"['fintech']\"], [\"['fintech', 'finfail']\"], [\"['fintech', 'coronavirus']\"], [\"['fintech', 'startups', 'funding']\"], [\"['fintech', 'psd2']\"], [\"['fintech']\"], [\"['fintech']\"], [\"['fintech']\"], [\"['fintech']\"], [\"['fintech']\"], [\"['fintech']\"], [\"['fintech']\"], [\"['fintech']\"], [\"['fintech', 'socialpurpose']\"], [\"['brexit', 'fintech']\"], [\"['blockchain', 'fintech']\"], [\"['fidor', 'bpce', 'bank', 'fintech']\"], [\"['remittance', 'financialinclusion', 'aid', 'fintech', 'ferg']\"], [\"['fintech', 'mergers']\"], [\"['seacon', 'fintech']\"], [\"['fintech', 'journoproblems']\"], [\"['fintech', 'ico']\"], [\"['fintech']\"], [\"['sandbox', 'fintech']\"], [\"['fintech']\"], [\"['fintech', 'fintechintel']\"], [\"['ftbanking', 'fintech']\"], [\"['mpesa', 'fintech', 'payments']\"], [\"['fintech', 'payments']\"], [\"['fintech', 'telegraphfft']\"], [\"['china', 'fintech', 'alipay', 'wechatpay']\"], [\"['fintech']\"], [\"['fintech']\"], [\"['banking', 'fintech', 'psd2']\"], [\"['money2020eu', 'fintech']\"], [\"['fintech']\"], [\"['fintech']\"], [\"['fintech', 'chatbot']\"], [\"['london', 'crypto', 'fintech', 'blockchain']\"], [\"['fintech', 'crypto', 'cryptonews']\"]], \"hovertemplate\": \"<b>%{hovertext}</b><br><br>labels=4<br>tsne_x=%{x}<br>tsne_y=%{y}<br>hashtags=%{customdata[0]}<extra></extra>\", \"hovertext\": [\"joetidy\", \"_lucyingham\", \"_lucyingham\", \"_lucyingham\", \"_lucyingham\", \"sophiafurber\", \"sophiafurber\", \"sophiafurber\", \"sophiafurber\", \"sophiafurber\", \"sophiafurber\", \"sophiafurber\", \"sophiafurber\", \"sophiafurber\", \"sophiafurber\", \"sophiafurber\", \"sophiafurber\", \"sophiafurber\", \"sophiafurber\", \"sophiafurber\", \"sophiafurber\", \"sophiafurber\", \"sophiafurber\", \"sophiafurber\", \"sophiafurber\", \"sophiafurber\", \"sophiafurber\", \"sophiafurber\", \"sophiafurber\", \"sophiafurber\", \"sophiafurber\", \"sophiafurber\", \"sophiafurber\", \"sophiafurber\", \"sophiafurber\", \"sophiafurber\", \"sophiafurber\", \"sophiafurber\", \"sophiafurber\", \"sophiafurber\", \"sophiafurber\", \"sophiafurber\", \"sophiafurber\", \"sophiafurber\", \"sophiafurber\", \"mshannahmurphy\", \"mshannahmurphy\"], \"legendgroup\": \"4\", \"marker\": {\"color\": \"rgb(231, 63, 116)\", \"symbol\": \"circle\"}, \"mode\": \"markers\", \"name\": \"4\", \"showlegend\": true, \"type\": \"scattergl\", \"x\": [-9.442235946655273, -17.734880447387695, -14.676589965820312, -17.734880447387695, -14.676589965820312, -14.0789155960083, -11.229018211364746, -13.447834968566895, -10.477147102355957, 36.13960266113281, -15.570584297180176, -13.878684997558594, -12.485068321228027, -15.078675270080566, -12.45998764038086, -14.0789155960083, -13.724416732788086, -13.724416732788086, -14.468628883361816, -15.114014625549316, -11.224647521972656, -48.0869255065918, -10.114997863769531, -14.647111892700195, -12.375264167785645, -12.160310745239258, -12.845900535583496, -10.94225788116455, -11.0617094039917, -13.714879989624023, -11.700578689575195, -13.724416732788086, -12.037102699279785, -15.488648414611816, -9.821276664733887, -10.070959091186523, -11.195892333984375, -13.2581205368042, -12.45998764038086, -12.45998764038086, -12.797557830810547, -8.032645225524902, -12.45998764038086, -12.45998764038086, -13.17652702331543, -9.009413719177246, -7.429265975952148], \"xaxis\": \"x\", \"y\": [-105.09798431396484, -102.97815704345703, -106.74373626708984, -102.97815704345703, -106.74373626708984, -101.32244873046875, -100.67608642578125, -100.49529266357422, -103.07522583007812, -119.0467300415039, -100.6829833984375, -105.00553131103516, -103.1173324584961, -102.71610260009766, -101.61898803710938, -101.32244873046875, -102.68829345703125, -102.68829345703125, -100.18968963623047, -101.77082061767578, -103.80875396728516, -88.17282104492188, -97.81881713867188, -103.85028839111328, -98.97654724121094, -104.04613494873047, -99.97870635986328, -101.4763412475586, -102.30424499511719, -99.41057586669922, -102.90414428710938, -102.68829345703125, -100.19868469238281, -98.29495239257812, -101.94060516357422, -100.66876983642578, -99.7167739868164, -96.53591918945312, -101.61898803710938, -101.61898803710938, -105.51392364501953, -101.5405502319336, -101.61898803710938, -101.61898803710938, -103.80814361572266, -97.03350067138672, -97.4396743774414], \"yaxis\": \"y\"}, {\"customdata\": [[\"['bbc', 'london']\"], [\"['crypto']\"], [\"['london', 'fintechweek', 'london', 'fintech', 'ftw17', 'brexit']\"], [\"['london', 'drinking']\"], [\"['london']\"], [\"['crypto', 'defi']\"], [\"['crypto']\"], [\"['crypto', 'cfds']\"], [\"['crypto', 'eco']\"], [\"['crypto', 'cryptonews']\"]], \"hovertemplate\": \"<b>%{hovertext}</b><br><br>labels=47<br>tsne_x=%{x}<br>tsne_y=%{y}<br>hashtags=%{customdata[0]}<extra></extra>\", \"hovertext\": [\"joetidy\", \"sophiafurber\", \"sophiafurber\", \"sophiafurber\", \"sophiafurber\", \"mshannahmurphy\", \"mshannahmurphy\", \"mshannahmurphy\", \"mshannahmurphy\", \"mshannahmurphy\"], \"legendgroup\": \"47\", \"marker\": {\"color\": \"rgb(128, 186, 90)\", \"symbol\": \"circle\"}, \"mode\": \"markers\", \"name\": \"47\", \"showlegend\": true, \"type\": \"scattergl\", \"x\": [-28.703584671020508, 4.6343092918396, -29.526182174682617, -28.664165496826172, -28.57762908935547, 5.273768901824951, 5.049354076385498, 6.401647090911865, 5.273768901824951, 4.6779866218566895], \"xaxis\": \"x\", \"y\": [-68.25482177734375, -86.03424072265625, -69.58047485351562, -68.17704772949219, -67.9960708618164, -86.4745864868164, -85.8003921508789, -85.71646881103516, -86.4745864868164, -86.86618041992188], \"yaxis\": \"y\"}, {\"customdata\": [[\"['fortniteworldcup']\"], [\"['fortniteworldcup']\"], [\"['fortniteworldcup']\"], [\"['fortniteworldcup']\"], [\"['fortniteworldcup']\"], [\"['fortniteworldcup']\"], [\"['fortniteworldcup']\"], [\"['fortniteworldcup']\"], [\"['fortniteworldcup']\"], [\"['fortniteworldcup']\"], [\"['fortniteworldcup']\"], [\"['fortniteworldcup']\"], [\"['fortniteworldcup']\"], [\"['fortniteworldcup']\"], [\"['fortniteworldcup']\"], [\"['fortniteworldcup']\"], [\"['fortniteworldcup']\"], [\"['fortniteworldcup']\"], [\"['fortniteworldcup']\"], [\"['fortniteworldcup']\"], [\"['fortniteworldcup']\"], [\"['fortniteworldcup']\"], [\"['fortniteworldcup']\"], [\"['fortniteworldcup']\"], [\"['fortniteworldcup']\"], [\"['fortniteworldcup']\"], [\"['fortniteworldcup']\"], [\"['fortniteworldcup']\"], [\"['fortniteworldcup']\"], [\"['fortniteworldcup']\"], [\"['fortniteworldcup']\"], [\"['fortniteworldcup']\"], [\"['fortniteworldcup']\"]], \"hovertemplate\": \"<b>%{hovertext}</b><br><br>labels=11<br>tsne_x=%{x}<br>tsne_y=%{y}<br>hashtags=%{customdata[0]}<extra></extra>\", \"hovertext\": [\"joetidy\", \"joetidy\", \"joetidy\", \"joetidy\", \"joetidy\", \"joetidy\", \"joetidy\", \"joetidy\", \"joetidy\", \"joetidy\", \"joetidy\", \"joetidy\", \"joetidy\", \"joetidy\", \"joetidy\", \"joetidy\", \"joetidy\", \"joetidy\", \"joetidy\", \"joetidy\", \"joetidy\", \"joetidy\", \"joetidy\", \"joetidy\", \"joetidy\", \"joetidy\", \"joetidy\", \"joetidy\", \"joetidy\", \"joetidy\", \"joetidy\", \"joetidy\", \"joetidy\"], \"legendgroup\": \"11\", \"marker\": {\"color\": \"rgb(230, 131, 16)\", \"symbol\": \"circle\"}, \"mode\": \"markers\", \"name\": \"11\", \"showlegend\": true, \"type\": \"scattergl\", \"x\": [-104.70923614501953, -102.37008666992188, -103.61407470703125, -101.27473449707031, -102.046142578125, -103.2069091796875, -103.2069091796875, -100.47272491455078, -102.046142578125, -103.3711929321289, -102.81654357910156, -100.90658569335938, -100.12010955810547, -101.63459014892578, -100.90658569335938, -102.046142578125, -100.47272491455078, -103.49090576171875, -104.8300552368164, -103.51686096191406, -100.47272491455078, -104.70923614501953, -101.63459014892578, -104.8300552368164, -101.34017181396484, -103.49090576171875, -103.49090576171875, -102.17800903320312, -101.63459014892578, -103.3711929321289, -104.50892639160156, -99.59944152832031, -102.17800903320312], \"xaxis\": \"x\", \"y\": [39.60858917236328, 42.606689453125, 39.136329650878906, 41.95433807373047, 39.853633880615234, 37.82969665527344, 37.82969665527344, 39.307830810546875, 39.853633880615234, 40.23908615112305, 38.98070526123047, 40.79747009277344, 41.860172271728516, 38.15157699584961, 40.79747009277344, 39.853633880615234, 39.307830810546875, 41.649208068847656, 41.033836364746094, 43.02143859863281, 39.307830810546875, 39.60858917236328, 38.15157699584961, 41.033836364746094, 42.91730499267578, 41.649208068847656, 41.649208068847656, 41.22987365722656, 38.15157699584961, 40.23908615112305, 38.2945671081543, 40.55397033691406, 41.22987365722656], \"yaxis\": \"y\"}, {\"customdata\": [[\"['fortniteworldcup2019']\"], [\"['fortniteworldcup2019']\"], [\"['fortniteworldcup2019']\"], [\"['fortniteworldcup2019']\"], [\"['fortniteworldcup2019']\"], [\"['fortniteworldcup2019']\"], [\"['fortniteworldcup2019']\"], [\"['fortniteworldcup2019']\"], [\"['fortniteworldcup2019']\"], [\"['fortniteworldcup2019']\"]], \"hovertemplate\": \"<b>%{hovertext}</b><br><br>labels=66<br>tsne_x=%{x}<br>tsne_y=%{y}<br>hashtags=%{customdata[0]}<extra></extra>\", \"hovertext\": [\"joetidy\", \"joetidy\", \"joetidy\", \"joetidy\", \"joetidy\", \"joetidy\", \"joetidy\", \"joetidy\", \"joetidy\", \"joetidy\"], \"legendgroup\": \"66\", \"marker\": {\"color\": \"rgb(0, 134, 149)\", \"symbol\": \"circle\"}, \"mode\": \"markers\", \"name\": \"66\", \"showlegend\": true, \"type\": \"scattergl\", \"x\": [63.746795654296875, 63.746795654296875, 63.746795654296875, 63.746795654296875, 63.746795654296875, 63.746795654296875, 62.51681900024414, 63.746795654296875, 63.746795654296875, 63.746795654296875], \"xaxis\": \"x\", \"y\": [6.153532028198242, 6.153532028198242, 6.153532028198242, 6.153532028198242, 6.153532028198242, 6.153532028198242, 5.612624645233154, 6.153532028198242, 6.153532028198242, 6.153532028198242], \"yaxis\": \"y\"}, {\"customdata\": [[\"['infosec']\"], [\"['infosec']\"], [\"['infosec']\"], [\"['infosec']\"], [\"['efail', 'infosec']\"], [\"['infosec']\"]], \"hovertemplate\": \"<b>%{hovertext}</b><br><br>labels=82<br>tsne_x=%{x}<br>tsne_y=%{y}<br>hashtags=%{customdata[0]}<extra></extra>\", \"hovertext\": [\"joetidy\", \"dannyjpalmer\", \"dannyjpalmer\", \"jesscahaworth\", \"jesscahaworth\", \"ad_nauseum74\"], \"legendgroup\": \"82\", \"marker\": {\"color\": \"rgb(207, 28, 144)\", \"symbol\": \"circle\"}, \"mode\": \"markers\", \"name\": \"82\", \"showlegend\": true, \"type\": \"scattergl\", \"x\": [43.44767761230469, 42.98460388183594, 43.94197082519531, 43.05899429321289, 44.0958137512207, 43.56263732910156], \"xaxis\": \"x\", \"y\": [-64.82371520996094, -65.16065216064453, -65.05599975585938, -65.72846221923828, -65.64359283447266, -65.93798065185547], \"yaxis\": \"y\"}, {\"customdata\": [[\"['scrollfreeseptember']\"], [\"['scrollfreeseptember']\"], [\"['scrollfreeseptember']\"], [\"['scrollfreeseptember']\"], [\"['scrollfreeseptember']\"], [\"['scrollfreeseptember']\"], [\"['scrollfreeseptember']\"], [\"['scrollfreeseptember']\"], [\"['scrollfreeseptember']\"], [\"['instagram', 'machinelearning', 'scrollfreeseptember']\"], [\"['scrollfreeseptember']\"], [\"['scrollfreeseptember']\"], [\"['scrollfreeseptember']\"], [\"['scrollfreeseptember']\"], [\"['scrollfreeseptember']\"], [\"['scrollfreeseptember']\"], [\"['scrollfreeseptember']\"], [\"['scrollfreeseptember']\"], [\"['scrollfreeseptember']\"]], \"hovertemplate\": \"<b>%{hovertext}</b><br><br>labels=19<br>tsne_x=%{x}<br>tsne_y=%{y}<br>hashtags=%{customdata[0]}<extra></extra>\", \"hovertext\": [\"joetidy\", \"joetidy\", \"joetidy\", \"joetidy\", \"joetidy\", \"joetidy\", \"joetidy\", \"joetidy\", \"joetidy\", \"joetidy\", \"joetidy\", \"joetidy\", \"joetidy\", \"joetidy\", \"joetidy\", \"joetidy\", \"joetidy\", \"joetidy\", \"joetidy\"], \"legendgroup\": \"19\", \"marker\": {\"color\": \"rgb(249, 123, 114)\", \"symbol\": \"circle\"}, \"mode\": \"markers\", \"name\": \"19\", \"showlegend\": true, \"type\": \"scattergl\", \"x\": [60.60606384277344, 60.69187927246094, 60.60606384277344, 59.38969039916992, 59.04075241088867, 59.04075241088867, 59.886600494384766, 59.38969039916992, 57.94922637939453, 60.5601806640625, 59.04075241088867, 57.94922637939453, 60.60606384277344, 60.60606384277344, 58.9786376953125, 59.04075241088867, 59.04075241088867, 60.69187927246094, 58.274383544921875], \"xaxis\": \"x\", \"y\": [24.381607055664062, 25.81121826171875, 24.381607055664062, 25.427366256713867, 23.94817352294922, 23.94817352294922, 26.566560745239258, 25.427366256713867, 24.968793869018555, 21.582778930664062, 23.94817352294922, 24.968793869018555, 24.381607055664062, 24.381607055664062, 26.483299255371094, 23.94817352294922, 23.94817352294922, 25.81121826171875, 25.991609573364258], \"yaxis\": \"y\"}, {\"customdata\": [[\"['pretinquest']\"], [\"['pretinquest']\"], [\"['pretinquest']\"], [\"['pretinquest']\"], [\"['pretinquest']\"], [\"['pretinquest']\"], [\"['pretinquest']\"], [\"['pretinquest']\"], [\"['pretinquest']\"], [\"['pretinquest']\"]], \"hovertemplate\": \"<b>%{hovertext}</b><br><br>labels=65<br>tsne_x=%{x}<br>tsne_y=%{y}<br>hashtags=%{customdata[0]}<extra></extra>\", \"hovertext\": [\"joetidy\", \"joetidy\", \"joetidy\", \"joetidy\", \"joetidy\", \"joetidy\", \"joetidy\", \"joetidy\", \"joetidy\", \"joetidy\"], \"legendgroup\": \"65\", \"marker\": {\"color\": \"rgb(165, 170, 153)\", \"symbol\": \"circle\"}, \"mode\": \"markers\", \"name\": \"65\", \"showlegend\": true, \"type\": \"scattergl\", \"x\": [5.04561185836792, 4.931830883026123, 3.7772862911224365, 4.931830883026123, 3.7772862911224365, 4.931830883026123, 3.7772862911224365, 5.04561185836792, 4.136810779571533, 3.7772862911224365], \"xaxis\": \"x\", \"y\": [-39.616920471191406, -40.81992721557617, -40.27189636230469, -40.81992721557617, -40.27189636230469, -40.81992721557617, -40.27189636230469, -39.616920471191406, -39.15522003173828, -40.27189636230469], \"yaxis\": \"y\"}, {\"customdata\": [[\"['instagram', 'machinelearning', 'anorexia']\"], [\"['machinelearning', 'species18']\"], [\"['artificialinteligence', 'machinelearning', 'cybersecurity']\"], [\"['artificialinteligence', 'machinelearning', 'cybersecurity']\"]], \"hovertemplate\": \"<b>%{hovertext}</b><br><br>labels=75<br>tsne_x=%{x}<br>tsne_y=%{y}<br>hashtags=%{customdata[0]}<extra></extra>\", \"hovertext\": [\"joetidy\", \"_lucyingham\", \"ad_nauseum74\", \"ad_nauseum74\"], \"legendgroup\": \"75\", \"marker\": {\"color\": \"rgb(127, 60, 141)\", \"symbol\": \"circle\"}, \"mode\": \"markers\", \"name\": \"75\", \"showlegend\": true, \"type\": \"scattergl\", \"x\": [65.08550262451172, 65.08201599121094, 92.12530517578125, 92.12530517578125], \"xaxis\": \"x\", \"y\": [-17.606552124023438, -17.6084041595459, -56.92524337768555, -56.92524337768555], \"yaxis\": \"y\"}, {\"customdata\": [[\"['journalistsforbelarus', 'journorequest']\"], [\"['facialrecognition', 'georgefloyd', 'blacklivesmatter', 'journorequest']\"], [\"['journalistsforbelarus', 'journorequest']\"], [\"['facialrecognition', 'georgefloyd', 'blacklivesmatter', 'journorequest']\"], [\"['journorequest']\"], [\"['journorequest']\"], [\"['journorequest']\"], [\"['journorequest']\"], [\"['journorequest']\"], [\"['journorequest']\"], [\"['journorequest']\"], [\"['journorequest']\"], [\"['journorequest']\"], [\"['journorequest']\"], [\"['journorequest']\"], [\"['journorequest']\"], [\"['journorequest']\"], [\"['journorequest']\"], [\"['journorequest']\"], [\"['journorequest']\"], [\"['journorequest']\"], [\"['journorequest']\"], [\"['journorequest']\"], [\"['journorequest']\"], [\"['journorequest']\"], [\"['journorequest']\"], [\"['journorequest']\"], [\"['journorequest']\"], [\"['journorequest']\"], [\"['journorequest']\"], [\"['journorequest']\"], [\"['journorequest']\"], [\"['journorequest']\"], [\"['journojobs', 'journorequest', 'journalism']\"], [\"['journojobs', 'journorequest', 'journalism']\"], [\"['cybersecurity', 'journorequest', 'prrequest', 'business']\"], [\"['cybersecurity', 'internationalwomensday', 'journorequest', 'websecurity', 'business']\"], [\"['cybersecurity', 'railways', 'journorequest', 'trains', 'pr']\"]], \"hovertemplate\": \"<b>%{hovertext}</b><br><br>labels=7<br>tsne_x=%{x}<br>tsne_y=%{y}<br>hashtags=%{customdata[0]}<extra></extra>\", \"hovertext\": [\"_lucyingham\", \"_lucyingham\", \"_lucyingham\", \"_lucyingham\", \"_lucyingham\", \"_lucyingham\", \"scfgallagher\", \"scfgallagher\", \"scfgallagher\", \"scfgallagher\", \"scfgallagher\", \"scfgallagher\", \"scfgallagher\", \"scfgallagher\", \"scfgallagher\", \"scfgallagher\", \"scfgallagher\", \"scfgallagher\", \"scfgallagher\", \"scfgallagher\", \"scfgallagher\", \"scfgallagher\", \"scfgallagher\", \"scfgallagher\", \"scfgallagher\", \"scfgallagher\", \"scfgallagher\", \"scfgallagher\", \"scfgallagher\", \"scfgallagher\", \"scfgallagher\", \"scfgallagher\", \"scfgallagher\", \"jesscahaworth\", \"jesscahaworth\", \"jesscahaworth\", \"jesscahaworth\", \"jesscahaworth\"], \"legendgroup\": \"7\", \"marker\": {\"color\": \"rgb(17, 165, 121)\", \"symbol\": \"circle\"}, \"mode\": \"markers\", \"name\": \"7\", \"showlegend\": true, \"type\": \"scattergl\", \"x\": [81.37992858886719, 81.84215545654297, 82.06985473632812, 81.84215545654297, 81.246337890625, 83.3631362915039, 84.99179077148438, 84.27472686767578, 82.43648529052734, 81.71817016601562, 84.25352478027344, 83.08119201660156, 83.66875457763672, 86.6263656616211, 83.56721496582031, 84.96651458740234, 83.56721496582031, 84.27472686767578, 84.70280456542969, 84.70280456542969, 85.87151336669922, 84.70280456542969, 83.08119201660156, 86.33393096923828, 84.99179077148438, 83.56721496582031, 82.33513641357422, 85.46525573730469, 83.06653594970703, 85.46525573730469, 86.09954071044922, 82.43648529052734, 83.08119201660156, 77.41002655029297, 77.41002655029297, 85.66156768798828, 85.81697845458984, 85.5628890991211], \"xaxis\": \"x\", \"y\": [-27.877851486206055, -22.08770179748535, -26.68094253540039, -22.08769989013672, -29.086332321166992, -29.376483917236328, -27.832408905029297, -29.13999366760254, -28.977481842041016, -30.19696044921875, -26.913022994995117, -30.589384078979492, -25.991025924682617, -29.025569915771484, -27.999143600463867, -26.248249053955078, -27.999143600463867, -29.13999366760254, -30.553659439086914, -30.553659439086914, -26.916608810424805, -30.553659439086914, -30.589384078979492, -27.90475082397461, -27.832408905029297, -27.999143600463867, -27.745555877685547, -29.054479598999023, -26.779556274414062, -29.054479598999023, -30.236982345581055, -28.977481842041016, -30.589384078979492, -26.364294052124023, -26.364294052124023, -35.51826095581055, -36.327293395996094, -35.017086029052734], \"yaxis\": \"y\"}, {\"customdata\": [[\"['covid_19', 'covidiots', 'coviduk', 'chooselies']\"], [\"['covid_19', 'covidiots', 'coviduk', 'chooselies']\"]], \"hovertemplate\": \"<b>%{hovertext}</b><br><br>labels=95<br>tsne_x=%{x}<br>tsne_y=%{y}<br>hashtags=%{customdata[0]}<extra></extra>\", \"hovertext\": [\"_lucyingham\", \"_lucyingham\"], \"legendgroup\": \"95\", \"marker\": {\"color\": \"rgb(57, 105, 172)\", \"symbol\": \"circle\"}, \"mode\": \"markers\", \"name\": \"95\", \"showlegend\": true, \"type\": \"scattergl\", \"x\": [30.568538665771484, 30.568538665771484], \"xaxis\": \"x\", \"y\": [-42.194061279296875, -42.194061279296875], \"yaxis\": \"y\"}, {\"customdata\": [[\"['remoteworking']\"], [\"['remoteworking']\"], [\"['remoteworking']\"], [\"['remoteworking']\"], [\"['remoteworking']\"], [\"['remoteworking', 'lookslikeanipadonasegway']\"]], \"hovertemplate\": \"<b>%{hovertext}</b><br><br>labels=96<br>tsne_x=%{x}<br>tsne_y=%{y}<br>hashtags=%{customdata[0]}<extra></extra>\", \"hovertext\": [\"_lucyingham\", \"_lucyingham\", \"_lucyingham\", \"_lucyingham\", \"_lucyingham\", \"mshannahmurphy\"], \"legendgroup\": \"96\", \"marker\": {\"color\": \"rgb(242, 183, 1)\", \"symbol\": \"circle\"}, \"mode\": \"markers\", \"name\": \"96\", \"showlegend\": true, \"type\": \"scattergl\", \"x\": [7.733031749725342, 8.722587585449219, 7.974689960479736, 8.564684867858887, 7.733031749725342, 8.33575439453125], \"xaxis\": \"x\", \"y\": [-56.4544792175293, -56.446067810058594, -55.745113372802734, -55.9160270690918, -56.4544792175293, -56.977474212646484], \"yaxis\": \"y\"}, {\"customdata\": [[\"['journalism']\"], [\"['journalism']\"], [\"['journalism']\"], [\"['journalism', 'stoptedcruz', 'verdict', 'journorequests']\"], [\"['journalism']\"], [\"['journojobs']\"], [\"['journojobs']\"], [\"['journojobs']\"], [\"['journojobs']\"], [\"['journojobs']\"], [\"['journalism', 'neverendingstory']\"]], \"hovertemplate\": \"<b>%{hovertext}</b><br><br>labels=67<br>tsne_x=%{x}<br>tsne_y=%{y}<br>hashtags=%{customdata[0]}<extra></extra>\", \"hovertext\": [\"_lucyingham\", \"_lucyingham\", \"_lucyingham\", \"_lucyingham\", \"_lucyingham\", \"_lucyingham\", \"_lucyingham\", \"_lucyingham\", \"_lucyingham\", \"_lucyingham\", \"sophiafurber\"], \"legendgroup\": \"67\", \"marker\": {\"color\": \"rgb(231, 63, 116)\", \"symbol\": \"circle\"}, \"mode\": \"markers\", \"name\": \"67\", \"showlegend\": true, \"type\": \"scattergl\", \"x\": [42.31447219848633, 42.31447219848633, 42.31447219848633, 43.739566802978516, 42.31447219848633, 40.40398406982422, 40.40398406982422, 40.40398406982422, 40.40398406982422, 40.40398406982422, 42.540008544921875], \"xaxis\": \"x\", \"y\": [-5.98772668838501, -5.98772668838501, -5.98772668838501, -5.271895408630371, -5.98772668838501, -5.847469329833984, -5.847469329833984, -5.847469329833984, -5.847469329833984, -5.847469329833984, -4.884261608123779], \"yaxis\": \"y\"}, {\"customdata\": [[\"['libreplanet2020']\"], [\"['libreplanet2020']\"], [\"['libreplanet2020', 'gnu']\"], [\"['libreplanet2020']\"], [\"['libreplanet2020']\"], [\"['libreplanet2020']\"], [\"['libreplanet2020', 'gnu']\"], [\"['libreplanet2020']\"], [\"['libreplanet2020']\"], [\"['libreplanet2020']\"]], \"hovertemplate\": \"<b>%{hovertext}</b><br><br>labels=51<br>tsne_x=%{x}<br>tsne_y=%{y}<br>hashtags=%{customdata[0]}<extra></extra>\", \"hovertext\": [\"_lucyingham\", \"_lucyingham\", \"_lucyingham\", \"_lucyingham\", \"_lucyingham\", \"_lucyingham\", \"_lucyingham\", \"_lucyingham\", \"_lucyingham\", \"_lucyingham\"], \"legendgroup\": \"51\", \"marker\": {\"color\": \"rgb(128, 186, 90)\", \"symbol\": \"circle\"}, \"mode\": \"markers\", \"name\": \"51\", \"showlegend\": true, \"type\": \"scattergl\", \"x\": [-22.472576141357422, -20.90091323852539, -20.92881202697754, -22.165748596191406, -21.766084671020508, -20.90091323852539, -20.92881202697754, -21.53038215637207, -21.921720504760742, -22.633100509643555], \"xaxis\": \"x\", \"y\": [-76.15534210205078, -77.04844665527344, -75.91275024414062, -77.4212417602539, -76.62871551513672, -77.04844665527344, -75.91275024414062, -77.73591613769531, -75.7042465209961, -76.89491271972656], \"yaxis\": \"y\"}, {\"customdata\": [[\"['coronavirus', 'bitcoin', 'bitcoinhalving']\"], [\"['coronavirus', 'bitcoin', 'bitcoinhalving']\"], [\"['crypto', 'bitcoin']\"], [\"['blockchain', 'bitcoin']\"], [\"['bitcoin', 'cryptonews']\"], [\"['crypto', 'bitcoin']\"], [\"['bitcoin']\"], [\"['bitcoin', 'cryptocurrency']\"], [\"['bitcoin']\"], [\"['bitcoin']\"], [\"['bitcoin']\"], [\"['bitcoin']\"], [\"['bitcoin']\"], [\"['bitcoin']\"], [\"['icos', 'initialcoinoffering', 'bitcoin', 'cryptocurrency']\"], [\"['bitcoin', 'buybuybuy', 'gocrypto']\"], [\"['bitcoin', 'cryptocurrencies']\"], [\"['bitcoin', 'greece']\"], [\"['bitcoin', 'bitcoin']\"], [\"['bitcoin', 'cryptocurrency', 'gold']\"], [\"['soundcloud', 'bitcoin']\"], [\"['bitcoin']\"], [\"['silkroad', 'bitcoin']\"], [\"['coinbase', 'bitcoin', 'london']\"], [\"['bitcoin']\"], [\"['blockchain', 'bitcoin']\"], [\"['bitcoin']\"], [\"['bitcoin']\"], [\"['bitcoin', 'budget2015']\"], [\"['bitcoin', 'budget2015']\"], [\"['bitcoin']\"], [\"['blockchain', 'bitcoin']\"], [\"['bitcoin']\"]], \"hovertemplate\": \"<b>%{hovertext}</b><br><br>labels=9<br>tsne_x=%{x}<br>tsne_y=%{y}<br>hashtags=%{customdata[0]}<extra></extra>\", \"hovertext\": [\"_lucyingham\", \"_lucyingham\", \"mshannahmurphy\", \"mshannahmurphy\", \"mshannahmurphy\", \"mshannahmurphy\", \"mshannahmurphy\", \"mshannahmurphy\", \"mshannahmurphy\", \"mshannahmurphy\", \"mshannahmurphy\", \"mshannahmurphy\", \"mshannahmurphy\", \"mshannahmurphy\", \"mshannahmurphy\", \"mshannahmurphy\", \"mshannahmurphy\", \"mshannahmurphy\", \"mshannahmurphy\", \"mshannahmurphy\", \"mshannahmurphy\", \"mshannahmurphy\", \"mshannahmurphy\", \"mshannahmurphy\", \"mshannahmurphy\", \"mshannahmurphy\", \"mshannahmurphy\", \"mshannahmurphy\", \"mshannahmurphy\", \"mshannahmurphy\", \"mshannahmurphy\", \"mshannahmurphy\", \"mshannahmurphy\"], \"legendgroup\": \"9\", \"marker\": {\"color\": \"rgb(230, 131, 16)\", \"symbol\": \"circle\"}, \"mode\": \"markers\", \"name\": \"9\", \"showlegend\": true, \"type\": \"scattergl\", \"x\": [33.5811882019043, 33.5811882019043, 13.738993644714355, 11.931206703186035, 15.464581489562988, 13.738993644714355, 18.241771697998047, 17.936132431030273, 15.286330223083496, 18.241771697998047, 16.85419464111328, 16.35176658630371, 15.286330223083496, 16.85419464111328, 18.028606414794922, 17.92496109008789, 18.540576934814453, 17.71467399597168, 15.654475212097168, 18.218647003173828, 15.423457145690918, 15.286330223083496, 15.423457145690918, 19.94170379638672, 16.85419464111328, 12.084539413452148, 16.85419464111328, 17.22591209411621, 16.62957763671875, 16.62957763671875, 16.85419464111328, 12.084539413452148, 16.85419464111328], \"xaxis\": \"x\", \"y\": [-108.79268646240234, -108.7927017211914, -94.21923065185547, -97.9806137084961, -95.4442138671875, -94.21923065185547, -97.2816162109375, -92.75777435302734, -97.00662231445312, -97.2816162109375, -96.49159240722656, -97.78775024414062, -97.00662231445312, -96.49159240722656, -92.01154327392578, -98.36257934570312, -95.79645538330078, -99.4889144897461, -100.65362548828125, -92.35803985595703, -98.37730407714844, -97.00662231445312, -98.37730407714844, -98.72615051269531, -96.49159240722656, -98.4892578125, -96.49159240722656, -97.89443969726562, -98.78174591064453, -98.78174591064453, -96.49159240722656, -98.4892578125, -96.49159240722656], \"yaxis\": \"y\"}, {\"customdata\": [[\"['dataprotection', 'gdpr']\"], [\"['uber', 'dataprotection']\"]], \"hovertemplate\": \"<b>%{hovertext}</b><br><br>labels=44<br>tsne_x=%{x}<br>tsne_y=%{y}<br>hashtags=%{customdata[0]}<extra></extra>\", \"hovertext\": [\"_lucyingham\", \"jesscahaworth\"], \"legendgroup\": \"44\", \"marker\": {\"color\": \"rgb(0, 134, 149)\", \"symbol\": \"circle\"}, \"mode\": \"markers\", \"name\": \"44\", \"showlegend\": true, \"type\": \"scattergl\", \"x\": [57.05622863769531, 42.89976501464844], \"xaxis\": \"x\", \"y\": [-12.206197738647461, 4.003872394561768], \"yaxis\": \"y\"}, {\"customdata\": [[\"['awssummit']\"], [\"['development', 'serverless', 'awssummit']\"], [\"['encryption', 'cybersecurity', 'awssummit']\"], [\"['cybersecurity', 'awssummit']\"], [\"['awssummit']\"], [\"['awssummit']\"], [\"['machinelearning', 'awssummit']\"], [\"['awssummit']\"], [\"['awssummit']\"], [\"['awssummit']\"], [\"['awssummit']\"], [\"['awssummit']\"], [\"['awssummit']\"], [\"['awssummit']\"]], \"hovertemplate\": \"<b>%{hovertext}</b><br><br>labels=28<br>tsne_x=%{x}<br>tsne_y=%{y}<br>hashtags=%{customdata[0]}<extra></extra>\", \"hovertext\": [\"_lucyingham\", \"_lucyingham\", \"_lucyingham\", \"_lucyingham\", \"_lucyingham\", \"_lucyingham\", \"_lucyingham\", \"_lucyingham\", \"_lucyingham\", \"_lucyingham\", \"_lucyingham\", \"_lucyingham\", \"_lucyingham\", \"_lucyingham\"], \"legendgroup\": \"28\", \"marker\": {\"color\": \"rgb(207, 28, 144)\", \"symbol\": \"circle\"}, \"mode\": \"markers\", \"name\": \"28\", \"showlegend\": true, \"type\": \"scattergl\", \"x\": [53.21144485473633, 53.266056060791016, 83.12486267089844, 83.14226531982422, 53.21144485473633, 53.21144485473633, 54.957740783691406, 53.21144485473633, 53.21144485473633, 53.21144485473633, 54.45458221435547, 54.45458221435547, 53.21144485473633, 53.21144485473633], \"xaxis\": \"x\", \"y\": [-2.524461507797241, -1.0812599658966064, -46.84217834472656, -46.8581657409668, -2.524461507797241, -2.524461507797241, -3.9488444328308105, -2.524461507797241, -2.524461507797241, -2.524461507797241, -1.8454639911651611, -1.8454639911651611, -2.524461507797241, -2.524461507797241], \"yaxis\": \"y\"}, {\"customdata\": [[\"['ff7r']\"], [\"['ff7r']\"], [\"['ff7r']\"], [\"['ff7r']\"], [\"['ff7r']\"], [\"['ff7r']\"], [\"['ff7r']\"], [\"['ff7r']\"], [\"['ff7r']\"], [\"['ff7r']\"], [\"['reddwarf', 'ff7r']\"], [\"['ff7r']\"]], \"hovertemplate\": \"<b>%{hovertext}</b><br><br>labels=42<br>tsne_x=%{x}<br>tsne_y=%{y}<br>hashtags=%{customdata[0]}<extra></extra>\", \"hovertext\": [\"dannyjpalmer\", \"dannyjpalmer\", \"dannyjpalmer\", \"dannyjpalmer\", \"dannyjpalmer\", \"dannyjpalmer\", \"dannyjpalmer\", \"dannyjpalmer\", \"dannyjpalmer\", \"dannyjpalmer\", \"dannyjpalmer\", \"dannyjpalmer\"], \"legendgroup\": \"42\", \"marker\": {\"color\": \"rgb(249, 123, 114)\", \"symbol\": \"circle\"}, \"mode\": \"markers\", \"name\": \"42\", \"showlegend\": true, \"type\": \"scattergl\", \"x\": [-25.56511878967285, -25.56511878967285, -25.56511878967285, -25.56511878967285, -25.56511878967285, -25.56511878967285, -25.56511878967285, -25.56511878967285, -25.56511878967285, -25.56511878967285, -24.636844635009766, -25.56511878967285], \"xaxis\": \"x\", \"y\": [-23.427173614501953, -23.427173614501953, -23.427173614501953, -23.427173614501953, -23.427173614501953, -23.427173614501953, -23.427173614501953, -23.427173614501953, -23.427173614501953, -23.427173614501953, -22.237472534179688, -23.427173614501953], \"yaxis\": \"y\"}, {\"customdata\": [[\"['ecb', 'visa', 'mastercard']\"], [\"['ecb', 'visa', 'mastercard']\"], [\"['ftbanking']\"], [\"['demonetization', 'ftbanking']\"], [\"['ftbanking']\"], [\"['interestrates', 'ecb', 'populism', 'ftbanking']\"], [\"['ftbanking']\"], [\"['ftbanking']\"], [\"['ftbanking']\"], [\"['ftbanking']\"], [\"['ecb']\"]], \"hovertemplate\": \"<b>%{hovertext}</b><br><br>labels=52<br>tsne_x=%{x}<br>tsne_y=%{y}<br>hashtags=%{customdata[0]}<extra></extra>\", \"hovertext\": [\"sophiafurber\", \"sophiafurber\", \"sophiafurber\", \"sophiafurber\", \"sophiafurber\", \"sophiafurber\", \"sophiafurber\", \"sophiafurber\", \"sophiafurber\", \"sophiafurber\", \"mshannahmurphy\"], \"legendgroup\": \"52\", \"marker\": {\"color\": \"rgb(165, 170, 153)\", \"symbol\": \"circle\"}, \"mode\": \"markers\", \"name\": \"52\", \"showlegend\": true, \"type\": \"scattergl\", \"x\": [-2.8188138008117676, -2.818821430206299, -7.059401988983154, -6.173580169677734, -7.437591552734375, -5.026483535766602, -6.370666027069092, -6.370666027069092, -7.311265468597412, -6.764034748077393, -3.336327075958252], \"xaxis\": \"x\", \"y\": [-57.662879943847656, -57.66287612915039, -63.470794677734375, -62.235504150390625, -62.94783020019531, -62.56019592285156, -63.13909912109375, -63.13909912109375, -62.38381576538086, -62.286373138427734, -57.79680633544922], \"yaxis\": \"y\"}, {\"customdata\": [[\"['greece', 'cyprus']\"], [\"['italy', 'accountants', 'lospread']\"], [\"['greece']\"], [\"['portugal', 'wef', 'spain', 'italy']\"], [\"['italy', 'greece', 'turkey']\"], [\"['france', 'italy']\"], [\"['greece']\"], [\"['economist', 'italy']\"], [\"['greece']\"], [\"['italy', 'mafia', 'mafiacapitale']\"]], \"hovertemplate\": \"<b>%{hovertext}</b><br><br>labels=78<br>tsne_x=%{x}<br>tsne_y=%{y}<br>hashtags=%{customdata[0]}<extra></extra>\", \"hovertext\": [\"sophiafurber\", \"sophiafurber\", \"sophiafurber\", \"mshannahmurphy\", \"mshannahmurphy\", \"mshannahmurphy\", \"mshannahmurphy\", \"mshannahmurphy\", \"mshannahmurphy\", \"mshannahmurphy\"], \"legendgroup\": \"78\", \"marker\": {\"color\": \"rgb(127, 60, 141)\", \"symbol\": \"circle\"}, \"mode\": \"markers\", \"name\": \"78\", \"showlegend\": true, \"type\": \"scattergl\", \"x\": [-2.552318811416626, -4.779148101806641, -3.1632609367370605, -5.049871444702148, -4.5902018547058105, -4.308619022369385, -2.656142473220825, -3.811920404434204, -2.656142473220825, -4.067469120025635], \"xaxis\": \"x\", \"y\": [-48.9311408996582, -51.680397033691406, -48.607078552246094, -52.2968635559082, -52.7784309387207, -51.312286376953125, -48.24433898925781, -51.66621398925781, -48.24433898925781, -52.1993293762207], \"yaxis\": \"y\"}, {\"customdata\": [[\"['sibos2019', 'lenditfintech']\"], [\"['ecb', 'sibos2019']\"], [\"['sibos2019']\"], [\"['sibos2019']\"], [\"['sibos2019']\"], [\"['sibos2019']\"], [\"['sibos2019']\"], [\"['sibos2019']\"], [\"['sibos2019']\"]], \"hovertemplate\": \"<b>%{hovertext}</b><br><br>labels=72<br>tsne_x=%{x}<br>tsne_y=%{y}<br>hashtags=%{customdata[0]}<extra></extra>\", \"hovertext\": [\"sophiafurber\", \"sophiafurber\", \"sophiafurber\", \"sophiafurber\", \"sophiafurber\", \"sophiafurber\", \"sophiafurber\", \"sophiafurber\", \"sophiafurber\"], \"legendgroup\": \"72\", \"marker\": {\"color\": \"rgb(17, 165, 121)\", \"symbol\": \"circle\"}, \"mode\": \"markers\", \"name\": \"72\", \"showlegend\": true, \"type\": \"scattergl\", \"x\": [59.549007415771484, 60.21927261352539, 57.82875442504883, 58.26569366455078, 58.8394775390625, 58.8394775390625, 58.26569366455078, 58.8394775390625, 59.081382751464844], \"xaxis\": \"x\", \"y\": [-40.649452209472656, -41.33279800415039, -41.31427001953125, -40.449642181396484, -41.51359558105469, -41.51359558105469, -40.449642181396484, -41.51359558105469, -40.14170837402344], \"yaxis\": \"y\"}, {\"customdata\": [[\"['psd2']\"], [\"['psd2', 'retailbanking']\"], [\"['retailbanking']\"], [\"['retailbanking']\"], [\"['retailbanking']\"], [\"['retailbanking']\"], [\"['retailbanking']\"], [\"['retailbanking']\"], [\"['retailbanking']\"], [\"['retailbanking']\"], [\"['retailbanking']\"], [\"['psd2', 'money2020']\"], [\"['psd2']\"]], \"hovertemplate\": \"<b>%{hovertext}</b><br><br>labels=56<br>tsne_x=%{x}<br>tsne_y=%{y}<br>hashtags=%{customdata[0]}<extra></extra>\", \"hovertext\": [\"sophiafurber\", \"sophiafurber\", \"sophiafurber\", \"sophiafurber\", \"sophiafurber\", \"sophiafurber\", \"sophiafurber\", \"sophiafurber\", \"sophiafurber\", \"sophiafurber\", \"sophiafurber\", \"sophiafurber\", \"sophiafurber\"], \"legendgroup\": \"56\", \"marker\": {\"color\": \"rgb(57, 105, 172)\", \"symbol\": \"circle\"}, \"mode\": \"markers\", \"name\": \"56\", \"showlegend\": true, \"type\": \"scattergl\", \"x\": [7.241376876831055, 39.388240814208984, 39.05973815917969, 40.2922477722168, 40.892669677734375, 39.85714340209961, 39.85714340209961, 40.2922477722168, 40.2922477722168, 39.11033248901367, 40.2922477722168, 8.015619277954102, 7.241376876831055], \"xaxis\": \"x\", \"y\": [-72.43898010253906, -79.41842651367188, -77.52359008789062, -78.23139190673828, -77.26461791992188, -77.02971649169922, -77.02971649169922, -78.23139190673828, -78.23139190673828, -78.2324447631836, -78.23139190673828, -72.80955505371094, -72.43898010253906], \"yaxis\": \"y\"}, {\"customdata\": [[\"['money2020eu', 'dogsoffintech']\"], [\"['money2020eu']\"], [\"['money2020eu']\"], [\"['money2020eu']\"], [\"['money2020eu', 'payments']\"], [\"['money2020eu']\"], [\"['money2020eu']\"], [\"['money2020eu']\"], [\"['money2020eu']\"]], \"hovertemplate\": \"<b>%{hovertext}</b><br><br>labels=61<br>tsne_x=%{x}<br>tsne_y=%{y}<br>hashtags=%{customdata[0]}<extra></extra>\", \"hovertext\": [\"sophiafurber\", \"sophiafurber\", \"sophiafurber\", \"sophiafurber\", \"sophiafurber\", \"sophiafurber\", \"sophiafurber\", \"sophiafurber\", \"sophiafurber\"], \"legendgroup\": \"61\", \"marker\": {\"color\": \"rgb(242, 183, 1)\", \"symbol\": \"circle\"}, \"mode\": \"markers\", \"name\": \"61\", \"showlegend\": true, \"type\": \"scattergl\", \"x\": [15.026787757873535, 14.200483322143555, 15.841181755065918, 14.440718650817871, 14.990457534790039, 15.699150085449219, 15.699150085449219, 15.108026504516602, 14.440718650817871], \"xaxis\": \"x\", \"y\": [-80.38925170898438, -80.47649383544922, -80.56856536865234, -79.5905990600586, -81.08648681640625, -79.66249084472656, -79.66249084472656, -78.95697784423828, -79.5905990600586], \"yaxis\": \"y\"}, {\"customdata\": [[\"['emccee']\"], [\"['emccee']\"], [\"['emccee']\"], [\"['emccee']\"], [\"['emccee']\"], [\"['emccee']\"], [\"['emccee']\"], [\"['emccee']\"], [\"['emccee']\"], [\"['panamapapers']\"], [\"['panamapapers']\"], [\"['panamapapers']\"], [\"['panamapapers']\"], [\"['panamapapers']\"], [\"['panamapapers']\"], [\"['panamapapers']\"], [\"['panamapapers']\"], [\"['panamapapers']\"]], \"hovertemplate\": \"<b>%{hovertext}</b><br><br>labels=80<br>tsne_x=%{x}<br>tsne_y=%{y}<br>hashtags=%{customdata[0]}<extra></extra>\", \"hovertext\": [\"sophiafurber\", \"sophiafurber\", \"sophiafurber\", \"sophiafurber\", \"sophiafurber\", \"sophiafurber\", \"sophiafurber\", \"sophiafurber\", \"sophiafurber\", \"mshannahmurphy\", \"mshannahmurphy\", \"mshannahmurphy\", \"mshannahmurphy\", \"mshannahmurphy\", \"mshannahmurphy\", \"mshannahmurphy\", \"mshannahmurphy\", \"mshannahmurphy\"], \"legendgroup\": \"80\", \"marker\": {\"color\": \"rgb(231, 63, 116)\", \"symbol\": \"circle\"}, \"mode\": \"markers\", \"name\": \"80\", \"showlegend\": true, \"type\": \"scattergl\", \"x\": [12.670991897583008, 12.670991897583008, 12.670991897583008, 12.670991897583008, 12.670991897583008, 12.670991897583008, 12.670991897583008, 12.670991897583008, 12.670991897583008, 54.8694953918457, 54.335357666015625, 54.8694953918457, 55.74671936035156, 56.167320251464844, 55.410030364990234, 55.410030364990234, 54.335357666015625, 55.410030364990234], \"xaxis\": \"x\", \"y\": [-35.21084976196289, -35.21084976196289, -35.21084976196289, -35.21084976196289, -35.21084976196289, -35.21084976196289, -35.21084976196289, -35.21084976196289, -35.21084976196289, -64.01895141601562, -64.94368743896484, -64.01895141601562, -63.98234176635742, -64.60179138183594, -65.28083038330078, -65.28083038330078, -64.94368743896484, -65.28083038330078], \"yaxis\": \"y\"}, {\"customdata\": [[\"['chcity']\"], [\"['shelfie', 'chcity']\"], [\"['chcity']\"], [\"['chcity']\"], [\"['chcity']\"], [\"['chcity']\"], [\"['chcity', 'fintech', 'passporting', 'regulation']\"], [\"['chcity']\"], [\"['chcity']\"], [\"['chcity']\"], [\"['chcity']\"], [\"['chcity']\"], [\"['chcity']\"], [\"['chcity']\"], [\"['chcity']\"], [\"['chcity']\"]], \"hovertemplate\": \"<b>%{hovertext}</b><br><br>labels=18<br>tsne_x=%{x}<br>tsne_y=%{y}<br>hashtags=%{customdata[0]}<extra></extra>\", \"hovertext\": [\"sophiafurber\", \"sophiafurber\", \"sophiafurber\", \"sophiafurber\", \"sophiafurber\", \"sophiafurber\", \"sophiafurber\", \"sophiafurber\", \"sophiafurber\", \"sophiafurber\", \"sophiafurber\", \"sophiafurber\", \"sophiafurber\", \"sophiafurber\", \"sophiafurber\", \"sophiafurber\"], \"legendgroup\": \"18\", \"marker\": {\"color\": \"rgb(128, 186, 90)\", \"symbol\": \"circle\"}, \"mode\": \"markers\", \"name\": \"18\", \"showlegend\": true, \"type\": \"scattergl\", \"x\": [-43.30558776855469, -42.56336212158203, -43.11265563964844, -41.49429702758789, -43.11265563964844, -43.11265563964844, -18.73287010192871, -43.11265563964844, -43.11265563964844, -43.11265563964844, -43.11265563964844, -41.633872985839844, -41.49429702758789, -43.11265563964844, -41.49429702758789, -42.234275817871094], \"xaxis\": \"x\", \"y\": [-69.82697296142578, -72.78666687011719, -71.3481216430664, -70.9437255859375, -71.3481216430664, -71.3481216430664, -98.22809600830078, -71.3481216430664, -71.3481216430664, -71.3481216430664, -71.3481216430664, -72.24726867675781, -70.9437255859375, -71.3481216430664, -70.9437255859375, -69.85822296142578], \"yaxis\": \"y\"}, {\"customdata\": [[\"['mipim']\"], [\"['mipim']\"], [\"['mipim']\"], [\"['mipim']\"], [\"['mipim']\"], [\"['mipim']\"], [\"['mipim', 'realestate']\"], [\"['mipim']\"]], \"hovertemplate\": \"<b>%{hovertext}</b><br><br>labels=92<br>tsne_x=%{x}<br>tsne_y=%{y}<br>hashtags=%{customdata[0]}<extra></extra>\", \"hovertext\": [\"sophiafurber\", \"sophiafurber\", \"sophiafurber\", \"sophiafurber\", \"sophiafurber\", \"sophiafurber\", \"sophiafurber\", \"sophiafurber\"], \"legendgroup\": \"92\", \"marker\": {\"color\": \"rgb(230, 131, 16)\", \"symbol\": \"circle\"}, \"mode\": \"markers\", \"name\": \"92\", \"showlegend\": true, \"type\": \"scattergl\", \"x\": [46.662803649902344, 46.819217681884766, 47.47499084472656, 48.21063232421875, 47.580867767333984, 47.580867767333984, 47.74250793457031, 46.662803649902344], \"xaxis\": \"x\", \"y\": [-57.768836975097656, -58.69206237792969, -58.265865325927734, -58.02383804321289, -57.323219299316406, -57.323219299316406, -58.841251373291016, -57.768836975097656], \"yaxis\": \"y\"}, {\"customdata\": [[\"['emceeforum']\"], [\"['vienna', 'emceeforum', 'hundertwasserhaus']\"], [\"['emceeforum']\"], [\"['emceeforum']\"], [\"['emceeforum']\"], [\"['emceeforum']\"], [\"['emceeforum']\"], [\"['emceeforum']\"], [\"['emceeforum']\"], [\"['emceeforum']\"], [\"['emceeforum']\"]], \"hovertemplate\": \"<b>%{hovertext}</b><br><br>labels=49<br>tsne_x=%{x}<br>tsne_y=%{y}<br>hashtags=%{customdata[0]}<extra></extra>\", \"hovertext\": [\"sophiafurber\", \"sophiafurber\", \"sophiafurber\", \"sophiafurber\", \"sophiafurber\", \"sophiafurber\", \"sophiafurber\", \"sophiafurber\", \"sophiafurber\", \"sophiafurber\", \"sophiafurber\"], \"legendgroup\": \"49\", \"marker\": {\"color\": \"rgb(0, 134, 149)\", \"symbol\": \"circle\"}, \"mode\": \"markers\", \"name\": \"49\", \"showlegend\": true, \"type\": \"scattergl\", \"x\": [-33.054229736328125, -31.97260284423828, -31.64092254638672, -33.054229736328125, -33.054229736328125, -33.054229736328125, -33.054229736328125, -33.054229736328125, -33.054229736328125, -33.054229736328125, -32.347900390625], \"xaxis\": \"x\", \"y\": [-30.135820388793945, -31.129108428955078, -29.917522430419922, -30.135820388793945, -30.135820388793945, -30.135820388793945, -30.135820388793945, -30.135820388793945, -30.135820388793945, -30.135820388793945, -28.95018196105957], \"yaxis\": \"y\"}, {\"customdata\": [[\"['mipimuk']\"], [\"['mipimuk']\"], [\"['mipimuk']\"], [\"['mipimuk']\"], [\"['mipimuk']\"], [\"['mipimuk', 'housingcrisis']\"], [\"['mipimuk']\"], [\"['mipimuk']\"], [\"['mipimuk']\"]], \"hovertemplate\": \"<b>%{hovertext}</b><br><br>labels=76<br>tsne_x=%{x}<br>tsne_y=%{y}<br>hashtags=%{customdata[0]}<extra></extra>\", \"hovertext\": [\"sophiafurber\", \"sophiafurber\", \"sophiafurber\", \"sophiafurber\", \"sophiafurber\", \"sophiafurber\", \"sophiafurber\", \"sophiafurber\", \"sophiafurber\"], \"legendgroup\": \"76\", \"marker\": {\"color\": \"rgb(207, 28, 144)\", \"symbol\": \"circle\"}, \"mode\": \"markers\", \"name\": \"76\", \"showlegend\": true, \"type\": \"scattergl\", \"x\": [13.993193626403809, 14.686812400817871, 13.988295555114746, 13.314125061035156, 14.920489311218262, 15.250636100769043, 14.920489311218262, 13.993193626403809, 13.988295555114746], \"xaxis\": \"x\", \"y\": [-48.1962776184082, -48.58397674560547, -47.01288604736328, -47.67772674560547, -47.282527923583984, -48.08979797363281, -47.282527923583984, -48.1962776184082, -47.01288604736328], \"yaxis\": \"y\"}, {\"customdata\": [[\"['cyberflashing']\"], [\"['cyberflashing']\"], [\"['cyberflashing']\"], [\"['cyberflashing']\"], [\"['cyberflashing']\"], [\"['cyberflashing']\"], [\"['cyberflashing']\"], [\"['cyberflashing']\"], [\"['cyberflashing']\"], [\"['cyberflashing']\"], [\"['cyberflashing']\"], [\"['cyberflashing']\"]], \"hovertemplate\": \"<b>%{hovertext}</b><br><br>labels=43<br>tsne_x=%{x}<br>tsne_y=%{y}<br>hashtags=%{customdata[0]}<extra></extra>\", \"hovertext\": [\"scfgallagher\", \"scfgallagher\", \"scfgallagher\", \"scfgallagher\", \"scfgallagher\", \"scfgallagher\", \"scfgallagher\", \"scfgallagher\", \"scfgallagher\", \"scfgallagher\", \"scfgallagher\", \"scfgallagher\"], \"legendgroup\": \"43\", \"marker\": {\"color\": \"rgb(249, 123, 114)\", \"symbol\": \"circle\"}, \"mode\": \"markers\", \"name\": \"43\", \"showlegend\": true, \"type\": \"scattergl\", \"x\": [-39.85317611694336, -39.85317611694336, -39.85317611694336, -39.85317611694336, -39.85317611694336, -39.85317611694336, -39.85317611694336, -39.85317611694336, -40.125648498535156, -40.125648498535156, -40.125648498535156, -39.85317611694336], \"xaxis\": \"x\", \"y\": [-39.79378128051758, -39.79378128051758, -39.79378128051758, -39.79378128051758, -39.79378128051758, -39.79378128051758, -39.79378128051758, -39.79378128051758, -38.325984954833984, -38.325984954833984, -38.325984954833984, -39.79378128051758], \"yaxis\": \"y\"}, {\"customdata\": [[\"['mifidii']\"], [\"['mifidii', 'mifid']\"], [\"['mifidii']\"], [\"['mifidii', 'mifid2']\"], [\"['mifidii']\"], [\"['mifidii']\"], [\"['mifidii', 'baffled', 'happytooblige']\"], [\"['mifidii']\"], [\"['mifidii']\"], [\"['mifidii']\"], [\"['mifidii']\"], [\"['mifidii']\"], [\"['mifidii']\"], [\"['mifidii']\"], [\"['mifidii', 'noreturns', 'iwin']\"], [\"['mifidii']\"], [\"['mifidii']\"]], \"hovertemplate\": \"<b>%{hovertext}</b><br><br>labels=23<br>tsne_x=%{x}<br>tsne_y=%{y}<br>hashtags=%{customdata[0]}<extra></extra>\", \"hovertext\": [\"mshannahmurphy\", \"mshannahmurphy\", \"mshannahmurphy\", \"mshannahmurphy\", \"mshannahmurphy\", \"mshannahmurphy\", \"mshannahmurphy\", \"mshannahmurphy\", \"mshannahmurphy\", \"mshannahmurphy\", \"mshannahmurphy\", \"mshannahmurphy\", \"mshannahmurphy\", \"mshannahmurphy\", \"mshannahmurphy\", \"mshannahmurphy\", \"mshannahmurphy\"], \"legendgroup\": \"23\", \"marker\": {\"color\": \"rgb(165, 170, 153)\", \"symbol\": \"circle\"}, \"mode\": \"markers\", \"name\": \"23\", \"showlegend\": true, \"type\": \"scattergl\", \"x\": [39.609718322753906, 41.04588317871094, 39.68766784667969, 40.02986145019531, 41.13178253173828, 39.609718322753906, 41.10165023803711, 39.68766784667969, 39.609718322753906, 41.13178253173828, 41.13178253173828, 39.68766784667969, 39.609718322753906, 39.609718322753906, 41.970577239990234, 39.609718322753906, 41.13178253173828], \"xaxis\": \"x\", \"y\": [23.515918731689453, 24.66059112548828, 21.89720916748047, 24.9197998046875, 22.531824111938477, 23.515918731689453, 23.916156768798828, 21.89720916748047, 23.515918731689453, 22.531824111938477, 22.531824111938477, 21.89720916748047, 23.515918731689453, 23.515918731689453, 23.687789916992188, 23.515918731689453, 22.531824111938477], \"yaxis\": \"y\"}, {\"customdata\": [[\"['cryptocurrencies', 'icos']\"], [\"['esma', 'cfdstrading']\"], [\"['esma']\"], [\"['esma', 'cfds', 'binaryoptions']\"], [\"['cfds', 'cryptocurrencies']\"], [\"['esma', 'cfds']\"], [\"['cryptocurrencies', 'cfds']\"], [\"['cryptocurrencies']\"], [\"['spreadbetting', 'cfds']\"], [\"['esma', 'hfts']\"]], \"hovertemplate\": \"<b>%{hovertext}</b><br><br>labels=87<br>tsne_x=%{x}<br>tsne_y=%{y}<br>hashtags=%{customdata[0]}<extra></extra>\", \"hovertext\": [\"mshannahmurphy\", \"mshannahmurphy\", \"mshannahmurphy\", \"mshannahmurphy\", \"mshannahmurphy\", \"mshannahmurphy\", \"mshannahmurphy\", \"mshannahmurphy\", \"mshannahmurphy\", \"mshannahmurphy\"], \"legendgroup\": \"87\", \"marker\": {\"color\": \"rgb(127, 60, 141)\", \"symbol\": \"circle\"}, \"mode\": \"markers\", \"name\": \"87\", \"showlegend\": true, \"type\": \"scattergl\", \"x\": [41.365692138671875, 40.561344146728516, 40.24802780151367, 39.81912612915039, 40.38178634643555, 39.571800231933594, 40.38178634643555, 40.54462432861328, 40.30400466918945, 40.18552780151367], \"xaxis\": \"x\", \"y\": [-52.14103317260742, -52.63149642944336, -52.09256362915039, -55.81230926513672, -55.20308303833008, -55.12556076049805, -55.20308303833008, -51.78594970703125, -54.066680908203125, -52.5628547668457], \"yaxis\": \"y\"}, {\"customdata\": [[\"['presidentielle2017']\"], [\"['presidentielle2017']\"], [\"['presidentielle2017', 'debat2017', 'legranddebat']\"], [\"['presidentielle2017']\"], [\"['presidentielle2017']\"], [\"['presidentielle2017']\"], [\"['frenchelection']\"], [\"['presidentielle2017']\"], [\"['presidentielle2017', 'frenchelection']\"], [\"['frenchelection', 'presidentielle2017']\"], [\"['frenchelection']\"], [\"['frenchelection']\"], [\"['frenchelection']\"], [\"['frenchelection']\"]], \"hovertemplate\": \"<b>%{hovertext}</b><br><br>labels=55<br>tsne_x=%{x}<br>tsne_y=%{y}<br>hashtags=%{customdata[0]}<extra></extra>\", \"hovertext\": [\"mshannahmurphy\", \"mshannahmurphy\", \"mshannahmurphy\", \"mshannahmurphy\", \"mshannahmurphy\", \"mshannahmurphy\", \"mshannahmurphy\", \"mshannahmurphy\", \"mshannahmurphy\", \"mshannahmurphy\", \"mshannahmurphy\", \"mshannahmurphy\", \"mshannahmurphy\", \"mshannahmurphy\"], \"legendgroup\": \"55\", \"marker\": {\"color\": \"rgb(17, 165, 121)\", \"symbol\": \"circle\"}, \"mode\": \"markers\", \"name\": \"55\", \"showlegend\": true, \"type\": \"scattergl\", \"x\": [59.85447692871094, 60.34163284301758, 61.43414306640625, 59.85447692871094, 60.575199127197266, 60.575199127197266, 58.5507926940918, 60.78146743774414, 62.25565719604492, 62.25565719604492, 58.128868103027344, 58.5507926940918, 58.128868103027344, 58.128868103027344], \"xaxis\": \"x\", \"y\": [-27.70122528076172, -26.905481338500977, -27.17284393310547, -27.70122528076172, -28.662656784057617, -28.662656784057617, -29.56071662902832, -27.77250099182129, -28.058794021606445, -28.058794021606445, -28.881240844726562, -29.56071662902832, -28.881240844726562, -28.881240844726562], \"yaxis\": \"y\"}, {\"customdata\": [[\"['dataprotection', 'cybersecurity', 'cybersecurityindia', 'dataprotectionlaws', 'cybersecuritylaw']\"], [\"['dataprotection', 'cybersecurity', 'cybersecurityindia', 'dataprotectionlaws', 'cybersecuritylaw']\"]], \"hovertemplate\": \"<b>%{hovertext}</b><br><br>labels=88<br>tsne_x=%{x}<br>tsne_y=%{y}<br>hashtags=%{customdata[0]}<extra></extra>\", \"hovertext\": [\"jesscahaworth\", \"jesscahaworth\"], \"legendgroup\": \"88\", \"marker\": {\"color\": \"rgb(57, 105, 172)\", \"symbol\": \"circle\"}, \"mode\": \"markers\", \"name\": \"88\", \"showlegend\": true, \"type\": \"scattergl\", \"x\": [82.41334533691406, 82.41334533691406], \"xaxis\": \"x\", \"y\": [-58.281429290771484, -58.281429290771484], \"yaxis\": \"y\"}, {\"customdata\": [[\"['bhasia']\"], [\"['bhasia']\"], [\"['bhasia']\"], [\"['bhasia']\"], [\"['bhasia']\"], [\"['bhasia']\"], [\"['bhasia']\"], [\"['bhasia']\"]], \"hovertemplate\": \"<b>%{hovertext}</b><br><br>labels=94<br>tsne_x=%{x}<br>tsne_y=%{y}<br>hashtags=%{customdata[0]}<extra></extra>\", \"hovertext\": [\"jesscahaworth\", \"jesscahaworth\", \"jesscahaworth\", \"jesscahaworth\", \"jesscahaworth\", \"jesscahaworth\", \"jesscahaworth\", \"jesscahaworth\"], \"legendgroup\": \"94\", \"marker\": {\"color\": \"rgb(242, 183, 1)\", \"symbol\": \"circle\"}, \"mode\": \"markers\", \"name\": \"94\", \"showlegend\": true, \"type\": \"scattergl\", \"x\": [49.27717590332031, 50.0733642578125, 50.0733642578125, 49.79020309448242, 49.79020309448242, 50.917911529541016, 50.86713790893555, 50.607208251953125], \"xaxis\": \"x\", \"y\": [-49.566532135009766, -49.168182373046875, -49.168182373046875, -50.2896842956543, -50.2896842956543, -49.3150634765625, -49.9607048034668, -50.55009460449219], \"yaxis\": \"y\"}, {\"customdata\": [[\"['bheu']\"], [\"['bheu']\"], [\"['bheu']\"], [\"['bheu']\"], [\"['bheu']\"], [\"['bheu']\"], [\"['bheu']\"], [\"['bheu']\"], [\"['bheu']\"], [\"['bheu']\"], [\"['bheu']\"], [\"['bheu']\"], [\"['bheu']\"], [\"['bheu']\"], [\"['bheu']\"]], \"hovertemplate\": \"<b>%{hovertext}</b><br><br>labels=32<br>tsne_x=%{x}<br>tsne_y=%{y}<br>hashtags=%{customdata[0]}<extra></extra>\", \"hovertext\": [\"jesscahaworth\", \"ad_nauseum74\", \"ad_nauseum74\", \"ad_nauseum74\", \"ad_nauseum74\", \"ad_nauseum74\", \"ad_nauseum74\", \"ad_nauseum74\", \"ad_nauseum74\", \"ad_nauseum74\", \"ad_nauseum74\", \"ad_nauseum74\", \"ad_nauseum74\", \"ad_nauseum74\", \"ad_nauseum74\"], \"legendgroup\": \"32\", \"marker\": {\"color\": \"rgb(231, 63, 116)\", \"symbol\": \"circle\"}, \"mode\": \"markers\", \"name\": \"32\", \"showlegend\": true, \"type\": \"scattergl\", \"x\": [-62.3568229675293, -62.3568229675293, -63.59122085571289, -63.81703186035156, -61.48988342285156, -63.59122085571289, -62.3568229675293, -63.81703186035156, -63.81703186035156, -63.59122085571289, -62.54792404174805, -64.60015869140625, -62.54792404174805, -64.60015869140625, -62.54792404174805], \"xaxis\": \"x\", \"y\": [-17.933147430419922, -17.933147430419922, -17.635631561279297, -19.38011932373047, -18.796140670776367, -17.635631561279297, -17.933147430419922, -19.38011932373047, -19.38011932373047, -17.635631561279297, -19.411664962768555, -18.392719268798828, -19.411664962768555, -18.392719268798828, -19.411664962768555], \"yaxis\": \"y\"}, {\"customdata\": [[\"['appseceu']\"], [\"['appseceu']\"], [\"['appseceu']\"], [\"['appseceu']\"], [\"['appseceu']\"], [\"['appseceu']\"], [\"['appseceu']\"], [\"['appseceu']\"], [\"['appseceu']\"], [\"['appseceu']\"], [\"['appseceu']\"], [\"['appseceu']\"], [\"['appseceu']\"], [\"['appseceu']\"], [\"['appseceu']\"], [\"['appseceu']\"], [\"['appseceu']\"], [\"['appseceu', 'cybersecurity']\"]], \"hovertemplate\": \"<b>%{hovertext}</b><br><br>labels=21<br>tsne_x=%{x}<br>tsne_y=%{y}<br>hashtags=%{customdata[0]}<extra></extra>\", \"hovertext\": [\"jesscahaworth\", \"jesscahaworth\", \"jesscahaworth\", \"jesscahaworth\", \"jesscahaworth\", \"jesscahaworth\", \"jesscahaworth\", \"jesscahaworth\", \"jesscahaworth\", \"jesscahaworth\", \"jesscahaworth\", \"jesscahaworth\", \"jesscahaworth\", \"jesscahaworth\", \"jesscahaworth\", \"jesscahaworth\", \"jesscahaworth\", \"jesscahaworth\"], \"legendgroup\": \"21\", \"marker\": {\"color\": \"rgb(128, 186, 90)\", \"symbol\": \"circle\"}, \"mode\": \"markers\", \"name\": \"21\", \"showlegend\": true, \"type\": \"scattergl\", \"x\": [40.749053955078125, 39.10767364501953, 39.10767364501953, 40.70671844482422, 40.70671844482422, 38.726680755615234, 39.16883850097656, 40.749053955078125, 39.10767364501953, 39.86603546142578, 39.800113677978516, 39.10767364501953, 39.10767364501953, 38.037410736083984, 39.10767364501953, 40.70671844482422, 38.037410736083984, 91.58468627929688], \"xaxis\": \"x\", \"y\": [39.348758697509766, 40.840797424316406, 40.840797424316406, 40.76947021484375, 40.76947021484375, 38.59680938720703, 39.275489807128906, 39.348758697509766, 40.840797424316406, 38.48725128173828, 39.57009506225586, 40.840797424316406, 40.840797424316406, 39.704158782958984, 40.840797424316406, 40.76947021484375, 39.704158782958984, -47.45402908325195], \"yaxis\": \"y\"}],\n",
       "                        {\"height\": 800, \"legend\": {\"title\": {\"text\": \"labels\"}, \"tracegroupgap\": 0}, \"margin\": {\"t\": 60}, \"template\": {\"data\": {\"bar\": [{\"error_x\": {\"color\": \"#2a3f5f\"}, \"error_y\": {\"color\": \"#2a3f5f\"}, \"marker\": {\"line\": {\"color\": \"#E5ECF6\", \"width\": 0.5}}, \"type\": \"bar\"}], \"barpolar\": [{\"marker\": {\"line\": {\"color\": \"#E5ECF6\", \"width\": 0.5}}, \"type\": \"barpolar\"}], \"carpet\": [{\"aaxis\": {\"endlinecolor\": \"#2a3f5f\", \"gridcolor\": \"white\", \"linecolor\": \"white\", \"minorgridcolor\": \"white\", \"startlinecolor\": \"#2a3f5f\"}, \"baxis\": {\"endlinecolor\": \"#2a3f5f\", \"gridcolor\": \"white\", \"linecolor\": \"white\", \"minorgridcolor\": \"white\", \"startlinecolor\": \"#2a3f5f\"}, \"type\": \"carpet\"}], \"choropleth\": [{\"colorbar\": {\"outlinewidth\": 0, \"ticks\": \"\"}, \"type\": \"choropleth\"}], \"contour\": [{\"colorbar\": {\"outlinewidth\": 0, \"ticks\": \"\"}, \"colorscale\": [[0.0, \"#0d0887\"], [0.1111111111111111, \"#46039f\"], [0.2222222222222222, \"#7201a8\"], [0.3333333333333333, \"#9c179e\"], [0.4444444444444444, \"#bd3786\"], [0.5555555555555556, \"#d8576b\"], [0.6666666666666666, \"#ed7953\"], [0.7777777777777778, \"#fb9f3a\"], [0.8888888888888888, \"#fdca26\"], [1.0, \"#f0f921\"]], \"type\": \"contour\"}], \"contourcarpet\": [{\"colorbar\": {\"outlinewidth\": 0, \"ticks\": \"\"}, \"type\": \"contourcarpet\"}], \"heatmap\": [{\"colorbar\": {\"outlinewidth\": 0, \"ticks\": \"\"}, \"colorscale\": [[0.0, \"#0d0887\"], [0.1111111111111111, \"#46039f\"], [0.2222222222222222, \"#7201a8\"], [0.3333333333333333, \"#9c179e\"], [0.4444444444444444, \"#bd3786\"], [0.5555555555555556, \"#d8576b\"], [0.6666666666666666, \"#ed7953\"], [0.7777777777777778, \"#fb9f3a\"], [0.8888888888888888, \"#fdca26\"], [1.0, \"#f0f921\"]], \"type\": \"heatmap\"}], \"heatmapgl\": [{\"colorbar\": {\"outlinewidth\": 0, \"ticks\": \"\"}, \"colorscale\": [[0.0, \"#0d0887\"], [0.1111111111111111, \"#46039f\"], [0.2222222222222222, \"#7201a8\"], [0.3333333333333333, \"#9c179e\"], [0.4444444444444444, \"#bd3786\"], [0.5555555555555556, \"#d8576b\"], [0.6666666666666666, \"#ed7953\"], [0.7777777777777778, \"#fb9f3a\"], [0.8888888888888888, \"#fdca26\"], [1.0, \"#f0f921\"]], \"type\": \"heatmapgl\"}], \"histogram\": [{\"marker\": {\"colorbar\": {\"outlinewidth\": 0, \"ticks\": \"\"}}, \"type\": \"histogram\"}], \"histogram2d\": [{\"colorbar\": {\"outlinewidth\": 0, \"ticks\": \"\"}, \"colorscale\": [[0.0, \"#0d0887\"], [0.1111111111111111, \"#46039f\"], [0.2222222222222222, \"#7201a8\"], [0.3333333333333333, \"#9c179e\"], [0.4444444444444444, \"#bd3786\"], [0.5555555555555556, \"#d8576b\"], [0.6666666666666666, \"#ed7953\"], [0.7777777777777778, \"#fb9f3a\"], [0.8888888888888888, \"#fdca26\"], [1.0, \"#f0f921\"]], \"type\": \"histogram2d\"}], \"histogram2dcontour\": [{\"colorbar\": {\"outlinewidth\": 0, \"ticks\": \"\"}, \"colorscale\": [[0.0, \"#0d0887\"], [0.1111111111111111, \"#46039f\"], [0.2222222222222222, \"#7201a8\"], [0.3333333333333333, \"#9c179e\"], [0.4444444444444444, \"#bd3786\"], [0.5555555555555556, \"#d8576b\"], [0.6666666666666666, \"#ed7953\"], [0.7777777777777778, \"#fb9f3a\"], [0.8888888888888888, \"#fdca26\"], [1.0, \"#f0f921\"]], \"type\": \"histogram2dcontour\"}], \"mesh3d\": [{\"colorbar\": {\"outlinewidth\": 0, \"ticks\": \"\"}, \"type\": \"mesh3d\"}], \"parcoords\": [{\"line\": {\"colorbar\": {\"outlinewidth\": 0, \"ticks\": \"\"}}, \"type\": \"parcoords\"}], \"pie\": [{\"automargin\": true, \"type\": \"pie\"}], \"scatter\": [{\"marker\": {\"colorbar\": {\"outlinewidth\": 0, \"ticks\": \"\"}}, \"type\": \"scatter\"}], \"scatter3d\": [{\"line\": {\"colorbar\": {\"outlinewidth\": 0, \"ticks\": \"\"}}, \"marker\": {\"colorbar\": {\"outlinewidth\": 0, \"ticks\": \"\"}}, \"type\": \"scatter3d\"}], \"scattercarpet\": [{\"marker\": {\"colorbar\": {\"outlinewidth\": 0, \"ticks\": \"\"}}, \"type\": \"scattercarpet\"}], \"scattergeo\": [{\"marker\": {\"colorbar\": {\"outlinewidth\": 0, \"ticks\": \"\"}}, \"type\": \"scattergeo\"}], \"scattergl\": [{\"marker\": {\"colorbar\": {\"outlinewidth\": 0, \"ticks\": \"\"}}, \"type\": \"scattergl\"}], \"scattermapbox\": [{\"marker\": {\"colorbar\": {\"outlinewidth\": 0, \"ticks\": \"\"}}, \"type\": \"scattermapbox\"}], \"scatterpolar\": [{\"marker\": {\"colorbar\": {\"outlinewidth\": 0, \"ticks\": \"\"}}, \"type\": \"scatterpolar\"}], \"scatterpolargl\": [{\"marker\": {\"colorbar\": {\"outlinewidth\": 0, \"ticks\": \"\"}}, \"type\": \"scatterpolargl\"}], \"scatterternary\": [{\"marker\": {\"colorbar\": {\"outlinewidth\": 0, \"ticks\": \"\"}}, \"type\": \"scatterternary\"}], \"surface\": [{\"colorbar\": {\"outlinewidth\": 0, \"ticks\": \"\"}, \"colorscale\": [[0.0, \"#0d0887\"], [0.1111111111111111, \"#46039f\"], [0.2222222222222222, \"#7201a8\"], [0.3333333333333333, \"#9c179e\"], [0.4444444444444444, \"#bd3786\"], [0.5555555555555556, \"#d8576b\"], [0.6666666666666666, \"#ed7953\"], [0.7777777777777778, \"#fb9f3a\"], [0.8888888888888888, \"#fdca26\"], [1.0, \"#f0f921\"]], \"type\": \"surface\"}], \"table\": [{\"cells\": {\"fill\": {\"color\": \"#EBF0F8\"}, \"line\": {\"color\": \"white\"}}, \"header\": {\"fill\": {\"color\": \"#C8D4E3\"}, \"line\": {\"color\": \"white\"}}, \"type\": \"table\"}]}, \"layout\": {\"annotationdefaults\": {\"arrowcolor\": \"#2a3f5f\", \"arrowhead\": 0, \"arrowwidth\": 1}, \"coloraxis\": {\"colorbar\": {\"outlinewidth\": 0, \"ticks\": \"\"}}, \"colorscale\": {\"diverging\": [[0, \"#8e0152\"], [0.1, \"#c51b7d\"], [0.2, \"#de77ae\"], [0.3, \"#f1b6da\"], [0.4, \"#fde0ef\"], [0.5, \"#f7f7f7\"], [0.6, \"#e6f5d0\"], [0.7, \"#b8e186\"], [0.8, \"#7fbc41\"], [0.9, \"#4d9221\"], [1, \"#276419\"]], \"sequential\": [[0.0, \"#0d0887\"], [0.1111111111111111, \"#46039f\"], [0.2222222222222222, \"#7201a8\"], [0.3333333333333333, \"#9c179e\"], [0.4444444444444444, \"#bd3786\"], [0.5555555555555556, \"#d8576b\"], [0.6666666666666666, \"#ed7953\"], [0.7777777777777778, \"#fb9f3a\"], [0.8888888888888888, \"#fdca26\"], [1.0, \"#f0f921\"]], \"sequentialminus\": [[0.0, \"#0d0887\"], [0.1111111111111111, \"#46039f\"], [0.2222222222222222, \"#7201a8\"], [0.3333333333333333, \"#9c179e\"], [0.4444444444444444, \"#bd3786\"], [0.5555555555555556, \"#d8576b\"], [0.6666666666666666, \"#ed7953\"], [0.7777777777777778, \"#fb9f3a\"], [0.8888888888888888, \"#fdca26\"], [1.0, \"#f0f921\"]]}, \"colorway\": [\"#636efa\", \"#EF553B\", \"#00cc96\", \"#ab63fa\", \"#FFA15A\", \"#19d3f3\", \"#FF6692\", \"#B6E880\", \"#FF97FF\", \"#FECB52\"], \"font\": {\"color\": \"#2a3f5f\"}, \"geo\": {\"bgcolor\": \"white\", \"lakecolor\": \"white\", \"landcolor\": \"#E5ECF6\", \"showlakes\": true, \"showland\": true, \"subunitcolor\": \"white\"}, \"hoverlabel\": {\"align\": \"left\"}, \"hovermode\": \"closest\", \"mapbox\": {\"style\": \"light\"}, \"paper_bgcolor\": \"white\", \"plot_bgcolor\": \"#E5ECF6\", \"polar\": {\"angularaxis\": {\"gridcolor\": \"white\", \"linecolor\": \"white\", \"ticks\": \"\"}, \"bgcolor\": \"#E5ECF6\", \"radialaxis\": {\"gridcolor\": \"white\", \"linecolor\": \"white\", \"ticks\": \"\"}}, \"scene\": {\"xaxis\": {\"backgroundcolor\": \"#E5ECF6\", \"gridcolor\": \"white\", \"gridwidth\": 2, \"linecolor\": \"white\", \"showbackground\": true, \"ticks\": \"\", \"zerolinecolor\": \"white\"}, \"yaxis\": {\"backgroundcolor\": \"#E5ECF6\", \"gridcolor\": \"white\", \"gridwidth\": 2, \"linecolor\": \"white\", \"showbackground\": true, \"ticks\": \"\", \"zerolinecolor\": \"white\"}, \"zaxis\": {\"backgroundcolor\": \"#E5ECF6\", \"gridcolor\": \"white\", \"gridwidth\": 2, \"linecolor\": \"white\", \"showbackground\": true, \"ticks\": \"\", \"zerolinecolor\": \"white\"}}, \"shapedefaults\": {\"line\": {\"color\": \"#2a3f5f\"}}, \"ternary\": {\"aaxis\": {\"gridcolor\": \"white\", \"linecolor\": \"white\", \"ticks\": \"\"}, \"baxis\": {\"gridcolor\": \"white\", \"linecolor\": \"white\", \"ticks\": \"\"}, \"bgcolor\": \"#E5ECF6\", \"caxis\": {\"gridcolor\": \"white\", \"linecolor\": \"white\", \"ticks\": \"\"}}, \"title\": {\"x\": 0.05}, \"xaxis\": {\"automargin\": true, \"gridcolor\": \"white\", \"linecolor\": \"white\", \"ticks\": \"\", \"title\": {\"standoff\": 15}, \"zerolinecolor\": \"white\", \"zerolinewidth\": 2}, \"yaxis\": {\"automargin\": true, \"gridcolor\": \"white\", \"linecolor\": \"white\", \"ticks\": \"\", \"title\": {\"standoff\": 15}, \"zerolinecolor\": \"white\", \"zerolinewidth\": 2}}}, \"width\": 800, \"xaxis\": {\"anchor\": \"y\", \"domain\": [0.0, 1.0], \"title\": {\"text\": \"tsne_x\"}}, \"yaxis\": {\"anchor\": \"x\", \"domain\": [0.0, 1.0], \"title\": {\"text\": \"tsne_y\"}}},\n",
       "                        {\"responsive\": true}\n",
       "                    ).then(function(){\n",
       "                            \n",
       "var gd = document.getElementById('1ce15a80-64e9-4a39-aec1-cb291b73f8df');\n",
       "var x = new MutationObserver(function (mutations, observer) {{\n",
       "        var display = window.getComputedStyle(gd).display;\n",
       "        if (!display || display === 'none') {{\n",
       "            console.log([gd, 'removed!']);\n",
       "            Plotly.purge(gd);\n",
       "            observer.disconnect();\n",
       "        }}\n",
       "}});\n",
       "\n",
       "// Listen for the removal of the full notebook cells\n",
       "var notebookContainer = gd.closest('#notebook-container');\n",
       "if (notebookContainer) {{\n",
       "    x.observe(notebookContainer, {childList: true});\n",
       "}}\n",
       "\n",
       "// Listen for the clearing of the current output cell\n",
       "var outputEl = gd.closest('.output');\n",
       "if (outputEl) {{\n",
       "    x.observe(outputEl, {childList: true});\n",
       "}}\n",
       "\n",
       "                        })\n",
       "                };\n",
       "                });\n",
       "            </script>\n",
       "        </div>"
      ]
     },
     "metadata": {},
     "output_type": "display_data"
    }
   ],
   "source": [
    "px.scatter(viz, 'tsne_x', 'tsne_y', color='labels',\n",
    "          width=800,\n",
    "          height=800,\n",
    "          hover_name='screen_name',\n",
    "          hover_data=['hashtags'],\n",
    "          color_discrete_sequence=px.colors.qualitative.Bold)"
   ]
  },
  {
   "cell_type": "code",
   "execution_count": 94,
   "metadata": {},
   "outputs": [
    {
     "data": {
      "image/png": "[encoded data removed]",
      "text/plain": [
       "<Figure size 720x720 with 1 Axes>"
      ]
     },
     "metadata": {
      "needs_background": "light"
     },
     "output_type": "display_data"
    }
   ],
   "source": [
    "fig = plt.figure()\n",
    "plt.scatter(viz['tsne_x'], viz['tsne_y'], c=viz['labels'].astype(int), cmap='tab20')\n",
    "fig.set_size_inches(10,10)"
   ]
  },
  {
   "cell_type": "code",
   "execution_count": 96,
   "metadata": {},
   "outputs": [
    {
     "data": {
      "image/png": "[encoded data removed]",
      "text/plain": [
       "<Figure size 1440x1080 with 1 Axes>"
      ]
     },
     "metadata": {
      "needs_background": "light"
     },
     "output_type": "display_data"
    }
   ],
   "source": [
    "viz['labels'].value_counts().plot.barh()\n",
    "fig = plt.gcf()\n",
    "fig.set_size_inches(20,15)\n",
    "#plt.xscale('log')\n",
    "plt.show()"
   ]
  },
  {
   "cell_type": "code",
   "execution_count": 87,
   "metadata": {},
   "outputs": [],
   "source": [
    "labelled_data.to_csv('../data/cleaned/labelled_cyber_journo_tweets.csv', index=False)\n",
    "topics.to_csv('../data/cleaned/cyber_journo_topic_labels.csv', index=True)"
   ]
  },
  {
   "cell_type": "code",
   "execution_count": null,
   "metadata": {},
   "outputs": [],
   "source": []
  }
 ],
 "metadata": {
  "kernelspec": {
   "display_name": "Python 3",
   "language": "python",
   "name": "python3"
  },
  "language_info": {
   "codemirror_mode": {
    "name": "ipython",
    "version": 3
   },
   "file_extension": ".py",
   "mimetype": "text/x-python",
   "name": "python",
   "nbconvert_exporter": "python",
   "pygments_lexer": "ipython3",
   "version": "3.7.1"
  }
 },
 "nbformat": 4,
 "nbformat_minor": 4
}
