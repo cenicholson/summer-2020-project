{
 "cells": [
  {
   "cell_type": "markdown",
   "metadata": {},
   "source": [
    "# Pulling data from Twitter using the API with tweepy"
   ]
  },
  {
   "cell_type": "markdown",
   "metadata": {},
   "source": [
    "Before using this code, need to generate a json file for providing api keys using the code in notebook `store_twitter_credentials_as_json.ipynb`."
   ]
  },
  {
   "cell_type": "code",
   "execution_count": 2,
   "metadata": {},
   "outputs": [
    {
     "name": "stdout",
     "output_type": "stream",
     "text": [
      "Collecting tweepy==3.9.0\n",
      "  Downloading tweepy-3.9.0-py2.py3-none-any.whl (30 kB)\n",
      "Requirement already satisfied: requests[socks]>=2.11.1 in /usr/lib/python3/dist-packages (from tweepy==3.9.0) (2.22.0)\n",
      "Collecting requests-oauthlib>=0.7.0\n",
      "  Downloading requests_oauthlib-1.3.0-py2.py3-none-any.whl (23 kB)\n",
      "Requirement already satisfied: six>=1.10.0 in /usr/lib/python3/dist-packages (from tweepy==3.9.0) (1.14.0)\n",
      "Requirement already satisfied: PySocks!=1.5.7,>=1.5.6 in /home/rwebster/.local/lib/python3.8/site-packages (from requests[socks]>=2.11.1->tweepy==3.9.0) (1.7.1)\n",
      "Requirement already satisfied: oauthlib>=3.0.0 in /usr/lib/python3/dist-packages (from requests-oauthlib>=0.7.0->tweepy==3.9.0) (3.1.0)\n",
      "Installing collected packages: requests-oauthlib, tweepy\n",
      "Successfully installed requests-oauthlib-1.3.0 tweepy-3.9.0\n"
     ]
    }
   ],
   "source": [
    "!pip3 install tweepy==3.9.0"
   ]
  },
  {
   "cell_type": "code",
   "execution_count": 3,
   "metadata": {},
   "outputs": [],
   "source": [
    "import os\n",
    "import time\n",
    "import json\n",
    "import pandas\n",
    "\n",
    "import tweepy"
   ]
  },
  {
   "cell_type": "code",
   "execution_count": 4,
   "metadata": {},
   "outputs": [],
   "source": [
    "api_keys_fp = '../twitter_credentials.json'"
   ]
  },
  {
   "cell_type": "code",
   "execution_count": 5,
   "metadata": {},
   "outputs": [],
   "source": [
    "def load_api(keys_file):\n",
    "    '''\n",
    "    \n",
    "    '''\n",
    "    # Load twitter credentials\n",
    "    with open(keys_file, 'r') as file:\n",
    "        creds = json.load(file)\n",
    "\n",
    "    # Use credentials to set up API access authorisation\n",
    "    auth = tweepy.OAuthHandler(creds['CONSUMER_KEY'], creds['CONSUMER_SECRET'])\n",
    "    auth.set_access_token(creds['ACCESS_TOKEN'], creds['ACCESS_SECRET'])\n",
    "    api = tweepy.API(auth, wait_on_rate_limit=True)\n",
    "    \n",
    "    return api"
   ]
  },
  {
   "cell_type": "code",
   "execution_count": 6,
   "metadata": {},
   "outputs": [],
   "source": [
    "tw_api = load_api(api_keys_fp)"
   ]
  },
  {
   "cell_type": "code",
   "execution_count": 7,
   "metadata": {},
   "outputs": [],
   "source": [
    "def get_followers_by_id(api, username, autowait=False):\n",
    "    '''\n",
    "    Function to scrape a list of followers of a specific user.\n",
    "    \n",
    "    Parameters\n",
    "    ----------\n",
    "    api : tweepy API object\n",
    "        \n",
    "    username : str\n",
    "        the twitter handle of the user whose followers to pull.\n",
    "    autowait : bool\n",
    "        If true, overrides requirement for user input at start\n",
    "        \n",
    "    Returns\n",
    "    -------\n",
    "    followers : list of ints\n",
    "    '''\n",
    "    \n",
    "    # First run a quick check at user follows\n",
    "    user = api.get_user(username)\n",
    "    nFollows = user.followers_count\n",
    "    nRate = 5000*15\n",
    "    if not autowait:\n",
    "        if nFollows > nRate:\n",
    "            duration = (nFollows%nRate)*15\n",
    "            decision = input('Request will take approx. '+str(duration)+' minutes.  Proceed? (y/n)')\n",
    "            if decision != 'y':\n",
    "                return None\n",
    "    \n",
    "    ids = []\n",
    "    \n",
    "    for page in tweepy.Cursor(api.followers_ids, screen_name=username).pages():\n",
    "        ids.extend(page)\n",
    "    \n",
    "    return ids"
   ]
  },
  {
   "cell_type": "code",
   "execution_count": 11,
   "metadata": {},
   "outputs": [],
   "source": [
    "ids = []\n",
    "for page in tweepy.Cursor(api.followers_ids, screen_name='bobthephysicist').pages():\n",
    "    ids.extend(page)\n",
    "    time.sleep(60)"
   ]
  },
  {
   "cell_type": "code",
   "execution_count": 8,
   "metadata": {},
   "outputs": [],
   "source": [
    "followers = get_followers_by_id(tw_api, 'bobthephysicist')"
   ]
  },
  {
   "cell_type": "code",
   "execution_count": 9,
   "metadata": {},
   "outputs": [
    {
     "name": "stdout",
     "output_type": "stream",
     "text": [
      "147\n"
     ]
    }
   ],
   "source": [
    "print(len(followers))"
   ]
  },
  {
   "cell_type": "code",
   "execution_count": 36,
   "metadata": {},
   "outputs": [],
   "source": [
    "user = api.get_user('bobthephysicist')"
   ]
  },
  {
   "cell_type": "code",
   "execution_count": 37,
   "metadata": {},
   "outputs": [
    {
     "data": {
      "text/plain": [
       "145"
      ]
     },
     "execution_count": 37,
     "metadata": {},
     "output_type": "execute_result"
    }
   ],
   "source": [
    "user.followers_count"
   ]
  },
  {
   "cell_type": "code",
   "execution_count": null,
   "metadata": {},
   "outputs": [],
   "source": []
  }
 ],
 "metadata": {
  "kernelspec": {
   "display_name": "Python 3",
   "language": "python",
   "name": "python3"
  },
  "language_info": {
   "codemirror_mode": {
    "name": "ipython",
    "version": 3
   },
   "file_extension": ".py",
   "mimetype": "text/x-python",
   "name": "python",
   "nbconvert_exporter": "python",
   "pygments_lexer": "ipython3",
   "version": "3.8.2"
  }
 },
 "nbformat": 4,
 "nbformat_minor": 4
}
