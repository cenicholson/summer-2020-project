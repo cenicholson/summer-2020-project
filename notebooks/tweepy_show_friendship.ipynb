{
 "cells": [
  {
   "cell_type": "code",
   "execution_count": 1,
   "metadata": {},
   "outputs": [],
   "source": [
    "import os\n",
    "import sys\n",
    "import time\n",
    "import datetime\n",
    "import json\n",
    "import pandas as pd\n",
    "\n",
    "import tweepy\n",
    "\n",
    "sys.path.insert(1, '../')\n",
    "from src.data.api_tweepy import connect_API"
   ]
  },
  {
   "cell_type": "code",
   "execution_count": 2,
   "metadata": {},
   "outputs": [],
   "source": [
    "api_keys_fp = '../twitter_credentials.json'\n",
    "tw_api = connect_API(api_keys_fp)"
   ]
  },
  {
   "cell_type": "code",
   "execution_count": 3,
   "metadata": {},
   "outputs": [],
   "source": [
    "trial = tw_api.show_friendship(source_screen_name='bobthephysicist', target_screen_name='ellen_dev')"
   ]
  },
  {
   "cell_type": "code",
   "execution_count": 7,
   "metadata": {},
   "outputs": [
    {
     "data": {
      "text/plain": [
       "{'_api': <tweepy.api.API at 0x1b082a4b208>,\n",
       " '_json': {'id': 927293298280198145,\n",
       "  'id_str': '927293298280198145',\n",
       "  'screen_name': 'bobthephysicist',\n",
       "  'following': True,\n",
       "  'followed_by': True,\n",
       "  'live_following': False,\n",
       "  'following_received': False,\n",
       "  'following_requested': False,\n",
       "  'notifications_enabled': True,\n",
       "  'can_dm': True,\n",
       "  'blocking': False,\n",
       "  'blocked_by': False,\n",
       "  'muting': False,\n",
       "  'want_retweets': True,\n",
       "  'all_replies': False,\n",
       "  'marked_spam': False},\n",
       " 'id': 927293298280198145,\n",
       " 'id_str': '927293298280198145',\n",
       " 'screen_name': 'bobthephysicist',\n",
       " 'following': True,\n",
       " 'followed_by': True,\n",
       " 'live_following': False,\n",
       " 'following_received': False,\n",
       " 'following_requested': False,\n",
       " 'notifications_enabled': True,\n",
       " 'can_dm': True,\n",
       " 'blocking': False,\n",
       " 'blocked_by': False,\n",
       " 'muting': False,\n",
       " 'want_retweets': True,\n",
       " 'all_replies': False,\n",
       " 'marked_spam': False}"
      ]
     },
     "execution_count": 7,
     "metadata": {},
     "output_type": "execute_result"
    }
   ],
   "source": [
    "vars(trial[0])"
   ]
  },
  {
   "cell_type": "code",
   "execution_count": null,
   "metadata": {},
   "outputs": [],
   "source": []
  }
 ],
 "metadata": {
  "kernelspec": {
   "display_name": "Python 3",
   "language": "python",
   "name": "python3"
  },
  "language_info": {
   "codemirror_mode": {
    "name": "ipython",
    "version": 3
   },
   "file_extension": ".py",
   "mimetype": "text/x-python",
   "name": "python",
   "nbconvert_exporter": "python",
   "pygments_lexer": "ipython3",
   "version": "3.7.1"
  }
 },
 "nbformat": 4,
 "nbformat_minor": 4
}
