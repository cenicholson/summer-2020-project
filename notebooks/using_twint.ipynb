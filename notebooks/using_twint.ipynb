{
 "cells": [
  {
   "cell_type": "markdown",
   "metadata": {},
   "source": [
    "# Pulling data from Twitter with twint"
   ]
  },
  {
   "cell_type": "code",
   "execution_count": 1,
   "metadata": {},
   "outputs": [
    {
     "name": "stdout",
     "output_type": "stream",
     "text": [
      "Collecting twint==2.1.20\n",
      "  Downloading twint-2.1.20.tar.gz (31 kB)\n",
      "Collecting aiodns\n",
      "  Downloading aiodns-2.0.0-py2.py3-none-any.whl (4.8 kB)\n",
      "Collecting aiohttp\n",
      "  Downloading aiohttp-3.6.2-py3-none-any.whl (441 kB)\n",
      "\u001b[K     |████████████████████████████████| 441 kB 9.3 MB/s eta 0:00:01\n",
      "\u001b[?25hCollecting aiohttp_socks\n",
      "  Downloading aiohttp_socks-0.5.3-py3-none-any.whl (32 kB)\n",
      "Requirement already satisfied: beautifulsoup4 in /usr/lib/python3/dist-packages (from twint==2.1.20) (4.8.2)\n",
      "Collecting cchardet\n",
      "  Downloading cchardet-2.1.6-cp38-cp38-manylinux2010_x86_64.whl (244 kB)\n",
      "\u001b[K     |████████████████████████████████| 244 kB 2.1 MB/s eta 0:00:01\n",
      "\u001b[?25hCollecting elasticsearch\n",
      "  Downloading elasticsearch-7.8.1-py2.py3-none-any.whl (188 kB)\n",
      "\u001b[K     |████████████████████████████████| 188 kB 1.8 MB/s eta 0:00:01\n",
      "\u001b[?25hCollecting fake-useragent\n",
      "  Downloading fake-useragent-0.1.11.tar.gz (13 kB)\n",
      "Collecting geopy\n",
      "  Downloading geopy-2.0.0-py3-none-any.whl (111 kB)\n",
      "\u001b[K     |████████████████████████████████| 111 kB 1.0 MB/s eta 0:00:01\n",
      "\u001b[?25hCollecting googletransx\n",
      "  Downloading googletransx-2.4.2.tar.gz (13 kB)\n",
      "Requirement already satisfied: pandas in /usr/lib/python3/dist-packages (from twint==2.1.20) (0.25.3)\n",
      "Collecting pysocks\n",
      "  Downloading PySocks-1.7.1-py3-none-any.whl (16 kB)\n",
      "Collecting schedule\n",
      "  Downloading schedule-0.6.0-py2.py3-none-any.whl (8.7 kB)\n",
      "Collecting pycares>=3.0.0\n",
      "  Downloading pycares-3.1.1-cp38-cp38-manylinux2010_x86_64.whl (229 kB)\n",
      "\u001b[K     |████████████████████████████████| 229 kB 1.8 MB/s eta 0:00:01\n",
      "\u001b[?25hCollecting yarl<2.0,>=1.0\n",
      "  Downloading yarl-1.5.1-cp38-cp38-manylinux1_x86_64.whl (262 kB)\n",
      "\u001b[K     |████████████████████████████████| 262 kB 1.7 MB/s eta 0:00:01\n",
      "\u001b[?25hCollecting multidict<5.0,>=4.5\n",
      "  Downloading multidict-4.7.6-cp38-cp38-manylinux1_x86_64.whl (162 kB)\n",
      "\u001b[K     |████████████████████████████████| 162 kB 4.0 MB/s eta 0:00:01\n",
      "\u001b[?25hRequirement already satisfied: attrs>=17.3.0 in /usr/lib/python3/dist-packages (from aiohttp->twint==2.1.20) (19.3.0)\n",
      "Collecting async-timeout<4.0,>=3.0\n",
      "  Downloading async_timeout-3.0.1-py3-none-any.whl (8.2 kB)\n",
      "Requirement already satisfied: chardet<4.0,>=2.0 in /usr/lib/python3/dist-packages (from aiohttp->twint==2.1.20) (3.0.4)\n",
      "Requirement already satisfied: urllib3>=1.21.1 in /usr/lib/python3/dist-packages (from elasticsearch->twint==2.1.20) (1.25.8)\n",
      "Requirement already satisfied: certifi in /usr/lib/python3/dist-packages (from elasticsearch->twint==2.1.20) (2019.11.28)\n",
      "Collecting geographiclib<2,>=1.49\n",
      "  Downloading geographiclib-1.50-py3-none-any.whl (38 kB)\n",
      "Requirement already satisfied: requests in /usr/lib/python3/dist-packages (from googletransx->twint==2.1.20) (2.22.0)\n",
      "Requirement already satisfied: cffi>=1.5.0 in /home/robert/.local/lib/python3.8/site-packages (from pycares>=3.0.0->aiodns->twint==2.1.20) (1.14.1)\n",
      "Requirement already satisfied: idna>=2.0 in /usr/lib/python3/dist-packages (from yarl<2.0,>=1.0->aiohttp->twint==2.1.20) (2.8)\n",
      "Requirement already satisfied: pycparser in /home/robert/.local/lib/python3.8/site-packages (from cffi>=1.5.0->pycares>=3.0.0->aiodns->twint==2.1.20) (2.20)\n",
      "Building wheels for collected packages: twint, fake-useragent, googletransx\n",
      "  Building wheel for twint (setup.py) ... \u001b[?25ldone\n",
      "\u001b[?25h  Created wheel for twint: filename=twint-2.1.20-py3-none-any.whl size=33919 sha256=0f15c1af5ef4342cdd9b1ee33cc6b91fc439cae204195154d5a2678cf7329434\n",
      "  Stored in directory: /home/robert/.cache/pip/wheels/4e/80/ea/5b82b5140b7dec857ec0bbfe908193ebf2e5d7f2ebee297519\n",
      "  Building wheel for fake-useragent (setup.py) ... \u001b[?25ldone\n",
      "\u001b[?25h  Created wheel for fake-useragent: filename=fake_useragent-0.1.11-py3-none-any.whl size=13487 sha256=85c857fff046b8da1c721198f93d4a80d72867ec6ba5ed6c69b0733e291ef47b\n",
      "  Stored in directory: /home/robert/.cache/pip/wheels/a0/b8/b7/8c942b2c5be5158b874a88195116b05ad124bac795f6665e65\n",
      "  Building wheel for googletransx (setup.py) ... \u001b[?25ldone\n",
      "\u001b[?25h  Created wheel for googletransx: filename=googletransx-2.4.2-py3-none-any.whl size=15971 sha256=3f348e2166ebae7adeffe1d3a0351975cdd63053547d7ed4b5c8f4f30284fd7f\n",
      "  Stored in directory: /home/robert/.cache/pip/wheels/6a/54/98/96b62f08dd73eca3147e36b5099d77c3f8fedc5472bb488167\n",
      "Successfully built twint fake-useragent googletransx\n",
      "Installing collected packages: pycares, aiodns, multidict, yarl, async-timeout, aiohttp, aiohttp-socks, cchardet, elasticsearch, fake-useragent, geographiclib, geopy, googletransx, pysocks, schedule, twint\n",
      "Successfully installed aiodns-2.0.0 aiohttp-3.6.2 aiohttp-socks-0.5.3 async-timeout-3.0.1 cchardet-2.1.6 elasticsearch-7.8.1 fake-useragent-0.1.11 geographiclib-1.50 geopy-2.0.0 googletransx-2.4.2 multidict-4.7.6 pycares-3.1.1 pysocks-1.7.1 schedule-0.6.0 twint-2.1.20 yarl-1.5.1\n",
      "Collecting nest_asyncio==1.4.0\n",
      "  Downloading nest_asyncio-1.4.0-py3-none-any.whl (5.2 kB)\n",
      "Installing collected packages: nest-asyncio\n",
      "Successfully installed nest-asyncio-1.4.0\n"
     ]
    }
   ],
   "source": [
    "# Run this block if you need to install the relevant modules\n",
    "\n",
    "!pip3 install twint==2.1.20 --user\n",
    "\n",
    "!pip3 install nest_asyncio==1.4.0 --user\n",
    "# ^^ Need to install this for twint event loop to work in a jupyter notebook setting"
   ]
  },
  {
   "cell_type": "markdown",
   "metadata": {},
   "source": [
    "Import nest_asyncio if needed for current environment"
   ]
  },
  {
   "cell_type": "code",
   "execution_count": 2,
   "metadata": {},
   "outputs": [],
   "source": [
    "'''\n",
    "This block of code is needed for using twint within a jupyter notebook.  Without it, twint searches generate runtime errors because an event loop is already running.\n",
    "'''\n",
    "try:\n",
    "    ip = get_ipython()\n",
    "    \n",
    "    if ip.has_trait('kernel'): \n",
    "        #TODO: Create outcome\n",
    "        import nest_asyncio\n",
    "        nest_asyncio.apply()\n",
    "        \n",
    "except:\n",
    "    Exception('Not working in an iPython environment, skipping this step.')"
   ]
  },
  {
   "cell_type": "markdown",
   "metadata": {},
   "source": [
    "Import other modules and define some key variables:"
   ]
  },
  {
   "cell_type": "code",
   "execution_count": 4,
   "metadata": {
    "colab": {
     "base_uri": "https://localhost:8080/",
     "height": 36
    },
    "colab_type": "code",
    "executionInfo": {
     "elapsed": 479,
     "status": "ok",
     "timestamp": 1596532908601,
     "user": {
      "displayName": "Robert Webster",
      "photoUrl": "https://lh3.googleusercontent.com/a-/AOh14Gg7Stk49hEoZ1c82bidR1H954q2O2nkhObwj2gs5g=s64",
      "userId": "10620864818105511058"
     },
     "user_tz": -60
    },
    "id": "81hMtE4txsHE",
    "outputId": "c6090588-a6da-4c4b-be8f-978cfe5e5e5d"
   },
   "outputs": [
    {
     "name": "stdout",
     "output_type": "stream",
     "text": [
      "twint: 2.1.20\n",
      "/home/robert/host/Ditchley/Aug20_Ditchley/notebooks\n"
     ]
    }
   ],
   "source": [
    "import os\n",
    "import sys\n",
    "import pandas as pd\n",
    "\n",
    "import twint\n",
    "print('twint: '+twint.__version__)\n",
    "\n",
    "data_path = '../data/raw/' # define location for data to be saved relative to notebook location\n",
    "print(os.getcwd())"
   ]
  },
  {
   "cell_type": "markdown",
   "metadata": {},
   "source": [
    "## Extracting lists of followers"
   ]
  },
  {
   "cell_type": "code",
   "execution_count": 5,
   "metadata": {},
   "outputs": [],
   "source": [
    "def get_followers(username, fp, full=False, suppress=True):\n",
    "    '''\n",
    "    Function to scrape a list of followers of a specific user.\n",
    "    \n",
    "    Parameters\n",
    "    ----------\n",
    "    username : str\n",
    "        the twitter handle of the user whose followers to pull.\n",
    "    fp : str\n",
    "        Filepath to directory where data should be stored.  \n",
    "    full : bool\n",
    "        if true, scrapes all user info; only name if false.\n",
    "    suppress : bool\n",
    "        If true, suppress the printed output of the scraping. \n",
    "        \n",
    "    Returns\n",
    "    -------\n",
    "    followers : list of str\n",
    "    '''\n",
    "    full_path = fp+'followers_'\n",
    "    if not full:\n",
    "        full_path += 'names_'\n",
    "    full_path += username+'.db'\n",
    "    \n",
    "    c = twint.Config()\n",
    "    c.Username = username\n",
    "    c.Hide_output = suppress\n",
    "    c.User_full = full\n",
    "    c.Database = full_path\n",
    "    \n",
    "    twint.run.Followers(c)\n",
    "    \n",
    "    print('Follower data saved to \"'+full_path+'\"')"
   ]
  },
  {
   "cell_type": "code",
   "execution_count": 6,
   "metadata": {},
   "outputs": [
    {
     "name": "stdout",
     "output_type": "stream",
     "text": [
      "[+] Inserting into Database: ../data/raw/followers_names_bobthephysicist.db\n"
     ]
    },
    {
     "name": "stderr",
     "output_type": "stream",
     "text": [
      "CRITICAL:root:twint.get:User:\n",
      "CRITICAL:root:twint.feed:Follow:IndexError\n",
      "CRITICAL:root:twint.feed:Follow:IndexError\n"
     ]
    },
    {
     "name": "stdout",
     "output_type": "stream",
     "text": [
      "Follower data saved to \"../data/raw/followers_names_bobthephysicist.db\"\n"
     ]
    }
   ],
   "source": [
    "get_followers('bobthephysicist', '../data/raw/', suppress=True)"
   ]
  },
  {
   "cell_type": "code",
   "execution_count": 20,
   "metadata": {},
   "outputs": [
    {
     "ename": "TypeError",
     "evalue": "object of type 'NoneType' has no len()",
     "output_type": "error",
     "traceback": [
      "\u001b[1;31m---------------------------------------------------------------------------\u001b[0m",
      "\u001b[1;31mTypeError\u001b[0m                                 Traceback (most recent call last)",
      "\u001b[1;32m<ipython-input-20-1868042a7e81>\u001b[0m in \u001b[0;36m<module>\u001b[1;34m\u001b[0m\n\u001b[1;32m----> 1\u001b[1;33m \u001b[0mprint\u001b[0m\u001b[1;33m(\u001b[0m\u001b[0mlen\u001b[0m\u001b[1;33m(\u001b[0m\u001b[0mfollowers\u001b[0m\u001b[1;33m)\u001b[0m\u001b[1;33m)\u001b[0m\u001b[1;33m\u001b[0m\u001b[1;33m\u001b[0m\u001b[0m\n\u001b[0m\u001b[0;32m      2\u001b[0m \u001b[0mprint\u001b[0m\u001b[1;33m(\u001b[0m\u001b[0mfollowers\u001b[0m\u001b[1;33m[\u001b[0m\u001b[1;33m:\u001b[0m\u001b[1;36m5\u001b[0m\u001b[1;33m]\u001b[0m\u001b[1;33m)\u001b[0m\u001b[1;33m\u001b[0m\u001b[1;33m\u001b[0m\u001b[0m\n",
      "\u001b[1;31mTypeError\u001b[0m: object of type 'NoneType' has no len()"
     ]
    }
   ],
   "source": [
    "print(len(followers))\n",
    "print(followers[:5])"
   ]
  },
  {
   "cell_type": "code",
   "execution_count": 21,
   "metadata": {},
   "outputs": [],
   "source": []
  },
  {
   "cell_type": "code",
   "execution_count": 6,
   "metadata": {},
   "outputs": [],
   "source": [
    "def get_following(username, fp, full=False, suppress=True):\n",
    "    '''\n",
    "    Function to scrape a list of followed users of a specific user.\n",
    "    \n",
    "    Parameters\n",
    "    ----------\n",
    "    username : str\n",
    "        the twitter handle of the user whose follows to pull.\n",
    "    fp : str\n",
    "        Filepath to directory where data should be stored.  \n",
    "    full : bool\n",
    "        if true, scrapes all user info; only name if false.\n",
    "    suppress : bool\n",
    "        If true, suppress the printed output of the scraping. \n",
    "        \n",
    "    Returns\n",
    "    -------\n",
    "    followers : list of str\n",
    "        \n",
    "    TODO: Abstract RAM storage of output\n",
    "    '''\n",
    "    full_path = fp+'following_'\n",
    "    if not full:\n",
    "        full_path += 'names_'\n",
    "    full_path += username+'.db'\n",
    "    \n",
    "    c = twint.Config()\n",
    "    c.Username = username\n",
    "    c.Hide_output = suppress\n",
    "    c.User_full = full\n",
    "    c.Database = full_path\n",
    "    \n",
    "    twint.run.Following(c)\n",
    "    \n",
    "    print('Follow data saved to \"'+full_path+'\"')"
   ]
  },
  {
   "cell_type": "code",
   "execution_count": 7,
   "metadata": {},
   "outputs": [
    {
     "name": "stdout",
     "output_type": "stream",
     "text": [
      "[+] Inserting into Database: ../data/raw/following_names_bobthephysicist.db\n"
     ]
    },
    {
     "name": "stderr",
     "output_type": "stream",
     "text": [
      "CRITICAL:root:twint.get:User:'NoneType' object is not subscriptable\n",
      "CRITICAL:root:twint.feed:Follow:IndexError\n",
      "CRITICAL:root:twint.feed:Follow:IndexError\n"
     ]
    },
    {
     "name": "stdout",
     "output_type": "stream",
     "text": [
      "Follow data saved to \"../data/raw/following_names_bobthephysicist.db\"\n"
     ]
    }
   ],
   "source": [
    "get_following('bobthephysicist', '../data/raw/', suppress=True)"
   ]
  },
  {
   "cell_type": "code",
   "execution_count": null,
   "metadata": {},
   "outputs": [],
   "source": []
  }
 ],
 "metadata": {
  "kernelspec": {
   "display_name": "Python 3",
   "language": "python",
   "name": "python3"
  },
  "language_info": {
   "codemirror_mode": {
    "name": "ipython",
    "version": 3
   },
   "file_extension": ".py",
   "mimetype": "text/x-python",
   "name": "python",
   "nbconvert_exporter": "python",
   "pygments_lexer": "ipython3",
   "version": "3.8.2"
  }
 },
 "nbformat": 4,
 "nbformat_minor": 4
}
