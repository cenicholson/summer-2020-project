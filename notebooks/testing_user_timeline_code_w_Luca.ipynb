{
 "cells": [
  {
   "cell_type": "markdown",
   "metadata": {},
   "source": [
    "# Testing User Timeline Retrieval"
   ]
  },
  {
   "cell_type": "code",
   "execution_count": 1,
   "metadata": {},
   "outputs": [],
   "source": [
    "import os\n",
    "import time\n",
    "import datetime\n",
    "import json\n",
    "import pandas as pd\n",
    "\n",
    "import tweepy"
   ]
  },
  {
   "cell_type": "code",
   "execution_count": 2,
   "metadata": {},
   "outputs": [],
   "source": [
    "api_keys_fp = '../twitter_credentials.json'"
   ]
  },
  {
   "cell_type": "code",
   "execution_count": 3,
   "metadata": {},
   "outputs": [],
   "source": [
    "def load_api(keys_file):\n",
    "    '''\n",
    "    \n",
    "    '''\n",
    "    # Load twitter credentials\n",
    "    with open(keys_file, 'r') as file:\n",
    "        creds = json.load(file)\n",
    "\n",
    "    # Use credentials to set up API access authorisation\n",
    "    auth = tweepy.OAuthHandler(creds['CONSUMER_KEY'], creds['CONSUMER_SECRET'])\n",
    "    auth.set_access_token(creds['ACCESS_TOKEN'], creds['ACCESS_SECRET'])\n",
    "    api = tweepy.API(auth, wait_on_rate_limit=True)\n",
    "    \n",
    "    return api"
   ]
  },
  {
   "cell_type": "code",
   "execution_count": 4,
   "metadata": {},
   "outputs": [],
   "source": [
    "tw_api = load_api(api_keys_fp)"
   ]
  },
  {
   "cell_type": "code",
   "execution_count": 9,
   "metadata": {},
   "outputs": [
    {
     "name": "stdout",
     "output_type": "stream",
     "text": [
      "Retrieving tweets from @carolecadwalla\n",
      "Last Tweet @ 2020-07-23 08:30:14  - fetching some more\n",
      "Last Tweet @ 2020-07-12 12:09:06  - fetching some more\n",
      "Last Tweet @ 2020-06-19 20:36:47  - fetching some more\n",
      "Last Tweet @ 2020-06-03 11:53:33  - fetching some more\n",
      "Last Tweet @ 2020-05-27 18:59:28  - fetching some more\n",
      "Last Tweet @ 2020-05-19 21:02:09  - fetching some more\n",
      "Last Tweet @ 2020-05-04 11:19:37  - fetching some more\n",
      "Last Tweet @ 2020-04-21 07:09:39  - fetching some more\n",
      "Last Tweet @ 2020-04-15 09:06:44  - fetching some more\n",
      "Last Tweet @ 2020-04-08 20:30:46  - fetching some more\n",
      "Last Tweet @ 2020-03-29 17:48:55  - fetching some more\n",
      "Last Tweet @ 2020-03-21 00:32:59  - fetching some more\n",
      "Last Tweet @ 2020-03-16 07:50:53  - fetching some more\n",
      "Last Tweet @ 2020-02-19 22:49:17  - fetching some more\n",
      "Last Tweet @ 2020-01-20 10:03:29  - fetching some more\n",
      "Last Tweet @ 2019-12-23 10:18:01  - fetching some more\n",
      "Last Tweet @ 2019-12-15 18:18:27  - fetching some more\n"
     ]
    }
   ],
   "source": [
    "handle_list= ['_lucyingham', 'JesscaHaworth', 'Ad_Nauseum74']\n",
    "\n",
    "#twitter_dict={}\n",
    "counter=0\n",
    "\n",
    "startDate = datetime.datetime(2019, 5, 1, 0, 0, 0)\n",
    "endDate =   datetime.datetime(2020, 8, 11, 0, 0, 0)\n",
    "\n",
    "tweets = {}\n",
    "all_tweets = {}\n",
    "\n",
    "handle_list = ['carolecadwalla',]\n",
    "\n",
    "for name in handle_list:\n",
    "    print('Retrieving tweets from @'+name)\n",
    "    tmpTweets = tw_api.user_timeline(name, tweet_mode = 'extended', include_retweets=True, wait_on_rate_limit=True, count=200)\n",
    "    for tweet in tmpTweets:\n",
    "        if tweet.created_at < endDate and tweet.created_at > startDate:\n",
    "            #tweets.append(tweet)\n",
    "            tweets[counter] = {key: vars(tweet)[key] for key in list(vars(tweet).keys())[2:]}\n",
    "            counter +=1\n",
    "\n",
    "    happy = tmpTweets[-1].created_at > startDate\n",
    "    while happy:\n",
    "        print(\"Last Tweet @\", tmpTweets[-1].created_at, \" - fetching some more\")\n",
    "        tmpTweets = tw_api.user_timeline(name, max_id = tmpTweets[-1].id, tweet_mode = 'extended', include_retweets=True, wait_on_rate_limit=True, count=200)\n",
    "        for tweet in tmpTweets:\n",
    "            if tweet.created_at < endDate and tweet.created_at > startDate and len(tmpTweets)>1:\n",
    "                #tweets.append(tweet)\n",
    "                tweets[counter] = {key: vars(tweet)[key] for key in list(vars(tweet).keys())[2:]}\n",
    "\n",
    "                counter +=1\n",
    "            else:\n",
    "                happy = False"
   ]
  },
  {
   "cell_type": "code",
   "execution_count": 10,
   "metadata": {},
   "outputs": [
    {
     "data": {
      "text/plain": [
       "3256"
      ]
     },
     "execution_count": 10,
     "metadata": {},
     "output_type": "execute_result"
    }
   ],
   "source": [
    "len(tweets)"
   ]
  },
  {
   "cell_type": "code",
   "execution_count": 11,
   "metadata": {},
   "outputs": [
    {
     "data": {
      "text/plain": [
       "{'created_at': datetime.datetime(2020, 8, 10, 17, 12, 16),\n",
       " 'id': 1292871397480464385,\n",
       " 'id_str': '1292871397480464385',\n",
       " 'full_text': 'Unemployed ex-radio DJ seeks attention. Please send government ministers &amp; client journalists URGENTLY. This man has been dangerously deprived of an audience for an entire month https://t.co/6c1mwYy1m2',\n",
       " 'truncated': False,\n",
       " 'display_text_range': [0, 181],\n",
       " 'entities': {'hashtags': [],\n",
       "  'symbols': [],\n",
       "  'user_mentions': [],\n",
       "  'urls': [{'url': 'https://t.co/6c1mwYy1m2',\n",
       "    'expanded_url': 'https://twitter.com/nigel_farage/status/1292869030353735680',\n",
       "    'display_url': 'twitter.com/nigel_farage/s…',\n",
       "    'indices': [182, 205]}]},\n",
       " 'source': 'Twitter for iPhone',\n",
       " 'source_url': 'http://twitter.com/download/iphone',\n",
       " 'in_reply_to_status_id': None,\n",
       " 'in_reply_to_status_id_str': None,\n",
       " 'in_reply_to_user_id': None,\n",
       " 'in_reply_to_user_id_str': None,\n",
       " 'in_reply_to_screen_name': None,\n",
       " 'author': User(_api=<tweepy.api.API object at 0x000001B8D334F860>, _json={'id': 722242009, 'id_str': '722242009', 'name': 'Carole Cadwalladr', 'screen_name': 'carolecadwalla', 'location': '', 'description': 'Late adopter. Late giver-upper. Guardian & Observer writer.', 'url': 'https://t.co/i9WPKVJOxd', 'entities': {'url': {'urls': [{'url': 'https://t.co/i9WPKVJOxd', 'expanded_url': 'https://www.theguardian.com/profile/carolecadwalladr', 'display_url': 'theguardian.com/profile/carole…', 'indices': [0, 23]}]}, 'description': {'urls': []}}, 'protected': False, 'followers_count': 544866, 'friends_count': 3938, 'listed_count': 3594, 'created_at': 'Sat Jul 28 14:06:01 +0000 2012', 'favourites_count': 10284, 'utc_offset': None, 'time_zone': None, 'geo_enabled': False, 'verified': True, 'statuses_count': 13985, 'lang': None, 'contributors_enabled': False, 'is_translator': False, 'is_translation_enabled': False, 'profile_background_color': 'C0DEED', 'profile_background_image_url': 'http://abs.twimg.com/images/themes/theme1/bg.png', 'profile_background_image_url_https': 'https://abs.twimg.com/images/themes/theme1/bg.png', 'profile_background_tile': False, 'profile_image_url': 'http://pbs.twimg.com/profile_images/875727729525747717/ZAIcCXFJ_normal.jpg', 'profile_image_url_https': 'https://pbs.twimg.com/profile_images/875727729525747717/ZAIcCXFJ_normal.jpg', 'profile_banner_url': 'https://pbs.twimg.com/profile_banners/722242009/1529885285', 'profile_link_color': '1DA1F2', 'profile_sidebar_border_color': 'C0DEED', 'profile_sidebar_fill_color': 'DDEEF6', 'profile_text_color': '333333', 'profile_use_background_image': True, 'has_extended_profile': False, 'default_profile': True, 'default_profile_image': False, 'following': True, 'follow_request_sent': False, 'notifications': False, 'translator_type': 'none'}, id=722242009, id_str='722242009', name='Carole Cadwalladr', screen_name='carolecadwalla', location='', description='Late adopter. Late giver-upper. Guardian & Observer writer.', url='https://t.co/i9WPKVJOxd', entities={'url': {'urls': [{'url': 'https://t.co/i9WPKVJOxd', 'expanded_url': 'https://www.theguardian.com/profile/carolecadwalladr', 'display_url': 'theguardian.com/profile/carole…', 'indices': [0, 23]}]}, 'description': {'urls': []}}, protected=False, followers_count=544866, friends_count=3938, listed_count=3594, created_at=datetime.datetime(2012, 7, 28, 14, 6, 1), favourites_count=10284, utc_offset=None, time_zone=None, geo_enabled=False, verified=True, statuses_count=13985, lang=None, contributors_enabled=False, is_translator=False, is_translation_enabled=False, profile_background_color='C0DEED', profile_background_image_url='http://abs.twimg.com/images/themes/theme1/bg.png', profile_background_image_url_https='https://abs.twimg.com/images/themes/theme1/bg.png', profile_background_tile=False, profile_image_url='http://pbs.twimg.com/profile_images/875727729525747717/ZAIcCXFJ_normal.jpg', profile_image_url_https='https://pbs.twimg.com/profile_images/875727729525747717/ZAIcCXFJ_normal.jpg', profile_banner_url='https://pbs.twimg.com/profile_banners/722242009/1529885285', profile_link_color='1DA1F2', profile_sidebar_border_color='C0DEED', profile_sidebar_fill_color='DDEEF6', profile_text_color='333333', profile_use_background_image=True, has_extended_profile=False, default_profile=True, default_profile_image=False, following=True, follow_request_sent=False, notifications=False, translator_type='none'),\n",
       " 'user': User(_api=<tweepy.api.API object at 0x000001B8D334F860>, _json={'id': 722242009, 'id_str': '722242009', 'name': 'Carole Cadwalladr', 'screen_name': 'carolecadwalla', 'location': '', 'description': 'Late adopter. Late giver-upper. Guardian & Observer writer.', 'url': 'https://t.co/i9WPKVJOxd', 'entities': {'url': {'urls': [{'url': 'https://t.co/i9WPKVJOxd', 'expanded_url': 'https://www.theguardian.com/profile/carolecadwalladr', 'display_url': 'theguardian.com/profile/carole…', 'indices': [0, 23]}]}, 'description': {'urls': []}}, 'protected': False, 'followers_count': 544866, 'friends_count': 3938, 'listed_count': 3594, 'created_at': 'Sat Jul 28 14:06:01 +0000 2012', 'favourites_count': 10284, 'utc_offset': None, 'time_zone': None, 'geo_enabled': False, 'verified': True, 'statuses_count': 13985, 'lang': None, 'contributors_enabled': False, 'is_translator': False, 'is_translation_enabled': False, 'profile_background_color': 'C0DEED', 'profile_background_image_url': 'http://abs.twimg.com/images/themes/theme1/bg.png', 'profile_background_image_url_https': 'https://abs.twimg.com/images/themes/theme1/bg.png', 'profile_background_tile': False, 'profile_image_url': 'http://pbs.twimg.com/profile_images/875727729525747717/ZAIcCXFJ_normal.jpg', 'profile_image_url_https': 'https://pbs.twimg.com/profile_images/875727729525747717/ZAIcCXFJ_normal.jpg', 'profile_banner_url': 'https://pbs.twimg.com/profile_banners/722242009/1529885285', 'profile_link_color': '1DA1F2', 'profile_sidebar_border_color': 'C0DEED', 'profile_sidebar_fill_color': 'DDEEF6', 'profile_text_color': '333333', 'profile_use_background_image': True, 'has_extended_profile': False, 'default_profile': True, 'default_profile_image': False, 'following': True, 'follow_request_sent': False, 'notifications': False, 'translator_type': 'none'}, id=722242009, id_str='722242009', name='Carole Cadwalladr', screen_name='carolecadwalla', location='', description='Late adopter. Late giver-upper. Guardian & Observer writer.', url='https://t.co/i9WPKVJOxd', entities={'url': {'urls': [{'url': 'https://t.co/i9WPKVJOxd', 'expanded_url': 'https://www.theguardian.com/profile/carolecadwalladr', 'display_url': 'theguardian.com/profile/carole…', 'indices': [0, 23]}]}, 'description': {'urls': []}}, protected=False, followers_count=544866, friends_count=3938, listed_count=3594, created_at=datetime.datetime(2012, 7, 28, 14, 6, 1), favourites_count=10284, utc_offset=None, time_zone=None, geo_enabled=False, verified=True, statuses_count=13985, lang=None, contributors_enabled=False, is_translator=False, is_translation_enabled=False, profile_background_color='C0DEED', profile_background_image_url='http://abs.twimg.com/images/themes/theme1/bg.png', profile_background_image_url_https='https://abs.twimg.com/images/themes/theme1/bg.png', profile_background_tile=False, profile_image_url='http://pbs.twimg.com/profile_images/875727729525747717/ZAIcCXFJ_normal.jpg', profile_image_url_https='https://pbs.twimg.com/profile_images/875727729525747717/ZAIcCXFJ_normal.jpg', profile_banner_url='https://pbs.twimg.com/profile_banners/722242009/1529885285', profile_link_color='1DA1F2', profile_sidebar_border_color='C0DEED', profile_sidebar_fill_color='DDEEF6', profile_text_color='333333', profile_use_background_image=True, has_extended_profile=False, default_profile=True, default_profile_image=False, following=True, follow_request_sent=False, notifications=False, translator_type='none'),\n",
       " 'geo': None,\n",
       " 'coordinates': None,\n",
       " 'place': None,\n",
       " 'contributors': None,\n",
       " 'is_quote_status': True,\n",
       " 'quoted_status_id': 1292869030353735680,\n",
       " 'quoted_status_id_str': '1292869030353735680',\n",
       " 'quoted_status_permalink': {'url': 'https://t.co/6c1mwYy1m2',\n",
       "  'expanded': 'https://twitter.com/nigel_farage/status/1292869030353735680',\n",
       "  'display': 'twitter.com/nigel_farage/s…'},\n",
       " 'quoted_status': Status(_api=<tweepy.api.API object at 0x000001B8D334F860>, _json={'created_at': 'Mon Aug 10 17:02:51 +0000 2020', 'id': 1292869030353735680, 'id_str': '1292869030353735680', 'full_text': \"What is going on is unacceptable and amounts to a national humiliation. It's time to declare an emergency in the English Channel. \\n\\nhttps://t.co/ron5TCTiqX\", 'truncated': False, 'display_text_range': [0, 155], 'entities': {'hashtags': [], 'symbols': [], 'user_mentions': [], 'urls': [{'url': 'https://t.co/ron5TCTiqX', 'expanded_url': 'https://www.telegraph.co.uk/politics/2020/08/10/time-declare-emergency-channel/', 'display_url': 'telegraph.co.uk/politics/2020/…', 'indices': [132, 155]}]}, 'source': '<a href=\"http://twitter.com/download/iphone\" rel=\"nofollow\">Twitter for iPhone</a>', 'in_reply_to_status_id': None, 'in_reply_to_status_id_str': None, 'in_reply_to_user_id': None, 'in_reply_to_user_id_str': None, 'in_reply_to_screen_name': None, 'user': {'id': 19017675, 'id_str': '19017675', 'name': 'Nigel Farage', 'screen_name': 'Nigel_Farage', 'location': '', 'description': 'Leader of @BrexitParty_UK.', 'url': 'https://t.co/UpU9eEx2sm', 'entities': {'url': {'urls': [{'url': 'https://t.co/UpU9eEx2sm', 'expanded_url': 'http://thebrexitparty.org', 'display_url': 'thebrexitparty.org', 'indices': [0, 23]}]}, 'description': {'urls': []}}, 'protected': False, 'followers_count': 1616573, 'friends_count': 492, 'listed_count': 6069, 'created_at': 'Thu Jan 15 10:37:07 +0000 2009', 'favourites_count': 190, 'utc_offset': None, 'time_zone': None, 'geo_enabled': True, 'verified': True, 'statuses_count': 15885, 'lang': None, 'contributors_enabled': False, 'is_translator': False, 'is_translation_enabled': False, 'profile_background_color': '722889', 'profile_background_image_url': 'http://abs.twimg.com/images/themes/theme10/bg.gif', 'profile_background_image_url_https': 'https://abs.twimg.com/images/themes/theme10/bg.gif', 'profile_background_tile': True, 'profile_image_url': 'http://pbs.twimg.com/profile_images/1245317683698155520/qykOsfLt_normal.jpg', 'profile_image_url_https': 'https://pbs.twimg.com/profile_images/1245317683698155520/qykOsfLt_normal.jpg', 'profile_banner_url': 'https://pbs.twimg.com/profile_banners/19017675/1580949317', 'profile_link_color': '722889', 'profile_sidebar_border_color': 'FFFFFF', 'profile_sidebar_fill_color': '7AC3EE', 'profile_text_color': '3D1957', 'profile_use_background_image': True, 'has_extended_profile': False, 'default_profile': False, 'default_profile_image': False, 'following': False, 'follow_request_sent': False, 'notifications': False, 'translator_type': 'none'}, 'geo': None, 'coordinates': None, 'place': None, 'contributors': None, 'is_quote_status': False, 'retweet_count': 3816, 'favorite_count': 11983, 'favorited': False, 'retweeted': False, 'possibly_sensitive': False, 'lang': 'en'}, created_at=datetime.datetime(2020, 8, 10, 17, 2, 51), id=1292869030353735680, id_str='1292869030353735680', full_text=\"What is going on is unacceptable and amounts to a national humiliation. It's time to declare an emergency in the English Channel. \\n\\nhttps://t.co/ron5TCTiqX\", truncated=False, display_text_range=[0, 155], entities={'hashtags': [], 'symbols': [], 'user_mentions': [], 'urls': [{'url': 'https://t.co/ron5TCTiqX', 'expanded_url': 'https://www.telegraph.co.uk/politics/2020/08/10/time-declare-emergency-channel/', 'display_url': 'telegraph.co.uk/politics/2020/…', 'indices': [132, 155]}]}, source='Twitter for iPhone', source_url='http://twitter.com/download/iphone', in_reply_to_status_id=None, in_reply_to_status_id_str=None, in_reply_to_user_id=None, in_reply_to_user_id_str=None, in_reply_to_screen_name=None, author=User(_api=<tweepy.api.API object at 0x000001B8D334F860>, _json={'id': 19017675, 'id_str': '19017675', 'name': 'Nigel Farage', 'screen_name': 'Nigel_Farage', 'location': '', 'description': 'Leader of @BrexitParty_UK.', 'url': 'https://t.co/UpU9eEx2sm', 'entities': {'url': {'urls': [{'url': 'https://t.co/UpU9eEx2sm', 'expanded_url': 'http://thebrexitparty.org', 'display_url': 'thebrexitparty.org', 'indices': [0, 23]}]}, 'description': {'urls': []}}, 'protected': False, 'followers_count': 1616573, 'friends_count': 492, 'listed_count': 6069, 'created_at': 'Thu Jan 15 10:37:07 +0000 2009', 'favourites_count': 190, 'utc_offset': None, 'time_zone': None, 'geo_enabled': True, 'verified': True, 'statuses_count': 15885, 'lang': None, 'contributors_enabled': False, 'is_translator': False, 'is_translation_enabled': False, 'profile_background_color': '722889', 'profile_background_image_url': 'http://abs.twimg.com/images/themes/theme10/bg.gif', 'profile_background_image_url_https': 'https://abs.twimg.com/images/themes/theme10/bg.gif', 'profile_background_tile': True, 'profile_image_url': 'http://pbs.twimg.com/profile_images/1245317683698155520/qykOsfLt_normal.jpg', 'profile_image_url_https': 'https://pbs.twimg.com/profile_images/1245317683698155520/qykOsfLt_normal.jpg', 'profile_banner_url': 'https://pbs.twimg.com/profile_banners/19017675/1580949317', 'profile_link_color': '722889', 'profile_sidebar_border_color': 'FFFFFF', 'profile_sidebar_fill_color': '7AC3EE', 'profile_text_color': '3D1957', 'profile_use_background_image': True, 'has_extended_profile': False, 'default_profile': False, 'default_profile_image': False, 'following': False, 'follow_request_sent': False, 'notifications': False, 'translator_type': 'none'}, id=19017675, id_str='19017675', name='Nigel Farage', screen_name='Nigel_Farage', location='', description='Leader of @BrexitParty_UK.', url='https://t.co/UpU9eEx2sm', entities={'url': {'urls': [{'url': 'https://t.co/UpU9eEx2sm', 'expanded_url': 'http://thebrexitparty.org', 'display_url': 'thebrexitparty.org', 'indices': [0, 23]}]}, 'description': {'urls': []}}, protected=False, followers_count=1616573, friends_count=492, listed_count=6069, created_at=datetime.datetime(2009, 1, 15, 10, 37, 7), favourites_count=190, utc_offset=None, time_zone=None, geo_enabled=True, verified=True, statuses_count=15885, lang=None, contributors_enabled=False, is_translator=False, is_translation_enabled=False, profile_background_color='722889', profile_background_image_url='http://abs.twimg.com/images/themes/theme10/bg.gif', profile_background_image_url_https='https://abs.twimg.com/images/themes/theme10/bg.gif', profile_background_tile=True, profile_image_url='http://pbs.twimg.com/profile_images/1245317683698155520/qykOsfLt_normal.jpg', profile_image_url_https='https://pbs.twimg.com/profile_images/1245317683698155520/qykOsfLt_normal.jpg', profile_banner_url='https://pbs.twimg.com/profile_banners/19017675/1580949317', profile_link_color='722889', profile_sidebar_border_color='FFFFFF', profile_sidebar_fill_color='7AC3EE', profile_text_color='3D1957', profile_use_background_image=True, has_extended_profile=False, default_profile=False, default_profile_image=False, following=False, follow_request_sent=False, notifications=False, translator_type='none'), user=User(_api=<tweepy.api.API object at 0x000001B8D334F860>, _json={'id': 19017675, 'id_str': '19017675', 'name': 'Nigel Farage', 'screen_name': 'Nigel_Farage', 'location': '', 'description': 'Leader of @BrexitParty_UK.', 'url': 'https://t.co/UpU9eEx2sm', 'entities': {'url': {'urls': [{'url': 'https://t.co/UpU9eEx2sm', 'expanded_url': 'http://thebrexitparty.org', 'display_url': 'thebrexitparty.org', 'indices': [0, 23]}]}, 'description': {'urls': []}}, 'protected': False, 'followers_count': 1616573, 'friends_count': 492, 'listed_count': 6069, 'created_at': 'Thu Jan 15 10:37:07 +0000 2009', 'favourites_count': 190, 'utc_offset': None, 'time_zone': None, 'geo_enabled': True, 'verified': True, 'statuses_count': 15885, 'lang': None, 'contributors_enabled': False, 'is_translator': False, 'is_translation_enabled': False, 'profile_background_color': '722889', 'profile_background_image_url': 'http://abs.twimg.com/images/themes/theme10/bg.gif', 'profile_background_image_url_https': 'https://abs.twimg.com/images/themes/theme10/bg.gif', 'profile_background_tile': True, 'profile_image_url': 'http://pbs.twimg.com/profile_images/1245317683698155520/qykOsfLt_normal.jpg', 'profile_image_url_https': 'https://pbs.twimg.com/profile_images/1245317683698155520/qykOsfLt_normal.jpg', 'profile_banner_url': 'https://pbs.twimg.com/profile_banners/19017675/1580949317', 'profile_link_color': '722889', 'profile_sidebar_border_color': 'FFFFFF', 'profile_sidebar_fill_color': '7AC3EE', 'profile_text_color': '3D1957', 'profile_use_background_image': True, 'has_extended_profile': False, 'default_profile': False, 'default_profile_image': False, 'following': False, 'follow_request_sent': False, 'notifications': False, 'translator_type': 'none'}, id=19017675, id_str='19017675', name='Nigel Farage', screen_name='Nigel_Farage', location='', description='Leader of @BrexitParty_UK.', url='https://t.co/UpU9eEx2sm', entities={'url': {'urls': [{'url': 'https://t.co/UpU9eEx2sm', 'expanded_url': 'http://thebrexitparty.org', 'display_url': 'thebrexitparty.org', 'indices': [0, 23]}]}, 'description': {'urls': []}}, protected=False, followers_count=1616573, friends_count=492, listed_count=6069, created_at=datetime.datetime(2009, 1, 15, 10, 37, 7), favourites_count=190, utc_offset=None, time_zone=None, geo_enabled=True, verified=True, statuses_count=15885, lang=None, contributors_enabled=False, is_translator=False, is_translation_enabled=False, profile_background_color='722889', profile_background_image_url='http://abs.twimg.com/images/themes/theme10/bg.gif', profile_background_image_url_https='https://abs.twimg.com/images/themes/theme10/bg.gif', profile_background_tile=True, profile_image_url='http://pbs.twimg.com/profile_images/1245317683698155520/qykOsfLt_normal.jpg', profile_image_url_https='https://pbs.twimg.com/profile_images/1245317683698155520/qykOsfLt_normal.jpg', profile_banner_url='https://pbs.twimg.com/profile_banners/19017675/1580949317', profile_link_color='722889', profile_sidebar_border_color='FFFFFF', profile_sidebar_fill_color='7AC3EE', profile_text_color='3D1957', profile_use_background_image=True, has_extended_profile=False, default_profile=False, default_profile_image=False, following=False, follow_request_sent=False, notifications=False, translator_type='none'), geo=None, coordinates=None, place=None, contributors=None, is_quote_status=False, retweet_count=3816, favorite_count=11983, favorited=False, retweeted=False, possibly_sensitive=False, lang='en'),\n",
       " 'retweet_count': 1007,\n",
       " 'favorite_count': 6794,\n",
       " 'favorited': False,\n",
       " 'retweeted': False,\n",
       " 'possibly_sensitive': False,\n",
       " 'lang': 'en'}"
      ]
     },
     "execution_count": 11,
     "metadata": {},
     "output_type": "execute_result"
    }
   ],
   "source": [
    "tweets[0]"
   ]
  },
  {
   "cell_type": "code",
   "execution_count": null,
   "metadata": {},
   "outputs": [],
   "source": []
  }
 ],
 "metadata": {
  "kernelspec": {
   "display_name": "Python 3",
   "language": "python",
   "name": "python3"
  },
  "language_info": {
   "codemirror_mode": {
    "name": "ipython",
    "version": 3
   },
   "file_extension": ".py",
   "mimetype": "text/x-python",
   "name": "python",
   "nbconvert_exporter": "python",
   "pygments_lexer": "ipython3",
   "version": "3.7.1"
  }
 },
 "nbformat": 4,
 "nbformat_minor": 4
}
