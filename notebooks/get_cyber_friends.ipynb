{
 "cells": [
  {
   "cell_type": "markdown",
   "metadata": {},
   "source": [
    "# Scraping journalists then using twint to get who they follow"
   ]
  },
  {
   "cell_type": "code",
   "execution_count": 1,
   "metadata": {},
   "outputs": [],
   "source": [
    "import sys\n",
    "import os\n",
    "import time\n",
    "import json\n",
    "\n",
    "import nest_asyncio\n",
    "nest_asyncio.apply()\n",
    "import twint\n",
    "\n",
    "sys.path.insert(1, '../')\n",
    "from src.data import journalists as journos"
   ]
  },
  {
   "cell_type": "markdown",
   "metadata": {},
   "source": [
    "### 1. Getting journalist twitter handles according to topic"
   ]
  },
  {
   "cell_type": "code",
   "execution_count": 3,
   "metadata": {},
   "outputs": [
    {
     "name": "stdout",
     "output_type": "stream",
     "text": [
      "12\n"
     ]
    }
   ],
   "source": [
    "journo_handles = journos.get_handles_by_keyword('cyber')\n",
    "print(len(journo_handles))"
   ]
  },
  {
   "cell_type": "code",
   "execution_count": 4,
   "metadata": {},
   "outputs": [
    {
     "name": "stdout",
     "output_type": "stream",
     "text": [
      "['jennystrasburg', 'dannsimmons', 'LeoKelion', 'gordoncorera', 'joetidy', '_lucyingham', 'dannyjpalmer', 'SophiaFurber', 'SCFGallagher', 'MsHannahMurphy', 'JesscaHaworth', 'Ad_Nauseum74']\n"
     ]
    }
   ],
   "source": [
    "print(journo_handles)"
   ]
  },
  {
   "cell_type": "markdown",
   "metadata": {},
   "source": [
    "### 2. Loop over journalists and get who they follow"
   ]
  },
  {
   "cell_type": "code",
   "execution_count": 5,
   "metadata": {},
   "outputs": [
    {
     "name": "stderr",
     "output_type": "stream",
     "text": [
      "CRITICAL:root:twint.get:User:'NoneType' object is not subscriptable\n",
      "CRITICAL:root:twint.feed:Follow:IndexError\n",
      "CRITICAL:root:twint.get:User:'NoneType' object is not subscriptable\n",
      "CRITICAL:root:twint.feed:Follow:IndexError\n",
      "CRITICAL:root:twint.get:User:'NoneType' object is not subscriptable\n",
      "CRITICAL:root:twint.feed:Follow:IndexError\n",
      "CRITICAL:root:twint.feed:Follow:IndexError\n",
      "CRITICAL:root:twint.get:User:'NoneType' object is not subscriptable\n",
      "CRITICAL:root:twint.feed:Follow:IndexError\n",
      "CRITICAL:root:twint.feed:Follow:IndexError\n",
      "CRITICAL:root:twint.get:User:'NoneType' object is not subscriptable\n",
      "CRITICAL:root:twint.feed:Follow:IndexError\n",
      "CRITICAL:root:twint.feed:Follow:IndexError\n",
      "CRITICAL:root:twint.get:User:'NoneType' object is not subscriptable\n",
      "CRITICAL:root:twint.feed:Follow:IndexError\n",
      "CRITICAL:root:twint.feed:Follow:IndexError\n",
      "CRITICAL:root:twint.get:User:'NoneType' object is not subscriptable\n",
      "CRITICAL:root:twint.feed:Follow:IndexError\n",
      "CRITICAL:root:twint.get:User:'NoneType' object is not subscriptable\n",
      "CRITICAL:root:twint.feed:Follow:IndexError\n",
      "CRITICAL:root:twint.get:User:'NoneType' object is not subscriptable\n",
      "CRITICAL:root:twint.feed:Follow:IndexError\n",
      "CRITICAL:root:twint.get:User:'NoneType' object is not subscriptable\n",
      "CRITICAL:root:twint.feed:Follow:IndexError\n",
      "CRITICAL:root:twint.get:User:'NoneType' object is not subscriptable\n",
      "CRITICAL:root:twint.feed:Follow:IndexError\n",
      "CRITICAL:root:twint.feed:Follow:IndexError\n",
      "CRITICAL:root:twint.get:User:'NoneType' object is not subscriptable\n",
      "CRITICAL:root:twint.feed:Follow:IndexError\n",
      "CRITICAL:root:twint.feed:Follow:IndexError\n"
     ]
    }
   ],
   "source": [
    "following = {}\n",
    "\n",
    "for username in journo_handles:\n",
    "    twint.output.follows_list = []\n",
    "    c = twint.Config()\n",
    "    c.Username = username\n",
    "    c.User_full = False\n",
    "    c.Store_object = True\n",
    "    c.Hide_output = True\n",
    "    \n",
    "    twint.run.Following(c)\n",
    "    \n",
    "    following[username] = twint.output.follows_list"
   ]
  },
  {
   "cell_type": "code",
   "execution_count": 8,
   "metadata": {},
   "outputs": [
    {
     "name": "stdout",
     "output_type": "stream",
     "text": [
      "Total number of handles pulled: 10582\n",
      "Number of unique usernames: 9649\n"
     ]
    }
   ],
   "source": [
    "total = 0\n",
    "all_names = []\n",
    "for key in following.keys():\n",
    "    total += len(following[key])\n",
    "    all_names.extend(following[key])\n",
    "unique = len(set(all_names))\n",
    "\n",
    "print('Total number of handles pulled: '+str(total))\n",
    "print('Number of unique usernames: '+str(unique))"
   ]
  },
  {
   "cell_type": "markdown",
   "metadata": {},
   "source": [
    "Interestingly, most of the handles must appear only once, suggesting there are only a few users that are followed by more than one of the journalists in this list."
   ]
  },
  {
   "cell_type": "code",
   "execution_count": 9,
   "metadata": {},
   "outputs": [],
   "source": [
    "with open('../data/raw/cyber_journalist_friends.json', \"w\") as file:\n",
    "        json.dump(following, file)"
   ]
  },
  {
   "cell_type": "code",
   "execution_count": 10,
   "metadata": {},
   "outputs": [],
   "source": [
    "from collections import Counter"
   ]
  },
  {
   "cell_type": "code",
   "execution_count": 12,
   "metadata": {},
   "outputs": [],
   "source": [
    "counted = Counter(all_names)"
   ]
  },
  {
   "cell_type": "code",
   "execution_count": 21,
   "metadata": {},
   "outputs": [
    {
     "data": {
      "text/plain": [
       "[('gcluley', 6),\n",
       " ('alexstamos', 5),\n",
       " ('drjessicabarker', 5),\n",
       " ('NCSC', 5),\n",
       " ('briankrebs', 5),\n",
       " ('SecurityCharlie', 5),\n",
       " ('MalwareTechBlog', 5),\n",
       " ('jleyden', 5),\n",
       " ('DarkReading', 5),\n",
       " ('e_kaspersky', 5),\n",
       " ('geoffwhite247', 5),\n",
       " ('pwnallthethings', 4),\n",
       " ('PrivacyMatters', 4),\n",
       " ('nicoleperlroth', 4),\n",
       " ('awscloud', 4),\n",
       " ('charlottejee', 4),\n",
       " ('JuliaAngwin', 4),\n",
       " ('KimZetter', 4),\n",
       " ('tarah', 4),\n",
       " ('josephfcox', 4),\n",
       " ('malwrhunterteam', 4),\n",
       " ('GossiTheDog', 4),\n",
       " ('internetofshit', 4),\n",
       " ('rowlsmanthorpe', 4),\n",
       " ('SwiftOnSecurity', 4),\n",
       " ('troyhunt', 4),\n",
       " ('InfosecurityMag', 4),\n",
       " ('BBCTech', 4),\n",
       " ('TheKenMunroShow', 4),\n",
       " ('Android', 4),\n",
       " ('elonmusk', 4),\n",
       " ('kaspersky', 4),\n",
       " ('iblametom', 4),\n",
       " ('ICOnews', 4),\n",
       " ('zackwhittaker', 4),\n",
       " ('EFF', 4),\n",
       " ('ProfWoodward', 4),\n",
       " ('KimDotcom', 4),\n",
       " ('wikileaks', 4),\n",
       " ('WiredUK', 4),\n",
       " ('mikko', 4),\n",
       " ('Twitter', 4),\n",
       " ('Google', 4),\n",
       " ('BBCRoryCJ', 4),\n",
       " ('TechCrunch', 4),\n",
       " ('lorenzofb', 4),\n",
       " ('evacide', 4),\n",
       " ('GCHQ', 4),\n",
       " ('fbnewsroom', 4),\n",
       " ('JamesClayton5', 3)]"
      ]
     },
     "execution_count": 21,
     "metadata": {},
     "output_type": "execute_result"
    }
   ],
   "source": [
    "counted.most_common(50)"
   ]
  },
  {
   "cell_type": "code",
   "execution_count": null,
   "metadata": {},
   "outputs": [],
   "source": []
  }
 ],
 "metadata": {
  "kernelspec": {
   "display_name": "Python 3",
   "language": "python",
   "name": "python3"
  },
  "language_info": {
   "codemirror_mode": {
    "name": "ipython",
    "version": 3
   },
   "file_extension": ".py",
   "mimetype": "text/x-python",
   "name": "python",
   "nbconvert_exporter": "python",
   "pygments_lexer": "ipython3",
   "version": "3.7.1"
  }
 },
 "nbformat": 4,
 "nbformat_minor": 4
}
